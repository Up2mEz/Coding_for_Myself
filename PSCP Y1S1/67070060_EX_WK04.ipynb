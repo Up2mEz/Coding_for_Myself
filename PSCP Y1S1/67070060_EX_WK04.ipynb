{
 "cells": [
  {
   "cell_type": "markdown",
   "metadata": {},
   "source": [
    "Before you turn this problem in, make sure everything runs as expected. First, **restart the kernel** (in the menubar, select Kernel$\\rightarrow$Restart) and then **run all cells** (in the menubar, select Cell$\\rightarrow$Run All).\n",
    "\n",
    "Make sure you fill in any place that says `YOUR CODE HERE` or \"YOUR ANSWER HERE\"."
   ]
  },
  {
   "cell_type": "markdown",
   "metadata": {},
   "source": [
    "Before you turn this problem in, make sure everything runs as expected. First, **restart the kernel** (in the menubar, select Kernel$\\rightarrow$Restart) and then **run all cells** (in the menubar, select Cell$\\rightarrow$Run All).\n",
    "\n",
    "Make sure you fill in any place that says `YOUR CODE HERE` or \"YOUR ANSWER HERE\"."
   ]
  },
  {
   "cell_type": "markdown",
   "metadata": {},
   "source": [
    "YOUR ANSWER HERE"
   ]
  },
  {
   "cell_type": "markdown",
   "metadata": {},
   "source": [
    "**Name**: Thanakrit Samoena\n",
    "\n",
    "**ID**: 67070060\n",
    "\n",
    "**Program**: AIT02\n"
   ]
  },
  {
   "cell_type": "markdown",
   "metadata": {},
   "source": [
    "**Intructions: Write you codes after `# YOUR CODE HERE`**\n",
    "\n",
    "**Automatic grading, DO NOT CHANGE anything outside `# YOUR CODE HERE`**"
   ]
  },
  {
   "cell_type": "markdown",
   "metadata": {},
   "source": [
    "---\n",
    "<span style='background :yellow' > Execise #0 </span>.\n",
    "**Test the system (5 Points)**\n",
    "\n",
    "Create a simple program with `if-else` to understand the auto-grading system.\n",
    "\n",
    "Write down the following codes after `# YOUR CODE HERE`\n",
    "\n",
    "```\n",
    "if x > 0:\n",
    "    ans_ex0 = 'positive'\n",
    "else:\n",
    "    ans_ex0 = 'not-positive'\n",
    "```"
   ]
  },
  {
   "cell_type": "code",
   "execution_count": null,
   "metadata": {},
   "outputs": [],
   "source": [
    "# Test-Ex0-1 condition\n",
    "x = 20\n",
    "\n",
    "# YOUR CODE HERE"
   ]
  },
  {
   "cell_type": "code",
   "execution_count": null,
   "metadata": {},
   "outputs": [],
   "source": [
    "# Test-Ex0-1: a correct solution gets 2.5 points\n",
    "assert ans_ex0 == 'positive'"
   ]
  },
  {
   "cell_type": "code",
   "execution_count": null,
   "metadata": {},
   "outputs": [],
   "source": [
    "# Test-Ex0-2 condition\n",
    "x = -20\n",
    "\n",
    "# YOUR CODE HERE"
   ]
  },
  {
   "cell_type": "code",
   "execution_count": null,
   "metadata": {},
   "outputs": [],
   "source": [
    "# Test-Ex0-2: a correct solution gets 2.5 points\n",
    "assert ans_ex0 == 'not-positive'"
   ]
  },
  {
   "cell_type": "markdown",
   "metadata": {},
   "source": [
    "---\n",
    "<span style='background :yellow' > Execise #1 </span>.\n",
    "**Determine the Day of the Week (15 Points)**\n",
    "\n",
    "Create a program that determines the day of the week based on the user-provided day number, where 1 represents Monday and 7 represents Sunday.\n",
    "\n",
    "Your program get a day number (an integer between 1 and 7) to identify the corresponding day of the week:\n",
    "\n",
    "Use `if, if-else, if-elif-else`, logical operators to solve the problem.\n",
    "\n",
    "**Conditions:**\n",
    "- If a `day_number` = 1, the program should answer \"`Monday`.\"\n",
    "- If a `day_number` = 2, the program should answer \"`Tuesday`.\"\n",
    "- ...\n",
    "- If a `day_number` = 7, the program should answer \"`Sunday`.\"\n",
    "- If a `day_number` is outside the range of 1 to 7, the program should display \"`Invalid`\"\n",
    "\n",
    "**Variables:**\n",
    "- `day_number` is a variable to store a day as an integer number\n",
    "- `day_of_week` is a variable to store a day as a day of week"
   ]
  },
  {
   "cell_type": "code",
   "execution_count": null,
   "metadata": {},
   "outputs": [
    {
     "name": "stdout",
     "output_type": "stream",
     "text": [
      "Monday\n"
     ]
    }
   ],
   "source": [
    "# Test-Ex1-1 condition\n",
    "\n",
    "day_number = 1\n",
    "\n",
    "# YOUR CODE HERE\n",
    "if day_number == 1:\n",
    "    day_of_week = \"Monday\"\n",
    "elif day_number == 2:\n",
    "    day_number = \"Tuesday\"\n",
    "elif day_number == 3:\n",
    "    day_of_week = \"Wednesday\"\n",
    "elif day_number == 4:\n",
    "    day_of_week = \"Thursday\"\n",
    "elif day_number == 5:\n",
    "    day_of_week = \"Friday\"\n",
    "elif day_number == 6:\n",
    "    day_of_week = \"Saturday\"\n",
    "elif day_number == 7:\n",
    "    day_of_week = \"Sunday\"\n",
    "else:\n",
    "    day_of_week = \"Invalid\"\n",
    "print(day_of_week)"
   ]
  },
  {
   "cell_type": "code",
   "execution_count": null,
   "metadata": {},
   "outputs": [],
   "source": [
    "# Test-Ex1-1: a correct solution gets 5 points\n",
    "assert day_of_week == 'Monday'"
   ]
  },
  {
   "cell_type": "code",
   "execution_count": null,
   "metadata": {},
   "outputs": [
    {
     "name": "stdout",
     "output_type": "stream",
     "text": [
      "Friday\n"
     ]
    }
   ],
   "source": [
    "# Test-Ex1-2 condition\n",
    "\n",
    "day_number = 5\n",
    "\n",
    "# YOUR CODE HERE\n",
    "if day_number == 1:\n",
    "    day_of_week = \"Monday\"\n",
    "elif day_number == 2:\n",
    "    day_number = \"Tuesday\"\n",
    "elif day_number == 3:\n",
    "    day_of_week = \"Wednesday\"\n",
    "elif day_number == 4:\n",
    "    day_of_week = \"Thursday\"\n",
    "elif day_number == 5:\n",
    "    day_of_week = \"Friday\"\n",
    "elif day_number == 6:\n",
    "    day_of_week = \"Saturday\"\n",
    "elif day_number == 7:\n",
    "    day_of_week = \"Sunday\"\n",
    "else:\n",
    "    day_of_week = \"Invalid\"\n",
    "print(day_of_week)"
   ]
  },
  {
   "cell_type": "code",
   "execution_count": null,
   "metadata": {},
   "outputs": [],
   "source": [
    "# Test-Ex1-2: a correct solution gets 5 points\n",
    "assert day_of_week == 'Friday'"
   ]
  },
  {
   "cell_type": "code",
   "execution_count": null,
   "metadata": {},
   "outputs": [
    {
     "name": "stdout",
     "output_type": "stream",
     "text": [
      "Invalid\n"
     ]
    }
   ],
   "source": [
    "# Test-Ex1-3 condition\n",
    "\n",
    "day_number = 8\n",
    "\n",
    "# YOUR CODE HERE\n",
    "if day_number == 1:\n",
    "    day_of_week = \"Monday\"\n",
    "elif day_number == 2:\n",
    "    day_number = \"Tuesday\"\n",
    "elif day_number == 3:\n",
    "    day_of_week = \"Wednesday\"\n",
    "elif day_number == 4:\n",
    "    day_of_week = \"Thursday\"\n",
    "elif day_number == 5:\n",
    "    day_of_week = \"Friday\"\n",
    "elif day_number == 6:\n",
    "    day_of_week = \"Saturday\"\n",
    "elif day_number == 7:\n",
    "    day_of_week = \"Sunday\"\n",
    "else:\n",
    "    day_of_week = \"Invalid\"\n",
    "print(day_of_week)\n"
   ]
  },
  {
   "cell_type": "code",
   "execution_count": null,
   "metadata": {},
   "outputs": [],
   "source": [
    "# Test-Ex1-3: a correct solution gets 5 points\n",
    "assert day_of_week == 'Invalid'"
   ]
  },
  {
   "cell_type": "markdown",
   "metadata": {},
   "source": [
    "---\n",
    "<span style='background :yellow' > Execise #2 </span>.\n",
    "**Ticket Pricing at a Movie Theater (15 Points)**\n",
    "\n",
    "Create a program that calculates the ticket price for a movie theater based on the user's age and student status.\n",
    "\n",
    "Use `if, if-else, if-elif-else`, logical operators to solve the problem.\n",
    "\n",
    "**Conditions:**\n",
    "\n",
    "- If the user's age less than 18 (regardless of student status), the ticket price is $8.\n",
    "- If the user's age is greater than or equal to 18 and the user is a student, the ticket price is $10.\n",
    "- If the user's age is greater than or equal to 18 but not a student, the ticket price is $12.\n",
    "\n",
    "**Variables:**\n",
    "- `age` is a variable to store user's age\n",
    "- `is_student` is a variable to store user student status\n",
    "- `ticket_price` is a variable to store a ticket price of the user\n",
    "\n",
    "**For examples:**\n",
    "- If `age` is 16, the `ticket_price` is 8\n",
    "- If `age` is 18 and the user is a student (`is_student = True`), the `ticket_price` is 10\n",
    "- If `age` is 18 but not a student (`is_student = False`), the `ticket_price` is 12"
   ]
  },
  {
   "cell_type": "code",
   "execution_count": null,
   "metadata": {},
   "outputs": [
    {
     "name": "stdout",
     "output_type": "stream",
     "text": [
      "12\n"
     ]
    }
   ],
   "source": [
    "# Test-Ex2-1 condition\n",
    "\n",
    "age = 18            # age is a variable to store user's age\n",
    "is_student = False  # is_student is a variable to store user student status\n",
    "\n",
    "# YOUR CODE HERE\n",
    "if age < 18:\n",
    "    ticket_price = 8\n",
    "elif age >= 18 and is_student:\n",
    "    ticket_price = 10\n",
    "elif age >= 18 and not is_student:\n",
    "    ticket_price =  12\n",
    "print(ticket_price)"
   ]
  },
  {
   "cell_type": "code",
   "execution_count": null,
   "metadata": {},
   "outputs": [],
   "source": [
    "# Test-Ex2-1: a correct solution gets 5 points\n",
    "assert ticket_price == 12"
   ]
  },
  {
   "cell_type": "code",
   "execution_count": null,
   "metadata": {},
   "outputs": [
    {
     "name": "stdout",
     "output_type": "stream",
     "text": [
      "10\n"
     ]
    }
   ],
   "source": [
    "# Test-Ex2-2 condition\n",
    "\n",
    "age = 18            # age is a variable to store user's age\n",
    "is_student = True   # is_student is a variable to store user student status\n",
    "\n",
    "# YOUR CODE HERE\n",
    "if age < 18:\n",
    "    ticket_price = 8\n",
    "elif age >= 18 and is_student:\n",
    "    ticket_price = 10\n",
    "elif age >= 18 and not is_student:\n",
    "    ticket_price =  12\n",
    "print(ticket_price)"
   ]
  },
  {
   "cell_type": "code",
   "execution_count": null,
   "metadata": {},
   "outputs": [],
   "source": [
    "# Test-Ex2-2: a correct solution gets 5 points\n",
    "assert ticket_price == 10"
   ]
  },
  {
   "cell_type": "code",
   "execution_count": null,
   "metadata": {},
   "outputs": [
    {
     "name": "stdout",
     "output_type": "stream",
     "text": [
      "8\n"
     ]
    }
   ],
   "source": [
    "# Test-Ex2-3 condition\n",
    "\n",
    "age = 15            # age is a variable to store user's age\n",
    "is_student = False  # is_student is a variable to store user student status\n",
    "\n",
    "# YOUR CODE HERE\n",
    "if age < 18:\n",
    "    ticket_price = 8\n",
    "elif age >= 18 and is_student:\n",
    "    ticket_price = 10\n",
    "elif age >= 18 and not is_student:\n",
    "    ticket_price =  12\n",
    "print(ticket_price)\n"
   ]
  },
  {
   "cell_type": "code",
   "execution_count": null,
   "metadata": {},
   "outputs": [],
   "source": [
    "# Test-Ex2-3: a correct solution gets 5 points\n",
    "assert ticket_price == 8"
   ]
  },
  {
   "cell_type": "markdown",
   "metadata": {},
   "source": [
    "---\n",
    "<span style='background :yellow' > Execise #3 </span>.\n",
    "**Online Shopping Cart Discount (25 Points)**\n",
    "\n",
    "Create a program that calculates the discount for a shopping cart based on the total amount and membership status of the user.\n",
    "\n",
    "Use `if, if-else, if-elif-else`, logical operators to solve the problem.\n",
    "\n",
    "**Conditions:**\n",
    "\n",
    "- If the user is a member (`is_member = True`) and the `total_amount` is 100 or more (>= 100), they get a 20% discount.\n",
    "- If the `total_amount` is 50 or more (>= 50 and <= 100) for all customers (including members), they get a 10% discount.\n",
    "- If the `total_amount` is less than 50 (< 50) or the user is not a member (`is_member = False`), no discount is applied.\n",
    "\n",
    "**Variables:**\n",
    "- `total_amount` is variable to store a total payment that customer spend\n",
    "- `is_member` is a variable to store a membership status\n",
    "- `discount` is a variable to store the total discount\n",
    "- `final_price` is a variable to store the final payment after discount (`final_price = total_amount - discount`)\n",
    "\n",
    "**For examples:**\n",
    "- If the customer is a member and buy a total amount of 100, the discount is 20 and the final price is 80.\n",
    "- If the customer is not a member and buy a total amount of 100, the discount is 10 and the final price is 90.\n",
    "- If the customer is a member and buy a total amount of 50, the discount is 5 and the final price is 45.\n",
    "- If the customer is buy a total amount of 20, the discount is 0 and the final price is 20."
   ]
  },
  {
   "cell_type": "code",
   "execution_count": null,
   "metadata": {},
   "outputs": [
    {
     "name": "stdout",
     "output_type": "stream",
     "text": [
      "20\n"
     ]
    }
   ],
   "source": [
    "# Test-Ex3-1 condition\n",
    "\n",
    "total_amount = 20   # variable to store total amount\n",
    "is_member = False   # variable to sore the membership status\n",
    "\n",
    "# YOUR CODE HERE\n",
    "if is_member and total_amount >= 100:\n",
    "    discount = total_amount*20/100\n",
    "elif 50 <= total_amount <= 100:\n",
    "    discount = total_amount*10/100\n",
    "else:\n",
    "    discount = 0\n",
    "final_price = total_amount - discount\n",
    "print(final_price)"
   ]
  },
  {
   "cell_type": "code",
   "execution_count": null,
   "metadata": {},
   "outputs": [],
   "source": [
    "# Test-Ex3-1: a correct solution gets 5 points\n",
    "assert total_amount == 20\n",
    "assert discount == 0\n",
    "assert final_price == 20"
   ]
  },
  {
   "cell_type": "code",
   "execution_count": null,
   "metadata": {},
   "outputs": [
    {
     "name": "stdout",
     "output_type": "stream",
     "text": [
      "45.0\n"
     ]
    }
   ],
   "source": [
    "# Test-Ex3-2 condition\n",
    "\n",
    "total_amount = 50   # variable to store total amount\n",
    "is_member = False   # variable to sore the membership status\n",
    "\n",
    "# YOUR CODE HERE\n",
    "if is_member and total_amount >= 100:\n",
    "    discount = total_amount*20/100\n",
    "elif 50 <= total_amount <= 100:\n",
    "    discount = total_amount*10/100\n",
    "else:\n",
    "    discount = 0\n",
    "final_price = total_amount - discount\n",
    "print(final_price)"
   ]
  },
  {
   "cell_type": "code",
   "execution_count": null,
   "metadata": {},
   "outputs": [],
   "source": [
    "# Test-Ex3-2: a correct solution gets 5 points\n",
    "assert total_amount == 50\n",
    "assert discount == 5\n",
    "assert final_price == 45"
   ]
  },
  {
   "cell_type": "code",
   "execution_count": null,
   "metadata": {},
   "outputs": [
    {
     "name": "stdout",
     "output_type": "stream",
     "text": [
      "45.0\n"
     ]
    }
   ],
   "source": [
    "# Test-Ex3-3 condition\n",
    "\n",
    "total_amount = 50   # variable to store total amount\n",
    "is_member = True   # variable to sore the membership status\n",
    "\n",
    "# YOUR CODE HERE\n",
    "if is_member and total_amount >= 100:\n",
    "    discount = total_amount*20/100\n",
    "elif 50 <= total_amount <= 100:\n",
    "    discount = total_amount*10/100\n",
    "else:\n",
    "    discount = 0\n",
    "final_price = total_amount - discount\n",
    "print(final_price)"
   ]
  },
  {
   "cell_type": "code",
   "execution_count": null,
   "metadata": {},
   "outputs": [],
   "source": [
    "# Test-Ex3-3: a correct solution gets 5 points\n",
    "assert total_amount == 50\n",
    "assert discount == 5\n",
    "assert final_price == 45"
   ]
  },
  {
   "cell_type": "code",
   "execution_count": null,
   "metadata": {},
   "outputs": [
    {
     "name": "stdout",
     "output_type": "stream",
     "text": [
      "80.0\n"
     ]
    }
   ],
   "source": [
    "# Test-Ex3-4 condition\n",
    "\n",
    "total_amount = 100   # variable to store total amount\n",
    "is_member = True   # variable to sore the membership status\n",
    "\n",
    "# YOUR CODE HERE\n",
    "if is_member and total_amount >= 100:\n",
    "    discount = total_amount*20/100\n",
    "elif 50 <= total_amount <= 100:\n",
    "    discount = total_amount*10/100\n",
    "else:\n",
    "    discount = 0\n",
    "final_price = total_amount - discount\n",
    "print(final_price)"
   ]
  },
  {
   "cell_type": "code",
   "execution_count": null,
   "metadata": {},
   "outputs": [],
   "source": [
    "# Test-Ex3-4: a correct solution gets 5 points\n",
    "assert total_amount == 100\n",
    "assert discount == 20\n",
    "assert final_price == 80"
   ]
  },
  {
   "cell_type": "code",
   "execution_count": null,
   "metadata": {},
   "outputs": [
    {
     "name": "stdout",
     "output_type": "stream",
     "text": [
      "90.0\n"
     ]
    }
   ],
   "source": [
    "# Test-Ex3-5 condition\n",
    "\n",
    "total_amount = 100   # variable to store total amount\n",
    "is_member = False   # variable to sore the membership status\n",
    "\n",
    "# YOUR CODE HERE\n",
    "if is_member and total_amount >= 100:\n",
    "    discount = total_amount*20/100\n",
    "elif 50 <= total_amount <= 100:\n",
    "    discount = total_amount*10/100\n",
    "else:\n",
    "    discount = 0\n",
    "final_price = total_amount - discount\n",
    "print(final_price)"
   ]
  },
  {
   "cell_type": "code",
   "execution_count": null,
   "metadata": {},
   "outputs": [],
   "source": [
    "# Test-Ex3-5: a correct solution gets 5 points\n",
    "assert total_amount == 100\n",
    "assert discount == 10\n",
    "assert final_price == 90"
   ]
  },
  {
   "cell_type": "markdown",
   "metadata": {},
   "source": [
    "---\n",
    "<span style='background :yellow' > Execise #4 </span>.\n",
    "**Shipping Cost Calculator (40 Points)**\n",
    "\n",
    "Create a program that calculates the shipping cost for a package based on its weight and destination (domestic or international).\n",
    "\n",
    "**Conditions:**\n",
    "- For packages weighing less then 1 kg (< 1), the shipping cost is 5 for domestic destinations.\n",
    "- For packages weighing between 1 kg and 5 kg (>= 1 and < 5), the shipping cost is 10 for domestic destinations.\n",
    "- For packages weighing between 5 kg and 10 kg (>=5 and < 10), the shipping cost is 15 for domestic destinations.\n",
    "- For packages weighing more than or equal to 10 kg (>= 10), the shipping cost is 20 for domestic destinations.\n",
    "- For international destinations, an additional 10 (+10) should be added to the total shipping cost.\n",
    "\n",
    "**Variables:**\n",
    "- `weight` is a variable to store the weight of package\n",
    "- `destination` is a shipment types: `international` or `domestic`\n",
    "- `shipping_cost` is a variable to store the total cost of shipment\n",
    "\n",
    "**For examples:**\n",
    "- If a packages weighing is 0.9 kg for a domestic destination, the total cost is 5.\n",
    "- If a packages weighing is 0.9 kg for an international destination, the total cost is 15.\n",
    "- If a packages weighing is 4 kg for a domestic destination, the total cost is 10.\n",
    "- If a packages weighing is 10 kg for an international destination, the total cost is 30."
   ]
  },
  {
   "cell_type": "code",
   "execution_count": null,
   "metadata": {},
   "outputs": [
    {
     "name": "stdout",
     "output_type": "stream",
     "text": [
      "5\n"
     ]
    }
   ],
   "source": [
    "# Test-Ex4-1 condition\n",
    "\n",
    "weight = 0.7\n",
    "destination = \"domestic\"\n",
    "\n",
    "# YOUR CODE HERE\n",
    "if weight < 1:\n",
    "    shipping_cost = 5\n",
    "elif 1 <= weight <= 5:\n",
    "    shipping_cost = 10\n",
    "elif 5 <= weight <= 10:\n",
    "    shipping_cost = 15\n",
    "elif weight > 10:\n",
    "    shipping_cost = 20\n",
    "if destination == \"international\":\n",
    "    shipping_cost += 10\n",
    "print(shipping_cost)\n"
   ]
  },
  {
   "cell_type": "code",
   "execution_count": null,
   "metadata": {},
   "outputs": [],
   "source": [
    "# Test-Ex4-1: a correct solution gets 5 points\n",
    "assert shipping_cost == 5"
   ]
  },
  {
   "cell_type": "code",
   "execution_count": null,
   "metadata": {},
   "outputs": [
    {
     "name": "stdout",
     "output_type": "stream",
     "text": [
      "15\n"
     ]
    }
   ],
   "source": [
    "# Test-Ex4-2 condition\n",
    "\n",
    "weight = 0.7\n",
    "destination = \"international\"\n",
    "\n",
    "# YOUR CODE HERE\n",
    "if weight < 1:\n",
    "    shipping_cost = 5\n",
    "elif 1 <= weight <= 5:\n",
    "    shipping_cost = 10\n",
    "elif 5 <= weight <= 10:\n",
    "    shipping_cost = 15\n",
    "elif weight > 10:\n",
    "    shipping_cost = 20\n",
    "if destination == \"international\":\n",
    "    shipping_cost += 10\n",
    "print(shipping_cost)\n"
   ]
  },
  {
   "cell_type": "code",
   "execution_count": null,
   "metadata": {},
   "outputs": [],
   "source": [
    "# Test-Ex4-2: a correct solution gets 5 points\n",
    "assert shipping_cost == 15"
   ]
  },
  {
   "cell_type": "code",
   "execution_count": null,
   "metadata": {},
   "outputs": [
    {
     "name": "stdout",
     "output_type": "stream",
     "text": [
      "10\n"
     ]
    }
   ],
   "source": [
    "# Test-Ex4-3 condition\n",
    "\n",
    "weight = 4\n",
    "destination = \"domestic\"\n",
    "\n",
    "# YOUR CODE HERE\n",
    "if weight < 1:\n",
    "    shipping_cost = 5\n",
    "elif 1 <= weight <= 5:\n",
    "    shipping_cost = 10\n",
    "elif 5 <= weight <= 10:\n",
    "    shipping_cost = 15\n",
    "elif weight > 10:\n",
    "    shipping_cost = 20\n",
    "if destination == \"international\":\n",
    "    shipping_cost += 10\n",
    "print(shipping_cost)\n"
   ]
  },
  {
   "cell_type": "code",
   "execution_count": null,
   "metadata": {},
   "outputs": [],
   "source": [
    "# Test-Ex4-3: a correct solution gets 5 points\n",
    "assert shipping_cost == 10"
   ]
  },
  {
   "cell_type": "code",
   "execution_count": null,
   "metadata": {},
   "outputs": [
    {
     "name": "stdout",
     "output_type": "stream",
     "text": [
      "20\n"
     ]
    }
   ],
   "source": [
    "# Test-Ex4-4 condition\n",
    "\n",
    "weight = 4\n",
    "destination = \"international\"\n",
    "\n",
    "# YOUR CODE HERE\n",
    "if weight < 1:\n",
    "    shipping_cost = 5\n",
    "elif 1 <= weight <= 5:\n",
    "    shipping_cost = 10\n",
    "elif 5 <= weight <= 10:\n",
    "    shipping_cost = 15\n",
    "elif weight > 10:\n",
    "    shipping_cost = 20\n",
    "if destination == \"international\":\n",
    "    shipping_cost += 10\n",
    "print(shipping_cost)\n",
    "\n"
   ]
  },
  {
   "cell_type": "code",
   "execution_count": null,
   "metadata": {},
   "outputs": [],
   "source": [
    "# Test-Ex4-4: a correct solution gets 5 points\n",
    "assert shipping_cost == 20"
   ]
  },
  {
   "cell_type": "code",
   "execution_count": null,
   "metadata": {},
   "outputs": [
    {
     "name": "stdout",
     "output_type": "stream",
     "text": [
      "15\n"
     ]
    }
   ],
   "source": [
    "# Test-Ex4-5 condition\n",
    "\n",
    "weight = 8\n",
    "destination = \"domestic\"\n",
    "\n",
    "# YOUR CODE HERE\n",
    "if weight < 1:\n",
    "    shipping_cost = 5\n",
    "elif 1 <= weight <= 5:\n",
    "    shipping_cost = 10\n",
    "elif 5 <= weight <= 10:\n",
    "    shipping_cost = 15\n",
    "elif weight > 10:\n",
    "    shipping_cost = 20\n",
    "if destination == \"international\":\n",
    "    shipping_cost += 10\n",
    "print(shipping_cost)\n",
    "\n"
   ]
  },
  {
   "cell_type": "code",
   "execution_count": null,
   "metadata": {},
   "outputs": [],
   "source": [
    "# Test-Ex4-5: a correct solution gets 5 points\n",
    "assert shipping_cost == 15"
   ]
  },
  {
   "cell_type": "code",
   "execution_count": null,
   "metadata": {},
   "outputs": [
    {
     "name": "stdout",
     "output_type": "stream",
     "text": [
      "25\n"
     ]
    }
   ],
   "source": [
    "# Test-Ex4-6 condition\n",
    "\n",
    "weight = 8\n",
    "destination = \"international\"\n",
    "\n",
    "# YOUR CODE HERE\n",
    "if weight < 1:\n",
    "    shipping_cost = 5\n",
    "elif 1 <= weight <= 5:\n",
    "    shipping_cost = 10\n",
    "elif 5 <= weight <= 10:\n",
    "    shipping_cost = 15\n",
    "elif weight > 10:\n",
    "    shipping_cost = 20\n",
    "if destination == \"international\":\n",
    "    shipping_cost += 10\n",
    "print(shipping_cost)\n"
   ]
  },
  {
   "cell_type": "code",
   "execution_count": null,
   "metadata": {},
   "outputs": [],
   "source": [
    "# Test-Ex4-6: a correct solution gets 5 points\n",
    "assert shipping_cost == 25"
   ]
  },
  {
   "cell_type": "code",
   "execution_count": null,
   "metadata": {},
   "outputs": [
    {
     "name": "stdout",
     "output_type": "stream",
     "text": [
      "20\n"
     ]
    }
   ],
   "source": [
    "# Test-Ex4-7 condition\n",
    "\n",
    "weight = 12\n",
    "destination = \"domestic\"\n",
    "\n",
    "# YOUR CODE HERE\n",
    "if weight < 1:\n",
    "    shipping_cost = 5\n",
    "elif 1 <= weight <= 5:\n",
    "    shipping_cost = 10\n",
    "elif 5 <= weight <= 10:\n",
    "    shipping_cost = 15\n",
    "elif weight > 10:\n",
    "    shipping_cost = 20\n",
    "if destination == \"international\":\n",
    "    shipping_cost += 10\n",
    "print(shipping_cost)\n"
   ]
  },
  {
   "cell_type": "code",
   "execution_count": null,
   "metadata": {},
   "outputs": [],
   "source": [
    "# Test-Ex4-7: a correct solution gets 5 points\n",
    "assert shipping_cost == 20"
   ]
  },
  {
   "cell_type": "code",
   "execution_count": null,
   "metadata": {},
   "outputs": [
    {
     "name": "stdout",
     "output_type": "stream",
     "text": [
      "30\n"
     ]
    }
   ],
   "source": [
    "# Test-Ex4-8 condition\n",
    "\n",
    "weight = 12\n",
    "destination = \"international\"\n",
    "\n",
    "# YOUR CODE HERE\n",
    "if weight < 1:\n",
    "    shipping_cost = 5\n",
    "elif 1 <= weight <= 5:\n",
    "    shipping_cost = 10\n",
    "elif 5 <= weight <= 10:\n",
    "    shipping_cost = 15\n",
    "elif weight > 10:\n",
    "    shipping_cost = 20\n",
    "if destination == \"international\":\n",
    "    shipping_cost += 10\n",
    "print(shipping_cost)\n"
   ]
  },
  {
   "cell_type": "code",
   "execution_count": null,
   "metadata": {},
   "outputs": [],
   "source": [
    "# Test-Ex4-8: a correct solution gets 5 points\n",
    "assert shipping_cost == 30"
   ]
  },
  {
   "cell_type": "markdown",
   "metadata": {},
   "source": [
    "YOUR ANSWER HERE"
   ]
  },
  {
   "cell_type": "markdown",
   "metadata": {},
   "source": [
    "**Name**: xxxxxxxxxx xxxxxxxx\n",
    "\n",
    "**ID**: xxxxxxxxx\n",
    "\n",
    "**Program**: xxxx"
   ]
  },
  {
   "cell_type": "markdown",
   "metadata": {},
   "source": [
    "**Intructions: Write you codes after `# YOUR CODE HERE`**\n",
    "\n",
    "**Automatic grading, DO NOT CHANGE anything outside `# YOUR CODE HERE`**"
   ]
  },
  {
   "cell_type": "markdown",
   "metadata": {},
   "source": [
    "---\n",
    "<span style='background :yellow' > Execise #0 </span>.\n",
    "**Test the system (5 Points)**\n",
    "\n",
    "Create a simple program with `if-else` to understand the auto-grading system.\n",
    "\n",
    "Write down the following codes after `# YOUR CODE HERE`\n",
    "\n",
    "```\n",
    "if x > 0:\n",
    "    ans_ex0 = 'positive'\n",
    "else:\n",
    "    ans_ex0 = 'not-positive'\n",
    "```"
   ]
  },
  {
   "cell_type": "code",
   "execution_count": null,
   "metadata": {},
   "outputs": [],
   "source": [
    "# Test-Ex0-1 condition\n",
    "x = 20\n",
    "\n",
    "# YOUR CODE HERE"
   ]
  },
  {
   "cell_type": "code",
   "execution_count": null,
   "metadata": {},
   "outputs": [],
   "source": [
    "# Test-Ex0-1: a correct solution gets 2.5 points\n",
    "assert ans_ex0 == 'positive'"
   ]
  },
  {
   "cell_type": "code",
   "execution_count": null,
   "metadata": {},
   "outputs": [],
   "source": [
    "# Test-Ex0-2 condition\n",
    "x = -20\n",
    "\n",
    "# YOUR CODE HERE"
   ]
  },
  {
   "cell_type": "code",
   "execution_count": null,
   "metadata": {},
   "outputs": [],
   "source": [
    "# Test-Ex0-2: a correct solution gets 2.5 points\n",
    "assert ans_ex0 == 'not-positive'"
   ]
  },
  {
   "cell_type": "markdown",
   "metadata": {},
   "source": [
    "---\n",
    "<span style='background :yellow' > Execise #1 </span>.\n",
    "**Determine the Day of the Week (15 Points)**\n",
    "\n",
    "Create a program that determines the day of the week based on the user-provided day number, where 1 represents Monday and 7 represents Sunday.\n",
    "\n",
    "Your program get a day number (an integer between 1 and 7) to identify the corresponding day of the week:\n",
    "\n",
    "Use `if, if-else, if-elif-else`, logical operators to solve the problem.\n",
    "\n",
    "**Conditions:**\n",
    "- If a `day_number` = 1, the program should answer \"`Monday`.\"\n",
    "- If a `day_number` = 2, the program should answer \"`Tuesday`.\"\n",
    "- ...\n",
    "- If a `day_number` = 7, the program should answer \"`Sunday`.\"\n",
    "- If a `day_number` is outside the range of 1 to 7, the program should display \"`Invalid`\"\n",
    "\n",
    "**Variables:**\n",
    "- `day_number` is a variable to store a day as an integer number\n",
    "- `day_of_week` is a variable to store a day as a day of week"
   ]
  },
  {
   "cell_type": "code",
   "execution_count": null,
   "metadata": {},
   "outputs": [],
   "source": [
    "# Test-Ex1-1 condition\n",
    "\n",
    "day_number = 1\n",
    "\n",
    "# YOUR CODE HERE"
   ]
  },
  {
   "cell_type": "code",
   "execution_count": null,
   "metadata": {},
   "outputs": [],
   "source": [
    "# Test-Ex1-1: a correct solution gets 5 points\n",
    "assert day_of_week == 'Monday'"
   ]
  },
  {
   "cell_type": "code",
   "execution_count": null,
   "metadata": {},
   "outputs": [],
   "source": [
    "# Test-Ex1-2 condition\n",
    "\n",
    "day_number = 5\n",
    "\n",
    "# YOUR CODE HERE\n"
   ]
  },
  {
   "cell_type": "code",
   "execution_count": null,
   "metadata": {},
   "outputs": [],
   "source": [
    "# Test-Ex1-2: a correct solution gets 5 points\n",
    "assert day_of_week == 'Friday'"
   ]
  },
  {
   "cell_type": "code",
   "execution_count": null,
   "metadata": {},
   "outputs": [],
   "source": [
    "# Test-Ex1-3 condition\n",
    "\n",
    "day_number = 8\n",
    "\n",
    "# YOUR CODE HERE\n",
    "\n"
   ]
  },
  {
   "cell_type": "code",
   "execution_count": null,
   "metadata": {},
   "outputs": [],
   "source": [
    "# Test-Ex1-3: a correct solution gets 5 points\n",
    "assert day_of_week == 'Invalid'"
   ]
  },
  {
   "cell_type": "markdown",
   "metadata": {},
   "source": [
    "---\n",
    "<span style='background :yellow' > Execise #2 </span>.\n",
    "**Ticket Pricing at a Movie Theater (15 Points)**\n",
    "\n",
    "Create a program that calculates the ticket price for a movie theater based on the user's age and student status.\n",
    "\n",
    "Use `if, if-else, if-elif-else`, logical operators to solve the problem.\n",
    "\n",
    "**Conditions:**\n",
    "\n",
    "- If the user's age less than 18 (regardless of student status), the ticket price is $8.\n",
    "- If the user's age is greater than or equal to 18 and the user is a student, the ticket price is $10.\n",
    "- If the user's age is greater than or equal to 18 but not a student, the ticket price is $12.\n",
    "\n",
    "**Variables:**\n",
    "- `age` is a variable to store user's age\n",
    "- `is_student` is a variable to store user student status\n",
    "- `ticket_price` is a variable to store a ticket price of the user\n",
    "\n",
    "**For examples:**\n",
    "- If `age` is 16, the `ticket_price` is 8\n",
    "- If `age` is 18 and the user is a student (`is_student = True`), the `ticket_price` is 10\n",
    "- If `age` is 18 but not a student (`is_student = False`), the `ticket_price` is 12"
   ]
  },
  {
   "cell_type": "code",
   "execution_count": null,
   "metadata": {},
   "outputs": [],
   "source": [
    "# Test-Ex2-1 condition\n",
    "\n",
    "age = 18            # age is a variable to store user's age\n",
    "is_student = False  # is_student is a variable to store user student status\n",
    "\n",
    "# YOUR CODE HERE"
   ]
  },
  {
   "cell_type": "code",
   "execution_count": null,
   "metadata": {},
   "outputs": [],
   "source": [
    "# Test-Ex2-1: a correct solution gets 5 points\n",
    "assert ticket_price == 12"
   ]
  },
  {
   "cell_type": "code",
   "execution_count": null,
   "metadata": {},
   "outputs": [],
   "source": [
    "# Test-Ex2-2 condition\n",
    "\n",
    "age = 18            # age is a variable to store user's age\n",
    "is_student = True   # is_student is a variable to store user student status\n",
    "\n",
    "# YOUR CODE HERE"
   ]
  },
  {
   "cell_type": "code",
   "execution_count": null,
   "metadata": {},
   "outputs": [],
   "source": [
    "# Test-Ex2-2: a correct solution gets 5 points\n",
    "assert ticket_price == 10"
   ]
  },
  {
   "cell_type": "code",
   "execution_count": null,
   "metadata": {},
   "outputs": [],
   "source": [
    "# Test-Ex2-3 condition\n",
    "\n",
    "age = 15            # age is a variable to store user's age\n",
    "is_student = False  # is_student is a variable to store user student status\n",
    "\n",
    "# YOUR CODE HERE\n"
   ]
  },
  {
   "cell_type": "code",
   "execution_count": null,
   "metadata": {},
   "outputs": [],
   "source": [
    "# Test-Ex2-3: a correct solution gets 5 points\n",
    "assert ticket_price == 8"
   ]
  },
  {
   "cell_type": "markdown",
   "metadata": {},
   "source": [
    "---\n",
    "<span style='background :yellow' > Execise #3 </span>.\n",
    "**Online Shopping Cart Discount (25 Points)**\n",
    "\n",
    "Create a program that calculates the discount for a shopping cart based on the total amount and membership status of the user.\n",
    "\n",
    "Use `if, if-else, if-elif-else`, logical operators to solve the problem.\n",
    "\n",
    "**Conditions:**\n",
    "\n",
    "- If the user is a member (`is_member = True`) and the `total_amount` is 100 or more (>= 100), they get a 20% discount.\n",
    "- If the `total_amount` is 50 or more (>= 50 and <= 100) for all customers (including members), they get a 10% discount.\n",
    "- If the `total_amount` is less than 50 (< 50) or the user is not a member (`is_member = False`), no discount is applied.\n",
    "\n",
    "**Variables:**\n",
    "- `total_amount` is variable to store a total payment that customer spend\n",
    "- `is_member` is a variable to store a membership status\n",
    "- `discount` is a variable to store the total discount\n",
    "- `final_price` is a variable to store the final payment after discount (`final_price = total_amount - discount`)\n",
    "\n",
    "**For examples:**\n",
    "- If the customer is a member and buy a total amount of 100, the discount is 20 and the final price is 80.\n",
    "- If the customer is not a member and buy a total amount of 100, the discount is 10 and the final price is 90.\n",
    "- If the customer is a member and buy a total amount of 50, the discount is 5 and the final price is 45.\n",
    "- If the customer is buy a total amount of 20, the discount is 0 and the final price is 20."
   ]
  },
  {
   "cell_type": "code",
   "execution_count": null,
   "metadata": {},
   "outputs": [],
   "source": [
    "# Test-Ex3-1 condition\n",
    "\n",
    "total_amount = 20   # variable to store total amount\n",
    "is_member = False   # variable to sore the membership status\n",
    "\n",
    "# YOUR CODE HERE\n",
    "\n",
    "\n",
    "final_price = total_amount - discount"
   ]
  },
  {
   "cell_type": "code",
   "execution_count": null,
   "metadata": {},
   "outputs": [],
   "source": [
    "# Test-Ex3-1: a correct solution gets 5 points\n",
    "assert total_amount == 20\n",
    "assert discount == 0\n",
    "assert final_price == 20"
   ]
  },
  {
   "cell_type": "code",
   "execution_count": null,
   "metadata": {},
   "outputs": [],
   "source": [
    "# Test-Ex3-2 condition\n",
    "\n",
    "total_amount = 50   # variable to store total amount\n",
    "is_member = False   # variable to sore the membership status\n",
    "\n",
    "# YOUR CODE HERE\n",
    "\n",
    "\n",
    "final_price = total_amount - discount"
   ]
  },
  {
   "cell_type": "code",
   "execution_count": null,
   "metadata": {},
   "outputs": [],
   "source": [
    "# Test-Ex3-2: a correct solution gets 5 points\n",
    "assert total_amount == 50\n",
    "assert discount == 5\n",
    "assert final_price == 45"
   ]
  },
  {
   "cell_type": "code",
   "execution_count": null,
   "metadata": {},
   "outputs": [],
   "source": [
    "# Test-Ex3-3 condition\n",
    "\n",
    "total_amount = 50   # variable to store total amount\n",
    "is_member = True   # variable to sore the membership status\n",
    "\n",
    "# YOUR CODE HERE\n",
    "\n",
    "\n",
    "final_price = total_amount - discount"
   ]
  },
  {
   "cell_type": "code",
   "execution_count": null,
   "metadata": {},
   "outputs": [],
   "source": [
    "# Test-Ex3-3: a correct solution gets 5 points\n",
    "assert total_amount == 50\n",
    "assert discount == 5\n",
    "assert final_price == 45"
   ]
  },
  {
   "cell_type": "code",
   "execution_count": null,
   "metadata": {},
   "outputs": [],
   "source": [
    "# Test-Ex3-4 condition\n",
    "\n",
    "total_amount = 100   # variable to store total amount\n",
    "is_member = True   # variable to sore the membership status\n",
    "\n",
    "# YOUR CODE HERE\n",
    "\n",
    "\n",
    "final_price = total_amount - discount"
   ]
  },
  {
   "cell_type": "code",
   "execution_count": null,
   "metadata": {},
   "outputs": [],
   "source": [
    "# Test-Ex3-4: a correct solution gets 5 points\n",
    "assert total_amount == 100\n",
    "assert discount == 20\n",
    "assert final_price == 80"
   ]
  },
  {
   "cell_type": "code",
   "execution_count": null,
   "metadata": {},
   "outputs": [],
   "source": [
    "# Test-Ex3-5 condition\n",
    "\n",
    "total_amount = 100   # variable to store total amount\n",
    "is_member = False   # variable to sore the membership status\n",
    "\n",
    "# YOUR CODE HERE\n",
    "\n",
    "\n",
    "final_price = total_amount - discount"
   ]
  },
  {
   "cell_type": "code",
   "execution_count": null,
   "metadata": {},
   "outputs": [],
   "source": [
    "# Test-Ex3-5: a correct solution gets 5 points\n",
    "assert total_amount == 100\n",
    "assert discount == 10\n",
    "assert final_price == 90"
   ]
  },
  {
   "cell_type": "markdown",
   "metadata": {},
   "source": [
    "---\n",
    "<span style='background :yellow' > Execise #4 </span>.\n",
    "**Shipping Cost Calculator (40 Points)**\n",
    "\n",
    "Create a program that calculates the shipping cost for a package based on its weight and destination (domestic or international).\n",
    "\n",
    "**Conditions:**\n",
    "- For packages weighing less then 1 kg (< 1), the shipping cost is 5 for domestic destinations.\n",
    "- For packages weighing between 1 kg and 5 kg (>= 1 and < 5), the shipping cost is 10 for domestic destinations.\n",
    "- For packages weighing between 5 kg and 10 kg (>=5 and < 10), the shipping cost is 15 for domestic destinations.\n",
    "- For packages weighing more than or equal to 10 kg (>= 10), the shipping cost is 20 for domestic destinations.\n",
    "- For international destinations, an additional 10 (+10) should be added to the total shipping cost.\n",
    "\n",
    "**Variables:**\n",
    "- `weight` is a variable to store the weight of package\n",
    "- `destination` is a shipment types: `international` or `domestic`\n",
    "- `shipping_cost` is a variable to store the total cost of shipment\n",
    "\n",
    "**For examples:**\n",
    "- If a packages weighing is 0.9 kg for a domestic destination, the total cost is 5.\n",
    "- If a packages weighing is 0.9 kg for an international destination, the total cost is 15.\n",
    "- If a packages weighing is 4 kg for a domestic destination, the total cost is 10.\n",
    "- If a packages weighing is 10 kg for an international destination, the total cost is 30."
   ]
  },
  {
   "cell_type": "code",
   "execution_count": null,
   "metadata": {},
   "outputs": [],
   "source": [
    "# Test-Ex4-1 condition\n",
    "\n",
    "weight = 0.7\n",
    "destination = \"domestic\"\n",
    "\n",
    "# YOUR CODE HERE\n"
   ]
  },
  {
   "cell_type": "code",
   "execution_count": null,
   "metadata": {},
   "outputs": [],
   "source": [
    "# Test-Ex4-1: a correct solution gets 5 points\n",
    "assert shipping_cost == 5"
   ]
  },
  {
   "cell_type": "code",
   "execution_count": null,
   "metadata": {},
   "outputs": [],
   "source": [
    "# Test-Ex4-2 condition\n",
    "\n",
    "weight = 0.7\n",
    "destination = \"international\"\n",
    "\n",
    "# YOUR CODE HERE\n"
   ]
  },
  {
   "cell_type": "code",
   "execution_count": null,
   "metadata": {},
   "outputs": [],
   "source": [
    "# Test-Ex4-2: a correct solution gets 5 points\n",
    "assert shipping_cost == 15"
   ]
  },
  {
   "cell_type": "code",
   "execution_count": null,
   "metadata": {},
   "outputs": [],
   "source": [
    "# Test-Ex4-3 condition\n",
    "\n",
    "weight = 4\n",
    "destination = \"domestic\"\n",
    "\n",
    "# YOUR CODE HERE\n"
   ]
  },
  {
   "cell_type": "code",
   "execution_count": null,
   "metadata": {},
   "outputs": [],
   "source": [
    "# Test-Ex4-3: a correct solution gets 5 points\n",
    "assert shipping_cost == 10"
   ]
  },
  {
   "cell_type": "code",
   "execution_count": null,
   "metadata": {},
   "outputs": [],
   "source": [
    "# Test-Ex4-4 condition\n",
    "\n",
    "weight = 4\n",
    "destination = \"international\"\n",
    "\n",
    "# YOUR CODE HERE\n"
   ]
  },
  {
   "cell_type": "code",
   "execution_count": null,
   "metadata": {},
   "outputs": [],
   "source": [
    "# Test-Ex4-4: a correct solution gets 5 points\n",
    "assert shipping_cost == 20"
   ]
  },
  {
   "cell_type": "code",
   "execution_count": null,
   "metadata": {},
   "outputs": [],
   "source": [
    "# Test-Ex4-5 condition\n",
    "\n",
    "weight = 8\n",
    "destination = \"domestic\"\n",
    "\n",
    "# YOUR CODE HERE\n"
   ]
  },
  {
   "cell_type": "code",
   "execution_count": null,
   "metadata": {},
   "outputs": [],
   "source": [
    "# Test-Ex4-5: a correct solution gets 5 points\n",
    "assert shipping_cost == 15"
   ]
  },
  {
   "cell_type": "code",
   "execution_count": null,
   "metadata": {},
   "outputs": [],
   "source": [
    "# Test-Ex4-6 condition\n",
    "\n",
    "weight = 8\n",
    "destination = \"international\"\n",
    "\n",
    "# YOUR CODE HERE\n"
   ]
  },
  {
   "cell_type": "code",
   "execution_count": null,
   "metadata": {},
   "outputs": [],
   "source": [
    "# Test-Ex4-6: a correct solution gets 5 points\n",
    "assert shipping_cost == 25"
   ]
  },
  {
   "cell_type": "code",
   "execution_count": null,
   "metadata": {},
   "outputs": [],
   "source": [
    "# Test-Ex4-7 condition\n",
    "\n",
    "weight = 12\n",
    "destination = \"domestic\"\n",
    "\n",
    "# YOUR CODE HERE\n"
   ]
  },
  {
   "cell_type": "code",
   "execution_count": null,
   "metadata": {},
   "outputs": [],
   "source": [
    "# Test-Ex4-7: a correct solution gets 5 points\n",
    "assert shipping_cost == 20"
   ]
  },
  {
   "cell_type": "code",
   "execution_count": null,
   "metadata": {},
   "outputs": [],
   "source": [
    "# Test-Ex4-8 condition\n",
    "\n",
    "weight = 12\n",
    "destination = \"international\"\n",
    "\n",
    "# YOUR CODE HERE\n"
   ]
  },
  {
   "cell_type": "code",
   "execution_count": null,
   "metadata": {},
   "outputs": [],
   "source": [
    "# Test-Ex4-8: a correct solution gets 5 points\n",
    "assert shipping_cost == 30"
   ]
  }
 ],
 "metadata": {
  "language_info": {
   "name": "python"
  }
 },
 "nbformat": 4,
 "nbformat_minor": 2
}
