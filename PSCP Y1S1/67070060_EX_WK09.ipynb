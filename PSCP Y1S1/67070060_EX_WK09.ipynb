{
 "cells": [
  {
   "cell_type": "markdown",
   "metadata": {},
   "source": [
    "Before you turn this problem in, make sure everything runs as expected. First, **restart the kernel** (in the menubar, select Kernel$\\rightarrow$Restart) and then **run all cells** (in the menubar, select Cell$\\rightarrow$Run All).\n",
    "\n",
    "Make sure you fill in any place that says `YOUR CODE HERE` or \"YOUR ANSWER HERE\"."
   ]
  },
  {
   "cell_type": "markdown",
   "metadata": {},
   "source": [
    "# SECTION 2 ONLY\n",
    "Name = \"\"\n",
    "\n",
    "Student ID = \"\""
   ]
  },
  {
   "cell_type": "markdown",
   "metadata": {},
   "source": [
    "# PART-1: String - Files and Exception\n",
    "\n",
    "**Write you codes after `# YOUR CODE HERE`**\n",
    "\n",
    "Use the **provided files**\n",
    "\n",
    "<mark>**DO NOT IMPORT EXTERNAL LIBRARY**</mark>\n",
    "\n",
    "<mark>**DO NOT CHANGE CONTENT OF TEXT AND CSV FILES**</mark>"
   ]
  },
  {
   "cell_type": "markdown",
   "metadata": {},
   "source": [
    "---\n",
    "## <mark>Exercise #1 \n",
    "**Finds word in file, returns line number** (Total: 5 points) </mark>\n",
    "- Comple a `find_word()` function that reads a text file to:\n",
    "    - Searches for a specific word in a text file.\n",
    "    - returns the line number where it was found.\n",
    "\n",
    "- For example:\n",
    "    - `find_word('filename.txt', 'r', 'Sydney')` returns `1`, indicating that `Sydney` was found on line 1.\n",
    "    - `find_word('filename.txt', 'r', 'istanbul')` returns `-1`, indicating that `istanbul` was not found.\n"
   ]
  },
  {
   "cell_type": "code",
   "execution_count": 207,
   "metadata": {
    "deletable": false,
    "nbgrader": {
     "cell_type": "code",
     "checksum": "35e5450de1352c83ed6c896c7c71b8fb",
     "grade": false,
     "grade_id": "cell-d73ce7ef779cd16a",
     "locked": false,
     "schema_version": 3,
     "solution": true,
     "task": false
    },
    "tags": []
   },
   "outputs": [],
   "source": [
    "file_name = 'words.txt'\n",
    "read_mode = 'r'\n",
    "\n",
    "def find_word(file_name, read_mode, search_word):\n",
    "    c = 0\n",
    "    # YOUR CODE HERE\n",
    "    with open(file_name,read_mode) as f:\n",
    "        for i in f:\n",
    "            c += 1\n",
    "            check = i.strip()\n",
    "            if  check.lower() == search_word.lower():\n",
    "                return c\n",
    "        return -1"
   ]
  },
  {
   "cell_type": "markdown",
   "metadata": {},
   "source": [
    "<mark>DO NOT CHANGE THE FOLLOWING LINES</mark>\n",
    "\n",
    "Automatic Grading with the following tests. The correct results will get total **5 points**"
   ]
  },
  {
   "cell_type": "code",
   "execution_count": 208,
   "metadata": {
    "deletable": false,
    "editable": false,
    "nbgrader": {
     "cell_type": "code",
     "checksum": "787ea6fbd4c79a3bad66e057eadb46f8",
     "grade": true,
     "grade_id": "cell-755b8cc5ab24d5ff",
     "locked": true,
     "points": 1,
     "schema_version": 3,
     "solution": false,
     "task": false
    },
    "tags": []
   },
   "outputs": [],
   "source": [
    "# 1 point\n",
    "assert(find_word(file_name, read_mode, 'Paris') == 2)"
   ]
  },
  {
   "cell_type": "code",
   "execution_count": 209,
   "metadata": {
    "deletable": false,
    "editable": false,
    "nbgrader": {
     "cell_type": "code",
     "checksum": "6c77f46909acd04cf265a97de81e18de",
     "grade": true,
     "grade_id": "cell-e1d3dbfea96f642e",
     "locked": true,
     "points": 1,
     "schema_version": 3,
     "solution": false,
     "task": false
    },
    "tags": []
   },
   "outputs": [],
   "source": [
    "# 1 point\n",
    "assert(find_word(file_name, read_mode, 'Shanghai') == 6)"
   ]
  },
  {
   "cell_type": "code",
   "execution_count": 210,
   "metadata": {
    "deletable": false,
    "editable": false,
    "nbgrader": {
     "cell_type": "code",
     "checksum": "3b03efdd498f63146aae4ab338d9ddc2",
     "grade": true,
     "grade_id": "cell-cce741d6d22f63a7",
     "locked": true,
     "points": 1,
     "schema_version": 3,
     "solution": false,
     "task": false
    },
    "tags": []
   },
   "outputs": [],
   "source": [
    "# 1 point\n",
    "assert(find_word(file_name, read_mode, 'Cairo') == 9)"
   ]
  },
  {
   "cell_type": "code",
   "execution_count": 211,
   "metadata": {
    "deletable": false,
    "editable": false,
    "nbgrader": {
     "cell_type": "code",
     "checksum": "bc27e3061e28c6863db730e17463d9f7",
     "grade": true,
     "grade_id": "cell-390f2025b1895e7d",
     "locked": true,
     "points": 1,
     "schema_version": 3,
     "solution": false,
     "task": false
    },
    "tags": []
   },
   "outputs": [],
   "source": [
    "# 1 point\n",
    "assert(find_word(file_name, read_mode, 'new york') == 4)"
   ]
  },
  {
   "cell_type": "code",
   "execution_count": 212,
   "metadata": {
    "deletable": false,
    "editable": false,
    "nbgrader": {
     "cell_type": "code",
     "checksum": "15e2806293085c2b14bf2a37dd5342cc",
     "grade": true,
     "grade_id": "cell-4bbac234b1752d45",
     "locked": true,
     "points": 1,
     "schema_version": 3,
     "solution": false,
     "task": false
    },
    "tags": []
   },
   "outputs": [],
   "source": [
    "# 1 point\n",
    "assert(find_word(file_name, read_mode, 'Rio de Janeiro') == -1)"
   ]
  },
  {
   "cell_type": "markdown",
   "metadata": {},
   "source": [
    "---\n",
    "## <mark>Exercise #2 \n",
    "**Finds number in file, returns line number** (Total: 5 points) </mark>\n",
    "- Comple a `find_number()` function that reads a text file to:\n",
    "    - Searches for a specific number in a text file.\n",
    "    - returns the line number where it was found.\n",
    "\n",
    "- For example:\n",
    "    - `find_number('filename.txt', 'r', 10)` returns `1`, indicating that `10` was found on line `1`.\n",
    "    - `find_number('filename.txt', 'r', 999)` returns `-1`, indicating that `999` was not found."
   ]
  },
  {
   "cell_type": "code",
   "execution_count": 213,
   "metadata": {
    "deletable": false,
    "nbgrader": {
     "cell_type": "code",
     "checksum": "4ae5078588ee3447176bf9cf4f03d08e",
     "grade": false,
     "grade_id": "cell-f4a80c0b38839e0b",
     "locked": false,
     "schema_version": 3,
     "solution": true,
     "task": false
    },
    "tags": []
   },
   "outputs": [],
   "source": [
    "file_name = 'numbers.txt'\n",
    "read_mode = 'r'\n",
    "\n",
    "def find_number(file_name, read_mode, search_number):\n",
    "\n",
    "    # YOUR CODE HERE\n",
    "    c = 0\n",
    "    with open(file_name,read_mode) as f:\n",
    "        for i in f:\n",
    "            check = i.strip()\n",
    "            c += 1\n",
    "            if  int(check) == search_number:\n",
    "                return c\n",
    "        return -1"
   ]
  },
  {
   "cell_type": "markdown",
   "metadata": {},
   "source": [
    "<mark>DO NOT CHANGE THE FOLLOWING LINES</mark>\n",
    "\n",
    "Automatic Grading with the following tests. The correct results will get total **5 points**"
   ]
  },
  {
   "cell_type": "code",
   "execution_count": 214,
   "metadata": {
    "deletable": false,
    "editable": false,
    "nbgrader": {
     "cell_type": "code",
     "checksum": "8a8f4b83ceaa2976f1e95849e6008163",
     "grade": true,
     "grade_id": "cell-c322a97358cde8ae",
     "locked": true,
     "points": 1,
     "schema_version": 3,
     "solution": false,
     "task": false
    },
    "tags": []
   },
   "outputs": [],
   "source": [
    "# 1 points\n",
    "assert(find_number(file_name, read_mode, 4) == 1)"
   ]
  },
  {
   "cell_type": "code",
   "execution_count": 215,
   "metadata": {
    "deletable": false,
    "editable": false,
    "nbgrader": {
     "cell_type": "code",
     "checksum": "920115c93e3bb7228304dc654d91a66d",
     "grade": true,
     "grade_id": "cell-ec032c8f6ce066ca",
     "locked": true,
     "points": 1,
     "schema_version": 3,
     "solution": false,
     "task": false
    },
    "tags": []
   },
   "outputs": [],
   "source": [
    "# 1 points\n",
    "assert(find_number(file_name, read_mode, 2) == 3)"
   ]
  },
  {
   "cell_type": "code",
   "execution_count": 216,
   "metadata": {
    "deletable": false,
    "editable": false,
    "nbgrader": {
     "cell_type": "code",
     "checksum": "c4c6c062b9c42cd076e47fbd738fcd4f",
     "grade": true,
     "grade_id": "cell-6604d1f0de0f7768",
     "locked": true,
     "points": 1,
     "schema_version": 3,
     "solution": false,
     "task": false
    },
    "tags": []
   },
   "outputs": [],
   "source": [
    "# 1 points\n",
    "assert(find_number(file_name, read_mode, 12) == 4)"
   ]
  },
  {
   "cell_type": "code",
   "execution_count": 217,
   "metadata": {
    "deletable": false,
    "editable": false,
    "nbgrader": {
     "cell_type": "code",
     "checksum": "a3ed055f33a0efd6a7881c87da965c2d",
     "grade": true,
     "grade_id": "cell-d7b98a68a9b35ffd",
     "locked": true,
     "points": 1,
     "schema_version": 3,
     "solution": false,
     "task": false
    },
    "tags": []
   },
   "outputs": [],
   "source": [
    "# 1 points\n",
    "assert(find_number(file_name, read_mode, 9) == 5)"
   ]
  },
  {
   "cell_type": "code",
   "execution_count": 218,
   "metadata": {
    "deletable": false,
    "editable": false,
    "nbgrader": {
     "cell_type": "code",
     "checksum": "8a9fcf5b73af18ae2dedd4fa45352a18",
     "grade": true,
     "grade_id": "cell-64cd0bbcbb3d2660",
     "locked": true,
     "points": 1,
     "schema_version": 3,
     "solution": false,
     "task": false
    },
    "tags": []
   },
   "outputs": [],
   "source": [
    "# 1 points\n",
    "assert(find_number(file_name, read_mode, 1) == -1)"
   ]
  },
  {
   "cell_type": "markdown",
   "metadata": {},
   "source": [
    "---\n",
    "## <mark>Exercise #3 \n",
    "**Count Words in a Text File** (Total: 30 points) </mark>\n",
    "- Create a `read_and_count()` function that reads a text file to:\n",
    "    - Count the words from the text file.\n",
    "    - Return the total number of words.\n",
    "\n",
    "\n",
    "- NOTE: You may use `.split()` to split word from sentence\n",
    "    - For example, \n",
    "\n",
    "        `txt = 'Good Morning'`\n",
    "\n",
    "        `txt2 = txt.split()`\n",
    "        \n",
    "        `print(txt2)`, you will get `['Good', 'Morning']`\n",
    "\n",
    "- For example:\n",
    "    - `read_and_count('song.txt', 'green')` returns `1`, indicating that `green` occurred only once.\n"
   ]
  },
  {
   "cell_type": "code",
   "execution_count": 219,
   "metadata": {
    "deletable": false,
    "nbgrader": {
     "cell_type": "code",
     "checksum": "90c438037c257e6fb8fb0421ee1d6346",
     "grade": false,
     "grade_id": "cell-4db7be5c9fcfb010",
     "locked": false,
     "schema_version": 3,
     "solution": true,
     "task": false
    }
   },
   "outputs": [],
   "source": [
    "def read_and_count(file, word):\n",
    "    # YOUR CODE HERE\n",
    "    c = 0\n",
    "    with open(file, 'r') as song:\n",
    "        for text in song:\n",
    "            li = text.lower().split()\n",
    "            c += li.count(word)\n",
    "        return c"
   ]
  },
  {
   "cell_type": "code",
   "execution_count": 220,
   "metadata": {},
   "outputs": [
    {
     "name": "stdout",
     "output_type": "stream",
     "text": [
      "1\n",
      "3\n"
     ]
    }
   ],
   "source": [
    "# TEST\n",
    "print(read_and_count('song.txt', 'green'))  # You will get: 1\n",
    "print(read_and_count('song.txt', 'you'))    # You will get: 3"
   ]
  },
  {
   "cell_type": "markdown",
   "metadata": {},
   "source": [
    "<mark>DO NOT CHANGE THE FOLLOWING LINES</mark>\n",
    "\n",
    "Automatic Grading with the following tests. The correct results will get total **30 points**"
   ]
  },
  {
   "cell_type": "code",
   "execution_count": 221,
   "metadata": {
    "deletable": false,
    "editable": false,
    "nbgrader": {
     "cell_type": "code",
     "checksum": "862743061dd132b27340d43dacf90f44",
     "grade": true,
     "grade_id": "cell-a93c1843b6e09c32",
     "locked": true,
     "points": 7.5,
     "schema_version": 3,
     "solution": false,
     "task": false
    },
    "tags": []
   },
   "outputs": [],
   "source": [
    "# 7.5 points\n",
    "assert(read_and_count('song.txt', 'of') == 5)"
   ]
  },
  {
   "cell_type": "code",
   "execution_count": 222,
   "metadata": {
    "deletable": false,
    "editable": false,
    "nbgrader": {
     "cell_type": "code",
     "checksum": "c6be0c1352c344d38f1c4cb4b484eac0",
     "grade": true,
     "grade_id": "cell-3b69e9135c90a845",
     "locked": true,
     "points": 7.5,
     "schema_version": 3,
     "solution": false,
     "task": false
    },
    "tags": []
   },
   "outputs": [],
   "source": [
    "# 7.5 points\n",
    "assert(read_and_count('song.txt', 'world') == 4)"
   ]
  },
  {
   "cell_type": "code",
   "execution_count": 223,
   "metadata": {
    "deletable": false,
    "editable": false,
    "nbgrader": {
     "cell_type": "code",
     "checksum": "f95d3b9a7d583eab78b6caeed82a752c",
     "grade": true,
     "grade_id": "cell-15a44fd437c40429",
     "locked": true,
     "points": 7.5,
     "schema_version": 3,
     "solution": false,
     "task": false
    },
    "tags": []
   },
   "outputs": [],
   "source": [
    "# 7.5 points\n",
    "assert(read_and_count('song.txt', 'i') == 11)"
   ]
  },
  {
   "cell_type": "code",
   "execution_count": 224,
   "metadata": {
    "deletable": false,
    "editable": false,
    "nbgrader": {
     "cell_type": "code",
     "checksum": "8d0aa3a4c063724e28a53f73fca78a73",
     "grade": true,
     "grade_id": "cell-5867bf2141f75299",
     "locked": true,
     "points": 7.5,
     "schema_version": 3,
     "solution": false,
     "task": false
    },
    "tags": []
   },
   "outputs": [],
   "source": [
    "# 7.5 points\n",
    "assert(read_and_count('song.txt', 'the') == 6)"
   ]
  },
  {
   "cell_type": "markdown",
   "metadata": {},
   "source": [
    "---\n",
    "## <mark>Exercise #4 \n",
    "**Handles programming errors with try-except:** (Total: 5 points) </mark>\n",
    "- Complete a `perform_operations(file_name, n)` function that reads a text file to:\n",
    "    - Read the first line in the given file.\n",
    "    - Return the result of the division of `first line / n`, or:\n",
    "    - Return `E01` as an error code if an invalid value is provided for its argument.\n",
    "    - Return `E02` as an error code if division by zero occurs.    \n",
    "    - Return `E03` as an error code if the file is not found.\n",
    "\n",
    "- For example:\n",
    "    - `perform_operations('filename.txt', 5)` returns `2`, indicating that `10` was found in the first line and divided by `5` equals `2`.\n",
    "    - `perform_operations('no_file.txt', 10)` returns `E03`, indicating that `no_file.txt` was not found."
   ]
  },
  {
   "cell_type": "code",
   "execution_count": 225,
   "metadata": {
    "deletable": false,
    "nbgrader": {
     "cell_type": "code",
     "checksum": "50de999d8ba66da42004c4d3ceea9144",
     "grade": false,
     "grade_id": "cell-f2799c2fb8cf0251",
     "locked": false,
     "schema_version": 3,
     "solution": true,
     "task": false
    },
    "tags": []
   },
   "outputs": [],
   "source": [
    "def perform_operations(file_name, n):\n",
    "    # YOUR CODE HERE\n",
    "    try:\n",
    "        with open(file_name, 'r') as number:\n",
    "            try:\n",
    "                res = int(number.readline())/n\n",
    "                return res\n",
    "            except ZeroDivisionError:\n",
    "                return 'E02'\n",
    "            except ValueError:\n",
    "                return 'E01'\n",
    "    except:\n",
    "        return \"E03\""
   ]
  },
  {
   "cell_type": "markdown",
   "metadata": {},
   "source": [
    "<mark>DO NOT CHANGE THE FOLLOWING LINES</mark>\n",
    "\n",
    "Automatic Grading with the following tests. The correct results will get total **10 points**"
   ]
  },
  {
   "cell_type": "code",
   "execution_count": 226,
   "metadata": {
    "deletable": false,
    "editable": false,
    "nbgrader": {
     "cell_type": "code",
     "checksum": "5dd06d4e89bdc1b4915f333bf977ba5f",
     "grade": true,
     "grade_id": "cell-35c8ae6a58a12a0c",
     "locked": true,
     "points": 2,
     "schema_version": 3,
     "solution": false,
     "task": false
    },
    "tags": []
   },
   "outputs": [],
   "source": [
    "# 2 points\n",
    "assert(perform_operations('numbers.txt', 2) == 2.0)"
   ]
  },
  {
   "cell_type": "code",
   "execution_count": 227,
   "metadata": {
    "deletable": false,
    "editable": false,
    "nbgrader": {
     "cell_type": "code",
     "checksum": "b6c13c25558e5e54e4a969d11d863ec3",
     "grade": true,
     "grade_id": "cell-17b1d3948eb00a4f",
     "locked": true,
     "points": 2,
     "schema_version": 3,
     "solution": false,
     "task": false
    },
    "tags": []
   },
   "outputs": [],
   "source": [
    "# 2 points\n",
    "assert(perform_operations('numbers.txt', 5) == 0.8)"
   ]
  },
  {
   "cell_type": "code",
   "execution_count": 228,
   "metadata": {
    "deletable": false,
    "editable": false,
    "nbgrader": {
     "cell_type": "code",
     "checksum": "4983dcf3c891a31135503f1d850515ad",
     "grade": true,
     "grade_id": "cell-a26b2e25ca62ae94",
     "locked": true,
     "points": 2,
     "schema_version": 3,
     "solution": false,
     "task": false
    },
    "tags": []
   },
   "outputs": [],
   "source": [
    "# 2 points\n",
    "assert(perform_operations('words.txt', 10) == 'E01')"
   ]
  },
  {
   "cell_type": "code",
   "execution_count": 229,
   "metadata": {
    "deletable": false,
    "editable": false,
    "nbgrader": {
     "cell_type": "code",
     "checksum": "bc566710bd73db5de3a06462c79fc241",
     "grade": true,
     "grade_id": "cell-2d02aa42dc598b3a",
     "locked": true,
     "points": 2,
     "schema_version": 3,
     "solution": false,
     "task": false
    },
    "tags": []
   },
   "outputs": [],
   "source": [
    "# 2 points\n",
    "assert(perform_operations('numbers.txt', 0) == 'E02')"
   ]
  },
  {
   "cell_type": "code",
   "execution_count": 230,
   "metadata": {
    "deletable": false,
    "editable": false,
    "nbgrader": {
     "cell_type": "code",
     "checksum": "2becefe501d4cfc62bd7a56f24b82a92",
     "grade": true,
     "grade_id": "cell-fdef6af197a5d16f",
     "locked": true,
     "points": 2,
     "schema_version": 3,
     "solution": false,
     "task": false
    },
    "tags": []
   },
   "outputs": [],
   "source": [
    "# 2 points\n",
    "assert(perform_operations('no_file.txt', 10) == 'E03')"
   ]
  }
 ],
 "metadata": {
  "kernelspec": {
   "display_name": "Python 3 (ipykernel)",
   "language": "python",
   "name": "python3"
  },
  "language_info": {
   "codemirror_mode": {
    "name": "ipython",
    "version": 3
   },
   "file_extension": ".py",
   "mimetype": "text/x-python",
   "name": "python",
   "nbconvert_exporter": "python",
   "pygments_lexer": "ipython3",
   "version": "3.12.3"
  },
  "vscode": {
   "interpreter": {
    "hash": "a93b0dd0476a54a5f478b7334ff9b37b619e169e7e9a7d9bbc2ae9cea000272a"
   }
  }
 },
 "nbformat": 4,
 "nbformat_minor": 4
}
