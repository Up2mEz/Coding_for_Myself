{
 "cells": [
  {
   "cell_type": "markdown",
   "id": "8411019f",
   "metadata": {},
   "source": [
    "Before you turn this problem in, make sure everything runs as expected. First, **restart the kernel** (in the menubar, select Kernel$\\rightarrow$Restart) and then **run all cells** (in the menubar, select Cell$\\rightarrow$Run All).\n",
    "\n",
    "Make sure you fill in any place that says `YOUR CODE HERE` or \"YOUR ANSWER HERE\"."
   ]
  },
  {
   "cell_type": "markdown",
   "id": "8af9a969",
   "metadata": {
    "deletable": false,
    "editable": false,
    "nbgrader": {
     "cell_type": "markdown",
     "checksum": "3540bd494c82995b5ef33e8d81d747b8",
     "grade": false,
     "grade_id": "cell-9471d56fb38e978d",
     "locked": true,
     "schema_version": 3,
     "solution": false,
     "task": false
    }
   },
   "source": [
    "# WEEK 06: Function - Exercise\n",
    "\n",
    "**Name**: Thanakrit Samoena\n",
    "\n",
    "**ID**: 67070060\n",
    "\n",
    "**Program**: AIT\n",
    "\n",
    "**Write you codes after `# YOUR CODE HERE`**\n",
    "\n",
    "**BUILT-IN FUNCTIONS (e.g. `min` function)or EXTERNAL LIBRARIES ARE NOT ALLOWED.**"
   ]
  },
  {
   "cell_type": "markdown",
   "id": "9e5b2885-af21-4289-a00c-850bd1eef548",
   "metadata": {},
   "source": [
    "---\n",
    "<span style='background :yellow' > Execise #1 </span>.\n",
    "\n",
    "Define a function to calculate the area of any circle where the area of circle is given by \n",
    "\n",
    "$ A = \\pi r^2$,\n",
    "\n",
    "where $\\pi = 3.14$ and $r$ is the circle radius and $r > 0$.\n",
    "\n",
    "Note. If $r \\le 0$, the result must be `-321`"
   ]
  },
  {
   "cell_type": "code",
   "execution_count": 4,
   "id": "026eaa9a-65d1-40fd-b866-1ab412bdb17d",
   "metadata": {
    "deletable": false,
    "nbgrader": {
     "cell_type": "code",
     "checksum": "47d24f4c38694cdcfa9ecd9ea2a28077",
     "grade": false,
     "grade_id": "circ_area_fnc",
     "locked": false,
     "schema_version": 3,
     "solution": true,
     "task": false
    }
   },
   "outputs": [],
   "source": [
    "Pi = 3.14\n",
    "def circ_area(Pi, radius):\n",
    "    \"\"\" Return the area of circle.\"\"\"\n",
    "    # YOUR CODE HERE\n",
    "    if radius <= 0:\n",
    "        return -321\n",
    "    else :\n",
    "        return Pi*radius**2\n"
   ]
  },
  {
   "cell_type": "markdown",
   "id": "ed349e64",
   "metadata": {},
   "source": [
    "<span style='background :cyan'>\n",
    "DO NOT CHANGE THE FOLLOWING LINES\n",
    "</span>\n",
    "\n",
    "Automatic Grading with the following tests. The correct results will get total 10 points."
   ]
  },
  {
   "cell_type": "code",
   "execution_count": 5,
   "id": "8226038a-c1ee-415c-8587-085419d791ad",
   "metadata": {
    "deletable": false,
    "editable": false,
    "nbgrader": {
     "cell_type": "code",
     "checksum": "d8318d8f5dd0c6cace9128cc7acffa9b",
     "grade": true,
     "grade_id": "circ_area_fnc_test1",
     "locked": true,
     "points": 5,
     "schema_version": 3,
     "solution": false,
     "task": false
    },
    "tags": []
   },
   "outputs": [],
   "source": [
    "# Test-1: 5 Points\n",
    "assert circ_area(Pi, 5) == 78.5\n",
    "assert circ_area(Pi, 2) == 12.56"
   ]
  },
  {
   "cell_type": "code",
   "execution_count": 6,
   "id": "6ea743f6",
   "metadata": {
    "deletable": false,
    "editable": false,
    "nbgrader": {
     "cell_type": "code",
     "checksum": "d273ba94e4fd016653b0c05e76bb437b",
     "grade": true,
     "grade_id": "circ_area_fnc_test2",
     "locked": true,
     "points": 5,
     "schema_version": 3,
     "solution": false,
     "task": false
    },
    "tags": []
   },
   "outputs": [],
   "source": [
    "# Test-2: 5 Points\n",
    "assert circ_area(Pi, -1) == -321   # false condition\n",
    "assert circ_area(Pi, 0) == -321    # false condition"
   ]
  },
  {
   "cell_type": "markdown",
   "id": "b13e63cd",
   "metadata": {},
   "source": [
    "---\n",
    "<span style='background :yellow' > Execise #2 </span>.\n",
    "\n",
    "Define a function to calculate the perimeter of a triangle, where the perimeter of the triangle is given by \n",
    "\n",
    "$P = a + b + c$, where $a, b,$ and $c$ are the sides of the triangle.\n",
    "\n",
    "Note. If $a, b,$ or $c \\le 0$, the result must be `-321`"
   ]
  },
  {
   "cell_type": "code",
   "execution_count": 7,
   "id": "791e9f0d",
   "metadata": {
    "deletable": false,
    "nbgrader": {
     "cell_type": "code",
     "checksum": "4c2f6e22dc7484d253ff07e518b63ec9",
     "grade": false,
     "grade_id": "cell-5c1f97048a90d6de",
     "locked": false,
     "schema_version": 3,
     "solution": true,
     "task": false
    },
    "tags": []
   },
   "outputs": [],
   "source": [
    "def rect_triangle(a, b, c):\n",
    "    \"\"\"Return the perimeter of a triangle.\"\"\"\n",
    "\n",
    "    # YOUR CODE HERE\n",
    "    if a <= 0 or b <= 0 or c <= 0:\n",
    "        return -321\n",
    "    else:\n",
    "        return a+b+c"
   ]
  },
  {
   "cell_type": "markdown",
   "id": "fd70b953",
   "metadata": {},
   "source": [
    "<span style='background :cyan'>\n",
    "DO NOT CHANGE THE FOLLOWING LINES\n",
    "</span>\n",
    "\n",
    "Automatic Grading with the following tests. The correct results will get total 10 points."
   ]
  },
  {
   "cell_type": "code",
   "execution_count": 8,
   "id": "f8a07432",
   "metadata": {
    "deletable": false,
    "editable": false,
    "nbgrader": {
     "cell_type": "code",
     "checksum": "f3ab3d7007516c17705fac1ff1282e32",
     "grade": true,
     "grade_id": "cell-5aee4fbb54e50261",
     "locked": true,
     "points": 5,
     "schema_version": 3,
     "solution": false,
     "task": false
    },
    "tags": []
   },
   "outputs": [],
   "source": [
    "# Test-1: 5 Points\n",
    "assert rect_triangle(1, 2, 3) == 6\n",
    "assert rect_triangle(1, -1, 5) == -321"
   ]
  },
  {
   "cell_type": "code",
   "execution_count": 9,
   "id": "28a059a2",
   "metadata": {
    "deletable": false,
    "editable": false,
    "nbgrader": {
     "cell_type": "code",
     "checksum": "cb13154b24d22e8e2f7ec6504a0e639d",
     "grade": true,
     "grade_id": "cell-0a3639ce67a07d95",
     "locked": true,
     "points": 5,
     "schema_version": 3,
     "solution": false,
     "task": false
    },
    "tags": []
   },
   "outputs": [],
   "source": [
    "# Test-2: 5 Points\n",
    "assert rect_triangle(1, -4, 10) == -321\n",
    "assert rect_triangle(99, 99, 99) == 297"
   ]
  },
  {
   "cell_type": "markdown",
   "id": "afd2284f",
   "metadata": {},
   "source": [
    "---\n",
    "<span style='background :yellow' > Execise #3 </span>.\n",
    "\n",
    "Define a function to calculate the volume of any cube where the volume of cube is given by \n",
    "\n",
    "$ V = a^3$,\n",
    "\n",
    "where $a$ is the cube edge and $a$ >= 0$.\n",
    "\n",
    "Note. If $a \\le 0$, the result must be `-321`"
   ]
  },
  {
   "cell_type": "code",
   "execution_count": 10,
   "id": "197ba5cf",
   "metadata": {
    "deletable": false,
    "nbgrader": {
     "cell_type": "code",
     "checksum": "640f816f57324107bba3ecbbeed746f4",
     "grade": false,
     "grade_id": "cell-a2cec35c2bfc88bb",
     "locked": false,
     "schema_version": 3,
     "solution": true,
     "task": false
    },
    "tags": []
   },
   "outputs": [],
   "source": [
    "def cube_volume(a):\n",
    "    \"\"\"Return the volume of a cube.\"\"\"\n",
    "\n",
    "    # YOUR CODE HERE\n",
    "    if a <= 0:\n",
    "        return -321\n",
    "    else:\n",
    "        return a**3\n"
   ]
  },
  {
   "cell_type": "markdown",
   "id": "8181c725",
   "metadata": {},
   "source": [
    "<span style='background :cyan'>\n",
    "DO NOT CHANGE THE FOLLOWING LINES\n",
    "</span>\n",
    "\n",
    "Automatic Grading with the following tests. The correct results will get total 10 points."
   ]
  },
  {
   "cell_type": "code",
   "execution_count": 11,
   "id": "66b6bdc2",
   "metadata": {
    "deletable": false,
    "editable": false,
    "nbgrader": {
     "cell_type": "code",
     "checksum": "e838b14152ce3cc2ce21d3139b21c391",
     "grade": true,
     "grade_id": "cell-6c9ff2c4bfa08224",
     "locked": true,
     "points": 5,
     "schema_version": 3,
     "solution": false,
     "task": false
    },
    "tags": []
   },
   "outputs": [],
   "source": [
    "# Test-1: 5 Points\n",
    "assert cube_volume(2) == 8\n",
    "assert cube_volume(-8) == -321"
   ]
  },
  {
   "cell_type": "code",
   "execution_count": 12,
   "id": "db4ddd0e",
   "metadata": {
    "deletable": false,
    "editable": false,
    "nbgrader": {
     "cell_type": "code",
     "checksum": "efcc6412e097c3bf8cb12e8027277394",
     "grade": true,
     "grade_id": "cell-fbc875b73fbe2797",
     "locked": true,
     "points": 5,
     "schema_version": 3,
     "solution": false,
     "task": false
    },
    "tags": []
   },
   "outputs": [],
   "source": [
    "# Test-2: 5 Points\n",
    "assert cube_volume(0) == -321\n",
    "assert cube_volume(4) == 64"
   ]
  },
  {
   "cell_type": "markdown",
   "id": "ac3fe8f0",
   "metadata": {},
   "source": [
    "---\n",
    "<span style='background :yellow' > Execise #4 </span>.\n",
    "\n",
    "\n",
    "Create a function that returns the **Minimum** value of three numbers.\n",
    "\n",
    "- Input: receving three numbers\n",
    "- Output: returning the minimnum of input numbers"
   ]
  },
  {
   "cell_type": "code",
   "execution_count": 50,
   "id": "915246c2",
   "metadata": {
    "deletable": false,
    "nbgrader": {
     "cell_type": "code",
     "checksum": "4d3c13f33301d6712f7cc01b613bdb54",
     "grade": false,
     "grade_id": "min_fnc",
     "locked": false,
     "schema_version": 3,
     "solution": true,
     "task": false
    }
   },
   "outputs": [],
   "source": [
    "def min_value(a, b, c):\n",
    "    \"\"\" Return the minimum of three values.\"\"\"\n",
    "    # YOUR CODE HERE\n",
    "    min = a\n",
    "    if a < b:\n",
    "        min = a\n",
    "    else:\n",
    "        min = b\n",
    "        if c < b:\n",
    "            min = c\n",
    "    return min\n",
    "    "
   ]
  },
  {
   "cell_type": "markdown",
   "id": "be675370",
   "metadata": {},
   "source": [
    "<span style='background :cyan'>\n",
    "DO NOT CHANGE THE FOLLOWING LINES\n",
    "</span>\n",
    "\n",
    "Automatic Grading with the following tests. The correct results will get total 15 points."
   ]
  },
  {
   "cell_type": "code",
   "execution_count": 47,
   "id": "cd5de5ae",
   "metadata": {
    "deletable": false,
    "editable": false,
    "nbgrader": {
     "cell_type": "code",
     "checksum": "9a93979a9e18856db98fd9c2afff99f9",
     "grade": true,
     "grade_id": "min_fnc_test1",
     "locked": true,
     "points": 5,
     "schema_version": 3,
     "solution": false,
     "task": false
    }
   },
   "outputs": [],
   "source": [
    "# Test-1: 5 points\n",
    "assert min_value(-2,5,7) == -2"
   ]
  },
  {
   "cell_type": "code",
   "execution_count": 48,
   "id": "e551c8b5",
   "metadata": {
    "deletable": false,
    "editable": false,
    "nbgrader": {
     "cell_type": "code",
     "checksum": "854fbdc0628451c8820d9b5c5a8a60f0",
     "grade": true,
     "grade_id": "min_fnc_test2",
     "locked": true,
     "points": 5,
     "schema_version": 3,
     "solution": false,
     "task": false
    }
   },
   "outputs": [],
   "source": [
    "# Test-2: 5 points\n",
    "assert min_value(5,-2,7) == -2"
   ]
  },
  {
   "cell_type": "code",
   "execution_count": 49,
   "id": "9d4658a1",
   "metadata": {
    "deletable": false,
    "editable": false,
    "nbgrader": {
     "cell_type": "code",
     "checksum": "47575ebe39aea5bab4572e86393ea1fa",
     "grade": true,
     "grade_id": "min_fnc_test3",
     "locked": true,
     "points": 5,
     "schema_version": 3,
     "solution": false,
     "task": false
    }
   },
   "outputs": [],
   "source": [
    "# Test-3: 5 points\n",
    "assert min_value(7,5,-2) == -2"
   ]
  },
  {
   "cell_type": "markdown",
   "id": "f0eefbde",
   "metadata": {},
   "source": [
    "---\n",
    "<span style='background :yellow' > Execise #5 </span>.\n",
    "\n",
    "The definition of **Factorial** of a whole number `n` is defined as the product of that number with every whole number less than or equal to `n` till 1, given by\n",
    "\n",
    "$n! = n * (n-1)!$.\n",
    "\n",
    "For example, $4! = 4 * 3 * 2 * 1 = 24$. Note that $0! = 1$ and $1! = 1$.\n",
    "\n",
    "Create a function to calculate a factorial of any integer number `n` where `n` $\\ge 0$.\n",
    "\n",
    "Note. If $n < 0$, the result must be `-123`"
   ]
  },
  {
   "cell_type": "code",
   "execution_count": 26,
   "id": "88f25250",
   "metadata": {
    "deletable": false,
    "nbgrader": {
     "cell_type": "code",
     "checksum": "06564f2f8f2cd44965dd76517637cbf8",
     "grade": false,
     "grade_id": "fac_fnc",
     "locked": false,
     "schema_version": 3,
     "solution": true,
     "task": false
    }
   },
   "outputs": [
    {
     "data": {
      "text/plain": [
       "24"
      ]
     },
     "execution_count": 26,
     "metadata": {},
     "output_type": "execute_result"
    }
   ],
   "source": [
    "def fac(n):\n",
    "    \"\"\" Return the factorial of integer number\"\"\"\n",
    "    # YOUR CODE HERE\n",
    "    result = 1\n",
    "    if n < 0:\n",
    "        return -123\n",
    "    elif not n:\n",
    "        return 1\n",
    "    else:\n",
    "        for i in range(1,n+1):\n",
    "            result *= i\n",
    "        return result\n",
    "fac(4)\n"
   ]
  },
  {
   "cell_type": "markdown",
   "id": "14e89f33",
   "metadata": {},
   "source": [
    "<span style='background :cyan'>\n",
    "DO NOT CHANGE THE FOLLOWING LINES\n",
    "</span>\n",
    "\n",
    "Automatic Grading with the following tests. The correct results will get total 25 points."
   ]
  },
  {
   "cell_type": "code",
   "execution_count": 27,
   "id": "5bc6d918",
   "metadata": {
    "deletable": false,
    "editable": false,
    "nbgrader": {
     "cell_type": "code",
     "checksum": "bd8e826217e36ece012e4cecc9b4c823",
     "grade": true,
     "grade_id": "fac_fnc_test1",
     "locked": true,
     "points": 5,
     "schema_version": 3,
     "solution": false,
     "task": false
    }
   },
   "outputs": [],
   "source": [
    "# # Test-1: 5 points\n",
    "assert fac(0) == 1\n",
    "assert fac(1) == 1"
   ]
  },
  {
   "cell_type": "code",
   "execution_count": 28,
   "id": "5bef8ebd",
   "metadata": {
    "deletable": false,
    "editable": false,
    "nbgrader": {
     "cell_type": "code",
     "checksum": "4adf16ca7a6ce4f0751f502c7c34b96f",
     "grade": true,
     "grade_id": "fac_fnc_test2",
     "locked": true,
     "points": 15,
     "schema_version": 3,
     "solution": false,
     "task": false
    },
    "tags": []
   },
   "outputs": [],
   "source": [
    "# Test-2: 15 points\n",
    "assert fac(22) == 1124000727777607680000"
   ]
  },
  {
   "cell_type": "code",
   "execution_count": 29,
   "id": "b06be151",
   "metadata": {
    "deletable": false,
    "editable": false,
    "nbgrader": {
     "cell_type": "code",
     "checksum": "fc03b4d0cd6c3fe51bb30a5793b977c4",
     "grade": true,
     "grade_id": "fac_fnc_test3",
     "locked": true,
     "points": 5,
     "schema_version": 3,
     "solution": false,
     "task": false
    }
   },
   "outputs": [],
   "source": [
    "# Test-3: 5 points\n",
    "assert fac(-1) == -123"
   ]
  },
  {
   "cell_type": "markdown",
   "id": "a873f1cb",
   "metadata": {},
   "source": [
    "---\n",
    "<span style='background :yellow' > Execise #6 </span>.\n",
    "\n",
    "**Restaurant Total Cost**\n",
    "\n",
    "Create functions that calculate the total cost of eating at a restaurant, where the total cost can be computed as follows:\n",
    "\n",
    "`food_cost`: the cost of the food you eat.\n",
    "\n",
    "`tax_rate`: the tax based on the food cost.\n",
    "\n",
    "`service_charge_percentage`: the service charge imposed by the restaurant based on the food cost.\n",
    "\n",
    "`is_take_home`: if it is `True`, the `service_charge_percentage` will be excluded.\n",
    "\n",
    "The `total_cost` is calculated as the sum of `food_cost`, `tax_rate`, and `service_charge_percentage`."
   ]
  },
  {
   "cell_type": "code",
   "execution_count": 39,
   "id": "9882e546",
   "metadata": {
    "deletable": false,
    "nbgrader": {
     "cell_type": "code",
     "checksum": "cb5c901b621b238be449802a825c7010",
     "grade": false,
     "grade_id": "cell-a4452537dc8d3645",
     "locked": false,
     "schema_version": 3,
     "solution": true,
     "task": false
    },
    "tags": []
   },
   "outputs": [],
   "source": [
    "def calculate_total_cost(food_cost, tax_rate, service_charge_percentage, is_take_home):\n",
    "    \"\"\" Return the total cost of eating at restaurant\"\"\"\n",
    "    # YOUR CODE HERE\n",
    "    if not is_take_home:\n",
    "        total_cost = food_cost+(food_cost*tax_rate)+(food_cost*service_charge_percentage)\n",
    "        return  total_cost\n",
    "    else :\n",
    "        total_cost = food_cost+(food_cost*tax_rate)\n",
    "        return  total_cost\n",
    "    "
   ]
  },
  {
   "cell_type": "markdown",
   "id": "b20522c6",
   "metadata": {},
   "source": [
    "<span style='background :cyan'>\n",
    "DO NOT CHANGE THE FOLLOWING LINES\n",
    "</span>\n",
    "\n",
    "Automatic Grading with the following tests. The correct results will get total 30 points."
   ]
  },
  {
   "cell_type": "code",
   "execution_count": 40,
   "id": "7f276f85",
   "metadata": {
    "deletable": false,
    "editable": false,
    "nbgrader": {
     "cell_type": "code",
     "checksum": "2ad4e4c7800703f1d5059b4704d062bf",
     "grade": true,
     "grade_id": "cell-2a7759de82f4f6df",
     "locked": true,
     "points": 7.5,
     "schema_version": 3,
     "solution": false,
     "task": false
    },
    "tags": []
   },
   "outputs": [],
   "source": [
    "# Test4-1: 7.5 points\n",
    "food_cost = 100\n",
    "tax_rate = 0.07  # 7% tax rate\n",
    "service_charge_percentage = 0.10  # 10% service charge\n",
    "is_take_home = False    # eat at resterant\n",
    "\n",
    "# Calculate and display the total cost\n",
    "total_cost = calculate_total_cost(food_cost, tax_rate, service_charge_percentage, is_take_home)\n",
    "\n",
    "assert total_cost == 117.0"
   ]
  },
  {
   "cell_type": "code",
   "execution_count": 41,
   "id": "5dfc9f20",
   "metadata": {
    "deletable": false,
    "editable": false,
    "nbgrader": {
     "cell_type": "code",
     "checksum": "1d218a455916ba25498eaad5b0db1866",
     "grade": true,
     "grade_id": "cell-fed1dfc444cfe0ff",
     "locked": true,
     "points": 7.5,
     "schema_version": 3,
     "solution": false,
     "task": false
    },
    "tags": []
   },
   "outputs": [],
   "source": [
    "# Test4-2: 7.5 points\n",
    "food_cost = 100\n",
    "tax_rate = 0.07  # 7% tax rate\n",
    "service_charge_percentage = 0.10  # 10% service charge\n",
    "is_take_home = True    # eat at home\n",
    "\n",
    "# Calculate and display the total cost\n",
    "total_cost = calculate_total_cost(food_cost, tax_rate, service_charge_percentage, is_take_home)\n",
    "\n",
    "assert total_cost == 107.0"
   ]
  },
  {
   "cell_type": "code",
   "execution_count": 42,
   "id": "df479051",
   "metadata": {
    "deletable": false,
    "editable": false,
    "nbgrader": {
     "cell_type": "code",
     "checksum": "f50f42bf0a1ca5126385bfe508382d50",
     "grade": true,
     "grade_id": "cell-f546fe1c2a30ceb5",
     "locked": true,
     "points": 7.5,
     "schema_version": 3,
     "solution": false,
     "task": false
    },
    "tags": []
   },
   "outputs": [],
   "source": [
    "# Test4-3: 7.5 points\n",
    "food_cost = 5\n",
    "tax_rate = 0.07  # 7% tax rate\n",
    "service_charge_percentage = 0.10  # 10% service charge\n",
    "is_take_home = False    # eat at resterant\n",
    "\n",
    "# Calculate and display the total cost\n",
    "total_cost = calculate_total_cost(food_cost, tax_rate, service_charge_percentage, is_take_home)\n",
    "assert total_cost == 5.85"
   ]
  },
  {
   "cell_type": "code",
   "execution_count": 43,
   "id": "1a238c96",
   "metadata": {
    "deletable": false,
    "editable": false,
    "nbgrader": {
     "cell_type": "code",
     "checksum": "90f3466a305a039ed23d106e5fb88974",
     "grade": true,
     "grade_id": "cell-d04d0387110ddbf9",
     "locked": true,
     "points": 7.5,
     "schema_version": 3,
     "solution": false,
     "task": false
    },
    "tags": []
   },
   "outputs": [],
   "source": [
    "# Test4-4: 7.5 points\n",
    "food_cost = 5\n",
    "tax_rate = 0.07  # 7% tax rate\n",
    "service_charge_percentage = 0.10  # 10% service charge\n",
    "is_take_home = True    # eat at home\n",
    "\n",
    "# Calculate and display the total cost\n",
    "total_cost = calculate_total_cost(food_cost, tax_rate, service_charge_percentage, is_take_home)\n",
    "assert total_cost == 5.35"
   ]
  }
 ],
 "metadata": {
  "kernelspec": {
   "display_name": "Python 3 (ipykernel)",
   "language": "python",
   "name": "python3"
  },
  "language_info": {
   "codemirror_mode": {
    "name": "ipython",
    "version": 3
   },
   "file_extension": ".py",
   "mimetype": "text/x-python",
   "name": "python",
   "nbconvert_exporter": "python",
   "pygments_lexer": "ipython3",
   "version": "3.12.4"
  }
 },
 "nbformat": 4,
 "nbformat_minor": 5
}
