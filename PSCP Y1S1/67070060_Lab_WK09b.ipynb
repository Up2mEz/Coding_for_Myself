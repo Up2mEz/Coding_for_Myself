{
 "cells": [
  {
   "cell_type": "markdown",
   "metadata": {},
   "source": [
    "1.2 CSV File\n",
    "\n",
    "1.2.1 Write csv module"
   ]
  },
  {
   "cell_type": "code",
   "execution_count": 1,
   "metadata": {},
   "outputs": [],
   "source": [
    "import csv\n",
    "with open('create_file_with.csv', mode='w', newline='') as myscores: \n",
    "    writer = csv.writer(myscores)\n",
    "    writer.writerow(['Subject', 'Exam', 'Score'])\n",
    "    writer.writerow(['Math', 'Midterm', 90.14])\n",
    "    writer.writerow(['Math', 'Final', 88.89])\n",
    "    writer.writerow(['Englist', 'Midterm', 77.5])\n",
    "    writer.writerow(['English', 'Final', 83])\n",
    "    writer.writerow(['Physics', 'Midterm, Final', 83]) # \",\" in a string"
   ]
  },
  {
   "cell_type": "markdown",
   "metadata": {},
   "source": [
    "1.2.2 Read csv module"
   ]
  },
  {
   "cell_type": "code",
   "execution_count": 2,
   "metadata": {},
   "outputs": [
    {
     "name": "stdout",
     "output_type": "stream",
     "text": [
      "['Math', 'Midterm', '90.14']\n",
      "['Math', 'Final', '88.89']\n",
      "['Englist', 'Midterm', '77.5']\n",
      "['English', 'Final', '83']\n",
      "['Physics', 'Midterm, Final', '83']\n",
      "\n",
      "Subject           Exam             Score\n",
      "Math            Midterm            90.14\n",
      "Math             Final             88.89\n",
      "Englist         Midterm             77.5\n",
      "English          Final                83\n",
      "Physics      Midterm, Final           83\n"
     ]
    }
   ],
   "source": [
    "# 16. Read CSV file using a csv model\n",
    "import csv\n",
    "with open('create_file_with.csv', mode='r') as myscores: # 'r' mode\n",
    "    reader = csv.reader(myscores)\n",
    "    next(reader) # read header, comment if you want to display the header\n",
    "    for record in reader:\n",
    "        print(record)\n",
    "print()\n",
    "\n",
    "with open('create_file_with.csv', mode='r', encoding='utf-8') as myscores: #␣read csv again\n",
    "    reader = csv.reader(myscores)\n",
    "    # next(reader) # read header, comment if you want to display the␣header\n",
    "    for record in reader:\n",
    "        subj, exam, score = record # extract value from a list\n",
    "        print(f'{subj: <10s}{exam: ^20s}{score: >10s}')"
   ]
  },
  {
   "cell_type": "code",
   "execution_count": 3,
   "metadata": {},
   "outputs": [
    {
     "name": "stdout",
     "output_type": "stream",
     "text": [
      "Math            Midterm            90.14\n",
      "Math             Final             88.89\n",
      "Englist         Midterm             77.5\n",
      "English          Final                83\n",
      "Physics      Midterm, Final           83\n"
     ]
    }
   ],
   "source": [
    "# 17. Read CSV file using a csv model, DictReader\n",
    "import csv\n",
    "with open('create_file_with.csv', mode='r', encoding='cp1252') as myscores: # read csv again\n",
    "    reader = csv.DictReader(myscores)\n",
    "    for record in reader:\n",
    "        print(f'{record[\"Subject\"]: <10s}{record[\"Exam\"]: ^20s}{record[\"Score\"]:>10s}')\n",
    "# ====== Output\n",
    "# Math Midterm 90.14\n",
    "# Math Final 88.89\n",
    "# Englist Midterm 77.5\n",
    "# English Final 83\n",
    "# Physics Midterm, Final 83"
   ]
  }
 ],
 "metadata": {
  "kernelspec": {
   "display_name": "base",
   "language": "python",
   "name": "python3"
  },
  "language_info": {
   "codemirror_mode": {
    "name": "ipython",
    "version": 3
   },
   "file_extension": ".py",
   "mimetype": "text/x-python",
   "name": "python",
   "nbconvert_exporter": "python",
   "pygments_lexer": "ipython3",
   "version": "3.12.4"
  }
 },
 "nbformat": 4,
 "nbformat_minor": 2
}
