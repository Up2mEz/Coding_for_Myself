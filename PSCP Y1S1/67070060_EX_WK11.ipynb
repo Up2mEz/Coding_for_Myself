{
 "cells": [
  {
   "cell_type": "markdown",
   "metadata": {},
   "source": [
    "Before you turn this problem in, make sure everything runs as expected. First, **restart the kernel** (in the menubar, select Kernel$\\rightarrow$Restart) and then **run all cells** (in the menubar, select Cell$\\rightarrow$Run All).\n",
    "\n",
    "Make sure you fill in any place that says `YOUR CODE HERE` or \"YOUR ANSWER HERE\"."
   ]
  },
  {
   "cell_type": "markdown",
   "metadata": {},
   "source": [
    "# SECTION 2 ONLY\n",
    "Name = \"Thanakrit Samoena\"\n",
    "\n",
    "Student ID = \"67070060\""
   ]
  },
  {
   "cell_type": "markdown",
   "metadata": {},
   "source": [
    "# WEEK 11: Dictionary and Set - Exercise\n",
    "\n",
    "<mark>**EXTERNAL LIBRARIES ARE NOT ALLOWED.**</mark>"
   ]
  },
  {
   "cell_type": "markdown",
   "metadata": {},
   "source": [
    "---\n",
    "\n",
    "## <mark>Exercise #1 (Total: 5 points) </mark>\n",
    "\n",
    "สร้าง set ที่ประกอบด้วยชื่อของนักเรียน โดย set อยู่ในรูปแบบดังนี้: `student_set = {student_name}`\n",
    "\n",
    "รายชื่อของนักเรียน 10 คน คือ\n",
    "\n",
    "- `Somchai`\n",
    "- `Somsak`\n",
    "- `Somying`\n",
    "- `Sompong`\n",
    "- `Somsri`\n",
    "- `Somjit`\n",
    "- `Somchoke`\n",
    "- `Somsamorn`\n",
    "- `Somrak`\n",
    "- `Somtawil`"
   ]
  },
  {
   "cell_type": "code",
   "execution_count": 29,
   "metadata": {
    "deletable": false,
    "nbgrader": {
     "cell_type": "code",
     "checksum": "017832f2fe2d4d4a3aaa0778e045c35c",
     "grade": false,
     "grade_id": "cell-579bb060eade19e4",
     "locked": false,
     "schema_version": 3,
     "solution": true,
     "task": false
    },
    "tags": []
   },
   "outputs": [],
   "source": [
    "student_set = {\"Somchai\"\n",
    ",\"Somsak\"\n",
    ",\"Somying\"\n",
    ",\"Sompong\"\n",
    ",\"Somsri\"\n",
    ",\"Somjit\"\n",
    ",\"Somchoke\"\n",
    ",\"Somsamorn\"\n",
    ",\"Somrak\"\n",
    ",\"Somtawil\"}    # MODIFY YOUR CODE HERE\n",
    "\n",
    "# YOUR CODE HERE\n"
   ]
  },
  {
   "cell_type": "markdown",
   "metadata": {},
   "source": [
    "<mark>DO NOT CHANGE THE FOLLOWING LINES</mark>\n",
    "\n",
    "<mark>**Some tests are hidden**</mark>"
   ]
  },
  {
   "cell_type": "code",
   "execution_count": 30,
   "metadata": {
    "deletable": false,
    "editable": false,
    "nbgrader": {
     "cell_type": "code",
     "checksum": "e6280a340da70534eede25d61f3d5b31",
     "grade": true,
     "grade_id": "cell-62eebb257f9dcd36",
     "locked": true,
     "points": 1,
     "schema_version": 3,
     "solution": false,
     "task": false
    },
    "tags": []
   },
   "outputs": [],
   "source": [
    "# Test 1: 1 point\n",
    "assert('Somjit' in student_set)"
   ]
  },
  {
   "cell_type": "code",
   "execution_count": 31,
   "metadata": {
    "deletable": false,
    "editable": false,
    "nbgrader": {
     "cell_type": "code",
     "checksum": "a4bdd91b3eb0f44598e75ae704acb64e",
     "grade": true,
     "grade_id": "cell-ebec89f8a2cc5d5a",
     "locked": true,
     "points": 1,
     "schema_version": 3,
     "solution": false,
     "task": false
    },
    "tags": []
   },
   "outputs": [],
   "source": [
    "# Test 2: 1 point\n",
    "assert('Somporn' not in student_set)"
   ]
  },
  {
   "cell_type": "code",
   "execution_count": 32,
   "metadata": {
    "deletable": false,
    "editable": false,
    "nbgrader": {
     "cell_type": "code",
     "checksum": "a8731067a812b9e1e39a37150ec50250",
     "grade": true,
     "grade_id": "cell-0178c31a43ad5587",
     "locked": true,
     "points": 1,
     "schema_version": 3,
     "solution": false,
     "task": false
    },
    "tags": []
   },
   "outputs": [],
   "source": [
    "# Test 3: 1 point\n",
    "assert('Somsamorn' in student_set)"
   ]
  },
  {
   "cell_type": "code",
   "execution_count": 33,
   "metadata": {
    "deletable": false,
    "editable": false,
    "nbgrader": {
     "cell_type": "code",
     "checksum": "dbf0e0441d9dfe18e4b29ad1294761e1",
     "grade": true,
     "grade_id": "cell-f6bafc4d5fa19393",
     "locked": true,
     "points": 1,
     "schema_version": 3,
     "solution": false,
     "task": false
    },
    "tags": []
   },
   "outputs": [],
   "source": [
    "# Test 4: 1 point (Completely hidden)"
   ]
  },
  {
   "cell_type": "code",
   "execution_count": 34,
   "metadata": {
    "deletable": false,
    "editable": false,
    "nbgrader": {
     "cell_type": "code",
     "checksum": "eeb7b2f99f8c36360a87bafd52345ee4",
     "grade": true,
     "grade_id": "cell-20f58f91a9eb9f61",
     "locked": true,
     "points": 1,
     "schema_version": 3,
     "solution": false,
     "task": false
    },
    "tags": []
   },
   "outputs": [],
   "source": [
    "# Test 5: 1 point (Completely hidden)"
   ]
  },
  {
   "cell_type": "markdown",
   "metadata": {},
   "source": [
    "---\n",
    "## <mark>Exercise #2 (Total: 5 points) </mark>\n",
    "\n",
    "สร้าง dictionary ที่เก็บชื่อของนักเรียนและคะแนนในรูปแบบดังนี้ `student_grades = {student_name: grade}`\n",
    "\n",
    "- `Somchai: 85`\n",
    "- `Somsak: 90`\n",
    "- `Somying: 78`\n",
    "- `Sompong: 92`\n",
    "- `Somsri: 88`\n",
    "- `Somjit: 77`\n",
    "- `Somchoke: 68`\n",
    "- `Somsamorn: 49`\n",
    "- `Somrak: 70`\n",
    "- `Somtawil: 62`"
   ]
  },
  {
   "cell_type": "code",
   "execution_count": 35,
   "metadata": {
    "deletable": false,
    "nbgrader": {
     "cell_type": "code",
     "checksum": "078851533a677031a24a56e6c3deec21",
     "grade": false,
     "grade_id": "cell-07434ca88b2311d4",
     "locked": false,
     "schema_version": 3,
     "solution": true,
     "task": false
    },
    "tags": []
   },
   "outputs": [],
   "source": [
    "student_grades = {\"Somchai\": 85\n",
    ",\"Somsak\": 90\n",
    ",\"Somying\": 78\n",
    ",\"Sompong\": 92\n",
    ",\"Somsri\": 88\n",
    ",\"Somjit\": 77\n",
    ",\"Somchoke\": 68\n",
    ",\"Somsamorn\": 49\n",
    ",\"Somrak\": 70\n",
    ",\"Somtawil\": 62}    # MODIFY YOUR CODE HERE\n",
    "\n",
    "# YOUR CODE HERE\n"
   ]
  },
  {
   "cell_type": "markdown",
   "metadata": {},
   "source": [
    "<mark>DO NOT CHANGE THE FOLLOWING LINES</mark>\n",
    "\n",
    "<mark>**Some tests are hidden**</mark>"
   ]
  },
  {
   "cell_type": "code",
   "execution_count": 36,
   "metadata": {
    "deletable": false,
    "editable": false,
    "nbgrader": {
     "cell_type": "code",
     "checksum": "d7a38eebc4677ccaec38a8a08c8a8bd0",
     "grade": true,
     "grade_id": "cell-eb063c940361988f",
     "locked": true,
     "points": 1,
     "schema_version": 3,
     "solution": false,
     "task": false
    },
    "tags": []
   },
   "outputs": [],
   "source": [
    "# Test 1: 1 point\n",
    "assert(student_grades['Somchai'] == 85)"
   ]
  },
  {
   "cell_type": "code",
   "execution_count": 37,
   "metadata": {
    "deletable": false,
    "editable": false,
    "nbgrader": {
     "cell_type": "code",
     "checksum": "c9062abb62a4cf9c67880d1dd90640d8",
     "grade": true,
     "grade_id": "cell-041f120a03ade7cc",
     "locked": true,
     "points": 1,
     "schema_version": 3,
     "solution": false,
     "task": false
    },
    "tags": []
   },
   "outputs": [],
   "source": [
    "# Test 2: 1 point\n",
    "assert(student_grades['Somjit'] == 77)"
   ]
  },
  {
   "cell_type": "code",
   "execution_count": 38,
   "metadata": {
    "deletable": false,
    "editable": false,
    "nbgrader": {
     "cell_type": "code",
     "checksum": "8fb814a97c898696547c676490e3d76d",
     "grade": true,
     "grade_id": "cell-f9c9f118805840be",
     "locked": true,
     "points": 1,
     "schema_version": 3,
     "solution": false,
     "task": false
    },
    "tags": []
   },
   "outputs": [],
   "source": [
    "# Test 3: 1 point\n",
    "assert(student_grades['Somtawil'] == 62)"
   ]
  },
  {
   "cell_type": "code",
   "execution_count": 39,
   "metadata": {
    "deletable": false,
    "editable": false,
    "nbgrader": {
     "cell_type": "code",
     "checksum": "751d1d665459bf27687101c425d5c056",
     "grade": true,
     "grade_id": "cell-e05f0249e4145c99",
     "locked": true,
     "points": 1,
     "schema_version": 3,
     "solution": false,
     "task": false
    },
    "tags": []
   },
   "outputs": [],
   "source": [
    "# Test 4: 1 point (Completely hidden)"
   ]
  },
  {
   "cell_type": "code",
   "execution_count": 40,
   "metadata": {
    "deletable": false,
    "editable": false,
    "nbgrader": {
     "cell_type": "code",
     "checksum": "5c8ffa2b0d9c52a11d256da1cccac834",
     "grade": true,
     "grade_id": "cell-1073f64daa62ae0f",
     "locked": true,
     "points": 1,
     "schema_version": 3,
     "solution": false,
     "task": false
    },
    "tags": []
   },
   "outputs": [],
   "source": [
    "# Test 5: 1 point (Completely hidden)"
   ]
  },
  {
   "cell_type": "markdown",
   "metadata": {},
   "source": [
    "---\n",
    "## <mark>Exercise #3 (Total: 10 points) </mark>\n",
    "\n",
    "สร้างฟังก์ชัน `manage_grades(operation, job_name, salary=None)` เพื่อจัดการรายการของ Dictionary ที่แสดงถึงตำแหน่งงานและเงินเดือน\n",
    "\n",
    "- ฟังก์ชันรับพารามิเตอร์ 3 ตัว ดังนี้\n",
    "  1. `operation`: string ที่ระบุ operation ที่ต้องทำ คือ `'add'` เพื่อเพิ่มตำแหน่งงาน หรือ `'remove'` เพื่อลบตำแหน่งงานออก\n",
    "  2. `job_name`: ชื่อตำแหน่งงาน\n",
    "  3. `salary`: เงินเดือนสำหรับตำแหน่งงาน (ใช้เฉพาะเมื่อเพิ่มตำแหน่งงาน)\n",
    "\n",
    "- ฟังก์ชันจะแก้ไข Dictionary `job_salary` ในรูปแบบ global และจะคืนค่า `1` หากการดำเนินการสำเร็จ หรือ `-1` หากล้มเหลว\n",
    "\n",
    "#### ตัวอย่าง:\n",
    "\n",
    "- `manage_grades('add', 'Pilot', 345000)` จะเพิ่มตำแหน่งงาน `Pilot` พร้อมเงินเดือน `345000` และคืนค่า `1` แสดงถึงความสำเร็จ\n",
    "- `manage_grades('remove', 'Manager')` จะคืนค่า `-1` เนื่องจากตำแหน่งงาน `Manager` ไม่มีใน Dictionary"
   ]
  },
  {
   "cell_type": "code",
   "execution_count": 41,
   "metadata": {
    "deletable": false,
    "nbgrader": {
     "cell_type": "code",
     "checksum": "45df2c4b620ba9614040a3865eddf2a8",
     "grade": false,
     "grade_id": "cell-73b9de3139a76c44",
     "locked": false,
     "schema_version": 3,
     "solution": true,
     "task": false
    },
    "tags": []
   },
   "outputs": [],
   "source": [
    "job_salary = {'Engineer': 50000, 'Doctor': 100000, 'Lawyer': 150000, 'Actor': 200000}\n",
    "\n",
    "def manage_grades(operation, job_name, salary = None):\n",
    "    global job_salary     # Not necessary, but included for illustrative purposes only\n",
    "    \n",
    "    # YOUR CODE HERE\n",
    "    if operation == \"add\":\n",
    "        job_salary[job_name] = salary\n",
    "        return 1\n",
    "    elif operation == \"remove\":\n",
    "        if job_name in job_salary:\n",
    "            job_salary.pop(job_name)\n",
    "            return 1\n",
    "        else:\n",
    "            return -1\n"
   ]
  },
  {
   "cell_type": "markdown",
   "metadata": {},
   "source": [
    "<mark>DO NOT CHANGE THE FOLLOWING LINES</mark>\n",
    "\n",
    "<mark>**Some tests are hidden**</mark>"
   ]
  },
  {
   "cell_type": "code",
   "execution_count": 42,
   "metadata": {
    "deletable": false,
    "editable": false,
    "nbgrader": {
     "cell_type": "code",
     "checksum": "ad08d2f420457ed729ce6b3e425ff383",
     "grade": true,
     "grade_id": "cell-29bc75b3f2f48986",
     "locked": true,
     "points": 2,
     "schema_version": 3,
     "solution": false,
     "task": false
    },
    "tags": []
   },
   "outputs": [],
   "source": [
    "# Test 1: 2 points\n",
    "manage_grades('add', 'CEO', 500000)\n",
    "assert(manage_grades('add', 'CEO', 500000) == 1)"
   ]
  },
  {
   "cell_type": "code",
   "execution_count": 43,
   "metadata": {
    "deletable": false,
    "editable": false,
    "nbgrader": {
     "cell_type": "code",
     "checksum": "c0aa32976df6b042647eb2786c5a25eb",
     "grade": true,
     "grade_id": "cell-96b72bce6b3b8297",
     "locked": true,
     "points": 2,
     "schema_version": 3,
     "solution": false,
     "task": false
    },
    "tags": []
   },
   "outputs": [],
   "source": [
    "# Test 2: 2 points\n",
    "assert(job_salary['CEO'] == 500000)"
   ]
  },
  {
   "cell_type": "code",
   "execution_count": 44,
   "metadata": {
    "deletable": false,
    "editable": false,
    "nbgrader": {
     "cell_type": "code",
     "checksum": "b34d74ce29bddb11db8a8882d77f30c7",
     "grade": true,
     "grade_id": "cell-c52ee723326b869e",
     "locked": true,
     "points": 2,
     "schema_version": 3,
     "solution": false,
     "task": false
    },
    "tags": []
   },
   "outputs": [],
   "source": [
    "# Test 3: 2 points\n",
    "assert(manage_grades('remove', 'Doctor') == 1)"
   ]
  },
  {
   "cell_type": "code",
   "execution_count": 45,
   "metadata": {
    "deletable": false,
    "editable": false,
    "nbgrader": {
     "cell_type": "code",
     "checksum": "4b67568af508ff3a92fd75e896de5bda",
     "grade": true,
     "grade_id": "cell-7d8168645b397e6f",
     "locked": true,
     "points": 2,
     "schema_version": 3,
     "solution": false,
     "task": false
    },
    "tags": []
   },
   "outputs": [
    {
     "data": {
      "text/plain": [
       "-1"
      ]
     },
     "execution_count": 45,
     "metadata": {},
     "output_type": "execute_result"
    }
   ],
   "source": [
    "# Test 4: 2 points (Partially  hidden)\n",
    "manage_grades('remove', 'Doctor')   # Remove 'Doctor' again.\n"
   ]
  },
  {
   "cell_type": "code",
   "execution_count": 46,
   "metadata": {
    "deletable": false,
    "editable": false,
    "nbgrader": {
     "cell_type": "code",
     "checksum": "a32efc34d4b2dddcc8f5e21d30a19dac",
     "grade": true,
     "grade_id": "cell-94cb79e484dc05ef",
     "locked": true,
     "points": 2,
     "schema_version": 3,
     "solution": false,
     "task": false
    },
    "tags": []
   },
   "outputs": [],
   "source": [
    "# Test 5: 2 points (Completely hidden)\n"
   ]
  },
  {
   "cell_type": "markdown",
   "metadata": {},
   "source": [
    "---\n",
    "\n",
    "## <mark>Exercise #4 (Total: 50 points) </mark>\n",
    "\n",
    "สร้างฟังก์ชัน **search engine** พื้นฐานที่สามารถแสดงผลลัพธ์ตาม keyword ที่กำหนด\n",
    "- หากพบคำที่ตรงกับ keyword ให้ return ผลลัพธ์ทั้งหมด\n",
    "- หากไม่พบคำที่ตรงกับ keyword ให้ return `{'Not Found'}`\n",
    "\n",
    "**หมายเหตุ:** การค้นหา **ไม่คำนึงถึงตัวพิมพ์ใหญ่และพิมพ์เล็ก** ดังนั้น `ThisKeyword` จะถือเป็นคำเดียวกับ `thiskeyword`\n",
    "\n",
    "### ตัวอย่าง:\n",
    "\n",
    "1. `print(my_search_engine(swift_code, 'Caribbean'))`\n",
    "   - **ผลลัพธ์:** `{'Caribbean Development Bank'}`\n",
    "\n",
    "2. `print(my_search_engine(swift_code, 'internatIONAL'))`\n",
    "   - **ผลลัพธ์:** `{'International Fund for Agricultural Development', 'International Development Association', 'International Finance Corporation', 'International Bank for Reconstruction and Development'}`\n",
    "\n",
    "3. `print(my_search_engine(swift_code, 'abc'))`\n",
    "   - **ผลลัพธ์:** `{'Not Found'}`   "
   ]
  },
  {
   "cell_type": "code",
   "execution_count": 47,
   "metadata": {
    "deletable": false,
    "nbgrader": {
     "cell_type": "code",
     "checksum": "0e0b5403dc7e99ab2112db1f7eb2b690",
     "grade": false,
     "grade_id": "seach_func",
     "locked": false,
     "schema_version": 3,
     "solution": true,
     "task": false
    }
   },
   "outputs": [],
   "source": [
    "# USE THIS DICTIONARY AND SET TO ANSER THIS QUESTIONS\n",
    "\n",
    "swift_code = {'AFDBKEN1': 'African Development Bank',\n",
    "              'ASDBPHMM': 'Asian Development Bank',\n",
    "              'CDEVBBBB': 'Caribbean Development Bank',\n",
    "              'EBRDGB2L': 'European Bank for Reconstruction and Development',\n",
    "              'IBRDUS33': 'International Bank for Reconstruction and Development',\n",
    "              'IFCWUS33': 'International Finance Corporation',\n",
    "              'NOINFIHH': 'Nordic Investment Bank',\n",
    "              'IFADITRR': 'International Fund for Agricultural Development',\n",
    "              'IDAWUS33': 'International Development Association',\n",
    "              'UNESFRP1': 'United Nations Educational, Scientific and Cultural'}\n",
    "\n",
    "European_results = {'European Bank for Reconstruction and Development'}\n",
    "Asia_results = {'Not Found'}\n",
    "asian_results = {'Asian Development Bank'}\n",
    "bank_results = {'Nordic Investment Bank', \n",
    "                'International Bank for Reconstruction and Development', \n",
    "                'African Development Bank', 'Asian Development Bank', \n",
    "                'European Bank for Reconstruction and Development', \n",
    "                'Caribbean Development Bank'}\n",
    "\n",
    "def my_search_engine(dictionary, search_keyword):\n",
    "    # YOUR CODE HERE\n",
    "    dic_ans = []\n",
    "    search_keyword = search_keyword.capitalize()\n",
    "    for i in dictionary.values():\n",
    "        if search_keyword in i.split():\n",
    "            dic_ans.append(i)\n",
    "    if len(dic_ans) < 1:\n",
    "        dic_ans.append(\"Not Found\")\n",
    "    print(set(dic_ans))\n",
    "    return set(dic_ans)"
   ]
  },
  {
   "cell_type": "markdown",
   "metadata": {},
   "source": [
    "<mark>DO NOT CHANGE THE FOLLOWING LINES</mark>\n",
    "\n",
    "<mark>**Some tests are hidden**</mark>"
   ]
  },
  {
   "cell_type": "code",
   "execution_count": 48,
   "metadata": {
    "deletable": false,
    "editable": false,
    "nbgrader": {
     "cell_type": "code",
     "checksum": "d3c3bc7f4c77d102070d5757b9bec46f",
     "grade": true,
     "grade_id": "search_1",
     "locked": true,
     "points": 10,
     "schema_version": 3,
     "solution": false,
     "task": false
    }
   },
   "outputs": [
    {
     "name": "stdout",
     "output_type": "stream",
     "text": [
      "{'European Bank for Reconstruction and Development'}\n"
     ]
    }
   ],
   "source": [
    "# Test 1: 10 points\n",
    "assert(my_search_engine(swift_code, 'European') == European_results)"
   ]
  },
  {
   "cell_type": "code",
   "execution_count": 49,
   "metadata": {
    "deletable": false,
    "editable": false,
    "nbgrader": {
     "cell_type": "code",
     "checksum": "8a121da8bf67ac4aef0c3d4043365356",
     "grade": true,
     "grade_id": "search_2",
     "locked": true,
     "points": 10,
     "schema_version": 3,
     "solution": false,
     "task": false
    }
   },
   "outputs": [
    {
     "name": "stdout",
     "output_type": "stream",
     "text": [
      "{'Not Found'}\n"
     ]
    }
   ],
   "source": [
    "# Test 2: 10 points\n",
    "assert(my_search_engine(swift_code, 'Asia') == Asia_results)"
   ]
  },
  {
   "cell_type": "code",
   "execution_count": 50,
   "metadata": {
    "deletable": false,
    "editable": false,
    "nbgrader": {
     "cell_type": "code",
     "checksum": "ffd5b9050f7c101d48aee940014252e1",
     "grade": true,
     "grade_id": "search_3",
     "locked": true,
     "points": 10,
     "schema_version": 3,
     "solution": false,
     "task": false
    }
   },
   "outputs": [
    {
     "name": "stdout",
     "output_type": "stream",
     "text": [
      "{'Asian Development Bank'}\n"
     ]
    }
   ],
   "source": [
    "# Test 3: 10 points\n",
    "assert(my_search_engine(swift_code, 'asian') == asian_results)"
   ]
  },
  {
   "cell_type": "code",
   "execution_count": 51,
   "metadata": {
    "deletable": false,
    "editable": false,
    "nbgrader": {
     "cell_type": "code",
     "checksum": "fcd6423f2c99bb8226f0657eeafed375",
     "grade": true,
     "grade_id": "search_4",
     "locked": true,
     "points": 20,
     "schema_version": 3,
     "solution": false,
     "task": false
    }
   },
   "outputs": [],
   "source": [
    "# Test 4: 20 points (Completely hidden)\n"
   ]
  },
  {
   "cell_type": "markdown",
   "metadata": {},
   "source": [
    "---\n",
    "\n",
    "## <mark>Exercise #5 (Total: 30 points) </mark>\n",
    "\n",
    "สร้างฟังก์ชัน `words_count(words)` เพื่อทำการนับความถี่ของแต่ละคำและเครื่องหมายวรรคตอนใน string จาก `words` ที่กำหนด\n",
    "\n",
    "**คำแนะนำ:**\n",
    "1. ฟังก์ชันควรจัดการกับ string ที่ป้อนมาในลักษณะที่**ไม่คำนึงถึงตัวพิมพ์ใหญ่และพิมพ์เล็ก** เช่น `This_Word` ถือเป็นคำเดียวกับ `this_word`\n",
    "2. ฟังก์ชัน return ผลลัพธ์ในรูปแบบ Dictionary ที่มีรายละเอียด ดังนี้\n",
    "   - **key** คือ คำและเครื่องหมายวรรคตอนที่ไม่ซ้ำกัน (ในรูปแบบตัวพิมพ์เล็ก)\n",
    "   - **value** คือ จำนวนครั้งที่แต่ละ **key** ปรากฏใน string\n",
    "\n",
    "**ตัวอย่าง:**\n",
    "\n",
    "ให้สตริงที่ป้อนมา: `\"It was good , it was bad , it was hot , and it was cold.\"`\n",
    "\n",
    "ผลลัพธ์ควรเป็น: `{'it': 4, 'was': 4, 'good': 1, ',': 3, 'bad': 1, 'hot': 1, 'and': 1, 'cold.': 1}`\n",
    "\n",
    "**หมายเหตุ:**\n",
    "- คำและเครื่องหมายวรรคตอนจะได้รับการจัดการแยกกัน ดังนั้น นับเครื่องหมายจุลภาค (`,`) และจุด (`.`) แยกกัน\n",
    "- ตรวจสอบให้แน่ใจว่าเครื่องหมายวรรคตอนที่ติดอยู่กับคำ (เช่น `cold.`)"
   ]
  },
  {
   "cell_type": "code",
   "execution_count": 52,
   "metadata": {
    "deletable": false,
    "nbgrader": {
     "cell_type": "code",
     "checksum": "884a05e20dc1ec0e23aee9cbed4bc43d",
     "grade": false,
     "grade_id": "words_count_func",
     "locked": false,
     "schema_version": 3,
     "solution": true,
     "task": false
    }
   },
   "outputs": [],
   "source": [
    "def words_count(words):\n",
    "    # YOUR CODE HERE\n",
    "    words = words.lower().split()\n",
    "    dic_word = {}\n",
    "    for i in words:\n",
    "        if i not in dic_word:\n",
    "            dic_word[i] = words.count(i)\n",
    "    print(dic_word)\n",
    "    return dic_word\n"
   ]
  },
  {
   "cell_type": "markdown",
   "metadata": {},
   "source": [
    "<mark>DO NOT CHANGE THE FOLLOWING LINES</mark>\n",
    "\n",
    "<mark>**Some tests are hidden**</mark>"
   ]
  },
  {
   "cell_type": "code",
   "execution_count": 53,
   "metadata": {},
   "outputs": [
    {
     "name": "stdout",
     "output_type": "stream",
     "text": [
      "{'it': 10, 'was': 11, 'the': 14, 'best': 1, 'of': 12, 'times': 2, ',': 17, 'worst': 1, 'age': 2, 'wisdom': 1, 'foolishness': 1, 'epoch': 2, 'belief': 1, 'incredulity': 1, 'season': 2, 'light': 1, 'darkness': 1, 'spring': 1, 'hope': 1, 'winter': 1, 'despair': 1, 'we': 4, 'had': 2, 'everything': 1, 'before': 2, 'us': 2, 'nothing': 1, 'were': 2, 'all': 2, 'going': 2, 'direct': 2, 'to': 1, 'heaven': 1, 'other': 1, 'way': 1, '—': 1, 'in': 2, 'short': 1, 'period': 2, 'so': 1, 'far': 1, 'like': 1, 'present': 1, 'that': 1, 'some': 1, 'its': 2, 'noisiest': 1, 'authorities': 1, 'insisted': 1, 'on': 1, 'being': 1, 'received': 1, 'for': 2, 'good': 1, 'or': 1, 'evil': 1, 'superlative': 1, 'degree': 1, 'comparison': 1, 'only.': 1}\n"
     ]
    }
   ],
   "source": [
    "# The opening paragraph from \"A Tale of Two Cities\" by Charles Dickens.\n",
    "words = 'It was the best of times , it was the worst of times , it was the age of wisdom , it was the age of foolishness , it was the epoch of belief , it was the epoch of incredulity , it was the season of Light , it was the season of Darkness , it was the spring of hope , it was the winter of despair , we had everything before us , we had nothing before us , we were all going direct to Heaven , we were all going direct the other way — in short , the period was so far like the present period , that some of its noisiest authorities insisted on its being received , for good or for evil , in the superlative degree of comparison only.'\n",
    "word_count_dict = words_count(words)"
   ]
  },
  {
   "cell_type": "code",
   "execution_count": 54,
   "metadata": {
    "deletable": false,
    "editable": false,
    "nbgrader": {
     "cell_type": "code",
     "checksum": "8902e056fec6228c6fff364fabaf9926",
     "grade": true,
     "grade_id": "words_count_func_1",
     "locked": true,
     "points": 10,
     "schema_version": 3,
     "solution": false,
     "task": false
    }
   },
   "outputs": [],
   "source": [
    "# Test 1: 10 points\n",
    "assert(word_count_dict['it'] == 10)"
   ]
  },
  {
   "cell_type": "code",
   "execution_count": 55,
   "metadata": {
    "deletable": false,
    "editable": false,
    "nbgrader": {
     "cell_type": "code",
     "checksum": "ebffe5dc6da5dfc9cb1903664f95ddac",
     "grade": true,
     "grade_id": "words_count_func_2",
     "locked": true,
     "points": 10,
     "schema_version": 3,
     "solution": false,
     "task": false
    }
   },
   "outputs": [],
   "source": [
    "# Test 2: 10 points\n",
    "assert(word_count_dict['the'] == 14)"
   ]
  },
  {
   "cell_type": "code",
   "execution_count": 56,
   "metadata": {
    "deletable": false,
    "editable": false,
    "nbgrader": {
     "cell_type": "code",
     "checksum": "2eaa7c1d051503c8d6bafa5190511c38",
     "grade": true,
     "grade_id": "words_count_func_3",
     "locked": true,
     "points": 10,
     "schema_version": 3,
     "solution": false,
     "task": false
    }
   },
   "outputs": [],
   "source": [
    "# Test 3: 10 points (Completely hidden)\n"
   ]
  }
 ],
 "metadata": {
  "kernelspec": {
   "display_name": "Python 3 (ipykernel)",
   "language": "python",
   "name": "python3"
  },
  "language_info": {
   "codemirror_mode": {
    "name": "ipython",
    "version": 3
   },
   "file_extension": ".py",
   "mimetype": "text/x-python",
   "name": "python",
   "nbconvert_exporter": "python",
   "pygments_lexer": "ipython3",
   "version": "3.12.4"
  },
  "vscode": {
   "interpreter": {
    "hash": "a93b0dd0476a54a5f478b7334ff9b37b619e169e7e9a7d9bbc2ae9cea000272a"
   }
  }
 },
 "nbformat": 4,
 "nbformat_minor": 4
}
