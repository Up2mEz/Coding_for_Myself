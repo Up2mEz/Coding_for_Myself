{
 "cells": [
  {
   "cell_type": "markdown",
   "metadata": {},
   "source": [
    "August 28, 2024\n",
    "\n",
    "1.1 Text File Processing\n",
    "\n",
    "1.1.1 Write - open() function\n"
   ]
  },
  {
   "cell_type": "code",
   "execution_count": 10,
   "metadata": {},
   "outputs": [
    {
     "name": "stdout",
     "output_type": "stream",
     "text": [
      "<class '_io.TextIOWrapper'>\n"
     ]
    }
   ],
   "source": [
    "\n",
    "my_file = open('create_file.txt', 'w')\n",
    "\n",
    "my_file.close()\n",
    "\n",
    "print(type(my_file)) "
   ]
  },
  {
   "cell_type": "code",
   "execution_count": 11,
   "metadata": {},
   "outputs": [],
   "source": [
    "f_dir = 'TempLocation/'\n",
    "my_file.close()\n",
    "my_file = open(f_dir + 'create_file3.txt', 'w')\n",
    "my_file.close()"
   ]
  },
  {
   "cell_type": "code",
   "execution_count": 12,
   "metadata": {},
   "outputs": [],
   "source": [
    "my_file = open('create_file.txt', 'w')\n",
    "my_file.write('One Two') \n",
    "my_file.write(f'{10.3456}') \n",
    "my_file.write(f'{10.3456:10.2f}')\n",
    "my_file.close()"
   ]
  },
  {
   "cell_type": "code",
   "execution_count": 13,
   "metadata": {},
   "outputs": [],
   "source": [
    "my_file = open('create_file.txt', 'w')\n",
    "my_file.write('One Two\\t')\n",
    "my_file.write(f'{10.3456}\\n')\n",
    "my_file.write(f'{10.3456:10.2f}\\n')\n",
    "my_file.write(f'{99.6542: <10.2f}{9999:>20d}\\n')\n",
    "my_file.writelines(['1234567890\\n', 'abcdefghij\\n'])\n",
    "my_file.close()"
   ]
  },
  {
   "cell_type": "markdown",
   "metadata": {},
   "source": [
    "1.1.2 Write - with ... open() function"
   ]
  },
  {
   "cell_type": "code",
   "execution_count": 15,
   "metadata": {},
   "outputs": [],
   "source": [
    "with open('create_file_with.txt', mode='w') as myscores:\n",
    "    myscores.write('Math Midterm 90.14\\n') # \\t <-- new tab\n",
    "    myscores.write('Math Final 88.89\\n') # \\n <-- new line\n",
    "    myscores.write('Englist Midterm 77.5\\n') # \\t <-- new tab\n",
    "    myscores.write('English Final 83\\n') # \\n <-- new line"
   ]
  },
  {
   "cell_type": "markdown",
   "metadata": {},
   "source": [
    "1.1.3 Write - Iterative process"
   ]
  },
  {
   "cell_type": "code",
   "execution_count": 16,
   "metadata": {},
   "outputs": [],
   "source": [
    "# 6. Create a text file using with ... open()\n",
    "with open('create_file_with_loop.txt', mode='w') as my_numbers:\n",
    "    for i in range(1,6):\n",
    "        my_numbers.write(f'Number #{i}\\n')"
   ]
  },
  {
   "cell_type": "markdown",
   "metadata": {},
   "source": [
    "1.1.4 Read - open() function"
   ]
  },
  {
   "cell_type": "code",
   "execution_count": 17,
   "metadata": {},
   "outputs": [
    {
     "name": "stdout",
     "output_type": "stream",
     "text": [
      "Number #2\n",
      "\n",
      "Number #3\n",
      "\n",
      "Number #4\n",
      "\n",
      "Number #5\n",
      "\n",
      "\n"
     ]
    }
   ],
   "source": [
    "my_read_data = open('create_file_with_loop.txt', 'r')\n",
    "type(my_read_data) # _io.TextIOWrapper\n",
    "type(my_read_data.readline()) # type = str, this read the first-line <--␣Number #1\n",
    "print(my_read_data.readline()) # this read the first-line <-- Number #2\n",
    "print(my_read_data.readline()) # this read the first-line <-- Number #3\n",
    "print(my_read_data.readline()) # this read the first-line <-- Number #4\n",
    "print(my_read_data.readline()) # this read the first-line <-- Number #5\n",
    "print(my_read_data.readline()) # this read the end-of-line <-- No data\n",
    "my_read_data.close()"
   ]
  },
  {
   "cell_type": "code",
   "execution_count": 18,
   "metadata": {},
   "outputs": [
    {
     "name": "stdout",
     "output_type": "stream",
     "text": [
      "['Number #1\\n', 'Number #2\\n', 'Number #3\\n', 'Number #4\\n', 'Number #5\\n']\n"
     ]
    }
   ],
   "source": [
    "my_read_data = open('create_file_with_loop.txt', 'r')\n",
    "print(my_read_data.readlines()) # ['Number #1\\n', 'Number #2\\n', 'Number #3\\n',␣'Number #4\\n', 'Number #5\\n']\n",
    "type(my_read_data.readlines()) # type = list\n",
    "my_read_data.close()"
   ]
  },
  {
   "cell_type": "code",
   "execution_count": 19,
   "metadata": {},
   "outputs": [
    {
     "name": "stdout",
     "output_type": "stream",
     "text": [
      "Number #1\n",
      "\n",
      "Number #2\n",
      "\n",
      "Number #3\n",
      "\n",
      "Number #4\n",
      "\n",
      "Number #5\n",
      "\n",
      "\n"
     ]
    }
   ],
   "source": [
    "my_read_data = open('create_file_with_loop.txt', 'r')\n",
    "data_line = my_read_data.readline() # read the first line\n",
    "print(data_line)\n",
    "while data_line != '': # stop when it reads an empty string\n",
    "    data_line = my_read_data.readline() # read the rest lines\n",
    "    print(data_line)\n",
    "my_read_data.close()"
   ]
  },
  {
   "cell_type": "code",
   "execution_count": 20,
   "metadata": {},
   "outputs": [
    {
     "name": "stdout",
     "output_type": "stream",
     "text": [
      "Number #1\n",
      "\n",
      "Number #2\n",
      "\n",
      "Number #3\n",
      "\n",
      "Number #4\n",
      "\n",
      "Number #5\n",
      "\n"
     ]
    }
   ],
   "source": [
    "my_read_data = open('create_file_with_loop.txt', 'r')\n",
    "for data_line in my_read_data:\n",
    "    print(data_line) # print all line one by one\n",
    "my_read_data.close()"
   ]
  },
  {
   "cell_type": "code",
   "execution_count": 22,
   "metadata": {},
   "outputs": [
    {
     "name": "stdout",
     "output_type": "stream",
     "text": [
      "Number #1\n",
      "\n",
      "Number #2\n",
      "\n",
      "Number #1\n",
      "\n",
      "Number #2\n",
      "\n",
      "Number #1\n",
      "\n",
      "Number #2\n",
      "\n"
     ]
    }
   ],
   "source": [
    "my_read_data = open('create_file_with_loop.txt', 'r')\n",
    "print(my_read_data.readline()) # this read the first-line <-- Number #1\n",
    "print(my_read_data.readline()) # this read the first-line <-- Number #2\n",
    "my_read_data.seek(0) # reset a read pointer to the begining\n",
    "print(my_read_data.readline()) # this read the first-line <-- Number #1\n",
    "print(my_read_data.readline()) # this read the first-line <-- Number #2\n",
    "my_read_data.seek(0) # reset a read pointer to the begining\n",
    "print(my_read_data.readline()) # this read the first-line <-- Number #1\n",
    "print(my_read_data.readline()) # this read the first-line <-- Number #2"
   ]
  },
  {
   "cell_type": "code",
   "execution_count": 25,
   "metadata": {},
   "outputs": [
    {
     "name": "stdout",
     "output_type": "stream",
     "text": [
      "Number #1\n",
      "\n",
      "Number #2\n",
      "\n",
      "Number #3\n",
      "\n",
      "Number #4\n",
      "\n",
      "Number #5\n",
      "\n"
     ]
    }
   ],
   "source": [
    "with open('create_file_with_loop.txt', mode='r') as myscores: # 'r' is a␣read mode\n",
    "    for data in myscores:\n",
    "        print(data)"
   ]
  },
  {
   "cell_type": "code",
   "execution_count": 26,
   "metadata": {},
   "outputs": [
    {
     "name": "stdout",
     "output_type": "stream",
     "text": [
      "SUBJECT      EXAM        SCORE\n",
      "Math       Midterm       90.14\n",
      "Math        Final        88.89\n",
      "Englist    Midterm        77.5\n",
      "English     Final           83\n"
     ]
    }
   ],
   "source": [
    "with open('create_file_with.txt', mode='r') as myscores:\n",
    "    print(f'{\"SUBJECT\":<10s}{\"EXAM\":^10s}{\"SCORE\":>10s}')\n",
    "    for data in myscores:\n",
    "        subject, exam, score = data.split()\n",
    "        print(f'{subject:<10s}{exam:^10s}{score:>10s}')"
   ]
  },
  {
   "cell_type": "code",
   "execution_count": 27,
   "metadata": {},
   "outputs": [
    {
     "name": "stdout",
     "output_type": "stream",
     "text": [
      "Math Midterm 90.14\n",
      "\n",
      "Math Final 88.89\n",
      "\n",
      "Englist Midterm 77.5\n",
      "\n",
      "English Final 83\n",
      "\n",
      "Physics Midterm 99.99\n",
      "\n",
      "Physics Final 100\n",
      "\n"
     ]
    }
   ],
   "source": [
    "with open('create_file_with.txt', mode='a') as myscores: # 'a' is an append␣mode\n",
    "    myscores.write('Physics Midterm 99.99\\n')\n",
    "    myscores.write('Physics Final 100\\n')\n",
    "\n",
    "with open('create_file_with.txt', mode='r') as myscores: # read mode\n",
    "    for i in myscores:\n",
    "        print(i)"
   ]
  },
  {
   "cell_type": "markdown",
   "metadata": {},
   "source": [
    "1.3 Handling Exceptions"
   ]
  },
  {
   "cell_type": "markdown",
   "metadata": {},
   "source": [
    "1.3.1 Clauses: try, except, and else Statements\n"
   ]
  },
  {
   "cell_type": "code",
   "execution_count": 28,
   "metadata": {},
   "outputs": [
    {
     "name": "stdout",
     "output_type": "stream",
     "text": [
      "No Erorr: 5/2 = 2.5\n",
      "The error is division by zero\n"
     ]
    }
   ],
   "source": [
    "try:\n",
    "    x = 5/2 # no error\n",
    "except BaseException as e:\n",
    "    print(f'The error is {e}')\n",
    "else:\n",
    "    print(f'No Erorr: 5/2 = {x}') # <- this line will be executed\n",
    "# Case-2: Error - devide by 0\n",
    "try:\n",
    "    x = 5/0 # ERROR\n",
    "except BaseException as e:\n",
    "    print(f'The error is {e}') # Error is 'The error is division by zero'\n",
    "else:\n",
    "    print(f'No Erorr: 5/2 = {x}')"
   ]
  },
  {
   "cell_type": "code",
   "execution_count": null,
   "metadata": {},
   "outputs": [],
   "source": [
    "num1 = [4, 4, 4]\n",
    "num2 = [4, 0, 'A']\n",
    "for a, b in zip(num1, num2):\n",
    "    try:\n",
    "        result = a/int(b)\n",
    "    except ValueError: # number / str\n",
    "        print(f'Both of data must be number: a = {a}, b = {b}')\n",
    "    except ZeroDivisionError: # number / 0\n",
    "        print(f'Attempted to divide by zero: a = {a}, b = {b}')\n",
    "    else: # OK Case - no error\n",
    "        print(f'{a}/{b} = {result}')"
   ]
  },
  {
   "cell_type": "code",
   "execution_count": 29,
   "metadata": {},
   "outputs": [
    {
     "name": "stdout",
     "output_type": "stream",
     "text": [
      "invalid literal for int() with base 10: 'a'\n",
      "unsupported operand type(s) for /: 'int' and 'str'\n",
      "division by zero\n",
      "name 'name' is not defined\n"
     ]
    }
   ],
   "source": [
    "try: # ValueError\n",
    "    int('a')\n",
    "except (ValueError, TypeError, ZeroDivisionError, NameError) as e:\n",
    "    print(e) # invalid literal for int() with base 10: 'a'\n",
    "try: # TypeError\n",
    "    1/'a'\n",
    "except (ValueError, TypeError, ZeroDivisionError, NameError) as e:\n",
    "    print(e) # unsupported operand type(s) for /: 'int' and 'str'\n",
    "try: # ZeroDivisionError\n",
    "    0/0\n",
    "except (ValueError, TypeError, ZeroDivisionError, NameError) as e:\n",
    "    print(e) # division by zero\n",
    "try: # NameError\n",
    "    name\n",
    "except Exception as e:\n",
    "    print(e) # name 'name' is not defined"
   ]
  },
  {
   "cell_type": "code",
   "execution_count": 30,
   "metadata": {},
   "outputs": [
    {
     "name": "stdout",
     "output_type": "stream",
     "text": [
      "\n",
      "Try statement is executed. No Error\n",
      "Else is executed because there is no exeption\n",
      "Finally is always executed\n",
      "\n",
      "This Try statement is executed. No Error\n",
      "Except is executed because an error in Try\n",
      "Finally is always executed\n"
     ]
    }
   ],
   "source": [
    "# Scenario-1\n",
    "try:\n",
    "    print('\\nTry statement is executed. No Error')\n",
    "except:\n",
    "    print('Except will not execute because there is no error in Try')\n",
    "else:\n",
    "    print('Else is executed because there is no exeption')\n",
    "finally:\n",
    "    print('Finally is always executed')\n",
    "# ========== Output\n",
    "# Try statement is executed. No Error\n",
    "# Else is executed because there is no exeption\n",
    "# Finally is always executed\n",
    "# Scenario-2\n",
    "try:\n",
    "    print('\\nThis Try statement is executed. No Error')\n",
    "    print(int('This is error'))\n",
    "    print('This is not executed because the above statement is error, move to␣except-clause')\n",
    "except ValueError:\n",
    "    print('Except is executed because an error in Try')\n",
    "else:\n",
    "    print('Else is not executed because there is an exeption in try-clause')\n",
    "finally:\n",
    "    print('Finally is always executed')\n",
    "# =========== Output\n",
    "# This Try statement is executed. No Error\n",
    "# Except is executed because an error in Try\n",
    "# Finally is always executed"
   ]
  },
  {
   "cell_type": "code",
   "execution_count": 31,
   "metadata": {},
   "outputs": [
    {
     "name": "stdout",
     "output_type": "stream",
     "text": [
      "No such file or directory: 'no_file.txt'\n"
     ]
    }
   ],
   "source": [
    "# 22. Try for open-file existing test\n",
    "try:\n",
    "    open('no_file.txt', mode='r') # This causes error - No such file or␣directory: 'no_file.txt'\n",
    "except FileNotFoundError:\n",
    "    print(\"No such file or directory: 'no_file.txt'\")"
   ]
  }
 ],
 "metadata": {
  "kernelspec": {
   "display_name": "Python 3",
   "language": "python",
   "name": "python3"
  },
  "language_info": {
   "codemirror_mode": {
    "name": "ipython",
    "version": 3
   },
   "file_extension": ".py",
   "mimetype": "text/x-python",
   "name": "python",
   "nbconvert_exporter": "python",
   "pygments_lexer": "ipython3",
   "version": "3.12.3"
  }
 },
 "nbformat": 4,
 "nbformat_minor": 2
}
