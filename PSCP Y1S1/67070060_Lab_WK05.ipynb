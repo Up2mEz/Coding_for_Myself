{
 "cells": [
  {
   "cell_type": "markdown",
   "metadata": {},
   "source": [
    "                        WK05_RepetitionStructure_2024\n",
    "\n",
    "1 LAB: Repetition Structure\n",
    "\n",
    "1.1 while-loop and for-loop\n",
    "\n",
    "1. Printing numbers from 1 to 5:"
   ]
  },
  {
   "cell_type": "code",
   "execution_count": 1,
   "metadata": {},
   "outputs": [
    {
     "name": "stdout",
     "output_type": "stream",
     "text": [
      "1\n",
      "2\n",
      "3\n",
      "4\n",
      "5\n",
      "1\n",
      "2\n",
      "3\n",
      "4\n",
      "5\n"
     ]
    }
   ],
   "source": [
    "# For-loop\n",
    "for i in range(1, 6):\n",
    "    print(i)\n",
    "# While-loop\n",
    "i = 1\n",
    "while i <= 5:\n",
    "    print(i)\n",
    "    i += 1"
   ]
  },
  {
   "cell_type": "markdown",
   "metadata": {},
   "source": [
    "2. Printing even numbers from 2 to 10:"
   ]
  },
  {
   "cell_type": "code",
   "execution_count": 2,
   "metadata": {},
   "outputs": [
    {
     "name": "stdout",
     "output_type": "stream",
     "text": [
      "2\n",
      "4\n",
      "6\n",
      "8\n",
      "10\n",
      "2\n",
      "4\n",
      "6\n",
      "8\n",
      "10\n"
     ]
    }
   ],
   "source": [
    "# For-loop\n",
    "for i in range(2, 11, 2):\n",
    "    print(i)\n",
    "# While-loop\n",
    "i = 2\n",
    "while i <= 10:\n",
    "    print(i)\n",
    "    i += 2"
   ]
  },
  {
   "cell_type": "markdown",
   "metadata": {},
   "source": [
    "INCOMPLETE CODE: 3. Printing odd numbers from 2 to 10:"
   ]
  },
  {
   "cell_type": "code",
   "execution_count": 3,
   "metadata": {},
   "outputs": [
    {
     "name": "stdout",
     "output_type": "stream",
     "text": [
      "3\n",
      "6\n",
      "9\n",
      "3\n",
      "6\n",
      "9\n"
     ]
    }
   ],
   "source": [
    "for i in range(3,10,3):\n",
    "    print(i)\n",
    "# While-loop\n",
    "i = 3\n",
    "while i < 10:\n",
    "    print(i)\n",
    "    i += 3"
   ]
  },
  {
   "cell_type": "markdown",
   "metadata": {},
   "source": [
    "INCOMPLETE CODE: 4. Summing numbers from 1 to N:"
   ]
  },
  {
   "cell_type": "code",
   "execution_count": 7,
   "metadata": {},
   "outputs": [
    {
     "name": "stdout",
     "output_type": "stream",
     "text": [
      "Sum: 5050\n",
      "Sum: 5050\n"
     ]
    }
   ],
   "source": [
    "# For-loop\n",
    "total = 0\n",
    "N = 100\n",
    "for i in range(N+1):\n",
    "    total += i\n",
    "print(\"Sum:\", total)\n",
    "# While-loop\n",
    "total = 0\n",
    "N = 100\n",
    "i = 1\n",
    "while i <= N:\n",
    "    total += i\n",
    "    i += 1\n",
    "print(\"Sum:\", total)"
   ]
  },
  {
   "cell_type": "markdown",
   "metadata": {},
   "source": [
    "5. Printing elements of a list:"
   ]
  },
  {
   "cell_type": "code",
   "execution_count": 8,
   "metadata": {},
   "outputs": [
    {
     "name": "stdout",
     "output_type": "stream",
     "text": [
      "apple\n",
      "banana\n",
      "cherry\n",
      "orange\n",
      "apple\n",
      "banana\n",
      "cherry\n",
      "orange\n"
     ]
    }
   ],
   "source": [
    "# For-loop\n",
    "fruits = [\"apple\", \"banana\", \"cherry\", \"orange\"]\n",
    "for fruit in fruits:\n",
    "    print(fruit)\n",
    "    \n",
    "# While-loop\n",
    "fruits = [\"apple\", \"banana\", \"cherry\", \"orange\"]\n",
    "index = 0 # position of item in fruits, starting from 0\n",
    "while index < len(fruits):\n",
    "    print(fruits[index])\n",
    "    index += 1"
   ]
  },
  {
   "cell_type": "markdown",
   "metadata": {},
   "source": [
    "6. Printing the factorial of a number:"
   ]
  },
  {
   "cell_type": "code",
   "execution_count": 9,
   "metadata": {},
   "outputs": [
    {
     "name": "stdout",
     "output_type": "stream",
     "text": [
      "Factorial of 5: 120\n",
      "Factorial of 5: 120\n"
     ]
    }
   ],
   "source": [
    "# For-loop\n",
    "num = 5\n",
    "factorial = 1\n",
    "for i in range(1, num + 1):\n",
    "    factorial *= i\n",
    "print(f\"Factorial of {num}: {factorial}\")\n",
    "\n",
    "# While-loop\n",
    "num = 5\n",
    "factorial = 1\n",
    "i = 1\n",
    "while i <= num:\n",
    "    factorial *= i\n",
    "    i += 1\n",
    "print(f\"Factorial of {num}: {factorial}\")"
   ]
  },
  {
   "cell_type": "markdown",
   "metadata": {},
   "source": [
    "7. Calculating the sum of digits of a number:"
   ]
  },
  {
   "cell_type": "code",
   "execution_count": 10,
   "metadata": {},
   "outputs": [
    {
     "name": "stdout",
     "output_type": "stream",
     "text": [
      "Sum of digits: 15\n",
      "Sum of digits: 15\n"
     ]
    }
   ],
   "source": [
    "# For-loop\n",
    "num = 12345\n",
    "sum_of_digits = 0\n",
    "for digit in str(num):\n",
    "    sum_of_digits += int(digit)\n",
    "print(\"Sum of digits:\", sum_of_digits)\n",
    "\n",
    "# While-loop\n",
    "num = 12345\n",
    "sum_of_digits = 0\n",
    "while num > 0:\n",
    "    digit = num % 10\n",
    "    sum_of_digits += digit\n",
    "    num //= 10\n",
    "print(\"Sum of digits:\", sum_of_digits)"
   ]
  },
  {
   "cell_type": "markdown",
   "metadata": {},
   "source": [
    "INCOMPLETE CODE: 8. Reversing a string:"
   ]
  },
  {
   "cell_type": "code",
   "execution_count": 12,
   "metadata": {},
   "outputs": [
    {
     "name": "stdout",
     "output_type": "stream",
     "text": [
      "Reversed: olleh\n"
     ]
    }
   ],
   "source": [
    "# For-loop\n",
    "text = \"hello\"\n",
    "reversed_text = \"\"\n",
    "for char in text:\n",
    "    reversed_text = char + reversed_text\n",
    "print(\"Reversed:\", reversed_text)"
   ]
  },
  {
   "cell_type": "code",
   "execution_count": 18,
   "metadata": {},
   "outputs": [
    {
     "name": "stdout",
     "output_type": "stream",
     "text": [
      "Reversed: olleh\n"
     ]
    }
   ],
   "source": [
    "# While-loop\n",
    "text = \"hello\"\n",
    "reversed_text = \"\"\n",
    "index = len(text) - 1\n",
    "while index >= 0:\n",
    "    reversed_text += text[index]\n",
    "    index -= 1\n",
    "print(\"Reversed:\", reversed_text)"
   ]
  },
  {
   "cell_type": "markdown",
   "metadata": {},
   "source": [
    "INCOMPLETE CODE: 9. Sending personalized emails to a list of recipients:"
   ]
  },
  {
   "cell_type": "code",
   "execution_count": 19,
   "metadata": {},
   "outputs": [
    {
     "name": "stdout",
     "output_type": "stream",
     "text": [
      "Sending email to user1@it.kmitl.ac.th: Subject - Your KMITL Newsletter\n",
      "Sending email to user2@it.kmitl.ac.th: Subject - Your KMITL Newsletter\n",
      "Sending email to user3@it.kmitl.ac.th: Subject - Your KMITL Newsletter\n"
     ]
    }
   ],
   "source": [
    "# For-loop\n",
    "recipients = [\"user1@it.kmitl.ac.th\", \"user2@it.kmitl.ac.th\", \"user3@it.kmitl.ac.th\"]\n",
    "for email in recipients:\n",
    "    print(f\"Sending email to {email}: Subject - Your KMITL Newsletter\")"
   ]
  },
  {
   "cell_type": "code",
   "execution_count": 20,
   "metadata": {},
   "outputs": [
    {
     "name": "stdout",
     "output_type": "stream",
     "text": [
      "Sending email to user1@it.kmitl.ac.th: Subject - Your KMITL Newsletter\n",
      "Sending email to user2@it.kmitl.ac.th: Subject - Your KMITL Newsletter\n",
      "Sending email to user3@it.kmitl.ac.th: Subject - Your KMITL Newsletter\n"
     ]
    }
   ],
   "source": [
    "# While-loop\n",
    "recipients = [\"user1@it.kmitl.ac.th\", \"user2@it.kmitl.ac.th\", \"user3@it.kmitl.ac.th\"]\n",
    "index = 0 # position of item in recipients, starting from 0\n",
    "while index <= 2:\n",
    "    print(f\"Sending email to {recipients[index]}: Subject - Your KMITL Newsletter\")\n",
    "    index += 1"
   ]
  },
  {
   "cell_type": "markdown",
   "metadata": {},
   "source": [
    "1.2 Nested Loops"
   ]
  },
  {
   "cell_type": "markdown",
   "metadata": {},
   "source": [
    "10. Printing nested loops: the outer loop ranges from 0 to 1, and the inner loop ranges\n",
    "from 0 to 2"
   ]
  },
  {
   "cell_type": "code",
   "execution_count": 22,
   "metadata": {},
   "outputs": [
    {
     "name": "stdout",
     "output_type": "stream",
     "text": [
      "Outer Loop is 0 , Inner Loop is 0\n",
      "Outer Loop is 0 , Inner Loop is 1\n",
      "Outer Loop is 0 , Inner Loop is 2\n",
      "Outer Loop is 1 , Inner Loop is 0\n",
      "Outer Loop is 1 , Inner Loop is 1\n",
      "Outer Loop is 1 , Inner Loop is 2\n"
     ]
    }
   ],
   "source": [
    "# For-loop\n",
    "for outerLoop in range(2):\n",
    "    for innerLoop in range(3):\n",
    "        print('Outer Loop is', outerLoop, ', Inner Loop is', innerLoop)"
   ]
  },
  {
   "cell_type": "code",
   "execution_count": 23,
   "metadata": {},
   "outputs": [
    {
     "name": "stdout",
     "output_type": "stream",
     "text": [
      "Outer Loop is 0 , Inner Loop is 0\n",
      "Outer Loop is 0 , Inner Loop is 1\n",
      "Outer Loop is 0 , Inner Loop is 2\n",
      "Outer Loop is 1 , Inner Loop is 0\n",
      "Outer Loop is 1 , Inner Loop is 1\n",
      "Outer Loop is 1 , Inner Loop is 2\n"
     ]
    }
   ],
   "source": [
    "# While-loop\n",
    "outerLoop = 0\n",
    "while outerLoop <= 1:\n",
    "    innerLoop = 0\n",
    "    while innerLoop <= 2:\n",
    "        print('Outer Loop is', outerLoop, ', Inner Loop is', innerLoop)\n",
    "        innerLoop += 1\n",
    "    outerLoop += 1"
   ]
  },
  {
   "cell_type": "markdown",
   "metadata": {},
   "source": [
    "11. Printing multiplication tables from 2 to 3:"
   ]
  },
  {
   "cell_type": "code",
   "execution_count": 24,
   "metadata": {},
   "outputs": [
    {
     "name": "stdout",
     "output_type": "stream",
     "text": [
      "2 x 1 = 2\n",
      "2 x 2 = 4\n",
      "2 x 3 = 6\n",
      "2 x 4 = 8\n",
      "3 x 1 = 3\n",
      "3 x 2 = 6\n",
      "3 x 3 = 9\n",
      "3 x 4 = 12\n"
     ]
    }
   ],
   "source": [
    "# For-loop\n",
    "for num in range(2, 4):\n",
    "    for i in range(1, 5):\n",
    "        print(f\"{num} x {i} = {num * i}\")"
   ]
  },
  {
   "cell_type": "code",
   "execution_count": 25,
   "metadata": {},
   "outputs": [
    {
     "name": "stdout",
     "output_type": "stream",
     "text": [
      "2 x 1 = 2\n",
      "2 x 2 = 4\n",
      "2 x 3 = 6\n",
      "2 x 4 = 8\n",
      "3 x 1 = 3\n",
      "3 x 2 = 6\n",
      "3 x 3 = 9\n",
      "3 x 4 = 12\n"
     ]
    }
   ],
   "source": [
    "# While-loop\n",
    "num = 2\n",
    "while num <= 3:\n",
    "    i = 1\n",
    "    while i <= 4:\n",
    "        print(f\"{num} x {i} = {num * i}\")\n",
    "        i += 1\n",
    "    num += 1"
   ]
  },
  {
   "cell_type": "markdown",
   "metadata": {},
   "source": [
    "INCOMPLETE CODE: 12. Printing star pattern"
   ]
  },
  {
   "cell_type": "code",
   "execution_count": 26,
   "metadata": {},
   "outputs": [
    {
     "name": "stdout",
     "output_type": "stream",
     "text": [
      "*\n",
      "**\n",
      "***\n",
      "****\n",
      "*****\n"
     ]
    }
   ],
   "source": [
    "# For-loop\n",
    "for i in range(5):\n",
    "    for j in range(i+1):\n",
    "        print(\"*\", end=\"\")\n",
    "    print()"
   ]
  },
  {
   "cell_type": "code",
   "execution_count": 31,
   "metadata": {},
   "outputs": [
    {
     "name": "stdout",
     "output_type": "stream",
     "text": [
      "*\n",
      "**\n",
      "***\n",
      "****\n",
      "*****\n"
     ]
    }
   ],
   "source": [
    "# While-loop\n",
    "i = 1\n",
    "while i <= 5:\n",
    "    j = 1\n",
    "    while j <= i:\n",
    "        print(\"*\", end=\"\")\n",
    "        j += 1\n",
    "    print()\n",
    "    i += 1"
   ]
  }
 ],
 "metadata": {
  "kernelspec": {
   "display_name": "Python 3",
   "language": "python",
   "name": "python3"
  },
  "language_info": {
   "codemirror_mode": {
    "name": "ipython",
    "version": 3
   },
   "file_extension": ".py",
   "mimetype": "text/x-python",
   "name": "python",
   "nbconvert_exporter": "python",
   "pygments_lexer": "ipython3",
   "version": "3.12.4"
  }
 },
 "nbformat": 4,
 "nbformat_minor": 2
}
