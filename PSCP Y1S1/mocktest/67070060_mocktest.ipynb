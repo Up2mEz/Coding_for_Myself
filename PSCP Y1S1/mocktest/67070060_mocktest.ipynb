{
 "cells": [
  {
   "cell_type": "markdown",
   "metadata": {},
   "source": [
    "Before you turn this problem in, make sure everything runs as expected. First, **restart the kernel** (in the menubar, select Kernel$\\rightarrow$Restart) and then **run all cells** (in the menubar, select Cell$\\rightarrow$Run All).\n",
    "\n",
    "Make sure you fill in any place that says `YOUR CODE HERE` or \"YOUR ANSWER HERE\"."
   ]
  },
  {
   "cell_type": "markdown",
   "metadata": {},
   "source": [
    "# SECTION 2 ONLY\n",
    "Name = \"Thanakrit Samoena\"\n",
    "\n",
    "Student ID = \"67070060\""
   ]
  },
  {
   "cell_type": "markdown",
   "metadata": {},
   "source": [
    "# <mark>Mock Final Exam เพื่อเตรียมความพร้อมก่อนสอบ (ได้คะแนนเต็มทุกคน (ถ้าส่ง)) </mark>\n",
    "\n",
    "- <mark>**Write you codes after `# YOUR CODE HERE`**</mark>\n",
    "- <mark>**ห้าม Import library อื่น ๆ นอกจาก `numpy`**</mark>"
   ]
  },
  {
   "cell_type": "code",
   "execution_count": 235,
   "metadata": {},
   "outputs": [],
   "source": [
    "import numpy as np"
   ]
  },
  {
   "cell_type": "markdown",
   "metadata": {},
   "source": [
    "---\n",
    "## (5 คะแนน) <mark>Exercise #1 (Easy): **นับเลข คู่ (Even) และ คี่ (Odd)** จาก `list` ตัวเลขที่กำหนด</mark>\n",
    "\n",
    "- เขียนฟังก์ชัน `count_even_odd(numbers)` โดยมีเงื่อนไขดังนี้\n",
    "  1) ฟังก์ชันนี้จะรับพารามิเตอร์เป็น `list` ของตัวเลข (`int`)\n",
    "  2) นับจำนวนเลขคู่ (even) และเลขคี่ (odd) ใน `list`\n",
    "  3) Return ผลลัพธ์เป็น `dict` ที่มี **key** `'even'` และ `'odd'` แสดง***จำนวน***เลขคู่และเลขคี่ตามลำดับ\n",
    "\n",
    "- เช่น\n",
    "    - `count_even_odd([1, 2, 3, 4, 5])` จะ return `{'even': 2, 'odd': 3}`\n",
    "    - `count_even_odd([10, 15, 20, 25, 30])` จะ return `{'even': 3, 'odd': 2}`"
   ]
  },
  {
   "cell_type": "code",
   "execution_count": 236,
   "metadata": {
    "deletable": false,
    "nbgrader": {
     "cell_type": "code",
     "checksum": "5be3e44385198f93ec8e56156203d05f",
     "grade": false,
     "grade_id": "cell-b385a4f87b16abdc",
     "locked": false,
     "schema_version": 3,
     "solution": true,
     "task": false
    },
    "tags": []
   },
   "outputs": [],
   "source": [
    "def count_even_odd(numbers):\n",
    "    # YOUR CODE HERE\n",
    "    num = {'even' : 0, 'odd' : 0}\n",
    "    for i in numbers:\n",
    "        if i % 2 == 0:\n",
    "            num['even'] += 1\n",
    "        else:\n",
    "            num['odd'] += 1\n",
    "    return num"
   ]
  },
  {
   "cell_type": "markdown",
   "metadata": {},
   "source": [
    "<mark>DO NOT CHANGE THE FOLLOWING LINES</mark>"
   ]
  },
  {
   "cell_type": "code",
   "execution_count": 237,
   "metadata": {
    "deletable": false,
    "editable": false,
    "nbgrader": {
     "cell_type": "code",
     "checksum": "179bb9074fd840c70b97cdb6c3f807f8",
     "grade": true,
     "grade_id": "cell-70b2242df256dab7",
     "locked": true,
     "points": 0.5,
     "schema_version": 3,
     "solution": false,
     "task": false
    },
    "tags": []
   },
   "outputs": [],
   "source": [
    "# Case 1\n",
    "assert count_even_odd([1, 2, 3, 4, 5]) == {'even': 2, 'odd': 3}"
   ]
  },
  {
   "cell_type": "code",
   "execution_count": 238,
   "metadata": {
    "deletable": false,
    "editable": false,
    "nbgrader": {
     "cell_type": "code",
     "checksum": "9d05db7328714e85ab2540a283089224",
     "grade": true,
     "grade_id": "cell-62ef87c26b10a9df",
     "locked": true,
     "points": 0.5,
     "schema_version": 3,
     "solution": false,
     "task": false
    },
    "tags": []
   },
   "outputs": [],
   "source": [
    "# Case 2\n",
    "assert count_even_odd([10, 15, 20, 25, 30]) == {'even': 3, 'odd': 2}"
   ]
  },
  {
   "cell_type": "code",
   "execution_count": 239,
   "metadata": {
    "deletable": false,
    "editable": false,
    "nbgrader": {
     "cell_type": "code",
     "checksum": "fecf5db95a18caa186fa17f4512b7f30",
     "grade": true,
     "grade_id": "cell-aedd81c194858443",
     "locked": true,
     "points": 0.5,
     "schema_version": 3,
     "solution": false,
     "task": false
    },
    "tags": []
   },
   "outputs": [],
   "source": [
    "# Case 3\n",
    "assert count_even_odd([0, -1, -2, -3, -4]) == {'even': 3, 'odd': 2}"
   ]
  },
  {
   "cell_type": "code",
   "execution_count": 240,
   "metadata": {
    "deletable": false,
    "editable": false,
    "nbgrader": {
     "cell_type": "code",
     "checksum": "d050c07ca850bcb549c152a5a842a4aa",
     "grade": true,
     "grade_id": "cell-0399901ffb0f963a",
     "locked": true,
     "points": 0.5,
     "schema_version": 3,
     "solution": false,
     "task": false
    },
    "tags": []
   },
   "outputs": [],
   "source": [
    "# Case 4\n",
    "assert count_even_odd([5, 7, 9]) == {'even': 0, 'odd': 3}"
   ]
  },
  {
   "cell_type": "code",
   "execution_count": 241,
   "metadata": {
    "deletable": false,
    "editable": false,
    "nbgrader": {
     "cell_type": "code",
     "checksum": "3b8191b58754aa422976f29d76626f8a",
     "grade": true,
     "grade_id": "cell-3e94dd5f44647502",
     "locked": true,
     "points": 0.5,
     "schema_version": 3,
     "solution": false,
     "task": false
    },
    "tags": []
   },
   "outputs": [],
   "source": [
    "# Case 5\n",
    "assert count_even_odd([2, 4, 6, 8]) == {'even': 4, 'odd': 0}"
   ]
  },
  {
   "cell_type": "code",
   "execution_count": 242,
   "metadata": {
    "deletable": false,
    "editable": false,
    "nbgrader": {
     "cell_type": "code",
     "checksum": "e0a58b3abd0e51e773b1291935743ebf",
     "grade": true,
     "grade_id": "cell-e5aa41b3213e22ad",
     "locked": true,
     "points": 0.5,
     "schema_version": 3,
     "solution": false,
     "task": false
    },
    "tags": []
   },
   "outputs": [],
   "source": [
    "# Case 6\n",
    "assert count_even_odd([1,2,-9,3,5,8,22,-6,4,3]) == {'even': 5, 'odd': 5}"
   ]
  },
  {
   "cell_type": "code",
   "execution_count": 243,
   "metadata": {
    "deletable": false,
    "editable": false,
    "nbgrader": {
     "cell_type": "code",
     "checksum": "43042d1a6557c827059c024cdaa92284",
     "grade": true,
     "grade_id": "cell-b665e0bf2c00ba49",
     "locked": true,
     "points": 0.5,
     "schema_version": 3,
     "solution": false,
     "task": false
    },
    "tags": []
   },
   "outputs": [],
   "source": [
    "# Case 7\n",
    "assert count_even_odd([-2, 1, 3, 4]) == {'even': 2, 'odd': 2}"
   ]
  },
  {
   "cell_type": "code",
   "execution_count": 244,
   "metadata": {
    "deletable": false,
    "editable": false,
    "nbgrader": {
     "cell_type": "code",
     "checksum": "5432d7755c2ba90d8c4c6b18f1495e82",
     "grade": true,
     "grade_id": "cell-0802a5ac44c9374f",
     "locked": true,
     "points": 0.5,
     "schema_version": 3,
     "solution": false,
     "task": false
    },
    "tags": []
   },
   "outputs": [],
   "source": [
    "# Case 8\n",
    "assert count_even_odd([2, 5, 8, 13, 21, 34]) == {'even': 3, 'odd': 3}"
   ]
  },
  {
   "cell_type": "code",
   "execution_count": 245,
   "metadata": {
    "deletable": false,
    "editable": false,
    "nbgrader": {
     "cell_type": "code",
     "checksum": "f049c94d7dd4449cf9888dd787391f98",
     "grade": true,
     "grade_id": "cell-0c8d5c2edec55249",
     "locked": true,
     "points": 0.5,
     "schema_version": 3,
     "solution": false,
     "task": false
    },
    "tags": []
   },
   "outputs": [],
   "source": [
    "# Case 9\n",
    "assert count_even_odd([100, 200, 300]) == {'even': 3, 'odd': 0}"
   ]
  },
  {
   "cell_type": "code",
   "execution_count": 246,
   "metadata": {
    "deletable": false,
    "editable": false,
    "nbgrader": {
     "cell_type": "code",
     "checksum": "ba32f43f011f03917cbb006f02bf58cb",
     "grade": true,
     "grade_id": "cell-f7e8a9b8794e6674",
     "locked": true,
     "points": 0.5,
     "schema_version": 3,
     "solution": false,
     "task": false
    },
    "tags": []
   },
   "outputs": [],
   "source": [
    "# Case 10\n",
    "assert count_even_odd([-10, -5, -20, 0]) == {'even': 3, 'odd': 1}"
   ]
  },
  {
   "cell_type": "markdown",
   "metadata": {},
   "source": [
    "---\n",
    "## (5 คะแนน) <mark>Exercise #2 (Easy): **วิเคราะห์ตัวเลขจาก Text ไฟล์ที่่กำหนด**</mark>\n",
    "\n",
    "- เขียนฟังก์ชัน `analyze_integer_file(filename)` โดยมีเงื่อนไขดังนี้\n",
    "  1) ฟังก์ชันนี้จะรับพารามิเตอร์เป็นชื่อไฟล์ (string) ที่ต้องการอ่าน\n",
    "  2) เปิดไฟล์และอ่านจำนวนเต็มทุกบรรทัดจากไฟล์\n",
    "  3) ฟังก์ชันจะทำการ return ค่าต่าง ๆ ในรูปของ `list` ดังนี้\n",
    "     - ค่า max\n",
    "     - ค่า min\n",
    "     - จำนวนตัวเลข\n",
    "\n",
    "- เช่นหากไฟล์ `integers.txt` มีตัวเลข `10 20 30 40 50` ฟังก์ชัน `analyze_integer_file('integers.txt')` จะ return เป็น `[10, 50, 5]`"
   ]
  },
  {
   "cell_type": "code",
   "execution_count": 247,
   "metadata": {
    "deletable": false,
    "nbgrader": {
     "cell_type": "code",
     "checksum": "7401ec6197aab75938d00b326315e4f3",
     "grade": false,
     "grade_id": "cell-1d0572a17c6c1c83",
     "locked": false,
     "schema_version": 3,
     "solution": true,
     "task": false
    },
    "tags": []
   },
   "outputs": [],
   "source": [
    "def analyze_integer_file(filename):\n",
    "    # YOUR CODE HERE\n",
    "    li = []\n",
    "    with open(filename , mode=\"r\") as f:\n",
    "        for i in f:\n",
    "          li.append(int(i))\n",
    "    print(li)\n",
    "    return [min(li),max(li),len(li)]       "
   ]
  },
  {
   "cell_type": "markdown",
   "metadata": {},
   "source": [
    "<mark>DO NOT CHANGE THE FOLLOWING LINES</mark>"
   ]
  },
  {
   "cell_type": "code",
   "execution_count": 248,
   "metadata": {
    "deletable": false,
    "editable": false,
    "nbgrader": {
     "cell_type": "code",
     "checksum": "18cec1e770d816cd8050df8ce8bf4fa3",
     "grade": true,
     "grade_id": "cell-5f2011a95bf9daa0",
     "locked": true,
     "points": 1,
     "schema_version": 3,
     "solution": false,
     "task": false
    },
    "tags": []
   },
   "outputs": [
    {
     "name": "stdout",
     "output_type": "stream",
     "text": [
      "[22, 35, 18, 27, 14, 30, 10, 5, 9, 24, 21]\n"
     ]
    }
   ],
   "source": [
    "# Case 1\n",
    "assert analyze_integer_file('number_1.txt') == [5, 35, 11]"
   ]
  },
  {
   "cell_type": "code",
   "execution_count": 249,
   "metadata": {
    "deletable": false,
    "editable": false,
    "nbgrader": {
     "cell_type": "code",
     "checksum": "f10dc0ce3201c318fdfd7e92829b58e6",
     "grade": true,
     "grade_id": "cell-7646ee386a204c6f",
     "locked": true,
     "points": 1,
     "schema_version": 3,
     "solution": false,
     "task": false
    },
    "tags": []
   },
   "outputs": [
    {
     "name": "stdout",
     "output_type": "stream",
     "text": [
      "[4, 15, 23, 7, 1, 12, 29, 3, 19, 10, 22, 17, 16]\n"
     ]
    }
   ],
   "source": [
    "# Case 2\n",
    "assert analyze_integer_file('number_2.txt') == [1, 29, 13]"
   ]
  },
  {
   "cell_type": "code",
   "execution_count": 250,
   "metadata": {
    "deletable": false,
    "editable": false,
    "nbgrader": {
     "cell_type": "code",
     "checksum": "1cf539b9691414ef9d5800f7f370f41b",
     "grade": true,
     "grade_id": "cell-2aee25a8fd295ae1",
     "locked": true,
     "points": 1,
     "schema_version": 3,
     "solution": false,
     "task": false
    },
    "tags": []
   },
   "outputs": [
    {
     "name": "stdout",
     "output_type": "stream",
     "text": [
      "[45, 32, 19, 50, 11, 25, 38, 14, 5, 8, 27]\n"
     ]
    }
   ],
   "source": [
    "# Case 3\n",
    "assert analyze_integer_file('number_3.txt') == [5, 50, 11]"
   ]
  },
  {
   "cell_type": "code",
   "execution_count": 251,
   "metadata": {
    "deletable": false,
    "editable": false,
    "nbgrader": {
     "cell_type": "code",
     "checksum": "8a6a33af1c4a140bacc4d45f3574beea",
     "grade": true,
     "grade_id": "cell-2078565bbcc614ca",
     "locked": true,
     "points": 1,
     "schema_version": 3,
     "solution": false,
     "task": false
    },
    "tags": []
   },
   "outputs": [
    {
     "name": "stdout",
     "output_type": "stream",
     "text": [
      "[6, 13, 9, 16, 2, 8, 17, 10, 12, 15, 4, 1]\n"
     ]
    }
   ],
   "source": [
    "# Case 4\n",
    "assert analyze_integer_file('number_4.txt') == [1, 17, 12]"
   ]
  },
  {
   "cell_type": "code",
   "execution_count": 252,
   "metadata": {
    "deletable": false,
    "editable": false,
    "nbgrader": {
     "cell_type": "code",
     "checksum": "9c71d1c8c7621714a9a2c7dac2b3b536",
     "grade": true,
     "grade_id": "cell-debe0ab68eb58de0",
     "locked": true,
     "points": 1,
     "schema_version": 3,
     "solution": false,
     "task": false
    },
    "tags": []
   },
   "outputs": [
    {
     "name": "stdout",
     "output_type": "stream",
     "text": [
      "[5, 12, 19, 3, 7, 14, 8, 11, 1, 6]\n"
     ]
    }
   ],
   "source": [
    "# Case 5\n",
    "assert analyze_integer_file('number_5.txt') == [1, 19, 10]"
   ]
  },
  {
   "cell_type": "markdown",
   "metadata": {},
   "source": [
    "---\n",
    "## (5 คะแนน)  <mark>Exercise #3 (Easy): **แยกเลขคู่ (Even) หรือ คี่ (Odd) จาก `list` ที่กำหนด**</mark>\n",
    "\n",
    "- เขียนฟังก์ชัน `extract_values()` ที่รับพารามิเตอร์ 2 ค่า คือ \n",
    "  1) `list` ของเลข integers\n",
    "  2) สตริงที่ระบุเงื่อนไขการแยกกลุ่มตัวเลข `'even'` หรือ `'odd'`  \n",
    "- ฟังก์ชันนี้จะทำการแยกตัวเลขทั้งหมดที่เป็น **เลขคู่ (even)** หรือ **เลขคี่ (odd)** ตามที่ผู้ใช้เลือก ตามเงื่อนไขดังนี้\n",
    "    1) หากผู้ใช้เลือก `'even'` ให้ return `list` ที่ประกอบด้วยตัวเลขคู่ทั้งหมดจาก `list` ของ input\n",
    "    2) หากผู้ใช้เลือก `'odd'` ให้ return `list` ที่ประกอบด้วยตัวเลขคี่ทั้งหมดจาก `list` ของ input\n",
    "    3) หากพารามิเตอร์เป็นค่าว่าง หรือเลือกค่าอื่นที่ไม่ใช่ `'even'` หรือ `'odd'` ให้คืนสตริงว่า `\"Invalid selection.\"`\n",
    "    \n",
    "- ตัวอย่างเช่น:\n",
    "    - `extract_values([1, 2, 3, 5, 7, 8, 9], 'even')` จะคืนค่า `[2, 8]`\n",
    "    - `extract_values([1, 2, 3, 5, 7, 8, 9], 'odd')` จะคืนค่า `[1, 3, 5, 7, 9]`\n",
    "    - `extract_values([1, 2, 3, 5, 7, 8, 9], 'invalid')` จะคืนค่า `\"Invalid selection.\"`"
   ]
  },
  {
   "cell_type": "code",
   "execution_count": 253,
   "metadata": {
    "deletable": false,
    "nbgrader": {
     "cell_type": "code",
     "checksum": "d0e646ec73ebfaf41ad0519e27c7a578",
     "grade": false,
     "grade_id": "cell-a60b33c3768b3c6e",
     "locked": false,
     "schema_version": 3,
     "solution": true,
     "task": false
    },
    "tags": []
   },
   "outputs": [],
   "source": [
    "def extract_values(original_list, selection):\n",
    "    # YOUR CODE HERE\n",
    "    ans = []\n",
    "    if selection == \"even\":\n",
    "        for i in original_list:\n",
    "            if i % 2 == 0:\n",
    "                ans.append(i)\n",
    "        return ans\n",
    "    elif selection == \"odd\":\n",
    "        for i in original_list:\n",
    "            if i % 2:\n",
    "                ans.append(i)\n",
    "        return ans\n",
    "    else:\n",
    "        return \"Invalid selection.\""
   ]
  },
  {
   "cell_type": "markdown",
   "metadata": {},
   "source": [
    "<mark>DO NOT CHANGE THE FOLLOWING LINES</mark>"
   ]
  },
  {
   "cell_type": "code",
   "execution_count": 254,
   "metadata": {
    "deletable": false,
    "editable": false,
    "nbgrader": {
     "cell_type": "code",
     "checksum": "d68d0cfeceea94d9dcf9f4114ad24bf4",
     "grade": true,
     "grade_id": "cell-aeb5df92b8fbddf6",
     "locked": true,
     "points": 0.5,
     "schema_version": 3,
     "solution": false,
     "task": false
    },
    "tags": []
   },
   "outputs": [],
   "source": [
    "# Case 1\n",
    "assert extract_values([1, 2, 3, 5, 7, 8, 9], 'even') == [2, 8]"
   ]
  },
  {
   "cell_type": "code",
   "execution_count": 255,
   "metadata": {
    "deletable": false,
    "editable": false,
    "nbgrader": {
     "cell_type": "code",
     "checksum": "99b38283456acd6e49883d1525aef91f",
     "grade": true,
     "grade_id": "cell-b49c116608a72628",
     "locked": true,
     "points": 0.5,
     "schema_version": 3,
     "solution": false,
     "task": false
    },
    "tags": []
   },
   "outputs": [],
   "source": [
    "# Case 2\n",
    "assert extract_values([1, 2, 3, 5, 7, 8, 9], 'odd') == [1, 3, 5, 7, 9]"
   ]
  },
  {
   "cell_type": "code",
   "execution_count": 256,
   "metadata": {
    "deletable": false,
    "editable": false,
    "nbgrader": {
     "cell_type": "code",
     "checksum": "a380ddb5562cd31850ce8c4088c5c96d",
     "grade": true,
     "grade_id": "cell-310f13f5d3bd6449",
     "locked": true,
     "points": 0.5,
     "schema_version": 3,
     "solution": false,
     "task": false
    },
    "tags": []
   },
   "outputs": [],
   "source": [
    "# Case 3\n",
    "assert extract_values([1, 2, 3, 5, 7, 8, 9], 'invalid') == \"Invalid selection.\""
   ]
  },
  {
   "cell_type": "code",
   "execution_count": 257,
   "metadata": {
    "deletable": false,
    "editable": false,
    "nbgrader": {
     "cell_type": "code",
     "checksum": "dee5ff62228b047e212858ca87ed1aba",
     "grade": true,
     "grade_id": "cell-a01dcd26e2e1e288",
     "locked": true,
     "points": 0.5,
     "schema_version": 3,
     "solution": false,
     "task": false
    },
    "tags": []
   },
   "outputs": [],
   "source": [
    "# Case 4\n",
    "assert extract_values([2, 4, 6, 8, 10, 12, 14, 16, 18, 20], 'even') == [2, 4, 6, 8, 10, 12, 14, 16, 18, 20]"
   ]
  },
  {
   "cell_type": "code",
   "execution_count": 258,
   "metadata": {
    "deletable": false,
    "editable": false,
    "nbgrader": {
     "cell_type": "code",
     "checksum": "a8cf52babb15eabd8d78288071679d9c",
     "grade": true,
     "grade_id": "cell-4dd17b2e440d5b17",
     "locked": true,
     "points": 0.5,
     "schema_version": 3,
     "solution": false,
     "task": false
    },
    "tags": []
   },
   "outputs": [],
   "source": [
    "# Case 5\n",
    "assert extract_values([1, 1, 1, 1, 1, 1, 1, 1], 'even') == []"
   ]
  },
  {
   "cell_type": "code",
   "execution_count": 259,
   "metadata": {
    "deletable": false,
    "editable": false,
    "nbgrader": {
     "cell_type": "code",
     "checksum": "721348b04a5ad9876f989b933035c4d6",
     "grade": true,
     "grade_id": "cell-aa10302450069f7a",
     "locked": true,
     "points": 0.5,
     "schema_version": 3,
     "solution": false,
     "task": false
    },
    "tags": []
   },
   "outputs": [],
   "source": [
    "# Case 6:\n",
    "assert extract_values([42], 'even') == [42]"
   ]
  },
  {
   "cell_type": "code",
   "execution_count": 260,
   "metadata": {
    "deletable": false,
    "editable": false,
    "nbgrader": {
     "cell_type": "code",
     "checksum": "7cde88fde3ab9de814b7f7ee3186b649",
     "grade": true,
     "grade_id": "cell-8cc805557f9611e8",
     "locked": true,
     "points": 0.5,
     "schema_version": 3,
     "solution": false,
     "task": false
    },
    "tags": []
   },
   "outputs": [],
   "source": [
    "# Case 7\n",
    "assert extract_values([-10, -3, -5, 6, 7, 0], 'odd') == [-3, -5, 7]"
   ]
  },
  {
   "cell_type": "code",
   "execution_count": 261,
   "metadata": {
    "deletable": false,
    "editable": false,
    "nbgrader": {
     "cell_type": "code",
     "checksum": "a39ce728bcc500a5d4f5c0857f7baf54",
     "grade": true,
     "grade_id": "cell-60c5d57e8d84cf1d",
     "locked": true,
     "points": 0.5,
     "schema_version": 3,
     "solution": false,
     "task": false
    },
    "tags": []
   },
   "outputs": [],
   "source": [
    "# Case 8\n",
    "assert extract_values([-2, 2, -2, 2, -2, 2], 'odd') == []"
   ]
  },
  {
   "cell_type": "code",
   "execution_count": 262,
   "metadata": {
    "deletable": false,
    "editable": false,
    "nbgrader": {
     "cell_type": "code",
     "checksum": "83dc99d4b250018baaae00567dd021c4",
     "grade": true,
     "grade_id": "cell-2989513bf03a5b13",
     "locked": true,
     "points": 0.5,
     "schema_version": 3,
     "solution": false,
     "task": false
    },
    "tags": []
   },
   "outputs": [],
   "source": [
    "# Case 9\n",
    "assert extract_values(list(range(20)), 'odd') == [1, 3, 5, 7, 9, 11, 13, 15, 17, 19]"
   ]
  },
  {
   "cell_type": "code",
   "execution_count": 263,
   "metadata": {
    "deletable": false,
    "editable": false,
    "nbgrader": {
     "cell_type": "code",
     "checksum": "6a848359d9029ef8a4439857656576f5",
     "grade": true,
     "grade_id": "cell-d7fe54d03fd7d847",
     "locked": true,
     "points": 0.5,
     "schema_version": 3,
     "solution": false,
     "task": false
    },
    "tags": []
   },
   "outputs": [],
   "source": [
    "# Case 10\n",
    "assert extract_values([100, 201, 300, 404, 505, 606, 707, 808, 909, 1000], 'even') == [100, 300, 404, 606, 808, 1000]"
   ]
  },
  {
   "cell_type": "markdown",
   "metadata": {},
   "source": [
    "---\n",
    "## (5 คะแนน)  <mark>Exercise #4 (Easy): **การจัดการ Error ด้วย Try/Except**</mark>\n",
    "\n",
    "- เขียนฟังก์ชัน `divide_by_user_input()` ที่มีเงื่อนไขดังนี้\n",
    "  1) ฟังก์ชันนี้จะรับ input จำนวน 1 ตัว\n",
    "  2) ทำการหาร input ด้วยจำนวน `100`\n",
    "  3) หากผู้ใช้ป้อนค่า `0` ให้แสดงข้อความว่า `\"Cannot divide by zero.\"`\n",
    "  4) หากผู้ใช้ป้อนค่าที่ไม่ใช่จำนวนเต็ม (เช่น ตัวอักษร) ให้แสดงข้อความว่า `\"Invalid input. Please enter a number.\"`\n",
    "  \n",
    "- เช่น\n",
    "  - ถ้าผู้ใช้ป้อน `4` จะได้ผลลัพธ์ว่า `100 / 4 = 25.0`\n",
    "  - ถ้าผู้ใช้ป้อน `0` จะได้ผลลัพธ์ว่า `\"Cannot divide by zero.\"`\n",
    "  - ถ้าผู้ใช้ป้อน `abc` จะได้ผลลัพธ์ว่า `\"Invalid input. Please enter a number.\"`"
   ]
  },
  {
   "cell_type": "code",
   "execution_count": 264,
   "metadata": {
    "deletable": false,
    "nbgrader": {
     "cell_type": "code",
     "checksum": "20eb4fc74be4165de68b9eae7e66e690",
     "grade": false,
     "grade_id": "cell-b27bd436b8c16bf7",
     "locked": false,
     "schema_version": 3,
     "solution": true,
     "task": false
    },
    "tags": []
   },
   "outputs": [],
   "source": [
    "def divide_by_user_input(user_input):\n",
    "    # YOUR CODE HERE\n",
    "    try:  \n",
    "        result = 100/user_input\n",
    "    except TypeError:\n",
    "        return \"Invalid input. Please enter a number.\"\n",
    "    except ZeroDivisionError:\n",
    "        return \"Cannot divide by zero.\"\n",
    "    else:\n",
    "        return f\"100 / {user_input} = {result}\"\n"
   ]
  },
  {
   "cell_type": "markdown",
   "metadata": {},
   "source": [
    "<mark>DO NOT CHANGE THE FOLLOWING LINES</mark>"
   ]
  },
  {
   "cell_type": "code",
   "execution_count": 265,
   "metadata": {
    "deletable": false,
    "editable": false,
    "nbgrader": {
     "cell_type": "code",
     "checksum": "cddcdc2eae34f43b2c1c3a20cc79a8b6",
     "grade": true,
     "grade_id": "cell-a20d4ee6cbab7b2f",
     "locked": true,
     "points": 0.5,
     "schema_version": 3,
     "solution": false,
     "task": false
    },
    "tags": []
   },
   "outputs": [],
   "source": [
    "# Case 1\n",
    "assert divide_by_user_input(4) == \"100 / 4 = 25.0\""
   ]
  },
  {
   "cell_type": "code",
   "execution_count": 266,
   "metadata": {
    "deletable": false,
    "editable": false,
    "nbgrader": {
     "cell_type": "code",
     "checksum": "0fdfb0a44667b576a5ab230cb8d6b32c",
     "grade": true,
     "grade_id": "cell-9cf58c902673425e",
     "locked": true,
     "points": 0.5,
     "schema_version": 3,
     "solution": false,
     "task": false
    },
    "tags": []
   },
   "outputs": [],
   "source": [
    "# Case 2\n",
    "assert divide_by_user_input(10) == \"100 / 10 = 10.0\""
   ]
  },
  {
   "cell_type": "code",
   "execution_count": 267,
   "metadata": {
    "deletable": false,
    "editable": false,
    "nbgrader": {
     "cell_type": "code",
     "checksum": "06a983dae1be91a5a8eb69e1c5e11076",
     "grade": true,
     "grade_id": "cell-15aa7364f61f893d",
     "locked": true,
     "points": 0.5,
     "schema_version": 3,
     "solution": false,
     "task": false
    },
    "tags": []
   },
   "outputs": [],
   "source": [
    "# Case 3\n",
    "assert divide_by_user_input(0) == \"Cannot divide by zero.\""
   ]
  },
  {
   "cell_type": "code",
   "execution_count": 268,
   "metadata": {
    "deletable": false,
    "editable": false,
    "nbgrader": {
     "cell_type": "code",
     "checksum": "7b78100815601e5fa6901431a864de99",
     "grade": true,
     "grade_id": "cell-3e6d40ea4de67ab3",
     "locked": true,
     "points": 0.5,
     "schema_version": 3,
     "solution": false,
     "task": false
    },
    "tags": []
   },
   "outputs": [],
   "source": [
    "# Case 4\n",
    "assert divide_by_user_input('abc') == \"Invalid input. Please enter a number.\""
   ]
  },
  {
   "cell_type": "code",
   "execution_count": 269,
   "metadata": {
    "deletable": false,
    "editable": false,
    "nbgrader": {
     "cell_type": "code",
     "checksum": "8ba9c2291c47f23fd8f3c47838732a27",
     "grade": true,
     "grade_id": "cell-2cb0c4faabb9fd1a",
     "locked": true,
     "points": 0.5,
     "schema_version": 3,
     "solution": false,
     "task": false
    },
    "tags": []
   },
   "outputs": [],
   "source": [
    "# Case 5\n",
    "assert divide_by_user_input(-5) == \"100 / -5 = -20.0\""
   ]
  },
  {
   "cell_type": "code",
   "execution_count": 270,
   "metadata": {
    "deletable": false,
    "editable": false,
    "nbgrader": {
     "cell_type": "code",
     "checksum": "0cd8e5e7f55ac55dd30270b35c489216",
     "grade": true,
     "grade_id": "cell-58daac4286ff7059",
     "locked": true,
     "points": 0.5,
     "schema_version": 3,
     "solution": false,
     "task": false
    },
    "tags": []
   },
   "outputs": [],
   "source": [
    "# Case 6\n",
    "assert divide_by_user_input(2.5) == \"100 / 2.5 = 40.0\""
   ]
  },
  {
   "cell_type": "code",
   "execution_count": 271,
   "metadata": {
    "deletable": false,
    "editable": false,
    "nbgrader": {
     "cell_type": "code",
     "checksum": "bf4d99fed9fd7fbc1173a2ade9819eaa",
     "grade": true,
     "grade_id": "cell-e771579c771628a2",
     "locked": true,
     "points": 0.5,
     "schema_version": 3,
     "solution": false,
     "task": false
    },
    "tags": []
   },
   "outputs": [],
   "source": [
    "# Case 7\n",
    "assert divide_by_user_input(1000) == \"100 / 1000 = 0.1\""
   ]
  },
  {
   "cell_type": "code",
   "execution_count": 272,
   "metadata": {
    "deletable": false,
    "editable": false,
    "nbgrader": {
     "cell_type": "code",
     "checksum": "42795199e5759373c5212343f4109359",
     "grade": true,
     "grade_id": "cell-a7109663728e7d65",
     "locked": true,
     "points": 0.5,
     "schema_version": 3,
     "solution": false,
     "task": false
    },
    "tags": []
   },
   "outputs": [],
   "source": [
    "# Case 8\n",
    "assert divide_by_user_input(1) == \"100 / 1 = 100.0\""
   ]
  },
  {
   "cell_type": "code",
   "execution_count": 273,
   "metadata": {
    "deletable": false,
    "editable": false,
    "nbgrader": {
     "cell_type": "code",
     "checksum": "46aa66b8aedb84e758c2b0279a1a9908",
     "grade": true,
     "grade_id": "cell-76aaed0c1329cdc2",
     "locked": true,
     "points": 0.5,
     "schema_version": 3,
     "solution": false,
     "task": false
    },
    "tags": []
   },
   "outputs": [],
   "source": [
    "# Case 9\n",
    "assert divide_by_user_input(999) == \"100 / 999 = 0.1001001001001001\""
   ]
  },
  {
   "cell_type": "code",
   "execution_count": 274,
   "metadata": {
    "deletable": false,
    "editable": false,
    "nbgrader": {
     "cell_type": "code",
     "checksum": "28bf8ecc7cc6795990a7a50eb917e610",
     "grade": true,
     "grade_id": "cell-86f0113b4566067c",
     "locked": true,
     "points": 0.5,
     "schema_version": 3,
     "solution": false,
     "task": false
    },
    "tags": []
   },
   "outputs": [],
   "source": [
    "# Case 10\n",
    "assert divide_by_user_input(10000000) == \"100 / 10000000 = 1e-05\""
   ]
  },
  {
   "cell_type": "markdown",
   "metadata": {},
   "source": [
    "---\n",
    "## (5 คะแนน)  <mark>Exercise #5 (Easy): **การจัดการ String**</mark>\n",
    "\n",
    "- เขียนฟังก์ชัน `reverse_and_upperCase()` ตามเงื่อนไขต่อไปนี้\n",
    "  1) ฟังก์ชันนี้จะรับพารามิเตอร์เป็นสตริง 1 จำนวน\n",
    "  2) ทำการกลับทิศทางของสตริง (reverse)\n",
    "  3) แปลงสตริงที่กลับทิศทางแล้วให้เป็นตัวพิมพ์ใหญ่ (Upper Case)\n",
    "  4) Return ค่าสตริงใหม่เป็นผลลัพธ์ของฟังก์ชัน\n",
    "- เช่น\n",
    "  - `reverse_and_upperCase('Hello World!')` จะได้ `'!DLROW OLLEH'`\n",
    "  - `reverse_and_upperCase('Python')` จะได้ `'NOHTYP'`"
   ]
  },
  {
   "cell_type": "code",
   "execution_count": 275,
   "metadata": {
    "deletable": false,
    "nbgrader": {
     "cell_type": "code",
     "checksum": "255f25db3bba833c3070ad8a1aebe556",
     "grade": false,
     "grade_id": "cell-7427492f5698053f",
     "locked": false,
     "schema_version": 3,
     "solution": true,
     "task": false
    },
    "tags": []
   },
   "outputs": [],
   "source": [
    "def reverse_and_upperCase(input_string):\n",
    "    # YOUR CODE HERE\n",
    "    return input_string[::-1].upper()"
   ]
  },
  {
   "cell_type": "markdown",
   "metadata": {},
   "source": [
    "<mark>DO NOT CHANGE THE FOLLOWING LINES</mark>"
   ]
  },
  {
   "cell_type": "code",
   "execution_count": 276,
   "metadata": {
    "deletable": false,
    "editable": false,
    "nbgrader": {
     "cell_type": "code",
     "checksum": "16a70d6a88c520ea8554c0cabcae0647",
     "grade": true,
     "grade_id": "cell-7822110936ae48b9",
     "locked": true,
     "points": 0.5,
     "schema_version": 3,
     "solution": false,
     "task": false
    },
    "tags": []
   },
   "outputs": [],
   "source": [
    "# Case 1\n",
    "assert reverse_and_upperCase('Hello World!') == '!DLROW OLLEH'"
   ]
  },
  {
   "cell_type": "code",
   "execution_count": 277,
   "metadata": {
    "deletable": false,
    "editable": false,
    "nbgrader": {
     "cell_type": "code",
     "checksum": "587866833b06b34b40ce7b2a0e2cdd8b",
     "grade": true,
     "grade_id": "cell-b90a0a27a73743a5",
     "locked": true,
     "points": 0.5,
     "schema_version": 3,
     "solution": false,
     "task": false
    },
    "tags": []
   },
   "outputs": [],
   "source": [
    "# Case 2\n",
    "assert reverse_and_upperCase('Python') == 'NOHTYP'"
   ]
  },
  {
   "cell_type": "code",
   "execution_count": 278,
   "metadata": {
    "deletable": false,
    "editable": false,
    "nbgrader": {
     "cell_type": "code",
     "checksum": "a33c2dfb7045fbf670254cfe7ac5b114",
     "grade": true,
     "grade_id": "cell-471c63a9045726ac",
     "locked": true,
     "points": 0.5,
     "schema_version": 3,
     "solution": false,
     "task": false
    },
    "tags": []
   },
   "outputs": [],
   "source": [
    "# Case 3\n",
    "assert reverse_and_upperCase('') == ''"
   ]
  },
  {
   "cell_type": "code",
   "execution_count": 279,
   "metadata": {
    "deletable": false,
    "editable": false,
    "nbgrader": {
     "cell_type": "code",
     "checksum": "a8493c1b13b51de1f5685c4de2434070",
     "grade": true,
     "grade_id": "cell-07c05c54b96220c9",
     "locked": true,
     "points": 0.5,
     "schema_version": 3,
     "solution": false,
     "task": false
    },
    "tags": []
   },
   "outputs": [],
   "source": [
    "# Case 4\n",
    "assert reverse_and_upperCase('12345One-Two-three') == 'EERHT-OWT-ENO54321'"
   ]
  },
  {
   "cell_type": "code",
   "execution_count": 280,
   "metadata": {
    "deletable": false,
    "editable": false,
    "nbgrader": {
     "cell_type": "code",
     "checksum": "07197c965a9b7caaba20b2a1d54dcf51",
     "grade": true,
     "grade_id": "cell-255f428eff183cf9",
     "locked": true,
     "points": 0.5,
     "schema_version": 3,
     "solution": false,
     "task": false
    },
    "tags": []
   },
   "outputs": [],
   "source": [
    "# Case 5\n",
    "assert reverse_and_upperCase('abc!@#') == '#@!CBA'"
   ]
  },
  {
   "cell_type": "code",
   "execution_count": 281,
   "metadata": {
    "deletable": false,
    "editable": false,
    "nbgrader": {
     "cell_type": "code",
     "checksum": "4519c0b3f32a27b843f3aa6735eda65c",
     "grade": true,
     "grade_id": "cell-e9d9b513bf8e361d",
     "locked": true,
     "points": 0.5,
     "schema_version": 3,
     "solution": false,
     "task": false
    },
    "tags": []
   },
   "outputs": [],
   "source": [
    "# Case 6\n",
    "assert reverse_and_upperCase('PyThOn') == 'NOHTYP'"
   ]
  },
  {
   "cell_type": "code",
   "execution_count": 282,
   "metadata": {
    "deletable": false,
    "editable": false,
    "nbgrader": {
     "cell_type": "code",
     "checksum": "83710e300b0357895be234ac776ace3c",
     "grade": true,
     "grade_id": "cell-bbf3d7b0513e4f80",
     "locked": true,
     "points": 0.5,
     "schema_version": 3,
     "solution": false,
     "task": false
    },
    "tags": []
   },
   "outputs": [],
   "source": [
    "# Case 7\n",
    "assert reverse_and_upperCase('This is a long string for testing.') == '.GNITSET ROF GNIRTS GNOL A SI SIHT'"
   ]
  },
  {
   "cell_type": "code",
   "execution_count": 283,
   "metadata": {
    "deletable": false,
    "editable": false,
    "nbgrader": {
     "cell_type": "code",
     "checksum": "3a86eb7d243e9a950c984521bf69eb6b",
     "grade": true,
     "grade_id": "cell-2dcb9285d86953b3",
     "locked": true,
     "points": 0.5,
     "schema_version": 3,
     "solution": false,
     "task": false
    },
    "tags": []
   },
   "outputs": [],
   "source": [
    "# Case 8\n",
    "assert reverse_and_upperCase('Saippuakauppias') == 'SAIPPUAKAUPPIAS'"
   ]
  },
  {
   "cell_type": "code",
   "execution_count": 284,
   "metadata": {
    "deletable": false,
    "editable": false,
    "nbgrader": {
     "cell_type": "code",
     "checksum": "8dbfaf4f3ca3e44d8e0eb0cda2809e9f",
     "grade": true,
     "grade_id": "cell-51aac9cf588e2598",
     "locked": true,
     "points": 0.5,
     "schema_version": 3,
     "solution": false,
     "task": false
    },
    "tags": []
   },
   "outputs": [],
   "source": [
    "# Case 9\n",
    "assert reverse_and_upperCase('   spaces   ') == '   SECAPS   '"
   ]
  },
  {
   "cell_type": "code",
   "execution_count": 285,
   "metadata": {
    "deletable": false,
    "editable": false,
    "nbgrader": {
     "cell_type": "code",
     "checksum": "10a2fed51e332dffaa61a1c64b4d5895",
     "grade": true,
     "grade_id": "cell-3b0d3e8f0f6e362f",
     "locked": true,
     "points": 0.5,
     "schema_version": 3,
     "solution": false,
     "task": false
    },
    "tags": []
   },
   "outputs": [],
   "source": [
    "# Case 10\n",
    "assert reverse_and_upperCase('Rotavator') == 'ROTAVATOR'"
   ]
  },
  {
   "cell_type": "markdown",
   "metadata": {},
   "source": [
    "---\n",
    "## (5 คะแนน)  <mark>Exercise #6 (Easy): **การใช้ `list` และ `tuple`**</mark>\n",
    "\n",
    "- เขียนฟังก์ชัน `generate_and_convert(m, n)` ที่มีเงื่อนไขดังนี้\n",
    "  1) ฟังก์ชันนี้จะรับพารามิเตอร์สองตัว คือ `m` และ `n` ซึ่งเป็นจำนวนเต็มเพื่อสร้างตัวเลขตั้งแต่ `m` ถึง `n` ที่หารลงตัวด้วย `3` และ `5` ลงตัว\n",
    "  2) return `list` และ `tuple`\n",
    "- เช่น `generate_and_convert(1, 100)` จะ return `[15, 30, 45, 60, 75, 90]` และ `(15, 30, 45, 60, 75, 90)`"
   ]
  },
  {
   "cell_type": "code",
   "execution_count": 286,
   "metadata": {
    "deletable": false,
    "nbgrader": {
     "cell_type": "code",
     "checksum": "dbb6a5969cc6620468e3bd78ea7dfd41",
     "grade": false,
     "grade_id": "cell-f52ea0527eb7134f",
     "locked": false,
     "schema_version": 3,
     "solution": true,
     "task": false
    },
    "tags": []
   },
   "outputs": [],
   "source": [
    "def generate_and_convert(m, n):\n",
    "    # YOUR CODE HERE\n",
    "    li3 = []\n",
    "    for i in range(m,n+1):\n",
    "        if not i%3 and not i%5:\n",
    "            li3.append(i)\n",
    "    print(li3,tuple(li3))\n",
    "    return li3,tuple(li3)"
   ]
  },
  {
   "cell_type": "markdown",
   "metadata": {},
   "source": [
    "<mark>DO NOT CHANGE THE FOLLOWING LINES</mark>"
   ]
  },
  {
   "cell_type": "code",
   "execution_count": 287,
   "metadata": {
    "deletable": false,
    "editable": false,
    "nbgrader": {
     "cell_type": "code",
     "checksum": "5b022033dd31b73a947c5e1b54b1db35",
     "grade": true,
     "grade_id": "cell-1f6872fb6be290c8",
     "locked": true,
     "points": 0.5,
     "schema_version": 3,
     "solution": false,
     "task": false
    },
    "tags": []
   },
   "outputs": [
    {
     "name": "stdout",
     "output_type": "stream",
     "text": [
      "[15, 30, 45, 60, 75, 90] (15, 30, 45, 60, 75, 90)\n"
     ]
    }
   ],
   "source": [
    "# Case 1\n",
    "assert generate_and_convert(1, 100) == ([15, 30, 45, 60, 75, 90], (15, 30, 45, 60, 75, 90))"
   ]
  },
  {
   "cell_type": "code",
   "execution_count": 288,
   "metadata": {
    "deletable": false,
    "editable": false,
    "nbgrader": {
     "cell_type": "code",
     "checksum": "af9377ab8c759496916bf26b14662f32",
     "grade": true,
     "grade_id": "cell-216b6100e973394d",
     "locked": true,
     "points": 0.5,
     "schema_version": 3,
     "solution": false,
     "task": false
    },
    "tags": []
   },
   "outputs": [
    {
     "name": "stdout",
     "output_type": "stream",
     "text": [
      "[15, 30, 45] (15, 30, 45)\n"
     ]
    }
   ],
   "source": [
    "# Case 2\n",
    "assert generate_and_convert(1, 50) == ([15, 30, 45], (15, 30, 45))"
   ]
  },
  {
   "cell_type": "code",
   "execution_count": 289,
   "metadata": {
    "deletable": false,
    "editable": false,
    "nbgrader": {
     "cell_type": "code",
     "checksum": "77d25fd2bf54c46d58c6e78fd5562dcf",
     "grade": true,
     "grade_id": "cell-af1412f2dac40b8e",
     "locked": true,
     "points": 0.5,
     "schema_version": 3,
     "solution": false,
     "task": false
    },
    "tags": []
   },
   "outputs": [
    {
     "name": "stdout",
     "output_type": "stream",
     "text": [
      "[60, 75, 90, 105, 120, 135, 150] (60, 75, 90, 105, 120, 135, 150)\n"
     ]
    }
   ],
   "source": [
    "# Case 3\n",
    "assert generate_and_convert(50, 150) == ([60, 75, 90, 105, 120, 135, 150], (60, 75, 90, 105, 120, 135, 150))"
   ]
  },
  {
   "cell_type": "code",
   "execution_count": 290,
   "metadata": {
    "deletable": false,
    "editable": false,
    "nbgrader": {
     "cell_type": "code",
     "checksum": "55d33eb38fe75b55e33f9144fddf6716",
     "grade": true,
     "grade_id": "cell-417bd6be1dd61f51",
     "locked": true,
     "points": 0.5,
     "schema_version": 3,
     "solution": false,
     "task": false
    },
    "tags": []
   },
   "outputs": [
    {
     "name": "stdout",
     "output_type": "stream",
     "text": [
      "[15] (15,)\n"
     ]
    }
   ],
   "source": [
    "# Case 4\n",
    "assert generate_and_convert(1, 15) == ([15], (15,))  # Test with range 1 to 15"
   ]
  },
  {
   "cell_type": "code",
   "execution_count": 291,
   "metadata": {
    "deletable": false,
    "editable": false,
    "nbgrader": {
     "cell_type": "code",
     "checksum": "7744d5131dcedf856a705008c0809f12",
     "grade": true,
     "grade_id": "cell-74f8c01edb46229d",
     "locked": true,
     "points": 0.5,
     "schema_version": 3,
     "solution": false,
     "task": false
    },
    "tags": []
   },
   "outputs": [
    {
     "name": "stdout",
     "output_type": "stream",
     "text": [
      "[30, 45, 60, 75, 90] (30, 45, 60, 75, 90)\n"
     ]
    }
   ],
   "source": [
    "# Case 5\n",
    "assert generate_and_convert(30, 100) == ([30, 45, 60, 75, 90], (30, 45, 60, 75, 90))  # Test with range 30 to 100"
   ]
  },
  {
   "cell_type": "code",
   "execution_count": 292,
   "metadata": {
    "deletable": false,
    "editable": false,
    "nbgrader": {
     "cell_type": "code",
     "checksum": "e05e4dd85603281384e74cc5d589b94d",
     "grade": true,
     "grade_id": "cell-ecf81863e480bd41",
     "locked": true,
     "points": 0.5,
     "schema_version": 3,
     "solution": false,
     "task": false
    },
    "tags": []
   },
   "outputs": [
    {
     "name": "stdout",
     "output_type": "stream",
     "text": [
      "[15, 30, 45, 60, 75, 90, 105, 120, 135, 150, 165, 180, 195, 210, 225, 240, 255, 270, 285, 300, 315, 330, 345, 360, 375, 390, 405, 420, 435, 450, 465, 480, 495, 510, 525, 540, 555, 570, 585, 600, 615, 630, 645, 660, 675, 690, 705, 720, 735, 750, 765, 780, 795, 810, 825, 840, 855, 870, 885, 900, 915, 930, 945, 960, 975, 990] (15, 30, 45, 60, 75, 90, 105, 120, 135, 150, 165, 180, 195, 210, 225, 240, 255, 270, 285, 300, 315, 330, 345, 360, 375, 390, 405, 420, 435, 450, 465, 480, 495, 510, 525, 540, 555, 570, 585, 600, 615, 630, 645, 660, 675, 690, 705, 720, 735, 750, 765, 780, 795, 810, 825, 840, 855, 870, 885, 900, 915, 930, 945, 960, 975, 990)\n"
     ]
    }
   ],
   "source": [
    "# Case 6\n",
    "assert generate_and_convert(1, 1000)[0] == [15, 30, 45, 60, 75, 90, 105, 120, 135, 150, 165, 180, 195, 210, 225, 240, 255, 270, 285, 300, 315, 330, 345, 360, 375, 390, 405, 420, 435, 450, 465, 480, 495, 510, 525, 540, 555, 570, 585, 600, 615, 630, 645, 660, 675, 690, 705, 720, 735, 750, 765, 780, 795, 810, 825, 840, 855, 870, 885, 900, 915, 930, 945, 960, 975, 990]"
   ]
  },
  {
   "cell_type": "code",
   "execution_count": 293,
   "metadata": {
    "deletable": false,
    "editable": false,
    "nbgrader": {
     "cell_type": "code",
     "checksum": "ae4289862314d06061d6f2f6716d827b",
     "grade": true,
     "grade_id": "cell-cc1ebfabd21ee4d5",
     "locked": true,
     "points": 0.5,
     "schema_version": 3,
     "solution": false,
     "task": false
    },
    "tags": []
   },
   "outputs": [
    {
     "name": "stdout",
     "output_type": "stream",
     "text": [
      "[105, 120, 135, 150, 165, 180, 195] (105, 120, 135, 150, 165, 180, 195)\n"
     ]
    }
   ],
   "source": [
    "# Case 7\n",
    "assert generate_and_convert(100, 200) == ([105, 120, 135, 150, 165, 180, 195], (105, 120, 135, 150, 165, 180, 195))  # Test with range 100 to 200"
   ]
  },
  {
   "cell_type": "code",
   "execution_count": 294,
   "metadata": {
    "deletable": false,
    "editable": false,
    "nbgrader": {
     "cell_type": "code",
     "checksum": "5291538f2ba6dd3a33aafd0e045e1946",
     "grade": true,
     "grade_id": "cell-776e2840e41317b8",
     "locked": true,
     "points": 0.5,
     "schema_version": 3,
     "solution": false,
     "task": false
    },
    "tags": []
   },
   "outputs": [
    {
     "name": "stdout",
     "output_type": "stream",
     "text": [
      "[-15, 0] (-15, 0)\n"
     ]
    }
   ],
   "source": [
    "# Case 8\n",
    "assert generate_and_convert(-20, 10) == ([-15, 0], (-15, 0))"
   ]
  },
  {
   "cell_type": "code",
   "execution_count": 295,
   "metadata": {
    "deletable": false,
    "editable": false,
    "nbgrader": {
     "cell_type": "code",
     "checksum": "715e323fbf9ef406e6dd166bc41637dc",
     "grade": true,
     "grade_id": "cell-c63b26604d5133dd",
     "locked": true,
     "points": 0.5,
     "schema_version": 3,
     "solution": false,
     "task": false
    },
    "tags": []
   },
   "outputs": [
    {
     "name": "stdout",
     "output_type": "stream",
     "text": [
      "[0, 15, 30] (0, 15, 30)\n"
     ]
    }
   ],
   "source": [
    "# Case 9\n",
    "assert generate_and_convert(0, 30) == ([0, 15, 30], (0, 15, 30))"
   ]
  },
  {
   "cell_type": "code",
   "execution_count": 296,
   "metadata": {
    "deletable": false,
    "editable": false,
    "nbgrader": {
     "cell_type": "code",
     "checksum": "7f3a56a3180286f2e277d2da4cd39142",
     "grade": true,
     "grade_id": "cell-921b10ad869d4b7d",
     "locked": true,
     "points": 0.5,
     "schema_version": 3,
     "solution": false,
     "task": false
    },
    "tags": []
   },
   "outputs": [
    {
     "name": "stdout",
     "output_type": "stream",
     "text": [
      "[] ()\n"
     ]
    }
   ],
   "source": [
    "# Case 10\n",
    "assert generate_and_convert(10, 10) == ([], ())  # Test with no valid numbers in range"
   ]
  },
  {
   "cell_type": "markdown",
   "metadata": {},
   "source": [
    "---\n",
    "## (15 คะแนน) <mark>Exercise #7 (Moderate): **จัดการข้อมูลหนังสือด้วย Dictionary**</mark>\n",
    "- รายการหนังสือ `book_collection` เป็น `dict` ที่โครงสร้างดังนี้ `{'title': {'author': 'author name', 'year': year_number}}`\n",
    "- เขียนฟังก์ชัน `manage_book_records(book_collection, action='', title='', author='', year=0)` ที่มีเงื่อนไขดังนี้\n",
    "  1) ฟังก์ชันรับพารามิเตอร์เป็น `book_collection` `action` `title` `author` และ `year`\n",
    "  2) หาก `action` เป็น `'add'` ให้ทำดังนี้\n",
    "      - หากชื่อหนังสือที่ต้องการ `add` นั้นมีอยู่แล้ว ให้ทำการ return ข้อความว่า `\"Book '{title}' is already in the collection.\"`\n",
    "      - หากชื่อหนังสือที่ต้องการ `add` ยังไม่มีใน `book_collection` ทำการเพิ่มหนังสือลงใน `book_collection` และ return `book_collection` ออกจากฟังก์ชัน\n",
    "  3) หาก `action` เป็น `'remove'` ให้ทำดังนี้\n",
    "      - หากไม่มีชื่อหนังสือใน `book_collection` ให้ return ข้อความว่า `\"Book '{title}' not found.\"`\n",
    "      - หากมีชื่อหนังสือใน `book_collection` ให้ทำการลบหนังสือออกจาก `book_collection` และ return ข้อความว่า `\"Book '{title}' has been removed.\"`\n",
    "  4) หาก `action` เป็น `'modify'` ให้ทำดังนี้\n",
    "      - หากไม่มีชื่อหนังสือใน `book_collection` ให้ return ข้อความว่า `\"Book '{title}' not found.\"`\n",
    "      - หากมีชื่อหนังสือใน `book_collection` ให้แก้ไขข้อมูลหนังสือที่มีอยู่ เช่น เปลี่ยน `title` หรือ `year` ตามที่กำหนด\n",
    "- ตัวอย่างเช่น:\n",
    "  - `manage_book_records(book_collection, 'add', 'The Great Gatsby', 'F. Scott Fitzgerald', 1925)` จะเพิ่มหนังสือใหม่\n",
    "  - `manage_book_records(book_collection, 'remove', 'The Great Gatsby')` จะลบหนังสือและ return `\"Book 'The Great Gatsby' has been removed.\"`\n",
    "  - `manage_book_records(book_collection, 'modify', 'The Great Gatsby', year=2023)` จะปรับปรุงปีของหนังสือจาก `1925` เป็น `2003`"
   ]
  },
  {
   "cell_type": "code",
   "execution_count": 297,
   "metadata": {
    "deletable": false,
    "nbgrader": {
     "cell_type": "code",
     "checksum": "087862df670ea9dd27ba76bb5c79e034",
     "grade": false,
     "grade_id": "cell-a5084a0054c5c8a2",
     "locked": false,
     "schema_version": 3,
     "solution": true,
     "task": false
    },
    "tags": []
   },
   "outputs": [],
   "source": [
    "book_collection = {}    # Initialize the book collection (empty dictionary)\n",
    "\n",
    "def manage_book_records(book_collection, action='', title='', author='', year=0):\n",
    "    # YOUR CODE HERE\n",
    "    print(book_collection.keys())\n",
    "    print(author)\n",
    "    print(year)\n",
    "    if action==\"add\":\n",
    "        if title in book_collection.keys():\n",
    "            return f\"Book '{title}' is already in the collection.\"\n",
    "        elif  title not in book_collection.keys():\n",
    "            book_collection[title] = {\"author\" : author,\"year\" : year}\n",
    "            return book_collection\n",
    "    elif action == \"remove\":\n",
    "        if title not in book_collection.keys():\n",
    "            return f\"Book '{title}' not found.\"\n",
    "        else:\n",
    "            del book_collection[title]\n",
    "            return f\"Book '{title}' has been removed.\"\n",
    "    elif action == \"modify\":\n",
    "        if title not in book_collection.keys():\n",
    "            return f\"Book '{title}' not found.\"\n",
    "        else:\n",
    "            if author:\n",
    "                book_collection[title]['author'] = author\n",
    "            if year:\n",
    "                book_collection[title]['year'] = year\n",
    "            return book_collection\n",
    "            "
   ]
  },
  {
   "cell_type": "markdown",
   "metadata": {},
   "source": [
    "<mark>DO NOT CHANGE THE FOLLOWING LINES</mark>"
   ]
  },
  {
   "cell_type": "code",
   "execution_count": 298,
   "metadata": {
    "deletable": false,
    "editable": false,
    "nbgrader": {
     "cell_type": "code",
     "checksum": "ab76d203cafdf5ea79c2febda26f7930",
     "grade": true,
     "grade_id": "cell-ff25c184a9de6956",
     "locked": true,
     "points": 1.5,
     "schema_version": 3,
     "solution": false,
     "task": false
    },
    "tags": []
   },
   "outputs": [
    {
     "name": "stdout",
     "output_type": "stream",
     "text": [
      "dict_keys([])\n",
      "F. Scott Fitzgerald\n",
      "1925\n"
     ]
    }
   ],
   "source": [
    "# Case 1\n",
    "assert manage_book_records(book_collection, 'add', 'The Great Gatsby', 'F. Scott Fitzgerald', 1925) == {\n",
    "    'The Great Gatsby': {'author': 'F. Scott Fitzgerald', 'year': 1925}\n",
    "}"
   ]
  },
  {
   "cell_type": "code",
   "execution_count": 299,
   "metadata": {
    "deletable": false,
    "editable": false,
    "nbgrader": {
     "cell_type": "code",
     "checksum": "ae5464c526a055a41ef30d982fba6211",
     "grade": true,
     "grade_id": "cell-e9ef0b8af01ba836",
     "locked": true,
     "points": 1.5,
     "schema_version": 3,
     "solution": false,
     "task": false
    },
    "tags": []
   },
   "outputs": [
    {
     "name": "stdout",
     "output_type": "stream",
     "text": [
      "dict_keys(['The Great Gatsby'])\n",
      "George Orwell\n",
      "1949\n"
     ]
    }
   ],
   "source": [
    "# Case 2\n",
    "assert manage_book_records(book_collection, 'add', '1984', 'George Orwell', 1949) == {\n",
    "    'The Great Gatsby': {'author': 'F. Scott Fitzgerald', 'year': 1925},\n",
    "    '1984': {'author': 'George Orwell', 'year': 1949}\n",
    "}"
   ]
  },
  {
   "cell_type": "code",
   "execution_count": 300,
   "metadata": {
    "deletable": false,
    "editable": false,
    "nbgrader": {
     "cell_type": "code",
     "checksum": "4a1577fd8d6362b386c54ba31b0100a1",
     "grade": true,
     "grade_id": "cell-9e8b9b472c5b448d",
     "locked": true,
     "points": 1.5,
     "schema_version": 3,
     "solution": false,
     "task": false
    },
    "tags": []
   },
   "outputs": [
    {
     "name": "stdout",
     "output_type": "stream",
     "text": [
      "dict_keys(['The Great Gatsby', '1984'])\n",
      "F. Scott Fitzgerald\n",
      "1925\n"
     ]
    }
   ],
   "source": [
    "# Case 3\n",
    "assert manage_book_records(book_collection, 'add', 'The Great Gatsby', 'F. Scott Fitzgerald', 1925) == \"Book 'The Great Gatsby' is already in the collection.\""
   ]
  },
  {
   "cell_type": "code",
   "execution_count": 301,
   "metadata": {
    "deletable": false,
    "editable": false,
    "nbgrader": {
     "cell_type": "code",
     "checksum": "917f432d9eca287f9e5cbff8189bce35",
     "grade": true,
     "grade_id": "cell-17633426c773ebc7",
     "locked": true,
     "points": 1.5,
     "schema_version": 3,
     "solution": false,
     "task": false
    },
    "tags": []
   },
   "outputs": [
    {
     "name": "stdout",
     "output_type": "stream",
     "text": [
      "dict_keys(['The Great Gatsby', '1984'])\n",
      "\n",
      "0\n"
     ]
    }
   ],
   "source": [
    "# Case 4\n",
    "assert manage_book_records(book_collection, 'remove', '1984') == \"Book '1984' has been removed.\""
   ]
  },
  {
   "cell_type": "code",
   "execution_count": 302,
   "metadata": {
    "deletable": false,
    "editable": false,
    "nbgrader": {
     "cell_type": "code",
     "checksum": "7677a9157b1486cfca2cf60575379107",
     "grade": true,
     "grade_id": "cell-f52d600d33abf719",
     "locked": true,
     "points": 1.5,
     "schema_version": 3,
     "solution": false,
     "task": false
    },
    "tags": []
   },
   "outputs": [
    {
     "name": "stdout",
     "output_type": "stream",
     "text": [
      "dict_keys(['The Great Gatsby'])\n",
      "\n",
      "0\n"
     ]
    }
   ],
   "source": [
    "# Case 5\n",
    "assert manage_book_records(book_collection, 'remove', '1984') == \"Book '1984' not found.\""
   ]
  },
  {
   "cell_type": "code",
   "execution_count": 303,
   "metadata": {
    "deletable": false,
    "editable": false,
    "nbgrader": {
     "cell_type": "code",
     "checksum": "e9a8d3f261d4cd93885b285e5c44a4ec",
     "grade": true,
     "grade_id": "cell-4754392771459f70",
     "locked": true,
     "points": 1.5,
     "schema_version": 3,
     "solution": false,
     "task": false
    },
    "tags": []
   },
   "outputs": [
    {
     "name": "stdout",
     "output_type": "stream",
     "text": [
      "dict_keys(['The Great Gatsby'])\n",
      "\n",
      "2023\n"
     ]
    }
   ],
   "source": [
    "# Case 6\n",
    "assert manage_book_records(book_collection, 'modify', 'The Great Gatsby', year=2023) == {\n",
    "    'The Great Gatsby': {'author': 'F. Scott Fitzgerald', 'year': 2023}\n",
    "}"
   ]
  },
  {
   "cell_type": "code",
   "execution_count": 304,
   "metadata": {
    "deletable": false,
    "editable": false,
    "nbgrader": {
     "cell_type": "code",
     "checksum": "7cb25f3c0744cff6d55a6620a719f033",
     "grade": true,
     "grade_id": "cell-082edea77843d27e",
     "locked": true,
     "points": 1.5,
     "schema_version": 3,
     "solution": false,
     "task": false
    },
    "tags": []
   },
   "outputs": [
    {
     "name": "stdout",
     "output_type": "stream",
     "text": [
      "dict_keys(['The Great Gatsby'])\n",
      "\n",
      "2023\n"
     ]
    }
   ],
   "source": [
    "# Case 7\n",
    "assert manage_book_records(book_collection, 'modify', '1984', year=2023) == \"Book '1984' not found.\""
   ]
  },
  {
   "cell_type": "code",
   "execution_count": 305,
   "metadata": {
    "deletable": false,
    "editable": false,
    "nbgrader": {
     "cell_type": "code",
     "checksum": "32af4dbc05664d68b2d171a07cc0d993",
     "grade": true,
     "grade_id": "cell-3152f5e40ac1d4b2",
     "locked": true,
     "points": 1.5,
     "schema_version": 3,
     "solution": false,
     "task": false
    },
    "tags": []
   },
   "outputs": [
    {
     "name": "stdout",
     "output_type": "stream",
     "text": [
      "dict_keys(['The Great Gatsby'])\n",
      "Harper Lee\n",
      "1960\n"
     ]
    }
   ],
   "source": [
    "# Case 8\n",
    "assert manage_book_records(book_collection, 'add', 'To Kill a Mockingbird', 'Harper Lee', 1960) == {\n",
    "    'The Great Gatsby': {'author': 'F. Scott Fitzgerald', 'year': 2023},\n",
    "    'To Kill a Mockingbird': {'author': 'Harper Lee', 'year': 1960}\n",
    "}"
   ]
  },
  {
   "cell_type": "code",
   "execution_count": 306,
   "metadata": {
    "deletable": false,
    "editable": false,
    "nbgrader": {
     "cell_type": "code",
     "checksum": "9352211b0728fb738d69260fa453a9cb",
     "grade": true,
     "grade_id": "cell-3462e4a5e3da338b",
     "locked": true,
     "points": 1.5,
     "schema_version": 3,
     "solution": false,
     "task": false
    },
    "tags": []
   },
   "outputs": [
    {
     "name": "stdout",
     "output_type": "stream",
     "text": [
      "dict_keys(['The Great Gatsby', 'To Kill a Mockingbird'])\n",
      "\n",
      "0\n"
     ]
    }
   ],
   "source": [
    "# Case 9\n",
    "assert manage_book_records(book_collection, 'remove', 'To Kill a Mockingbird') == \"Book 'To Kill a Mockingbird' has been removed.\""
   ]
  },
  {
   "cell_type": "code",
   "execution_count": 307,
   "metadata": {
    "deletable": false,
    "editable": false,
    "nbgrader": {
     "cell_type": "code",
     "checksum": "f008165040d765c39121fb4fc8cbeea2",
     "grade": true,
     "grade_id": "cell-42397c3c546c5ecd",
     "locked": true,
     "points": 1.5,
     "schema_version": 3,
     "solution": false,
     "task": false
    },
    "tags": []
   },
   "outputs": [
    {
     "name": "stdout",
     "output_type": "stream",
     "text": [
      "dict_keys(['The Great Gatsby'])\n",
      "\n",
      "0\n"
     ]
    }
   ],
   "source": [
    "# Case 10\n",
    "assert manage_book_records(book_collection, 'remove', 'To Kill a Mockingbird') == \"Book 'To Kill a Mockingbird' not found.\""
   ]
  },
  {
   "cell_type": "markdown",
   "metadata": {},
   "source": [
    "---\n",
    "## (15 คะแนน) <mark>Exercise #8 (Moderate) **การใช้ `list` 2 มิติ**</mark>\n",
    "\n",
    "- เขียนฟังก์ชัน `transpose_matrix(matrix)` ที่มีเงื่อนไขดังนี้\n",
    "  1) ฟังก์ชันนี้จะรับพารามิเตอร์เป็น `matrix` ซึ่งเป็น `list` 2 มิติ\n",
    "  2) สร้างเมทริกซ์ใหม่ที่เป็นการ transpose ของเมทริกซ์เดิม (สลับแถวกับคอลัมน์)\n",
    "  3) return เมทริกซ์ใหม่\n",
    "- เช่น `transpose_matrix([[1, 2, 3], [4, 5, 6], [7, 8, 9]])` จะได้ `[[1, 4, 7], [2, 5, 8], [3, 6, 9]]`"
   ]
  },
  {
   "cell_type": "code",
   "execution_count": 308,
   "metadata": {
    "deletable": false,
    "nbgrader": {
     "cell_type": "code",
     "checksum": "bea0494c2cd819fb7b9259047a980753",
     "grade": false,
     "grade_id": "cell-db0c4c209ec24099",
     "locked": false,
     "schema_version": 3,
     "solution": true,
     "task": false
    },
    "tags": []
   },
   "outputs": [],
   "source": [
    "def transpose_matrix(matrix):\n",
    "    # YOUR CODE HERE\n",
    "    m = np.array(matrix)\n",
    "    m = m.transpose()\n",
    "    m = m.tolist()\n",
    "    return m"
   ]
  },
  {
   "cell_type": "markdown",
   "metadata": {},
   "source": [
    "<mark>DO NOT CHANGE THE FOLLOWING LINES</mark>"
   ]
  },
  {
   "cell_type": "code",
   "execution_count": 309,
   "metadata": {
    "deletable": false,
    "editable": false,
    "nbgrader": {
     "cell_type": "code",
     "checksum": "6f11164fa9f7dc9c06b126f1378ab3c2",
     "grade": true,
     "grade_id": "cell-5f9ee0627daa2e97",
     "locked": true,
     "points": 1.5,
     "schema_version": 3,
     "solution": false,
     "task": false
    },
    "tags": []
   },
   "outputs": [],
   "source": [
    "# Case 1\n",
    "assert transpose_matrix([[1, 2, 3], [4, 5, 6], [7, 8, 9]]) == [[1, 4, 7], [2, 5, 8], [3, 6, 9]]"
   ]
  },
  {
   "cell_type": "code",
   "execution_count": 310,
   "metadata": {
    "deletable": false,
    "editable": false,
    "nbgrader": {
     "cell_type": "code",
     "checksum": "4328edf18f6fd499531a923cdd0691ef",
     "grade": true,
     "grade_id": "cell-038a41531511686e",
     "locked": true,
     "points": 1.5,
     "schema_version": 3,
     "solution": false,
     "task": false
    },
    "tags": []
   },
   "outputs": [],
   "source": [
    "# Case 2\n",
    "assert transpose_matrix([[1, 2], [3, 4], [5, 6]]) == [[1, 3, 5], [2, 4, 6]]  # Test with 2 columns"
   ]
  },
  {
   "cell_type": "code",
   "execution_count": 311,
   "metadata": {
    "deletable": false,
    "editable": false,
    "nbgrader": {
     "cell_type": "code",
     "checksum": "4b6653ad5657fe742aca84cce01dda18",
     "grade": true,
     "grade_id": "cell-78ef598bdc5f7474",
     "locked": true,
     "points": 1.5,
     "schema_version": 3,
     "solution": false,
     "task": false
    },
    "tags": []
   },
   "outputs": [],
   "source": [
    "# Case 3\n",
    "assert transpose_matrix([[1]]) == [[1]]  # Test with 1x1 matrix"
   ]
  },
  {
   "cell_type": "code",
   "execution_count": 312,
   "metadata": {
    "deletable": false,
    "editable": false,
    "nbgrader": {
     "cell_type": "code",
     "checksum": "df0e389cedaa958e2c6a5201ddc1983b",
     "grade": true,
     "grade_id": "cell-3599c634c5546b44",
     "locked": true,
     "points": 1.5,
     "schema_version": 3,
     "solution": false,
     "task": false
    },
    "tags": []
   },
   "outputs": [],
   "source": [
    "# Case 4\n",
    "assert transpose_matrix([[1, 2, 3]]) == [[1], [2], [3]]  # Test with 1 row matrix"
   ]
  },
  {
   "cell_type": "code",
   "execution_count": 313,
   "metadata": {
    "deletable": false,
    "editable": false,
    "nbgrader": {
     "cell_type": "code",
     "checksum": "881433e2a02cbde8ecb09bfd85aba476",
     "grade": true,
     "grade_id": "cell-965c276fa83e20b9",
     "locked": true,
     "points": 1.5,
     "schema_version": 3,
     "solution": false,
     "task": false
    },
    "tags": []
   },
   "outputs": [],
   "source": [
    "# Case 5\n",
    "assert transpose_matrix([[1, 2], [3, 4]]) == [[1, 3], [2, 4]]  # Test with 2x2 matrix"
   ]
  },
  {
   "cell_type": "code",
   "execution_count": 314,
   "metadata": {
    "deletable": false,
    "editable": false,
    "nbgrader": {
     "cell_type": "code",
     "checksum": "54589f5ff50bb683d0d82fe1a0e28f1f",
     "grade": true,
     "grade_id": "cell-580f64dc2d539cca",
     "locked": true,
     "points": 1.5,
     "schema_version": 3,
     "solution": false,
     "task": false
    },
    "tags": []
   },
   "outputs": [],
   "source": [
    "# Case 6\n",
    "assert transpose_matrix([[1, 2, 3, 4], [5, 6, 7, 8]]) == [[1, 5], [2, 6], [3, 7], [4, 8]]  # Test with 4 columns"
   ]
  },
  {
   "cell_type": "code",
   "execution_count": 315,
   "metadata": {
    "deletable": false,
    "editable": false,
    "nbgrader": {
     "cell_type": "code",
     "checksum": "83b21fd59a830a3361b20400b60a4d1b",
     "grade": true,
     "grade_id": "cell-5052514678bc4610",
     "locked": true,
     "points": 1.5,
     "schema_version": 3,
     "solution": false,
     "task": false
    },
    "tags": []
   },
   "outputs": [],
   "source": [
    "# Case 7\n",
    "assert transpose_matrix([['a', 'b'], ['c', 'd']]) == [['a', 'c'], ['b', 'd']]  # Test with string values"
   ]
  },
  {
   "cell_type": "code",
   "execution_count": 316,
   "metadata": {
    "deletable": false,
    "editable": false,
    "nbgrader": {
     "cell_type": "code",
     "checksum": "3ae9853fb9718b48e2a9740b9d19e338",
     "grade": true,
     "grade_id": "cell-e16e7a0093c86da6",
     "locked": true,
     "points": 1.5,
     "schema_version": 3,
     "solution": false,
     "task": false
    },
    "tags": []
   },
   "outputs": [],
   "source": [
    "# Case 8\n",
    "assert transpose_matrix([[1, 2, 3], [4, 5, 6]]) == [[1, 4], [2, 5], [3, 6]]  # Test with 3 rows and 2 columns"
   ]
  },
  {
   "cell_type": "code",
   "execution_count": 317,
   "metadata": {
    "deletable": false,
    "editable": false,
    "nbgrader": {
     "cell_type": "code",
     "checksum": "8a708117e07ab2cb604ad53b727ed7c9",
     "grade": true,
     "grade_id": "cell-9ffae084b6b2600d",
     "locked": true,
     "points": 1.5,
     "schema_version": 3,
     "solution": false,
     "task": false
    },
    "tags": []
   },
   "outputs": [],
   "source": [
    "# Case 9\n",
    "assert transpose_matrix([[1, 2], [3, 4], [5, 6], [7, 8]]) == [[1, 3, 5, 7], [2, 4, 6, 8]]  # Test with more rows than columns"
   ]
  },
  {
   "cell_type": "code",
   "execution_count": 318,
   "metadata": {
    "deletable": false,
    "editable": false,
    "nbgrader": {
     "cell_type": "code",
     "checksum": "1f0cd95943fb1cce2cc531e8ef6575b4",
     "grade": true,
     "grade_id": "cell-9bc4b4d6355b40d7",
     "locked": true,
     "points": 1.5,
     "schema_version": 3,
     "solution": false,
     "task": false
    },
    "tags": []
   },
   "outputs": [],
   "source": [
    "# Case 10\n",
    "assert transpose_matrix([[True, False], [False, True]]) == [[True, False], [False, True]]  # Test with boolean values"
   ]
  },
  {
   "cell_type": "markdown",
   "metadata": {},
   "source": [
    "---\n",
    "## (15 คะแนน) <mark>Exercise #9 (Moderate): **การใช้งาน `set`**</mark>\n",
    "\n",
    "- เขียนฟังก์ชัน `set_operations(set_a, set_b)` ที่มีเงื่อนไขดังนี้\n",
    "  1) ฟังก์ชันนี้จะรับพารามิเตอร์เป็นเซ็ต `set_a` และ `set_b`\n",
    "  2) ทำ operation ต่าง ๆ ดังนี้\n",
    "     - Union\n",
    "     - Intersection\n",
    "     - Difference\n",
    "     - Symmetric Difference\n",
    "  3) return ผลลัพธ์ในรูปแบบ `dict` โดยมี **key** เป็นชื่อของ operation และ **value** คือ ผลลัพธ์\n",
    "- เช่น\n",
    "  - `set_operations({1, 2, 3}, {3, 4, 5})` จะได้ `{'union': {1, 2, 3, 4, 5}, 'intersection': {3}, 'difference': {1, 2}, 'symmetric_difference': {1, 2, 4, 5}}`"
   ]
  },
  {
   "cell_type": "code",
   "execution_count": 319,
   "metadata": {
    "deletable": false,
    "nbgrader": {
     "cell_type": "code",
     "checksum": "ec6a98ad4ee051e3ebaa475281a7b5c2",
     "grade": false,
     "grade_id": "cell-61dcedefcbbe6f9d",
     "locked": false,
     "schema_version": 3,
     "solution": true,
     "task": false
    },
    "tags": []
   },
   "outputs": [],
   "source": [
    "def set_operations(set_a, set_b):\n",
    "    # YOUR CODE HERE\n",
    "    set_op = {\n",
    "    'union': set_a.union(set_b),\n",
    "    'intersection': set_a.intersection(set_b),\n",
    "    'difference': set_a.difference(set_b),\n",
    "    'symmetric_difference': set_a.symmetric_difference(set_b)    \n",
    "    }\n",
    "    return set_op"
   ]
  },
  {
   "cell_type": "markdown",
   "metadata": {},
   "source": [
    "<mark>DO NOT CHANGE THE FOLLOWING LINES</mark>"
   ]
  },
  {
   "cell_type": "code",
   "execution_count": 320,
   "metadata": {
    "deletable": false,
    "editable": false,
    "nbgrader": {
     "cell_type": "code",
     "checksum": "4e50219c006a6a2565f1e2d092a43934",
     "grade": true,
     "grade_id": "cell-94fbf279cf92ec8c",
     "locked": true,
     "points": 1.5,
     "schema_version": 3,
     "solution": false,
     "task": false
    },
    "tags": []
   },
   "outputs": [],
   "source": [
    "# Case 1\n",
    "assert set_operations({1, 2, 3}, {3, 4, 5}) == {\n",
    "    'union': {1, 2, 3, 4, 5},\n",
    "    'intersection': {3},\n",
    "    'difference': {1, 2},\n",
    "    'symmetric_difference': {1, 2, 4, 5}\n",
    "}"
   ]
  },
  {
   "cell_type": "code",
   "execution_count": 321,
   "metadata": {
    "deletable": false,
    "editable": false,
    "nbgrader": {
     "cell_type": "code",
     "checksum": "55b69863dfb38fbc69ea3266ee1965ad",
     "grade": true,
     "grade_id": "cell-a0394cb445d22540",
     "locked": true,
     "points": 1.5,
     "schema_version": 3,
     "solution": false,
     "task": false
    },
    "tags": []
   },
   "outputs": [],
   "source": [
    "# Case 2\n",
    "assert set_operations({1, 2}, {2, 3}) == {\n",
    "    'union': {1, 2, 3},\n",
    "    'intersection': {2},\n",
    "    'difference': {1},\n",
    "    'symmetric_difference': {1, 3}\n",
    "} "
   ]
  },
  {
   "cell_type": "code",
   "execution_count": 322,
   "metadata": {
    "deletable": false,
    "editable": false,
    "nbgrader": {
     "cell_type": "code",
     "checksum": "0b6b2efd5ef269b49411325216f7a55f",
     "grade": true,
     "grade_id": "cell-fd3536770a2b4cde",
     "locked": true,
     "points": 1.5,
     "schema_version": 3,
     "solution": false,
     "task": false
    },
    "tags": []
   },
   "outputs": [],
   "source": [
    "# Case 3\n",
    "assert set_operations({'a', 'b', 'c'}, {'c', 'd', 'e'}) == {\n",
    "    'union': {'a', 'b', 'c', 'd', 'e'},\n",
    "    'intersection': {'c'},\n",
    "    'difference': {'a', 'b'},\n",
    "    'symmetric_difference': {'a', 'b', 'd', 'e'}\n",
    "}"
   ]
  },
  {
   "cell_type": "code",
   "execution_count": 323,
   "metadata": {
    "deletable": false,
    "editable": false,
    "nbgrader": {
     "cell_type": "code",
     "checksum": "20c941563454b69d0da8b8b1a61c0b1c",
     "grade": true,
     "grade_id": "cell-a74a14675dede00a",
     "locked": true,
     "points": 1.5,
     "schema_version": 3,
     "solution": false,
     "task": false
    },
    "tags": []
   },
   "outputs": [],
   "source": [
    "# Case 4\n",
    "assert set_operations({1, 2, 3}, {}) == {\n",
    "    'union': {1, 2, 3},\n",
    "    'intersection': set(),\n",
    "    'difference': {1, 2, 3},\n",
    "    'symmetric_difference': {1, 2, 3}\n",
    "}"
   ]
  },
  {
   "cell_type": "code",
   "execution_count": 324,
   "metadata": {
    "deletable": false,
    "editable": false,
    "nbgrader": {
     "cell_type": "code",
     "checksum": "4d5f0955232cdbe8d7998e9f1788e3f7",
     "grade": true,
     "grade_id": "cell-65bb6e074548ad89",
     "locked": true,
     "points": 1.5,
     "schema_version": 3,
     "solution": false,
     "task": false
    },
    "tags": []
   },
   "outputs": [],
   "source": [
    "# Case 5\n",
    "assert set_operations({1, 1, 2, 2}, {2, 3}) == {\n",
    "    'union': {1, 2, 3},\n",
    "    'intersection': {2},\n",
    "    'difference': {1},\n",
    "    'symmetric_difference': {1, 3}\n",
    "}"
   ]
  },
  {
   "cell_type": "code",
   "execution_count": 325,
   "metadata": {
    "deletable": false,
    "editable": false,
    "nbgrader": {
     "cell_type": "code",
     "checksum": "70e1c26931cf054e5af1528f4e50735d",
     "grade": true,
     "grade_id": "cell-0cca0b8681aad476",
     "locked": true,
     "points": 1.5,
     "schema_version": 3,
     "solution": false,
     "task": false
    },
    "tags": []
   },
   "outputs": [],
   "source": [
    "# Case 6\n",
    "assert set_operations({1, 2, 3}, {1, 2, 3}) == {\n",
    "    'union': {1, 2, 3},\n",
    "    'intersection': {1, 2, 3},\n",
    "    'difference': set(),\n",
    "    'symmetric_difference': set()\n",
    "}"
   ]
  },
  {
   "cell_type": "code",
   "execution_count": 326,
   "metadata": {
    "deletable": false,
    "editable": false,
    "nbgrader": {
     "cell_type": "code",
     "checksum": "f9e12436dd386a1b6dd76d617dfb4af6",
     "grade": true,
     "grade_id": "cell-87dcc45b1c1b68c8",
     "locked": true,
     "points": 1.5,
     "schema_version": 3,
     "solution": false,
     "task": false
    },
    "tags": []
   },
   "outputs": [],
   "source": [
    "# Case 7\n",
    "assert set_operations({0, 1, 2}, {2, 3, 4}) == {\n",
    "    'union': {0, 1, 2, 3, 4},\n",
    "    'intersection': {2},\n",
    "    'difference': {0, 1},\n",
    "    'symmetric_difference': {0, 1, 3, 4}\n",
    "}"
   ]
  },
  {
   "cell_type": "code",
   "execution_count": 327,
   "metadata": {
    "deletable": false,
    "editable": false,
    "nbgrader": {
     "cell_type": "code",
     "checksum": "9cac6fe8cbd4f4c111855b480185b890",
     "grade": true,
     "grade_id": "cell-15f4eca89c368caf",
     "locked": true,
     "points": 1.5,
     "schema_version": 3,
     "solution": false,
     "task": false
    },
    "tags": []
   },
   "outputs": [],
   "source": [
    "# Case 8\n",
    "assert set_operations({10, 20, 30}, {20, 30, 40, 50}) == {\n",
    "    'union': {10, 20, 30, 40, 50},\n",
    "    'intersection': {20, 30},\n",
    "    'difference': {10},\n",
    "    'symmetric_difference': {10, 40, 50}\n",
    "}"
   ]
  },
  {
   "cell_type": "code",
   "execution_count": 328,
   "metadata": {
    "deletable": false,
    "editable": false,
    "nbgrader": {
     "cell_type": "code",
     "checksum": "31d7ed59fcd7ffd88f0074da2cec572c",
     "grade": true,
     "grade_id": "cell-d540e042ba915ed8",
     "locked": true,
     "points": 1.5,
     "schema_version": 3,
     "solution": false,
     "task": false
    },
    "tags": []
   },
   "outputs": [],
   "source": [
    "# Case 9\n",
    "assert set_operations({'apple', 'banana'}, {'banana', 'cherry'}) == {\n",
    "    'union': {'apple', 'banana', 'cherry'},\n",
    "    'intersection': {'banana'},\n",
    "    'difference': {'apple'},\n",
    "    'symmetric_difference': {'apple', 'cherry'}\n",
    "}"
   ]
  },
  {
   "cell_type": "code",
   "execution_count": 329,
   "metadata": {
    "deletable": false,
    "editable": false,
    "nbgrader": {
     "cell_type": "code",
     "checksum": "0dd4ddafe5d6b1e0a35bf8063f6fcc0a",
     "grade": true,
     "grade_id": "cell-848f9279e4a6cf75",
     "locked": true,
     "points": 1.5,
     "schema_version": 3,
     "solution": false,
     "task": false
    },
    "tags": []
   },
   "outputs": [],
   "source": [
    "# Case 10\n",
    "assert set_operations({1.1, 2.2, 3.3}, {3.3, 4.4}) == {\n",
    "    'union': {1.1, 2.2, 3.3, 4.4},\n",
    "    'intersection': {3.3},\n",
    "    'difference': {1.1, 2.2},\n",
    "    'symmetric_difference': {1.1, 2.2, 4.4}\n",
    "}"
   ]
  },
  {
   "cell_type": "markdown",
   "metadata": {},
   "source": [
    "---\n",
    "## (25 คะแนน) <mark>Exercise #10 (Difficult): **ตรวจเงื่อนไขเกม Sudoku ด้วย NumPy**</mark>\n",
    "\n",
    "- เขียนฟังก์ชัน `check_sudoku(board)` ที่มีเงื่อนไขดังนี้\n",
    "  1) ฟังก์ชันนี้จะรับ **NumPy** อาร์เรย์ 2 มิติ (`board`) ขนาด 9x9 ซึ่งเป็นกระดาน Sudoku ซึ่งต้องมีเงื่อนไขดังนี้\n",
    "      - **การตรวจสอบแถว** แต่ละแถวต้องมีตัวเลข 1-9 โดยไม่มีการซ้ำกัน (ไม่สนใจเลขศูนย์)\n",
    "      - **การตรวจสอบหลัก** แต่ละหลักต้องมีตัวเลข 1-9 โดยไม่มีการซ้ำกัน (ไม่สนใจเลขศูนย์)\n",
    "      - **การตรวจสอบกลุ่มย่อย (subgrid)** แต่ละกลุ่มย่อย 3x3 ต้องมีตัวเลข 1-9 โดยไม่มีการซ้ำกัน (ไม่สนใจเลขศูนย์)\n",
    "        - **subgrid** คือ ตารางย่อย ขนาด 3x3 นับจาก ซ้ายไปขวา และ บนลงล่าง เช่น **subgrid 1** คือ **row: 1-3 และ col: 1-3** หรือ **subgrid 5** คือ **row: 4-6 และ col: 4-6** เป็นต้น\n",
    "  2) หากผ่านทุกเงื่อนไข ฟังก์ชันจะ return ค่า `'True'`\n",
    "  3) หากไม่ผ่าน ฟังก์ชันจะ return ข้อผิดพลาดทั้งหมดที่ตรวจพบ ตามเงื่อนไขดังนี้        \n",
    "      - หากไม่ผ่าน จะ return `()'False',[list_of_errors])` โดย `list` แสดงตามลำดับ คือ `[row_error, col_error, subgrid_error]` มีรายละเอียด ดังนี้\n",
    "        - ไม่ผ่านเพราะ **การตรวจสอบแถว** return `\"Duplicate numbers X in row I\"`\n",
    "        - ไม่ผ่านเพราะ **การตรวจสอบหลัก** return `\"Duplicate numbers Y in column J\"`\n",
    "        - ไม่ผ่านเพราะ **การตรวจสอบกลุ่มย่อย** return `\"Duplicate numbers Z in subgrid K\"`\n",
    "\n",
    "- เช่น\n",
    "    ```\n",
    "    board = np.array([\n",
    "      [5, 3, 4, 6, 7, 8, 9, 1, 2],\n",
    "      [6, 7, 2, 1, 9, 5, 3, 4, 8],\n",
    "      [1, 9, 8, 3, 4, 2, 5, 6, 7],\n",
    "      [8, 5, 9, 7, 6, 1, 4, 2, 3],\n",
    "      [4, 2, 6, 8, 5, 3, 7, 9, 1],\n",
    "      [7, 1, 3, 9, 2, 4, 8, 5, 6],\n",
    "      [9, 6, 1, 5, 3, 7, 2, 8, 4],\n",
    "      [2, 8, 7, 4, 1, 9, 6, 3, 5],\n",
    "      [3, 4, 5, 2, 8, 6, 1, 7, 9]\n",
    "    ])\n",
    "    ```\n",
    "  - ผลลัพธ์ `check_sudoku(board)` จะคืนค่า `'True'`\n",
    "\n",
    "\n",
    "  ```\n",
    "  board = np.array([\n",
    "    [9, 9, 1, 8, 6, 7, 2, 5, 3],\n",
    "    [8, 2, 6, 3, 9, 5, 1, 7, 4],\n",
    "    [3, 5, 7, 1, 2, 4, 6, 8, 9],\n",
    "    [4, 6, 3, 5, 6, 1, 9, 2, 8],\n",
    "    [7, 1, 2, 6, 8, 9, 4, 3, 5],\n",
    "    [5, 8, 9, 4, 3, 2, 7, 6, 1],\n",
    "    [1, 7, 5, 2, 4, 8, 3, 9, 6],\n",
    "    [2, 3, 4, 9, 5, 6, 8, 1, 7],\n",
    "    [6, 9, 8, 7, 1, 3, 5, 4, 2]\n",
    "  ])\n",
    "  ```\n",
    "  -  ผลลัพธ์ `check_sudoku(board)` จะคืนค่า `('False', ['Duplicate numbers 9 in row 1', 'Duplicate numbers 6 in row 4', 'Duplicate numbers 9 in column 2', 'Duplicate numbers 6 in column 5', 'Duplicate numbers 9 in subgrid 1', 'Duplicate numbers 6 in subgrid 5'])`"
   ]
  },
  {
   "cell_type": "code",
   "execution_count": 330,
   "metadata": {
    "deletable": false,
    "nbgrader": {
     "cell_type": "code",
     "checksum": "dda8f697853b856b762456fa2b66abee",
     "grade": false,
     "grade_id": "cell-ef97922ae6f0e529",
     "locked": false,
     "schema_version": 3,
     "solution": true,
     "task": false
    },
    "tags": []
   },
   "outputs": [],
   "source": [
    "def check_sudoku(board):\n",
    "    # YOUR CODE HERE\n",
    "    row_error = []\n",
    "    col_error = []\n",
    "    sub_error = []\n",
    "    li_subgrid = []\n",
    "    for row in range(0,7,3):\n",
    "        for col in range(0,7,3):\n",
    "            li_subgrid.append(board[row:row+3,col:col+3])\n",
    "        \"\"\" subgrid = [board[:3,:3]\n",
    "             ,board[:3,3:6]\n",
    "             ,board[:3,6:9]\n",
    "             ,board[3:6,:3]\n",
    "             ,board[3:6,3:6]\n",
    "             ,board[3:6,6:9]\n",
    "             ,board[6:9,:3]\n",
    "             ,board[6:9,3:6]\n",
    "             ,board[6:9,6:9]] \"\"\"\n",
    "    for i in range(9):\n",
    "        num_row , count_row =np.unique(board[i:i+1,:], return_counts=True)\n",
    "        zip_row = dict(zip(num_row,count_row))\n",
    "        head_row = list(zip_row.keys())\n",
    "        c_row = list(zip_row.values())\n",
    "        for j in c_row:#check row\n",
    "            if j > 1:\n",
    "                row_error.append(f\"Duplicate numbers {head_row[c_row.index(j)]} in row {i+1}\")\n",
    "        #print(f'row {i}',counter_row)\n",
    "        num_cu , count_cu = np.unique(board[:,i:i+1], return_counts=True)\n",
    "        zip_cu = dict(zip(num_cu,count_cu))\n",
    "        head_cu = list(zip_cu.keys())\n",
    "        c_cu = list(zip_cu.values())\n",
    "        for k in c_cu:# column\n",
    "            if k > 1:\n",
    "                col_error.append(f\"Duplicate numbers {head_cu[c_cu.index(k)]} in column {i+1}\")\n",
    "        #print(f'cul {i}',counter_cu)\n",
    "    for i in range(len(li_subgrid)):\n",
    "        c = 0\n",
    "        num_sub , count_sub = np.unique(li_subgrid[i],return_counts=True)\n",
    "        zip_sub = dict(zip(num_sub,count_sub))\n",
    "        head_sub = list(zip_sub.keys())\n",
    "        c_sub = list(zip_sub.values())\n",
    "        for j in c_sub:# li_subgrid\n",
    "            if j >1:\n",
    "                sub_error.append(f\"Duplicate numbers {head_sub[c_sub.index(j)]} in subgrid {i+1}\")\n",
    "    ans = row_error+col_error+sub_error\n",
    "    if len(ans) != 0:\n",
    "        print(ans)\n",
    "        return 'False',ans\n",
    "    else:\n",
    "        return 'True'"
   ]
  },
  {
   "cell_type": "markdown",
   "metadata": {},
   "source": [
    "<mark>DO NOT CHANGE THE FOLLOWING LINES</mark>"
   ]
  },
  {
   "cell_type": "code",
   "execution_count": 331,
   "metadata": {
    "deletable": false,
    "editable": false,
    "nbgrader": {
     "cell_type": "code",
     "checksum": "37a287ab991ddcfff7d218180d8666fb",
     "grade": true,
     "grade_id": "cell-f23c9f23d2024a0d",
     "locked": true,
     "points": 5,
     "schema_version": 3,
     "solution": false,
     "task": false
    },
    "tags": []
   },
   "outputs": [],
   "source": [
    "# Case 1\n",
    "board1 = np.array([\n",
    "    [8, 3, 5, 4, 1, 6, 9, 2, 7],\n",
    "    [2, 9, 6, 8, 5, 7, 4, 3, 1],\n",
    "    [4, 1, 7, 9, 2, 3, 6, 5, 8],\n",
    "    [5, 6, 9, 1, 3, 4, 7, 8, 2],\n",
    "    [1, 2, 3, 6, 7, 8, 5, 9, 4],\n",
    "    [7, 4, 8, 5, 9, 2, 1, 6, 3],\n",
    "    [6, 5, 2, 7, 8, 1, 3, 4, 9],\n",
    "    [9, 8, 1, 3, 4, 5, 2, 7, 6],\n",
    "    [3, 7, 4, 2, 6, 9, 8, 1, 5]\n",
    "])\n",
    "assert check_sudoku(board1) == 'True'"
   ]
  },
  {
   "cell_type": "code",
   "execution_count": 332,
   "metadata": {
    "deletable": false,
    "editable": false,
    "nbgrader": {
     "cell_type": "code",
     "checksum": "7bd70fecf5842a36236162f78b8ae844",
     "grade": true,
     "grade_id": "cell-5a57a7c9cc5cb1f3",
     "locked": true,
     "points": 5,
     "schema_version": 3,
     "solution": false,
     "task": false
    },
    "tags": []
   },
   "outputs": [
    {
     "name": "stdout",
     "output_type": "stream",
     "text": [
      "['Duplicate numbers 2 in row 4', 'Duplicate numbers 2 in column 5', 'Duplicate numbers 2 in subgrid 5']\n"
     ]
    }
   ],
   "source": [
    "# Case 2\n",
    "board2 = np.array([\n",
    "    [8, 3, 6, 2, 5, 7, 9, 4, 1],\n",
    "    [2, 1, 9, 3, 6, 4, 8, 7, 5],\n",
    "    [5, 4, 7, 1, 9, 8, 2, 6, 3],\n",
    "    [4, 7, 5, 6, 2, 1, 3, 2, 9],\n",
    "    [9, 6, 2, 5, 7, 3, 4, 1, 8],\n",
    "    [3, 8, 1, 4, 2, 9, 6, 5, 7],\n",
    "    [6, 2, 8, 9, 1, 5, 7, 3, 4],\n",
    "    [1, 9, 3, 7, 4, 6, 5, 8, 2],\n",
    "    [7, 5, 4, 8, 3, 2, 1, 9, 6]\n",
    "])\n",
    "assert check_sudoku(board2) == ('False', ['Duplicate numbers 2 in row 4', 'Duplicate numbers 2 in column 5', 'Duplicate numbers 2 in subgrid 5'])"
   ]
  },
  {
   "cell_type": "code",
   "execution_count": 333,
   "metadata": {
    "deletable": false,
    "editable": false,
    "nbgrader": {
     "cell_type": "code",
     "checksum": "987f984011c03a389a5b7c6ca9051b80",
     "grade": true,
     "grade_id": "cell-046d221069ed3da4",
     "locked": true,
     "points": 5,
     "schema_version": 3,
     "solution": false,
     "task": false
    },
    "tags": []
   },
   "outputs": [
    {
     "name": "stdout",
     "output_type": "stream",
     "text": [
      "['Duplicate numbers 7 in row 1', 'Duplicate numbers 7 in column 5', 'Duplicate numbers 7 in subgrid 2']\n"
     ]
    }
   ],
   "source": [
    "# Case 3\n",
    "board3 = np.array([\n",
    "    [5, 4, 7, 6, 7, 2, 3, 8, 1],\n",
    "    [2, 6, 9, 3, 8, 1, 7, 4, 5],\n",
    "    [3, 1, 8, 7, 4, 5, 6, 9, 2],\n",
    "    [4, 2, 5, 1, 3, 6, 9, 7, 8],\n",
    "    [8, 9, 3, 2, 7, 4, 1, 5, 6],\n",
    "    [6, 7, 1, 9, 5, 8, 2, 3, 4],\n",
    "    [1, 3, 4, 8, 2, 7, 5, 6, 9],\n",
    "    [9, 8, 6, 5, 1, 3, 4, 2, 7],\n",
    "    [7, 5, 2, 4, 6, 9, 8, 1, 3]\n",
    "])\n",
    "\n",
    "assert check_sudoku(board3) == ('False', ['Duplicate numbers 7 in row 1', 'Duplicate numbers 7 in column 5', 'Duplicate numbers 7 in subgrid 2'])"
   ]
  },
  {
   "cell_type": "code",
   "execution_count": 334,
   "metadata": {
    "deletable": false,
    "editable": false,
    "nbgrader": {
     "cell_type": "code",
     "checksum": "83f5096801b5cff4a42088e4aa6dbda2",
     "grade": true,
     "grade_id": "cell-dbd02426bfb27b13",
     "locked": true,
     "points": 5,
     "schema_version": 3,
     "solution": false,
     "task": false
    },
    "tags": []
   },
   "outputs": [
    {
     "name": "stdout",
     "output_type": "stream",
     "text": [
      "['Duplicate numbers 2 in row 3', 'Duplicate numbers 2 in column 2', 'Duplicate numbers 2 in column 7', 'Duplicate numbers 2 in subgrid 1', 'Duplicate numbers 2 in subgrid 3']\n"
     ]
    }
   ],
   "source": [
    "# Case 4\n",
    "board4 = np.array([\n",
    "    [8, 3, 5, 4, 1, 6, 9, 2, 7],\n",
    "    [2, 9, 6, 8, 5, 7, 4, 3, 1],\n",
    "    [4, 2, 7, 9, 2, 3, 2, 5, 8],\n",
    "    [5, 6, 9, 1, 3, 4, 7, 8, 2],\n",
    "    [1, 2, 3, 6, 7, 8, 5, 9, 4],\n",
    "    [7, 4, 8, 5, 9, 2, 1, 6, 3],\n",
    "    [6, 5, 2, 7, 8, 1, 3, 4, 9],\n",
    "    [9, 8, 1, 3, 4, 5, 2, 7, 6],\n",
    "    [3, 7, 4, 2, 6, 9, 8, 1, 5]\n",
    "])\n",
    "\n",
    "assert check_sudoku(board4) == ('False', ['Duplicate numbers 2 in row 3', 'Duplicate numbers 2 in column 2', 'Duplicate numbers 2 in column 7', 'Duplicate numbers 2 in subgrid 1', 'Duplicate numbers 2 in subgrid 3'])"
   ]
  },
  {
   "cell_type": "code",
   "execution_count": 335,
   "metadata": {
    "deletable": false,
    "editable": false,
    "nbgrader": {
     "cell_type": "code",
     "checksum": "8590d2d4240339f55c8c75b5dc01c634",
     "grade": true,
     "grade_id": "cell-521a63ba8ccbab3e",
     "locked": true,
     "points": 5,
     "schema_version": 3,
     "solution": false,
     "task": false
    },
    "tags": []
   },
   "outputs": [
    {
     "name": "stdout",
     "output_type": "stream",
     "text": [
      "['Duplicate numbers 9 in row 1', 'Duplicate numbers 6 in row 4', 'Duplicate numbers 9 in column 2', 'Duplicate numbers 6 in column 5', 'Duplicate numbers 9 in subgrid 1', 'Duplicate numbers 6 in subgrid 5']\n"
     ]
    }
   ],
   "source": [
    "# Case 5\n",
    "board5 = np.array([\n",
    "    [9, 9, 1, 8, 6, 7, 2, 5, 3],\n",
    "    [8, 2, 6, 3, 9, 5, 1, 7, 4],\n",
    "    [3, 5, 7, 1, 2, 4, 6, 8, 9],\n",
    "    [4, 6, 3, 5, 6, 1, 9, 2, 8],\n",
    "    [7, 1, 2, 6, 8, 9, 4, 3, 5],\n",
    "    [5, 8, 9, 4, 3, 2, 7, 6, 1],\n",
    "    [1, 7, 5, 2, 4, 8, 3, 9, 6],\n",
    "    [2, 3, 4, 9, 5, 6, 8, 1, 7],\n",
    "    [6, 9, 8, 7, 1, 3, 5, 4, 2]\n",
    "])\n",
    "\n",
    "assert check_sudoku(board5) == ('False', ['Duplicate numbers 9 in row 1', 'Duplicate numbers 6 in row 4', 'Duplicate numbers 9 in column 2', 'Duplicate numbers 6 in column 5', 'Duplicate numbers 9 in subgrid 1', 'Duplicate numbers 6 in subgrid 5'])"
   ]
  }
 ],
 "metadata": {
  "kernelspec": {
   "display_name": "base",
   "language": "python",
   "name": "python3"
  },
  "language_info": {
   "codemirror_mode": {
    "name": "ipython",
    "version": 3
   },
   "file_extension": ".py",
   "mimetype": "text/x-python",
   "name": "python",
   "nbconvert_exporter": "python",
   "pygments_lexer": "ipython3",
   "version": "3.12.4"
  }
 },
 "nbformat": 4,
 "nbformat_minor": 4
}
