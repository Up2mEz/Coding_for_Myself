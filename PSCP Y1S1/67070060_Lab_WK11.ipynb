{
 "cells": [
  {
   "cell_type": "markdown",
   "metadata": {},
   "source": [
    "                                        practice_dict_set\n",
    "\n",
    "September, 2024\n",
    "\n",
    "1 Dictionaries and Sets (Unordered)\n",
    "\n",
    "1.1 Dictionaries\n",
    "\n",
    "1.1.1 Basic Dictionary Operations"
   ]
  },
  {
   "cell_type": "code",
   "execution_count": null,
   "metadata": {},
   "outputs": [],
   "source": [
    "x = \"asdfsadsadfsdfsadf\"\n",
    "x = sorted(list(x))\n",
    "print(x)"
   ]
  },
  {
   "cell_type": "code",
   "execution_count": 1,
   "metadata": {},
   "outputs": [
    {
     "name": "stdout",
     "output_type": "stream",
     "text": [
      "<class 'dict'>\n",
      "4\n"
     ]
    }
   ],
   "source": [
    "stock_codes = { 'ptt': 'PTT Public Company Limited',\n",
    "               'ptt': 'PTT Exploration And Production',\n",
    "               'aot': 'Airports Of Thailand Public Company',\n",
    "                'gulf': 'Gulf Energy Development Public Company',\n",
    "                'cpall': 'CP All Public Company Limited'}\n",
    "print(type(stock_codes)) # <class 'dict'>\n",
    "print(len(stock_codes))"
   ]
  },
  {
   "cell_type": "code",
   "execution_count": 2,
   "metadata": {},
   "outputs": [
    {
     "name": "stdout",
     "output_type": "stream",
     "text": [
      "<class 'dict'>\n",
      "5\n"
     ]
    }
   ],
   "source": [
    "stock_price = { 'ptt': 36.72,\n",
    "                'pttep': 165.03,\n",
    "                'aot': 71.85,\n",
    "                'gulf': 56.05, \n",
    "                'cpall': 56.05 }\n",
    "\n",
    "print(type(stock_price)) # <class 'dict'>\n",
    "print(len(stock_price))"
   ]
  },
  {
   "cell_type": "code",
   "execution_count": 3,
   "metadata": {},
   "outputs": [
    {
     "name": "stdout",
     "output_type": "stream",
     "text": [
      "PTT Exploration And Production\n",
      "36.72\n"
     ]
    }
   ],
   "source": [
    "# 3) Accessing data with indexing by key\n",
    "print(stock_codes['ptt']) # PTT Public Company Limited\n",
    "print(stock_price['ptt']) # 36.72"
   ]
  },
  {
   "cell_type": "code",
   "execution_count": 4,
   "metadata": {},
   "outputs": [
    {
     "name": "stdout",
     "output_type": "stream",
     "text": [
      "\n",
      "=============================\n",
      "PTT Exploration And Production\n",
      "\n",
      "=============================\n",
      "Airports Of Thailand Public Company\n",
      "\n",
      "=============================\n",
      "Gulf Energy Development Public Company\n",
      "\n",
      "=============================\n",
      "CP All Public Company Limited\n",
      "\n",
      "=============================\n",
      "ptt\n",
      "\n",
      "=============================\n",
      "aot\n",
      "\n",
      "=============================\n",
      "gulf\n",
      "\n",
      "=============================\n",
      "cpall\n",
      "\n",
      "=============================\n",
      "ptt current market price is 36.72 baht.\n",
      "\n",
      "=============================\n",
      "pttep current market price is 165.03 baht.\n",
      "\n",
      "=============================\n",
      "aot current market price is 71.85 baht.\n",
      "\n",
      "=============================\n",
      "gulf current market price is 56.05 baht.\n",
      "\n",
      "=============================\n",
      "cpall current market price is 56.05 baht.\n",
      "\n",
      "=============================\n",
      "current price of ptt is 36.72000 baht.\n",
      "current price of pttep is 165.03000 baht.\n",
      "current price of aot is 71.85000 baht.\n",
      "current price of gulf is 56.05000 baht.\n",
      "current price of cpall is 56.05000 baht.\n"
     ]
    }
   ],
   "source": [
    "print('\\n=============================')\n",
    "for stock in stock_codes.values():\n",
    "    print(stock) # value\n",
    "    print('\\n=============================')\n",
    "for stock in stock_codes.keys():\n",
    "    print(stock) # key\n",
    "    print('\\n=============================')\n",
    "for stock, price in stock_price.items():\n",
    "    print(f'{stock} current market price is {price} baht.') # print key␣and value\n",
    "    print('\\n=============================')\n",
    "# %s is a place where a string will be placed\n",
    "# %2.5f is a place where a floating number with 5 floating points will be placed\n",
    "for stock, price in stock_price.items():\n",
    "    print('current price of %s is %2.5f baht.' %(stock, price)) # print key␣"
   ]
  },
  {
   "cell_type": "markdown",
   "metadata": {},
   "source": [
    "Modify a Dictionary"
   ]
  },
  {
   "cell_type": "code",
   "execution_count": 5,
   "metadata": {},
   "outputs": [
    {
     "name": "stdout",
     "output_type": "stream",
     "text": [
      "New PTT Company Name\n"
     ]
    }
   ],
   "source": [
    "stock_codes['ptt'] = 'New PTT Company Name'\n",
    "print(stock_codes['ptt']) # New PTT Company Name"
   ]
  },
  {
   "cell_type": "code",
   "execution_count": 6,
   "metadata": {},
   "outputs": [
    {
     "name": "stdout",
     "output_type": "stream",
     "text": [
      "6\n",
      "{'ptt': 36.72, 'pttep': 165.03, 'aot': 71.85, 'gulf': 56.05, 'cpall': 56.05, 'cpf': 25.82}\n",
      "{'ptt': 36.72, 'pttep': 165.03, 'aot': 71.85, 'gulf': 56.05, 'cpall': 56.05, 'cpf': 25.82, 'new_key': 123}\n",
      "{'ptt': 36.72, 'pttep': 165.03, 'aot': 71.85, 'gulf': 56.05, 'cpall': 56.05, 'cpf': 25.82, 'new_key': 'new_value'}\n"
     ]
    }
   ],
   "source": [
    "stock_price['cpf'] = 25.82 # ther is no key 'cpf' in a dictionary yet, so,␣adding it is OK\n",
    "print(len(stock_price)) # change from 5 items to 6 from the adding␣statement above\n",
    "print(stock_price)\n",
    "# Add a new key:value pair with update() function\n",
    "stock_price.update({'new_key': 123})\n",
    "print(stock_price)\n",
    "\n",
    "stock_price.update({'new_key': 'new_value'}) # replace a 'new_key' key's␣value with 'new_value'\n",
    "print(stock_price)"
   ]
  },
  {
   "cell_type": "code",
   "execution_count": 7,
   "metadata": {},
   "outputs": [
    {
     "name": "stdout",
     "output_type": "stream",
     "text": [
      "6\n",
      "{'ptt': 36.72, 'pttep': 165.03, 'gulf': 56.05, 'cpall': 56.05, 'cpf': 25.82, 'new_key': 'new_value'}\n",
      "5\n",
      "{'ptt': 36.72, 'gulf': 56.05, 'cpall': 56.05, 'cpf': 25.82, 'new_key': 'new_value'}\n"
     ]
    }
   ],
   "source": [
    "del stock_price['aot']\n",
    "print(len(stock_price)) # 5\n",
    "print(stock_price) # no 'aot'\n",
    "# B. use dictionalry.pop() function\n",
    "stock_price.pop('pttep')\n",
    "print(len(stock_price)) # 4\n",
    "print(stock_price) # no 'pttep'"
   ]
  },
  {
   "cell_type": "markdown",
   "metadata": {},
   "source": [
    "Finding a specific key in Dinctionrary"
   ]
  },
  {
   "cell_type": "code",
   "execution_count": 8,
   "metadata": {},
   "outputs": [
    {
     "name": "stdout",
     "output_type": "stream",
     "text": [
      "True\n",
      "True\n",
      "False\n"
     ]
    }
   ],
   "source": [
    "print('gulf' in stock_price) # True\n",
    "print('aot' not in stock_price) # True, deleted from the example 7)\n",
    "print('kbank' in stock_price) # False"
   ]
  },
  {
   "cell_type": "markdown",
   "metadata": {},
   "source": [
    "Convert dictionary to list"
   ]
  },
  {
   "cell_type": "code",
   "execution_count": 9,
   "metadata": {},
   "outputs": [
    {
     "name": "stdout",
     "output_type": "stream",
     "text": [
      "['ptt', 'gulf', 'cpall', 'cpf', 'new_key']\n",
      "[36.72, 56.05, 56.05, 25.82, 'new_value']\n",
      "[('ptt', 36.72), ('gulf', 56.05), ('cpall', 56.05), ('cpf', 25.82), ('new_key', 'new_value')]\n"
     ]
    }
   ],
   "source": [
    "st_name = list(stock_price.keys())\n",
    "print(st_name) # ['ptt', 'gulf', 'cpall', 'cpf']\n",
    "# 10) Convert Values to List\n",
    "st_price = list(stock_price.values())\n",
    "print(st_price) # [36.72, 56.05, 56.05, 25.82]\n",
    "# 11) Convert items to List\n",
    "st_items = list(stock_price.items())\n",
    "print(st_items)"
   ]
  },
  {
   "cell_type": "markdown",
   "metadata": {},
   "source": [
    "1.1.2 Dictionary Comparisons\n",
    "\n",
    "Comparison operators: == and !="
   ]
  },
  {
   "cell_type": "code",
   "execution_count": 10,
   "metadata": {},
   "outputs": [
    {
     "name": "stdout",
     "output_type": "stream",
     "text": [
      "True\n",
      "False\n",
      "False\n"
     ]
    }
   ],
   "source": [
    "fruits_1 = {'mango': 100, 'durian': 500, 'apple': 100}\n",
    "fruits_2 = {'durian': 500, 'mango': 100, 'apple': 100}\n",
    "fruits_3 = {'orange': 77, 'avocado': 88, 'grape': 99}\n",
    "print(fruits_1 == fruits_2) # True because they have the same key:value␣items regardless of the order\n",
    "print(fruits_1 == fruits_3) # False because different key:value items\n",
    "print(fruits_2 == fruits_3) # False because different key:value items"
   ]
  },
  {
   "cell_type": "markdown",
   "metadata": {},
   "source": [
    "1.1.3 Dictionary Comprehensions\n",
    "\n",
    "var = {key_name: value_name for key_name, value_name in dict.items()}\n"
   ]
  },
  {
   "cell_type": "code",
   "execution_count": 11,
   "metadata": {},
   "outputs": [
    {
     "name": "stdout",
     "output_type": "stream",
     "text": [
      "{'mango': 100, 'durian': 500, 'apple': 100}\n",
      "{100: 'apple', 500: 'durian'}\n",
      "{'alex': 98.0, 'alice': 82.5, 'alan': 99.5}\n"
     ]
    }
   ],
   "source": [
    "# 13) Dictionary Comprehension\n",
    "# unpack a dictionary into a variable\n",
    "fruits = {names: prices for names, prices in fruits_1.items()}\n",
    "print(fruits) # {'mango': 100, 'durian': 500, 'apple': 100}\n",
    "# unpack a dictionary in reverse order (swap between names and prices) into a␣variable\n",
    "fruits = {prices: names for names, prices in fruits_1.items()}\n",
    "print(fruits) # {100: 'apple', 500: 'durian'}\n",
    "# Be careful, the key must be uniqued, otherwise, the duplicated key will be␣replaced\n",
    "# Calculate the average score of each students\n",
    "students_score = {'alex': [99, 98, 97], 'alice': [88, 77], 'alan': [99, 100,99, 100]}\n",
    "fruits_ave_price = {names: sum(ave)/len(ave) for names, ave in students_score.items()}\n",
    "print(fruits_ave_price)"
   ]
  },
  {
   "cell_type": "markdown",
   "metadata": {},
   "source": [
    "1.2 Sets\n",
    "\n",
    "1.2.1 Basic Set Operations\n",
    "\n",
    "Define Set\n"
   ]
  },
  {
   "cell_type": "code",
   "execution_count": 12,
   "metadata": {},
   "outputs": [
    {
     "name": "stdout",
     "output_type": "stream",
     "text": [
      "{'Pentagon', 'triangle', 'rectangle', 'Octagon'}\n",
      "{0, 2, 4, 6, 8}\n",
      "{0, 1, 2, 3, -1, -3, -2}\n",
      "[-3, -2, -1, 0, 1, 2, 3]\n"
     ]
    }
   ],
   "source": [
    "shapes = {'triangle','rectangle', 'Pentagon', 'Octagon', 'Pentagon'}\n",
    "print(shapes) # {'Triangle', 'Rectangle', 'Octagon', 'Pentagon'} # Only␣Pentagon remain\n",
    "# set by set() function\n",
    "even_numbers_set = set(range(0,10,2))\n",
    "print(even_numbers_set) # {0, 2, 4, 6, 8}\n",
    "integer_set = set(range(-3, 4))\n",
    "print(integer_set) # {0, 1, 2, 3, -1, -3, -2} <-- no order\n",
    "integer_list = list(range(-3, 4)) #\n",
    "print(integer_list) #"
   ]
  },
  {
   "cell_type": "markdown",
   "metadata": {},
   "source": [
    "Accessing Set Elements"
   ]
  },
  {
   "cell_type": "code",
   "execution_count": 13,
   "metadata": {},
   "outputs": [
    {
     "name": "stdout",
     "output_type": "stream",
     "text": [
      "0\n",
      "1\n",
      "2\n",
      "3\n",
      "-1\n",
      "-3\n",
      "-2\n",
      "True\n",
      "False\n"
     ]
    }
   ],
   "source": [
    "for item in integer_set:\n",
    "    print(item)\n",
    "# 16) Checking if an element is a member of a Set\n",
    "print(-3 in integer_set) # True\n",
    "print(10 in integer_set) # False"
   ]
  },
  {
   "cell_type": "markdown",
   "metadata": {},
   "source": [
    "1.2.2 Set Comparison"
   ]
  },
  {
   "cell_type": "code",
   "execution_count": 14,
   "metadata": {},
   "outputs": [
    {
     "name": "stdout",
     "output_type": "stream",
     "text": [
      "True\n",
      "False\n",
      "True\n"
     ]
    }
   ],
   "source": [
    "print({1, 2, 3} == {3, 2, 1}) # True: both sets have the same eliments␣(no order)\n",
    "print({1, 2, 3} == {1, 2, 3, 4}) # False: different elements\n",
    "print({1, 2, 3} != {1, 2, 3, 4}) # True: different elements"
   ]
  },
  {
   "cell_type": "code",
   "execution_count": 15,
   "metadata": {},
   "outputs": [
    {
     "name": "stdout",
     "output_type": "stream",
     "text": [
      "True\n",
      "False\n",
      "True\n",
      "True\n",
      "True\n",
      "True\n"
     ]
    }
   ],
   "source": [
    "print({1, 2} < {1, 2, 3}) # True\n",
    "print({1, 2} < {1, 2}) # False\n",
    "\n",
    "print({1, 2} <= {1, 2, 3}) # True\n",
    "print({1, 2} <= {1, 2}) # True\n",
    "\n",
    "print({1, 2}.issubset({1, 2, 3})) # True\n",
    "print({1, 2}.issubset({1, 2})) # True"
   ]
  },
  {
   "cell_type": "code",
   "execution_count": 16,
   "metadata": {},
   "outputs": [
    {
     "name": "stdout",
     "output_type": "stream",
     "text": [
      "True\n",
      "False\n",
      "True\n",
      "True\n",
      "True\n",
      "True\n"
     ]
    }
   ],
   "source": [
    "print({1, 2, 3} > {1, 2}) # True\n",
    "print({1, 2} > {1, 2}) # False\n",
    "\n",
    "print({1, 2, 3} >= {1, 2}) # True\n",
    "print({1, 2} >= {1, 2}) # True\n",
    "\n",
    "print({1, 2, 3}.issuperset({1, 2})) # True\n",
    "print({1, 2}.issuperset({1, 2})) # True"
   ]
  },
  {
   "cell_type": "markdown",
   "metadata": {},
   "source": [
    "1.2.3 Mathematical Operations"
   ]
  },
  {
   "cell_type": "code",
   "execution_count": 17,
   "metadata": {},
   "outputs": [
    {
     "name": "stdout",
     "output_type": "stream",
     "text": [
      "{1, 2, 3, 4}\n",
      "{1, 2, 3, 4}\n"
     ]
    }
   ],
   "source": [
    "set_a = {1, 2, 3}\n",
    "set_b = {2, 3, 4}\n",
    "union_ab = set_a.union(set_b)\n",
    "union_ab2 = set_a | set_b # alternative method with | symbol\n",
    "print(union_ab) # {1, 2, 3, 4}\n",
    "print(union_ab2) # {1, 2, 3, 4}"
   ]
  },
  {
   "cell_type": "code",
   "execution_count": 18,
   "metadata": {},
   "outputs": [
    {
     "name": "stdout",
     "output_type": "stream",
     "text": [
      "{2, 3}\n",
      "{2, 3}\n",
      "{2, 3}\n"
     ]
    }
   ],
   "source": [
    "intersect_ab = set_a.intersection(set_b)\n",
    "intersect_ba = set_b.intersection(set_a)\n",
    "intersect_ba2 = set_b & set_a # alternative method with & symbol\n",
    "print(intersect_ab) # {2, 3}\n",
    "print(intersect_ba) # {2, 3}\n",
    "print(intersect_ba2) # {2, 3}\n"
   ]
  },
  {
   "cell_type": "code",
   "execution_count": 19,
   "metadata": {},
   "outputs": [
    {
     "name": "stdout",
     "output_type": "stream",
     "text": [
      "{1}\n",
      "{4}\n",
      "{4}\n"
     ]
    }
   ],
   "source": [
    "diff_ab = set_a.difference(set_b)\n",
    "diff_ba = set_b.difference(set_a)\n",
    "diff_ba2 = set_b - set_a # alternative method with - symbol\n",
    "print(diff_ab) # {1}\n",
    "print(diff_ba) # {4}\n",
    "print(diff_ba2) # {4}"
   ]
  },
  {
   "cell_type": "code",
   "execution_count": 20,
   "metadata": {},
   "outputs": [
    {
     "name": "stdout",
     "output_type": "stream",
     "text": [
      "{1, 4}\n",
      "{1, 4}\n",
      "{1, 4}\n"
     ]
    }
   ],
   "source": [
    "sym_diff_ab = set_a.symmetric_difference(set_b)\n",
    "sym_diff_ba = set_b.symmetric_difference(set_a)\n",
    "sym_diff_ba2 = set_b ^ set_a # alternative method with ^ symbol\n",
    "print(sym_diff_ab) # {1, 4}\n",
    "print(sym_diff_ba) # {1, 4}\n",
    "print(sym_diff_ba2) # {1, 4}"
   ]
  },
  {
   "cell_type": "code",
   "execution_count": 21,
   "metadata": {},
   "outputs": [
    {
     "name": "stdout",
     "output_type": "stream",
     "text": [
      "True\n",
      "False\n"
     ]
    }
   ],
   "source": [
    "set_c = {'alex', 'alice'}\n",
    "set_d = {'alan', 'ally'}\n",
    "set_e = {'alex', 'alan'}\n",
    "print(set_c.isdisjoint(set_d)) # True\n",
    "print(set_c.isdisjoint(set_e)) # False"
   ]
  },
  {
   "cell_type": "markdown",
   "metadata": {},
   "source": [
    "1.2.4 Operators and Methods (for Mutable Set)"
   ]
  },
  {
   "cell_type": "code",
   "execution_count": 22,
   "metadata": {},
   "outputs": [
    {
     "name": "stdout",
     "output_type": "stream",
     "text": [
      "{1, 17, 3, 23, 5, 7, 13}\n"
     ]
    }
   ],
   "source": [
    "prime_num = {1, 3, 5, 7}\n",
    "prime_num.update({13}) # cannot use only number, for example, prime_num.update(13) causes an error\n",
    "prime_num.update({17, 23})\n",
    "print(prime_num)\n",
    "prime_num_frozen = frozenset(prime_num)"
   ]
  },
  {
   "cell_type": "code",
   "execution_count": 23,
   "metadata": {},
   "outputs": [
    {
     "name": "stdout",
     "output_type": "stream",
     "text": [
      "{1, 17, 3, 23, 5, 7, 13, 31}\n"
     ]
    }
   ],
   "source": [
    "prime_num.add(31) # can use a number because it is an element\n",
    "print(prime_num)"
   ]
  },
  {
   "cell_type": "code",
   "execution_count": 24,
   "metadata": {},
   "outputs": [
    {
     "name": "stdout",
     "output_type": "stream",
     "text": [
      "{2, 4, 6, 8, 10, 12, 14, 16, 18}\n",
      "{2, 4, 6, 8, 12, 14, 16, 18}\n"
     ]
    }
   ],
   "source": [
    "even_num = {x for x in range(2, 20) if x%2==0} # Set Comprehension\n",
    "print(even_num)\n",
    "even_num.remove(10) # remove 10 from a set\n",
    "print(even_num)"
   ]
  },
  {
   "cell_type": "code",
   "execution_count": 25,
   "metadata": {},
   "outputs": [
    {
     "name": "stdout",
     "output_type": "stream",
     "text": [
      "{2, 4, 6, 8, 12, 14, 16, 18}\n"
     ]
    }
   ],
   "source": [
    "even_num.discard(10)\n",
    "print(even_num)"
   ]
  },
  {
   "cell_type": "code",
   "execution_count": 26,
   "metadata": {},
   "outputs": [
    {
     "name": "stdout",
     "output_type": "stream",
     "text": [
      "{4, 6, 8, 12, 14, 16, 18}\n"
     ]
    }
   ],
   "source": [
    "even_num.pop() # it removes an item every time it is executed\n",
    "print(even_num)"
   ]
  },
  {
   "cell_type": "code",
   "execution_count": 27,
   "metadata": {},
   "outputs": [
    {
     "name": "stdout",
     "output_type": "stream",
     "text": [
      "set()\n"
     ]
    }
   ],
   "source": [
    "even_num.clear()\n",
    "print(even_num)"
   ]
  }
 ],
 "metadata": {
  "kernelspec": {
   "display_name": "base",
   "language": "python",
   "name": "python3"
  },
  "language_info": {
   "codemirror_mode": {
    "name": "ipython",
    "version": 3
   },
   "file_extension": ".py",
   "mimetype": "text/x-python",
   "name": "python",
   "nbconvert_exporter": "python",
   "pygments_lexer": "ipython3",
   "version": "3.12.4"
  }
 },
 "nbformat": 4,
 "nbformat_minor": 2
}
