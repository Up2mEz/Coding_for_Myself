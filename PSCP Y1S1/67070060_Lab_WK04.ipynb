{
 "cells": [
  {
   "cell_type": "markdown",
   "metadata": {},
   "source": [
    "                                WK04_DecisionStructure_BooleanLogic_2024"
   ]
  },
  {
   "cell_type": "markdown",
   "metadata": {},
   "source": [
    "1 LAB: Decision Structure and Boolean Logic\n",
    "1.1 Boolean Logic\n",
    "1. Using Boolean operator with number"
   ]
  },
  {
   "cell_type": "code",
   "execution_count": 1,
   "metadata": {},
   "outputs": [
    {
     "name": "stdout",
     "output_type": "stream",
     "text": [
      "1 == 0 is  False\n",
      "1 != 0 is  True\n",
      "1 > 0 is  True\n",
      "1 < 0 is  False\n",
      "1 > 1 is  False\n",
      "1 < 1 is  False\n",
      "1 >= 1 is  True\n",
      "1 <= 1 is  True\n"
     ]
    }
   ],
   "source": [
    "print('1 == 0 is ', 1 == 0) # False\n",
    "print('1 != 0 is ', 1 != 0) # True\n",
    "print('1 > 0 is ', 1 > 0) # True\n",
    "print('1 < 0 is ', 1 < 0) # False\n",
    "print('1 > 1 is ', 1 > 1) # False\n",
    "print('1 < 1 is ', 1 < 1) # False\n",
    "print('1 >= 1 is ', 1 >= 1) # True\n",
    "print('1 <= 1 is ', 1 <= 1) # True"
   ]
  },
  {
   "cell_type": "markdown",
   "metadata": {},
   "source": [
    "2. Using Boolean operator with string"
   ]
  },
  {
   "cell_type": "code",
   "execution_count": 2,
   "metadata": {},
   "outputs": [
    {
     "name": "stdout",
     "output_type": "stream",
     "text": [
      "'a' > 'a' is  False\n",
      "'a' >= 'a' is  True\n",
      "'a' < 'a' is  False\n",
      "'a' <= 'a' is  True\n",
      "'Mary' > 'Mark' is  True\n",
      "'Mary' < 'Mark' is  False\n"
     ]
    }
   ],
   "source": [
    "print(\"\\'a\\' > \\'a\\' is \", 'a' > 'a') # False\n",
    "print(\"\\'a\\' >= \\'a\\' is \", 'a' >= 'a') # True\n",
    "print(\"\\'a\\' < \\'a\\' is \", 'a' < 'a') # False\n",
    "print(\"\\'a\\' <= \\'a\\' is \", 'a' <= 'a') # True\n",
    "print(\"\\'Mary\\' > \\'Mark\\' is \", 'Mary' > 'Mark') # True\n",
    "print(\"\\'Mary\\' < \\'Mark\\' is \", 'Mary' < 'Mark') # False"
   ]
  },
  {
   "cell_type": "markdown",
   "metadata": {},
   "source": [
    "3. Check if a variable x falls within the range"
   ]
  },
  {
   "cell_type": "code",
   "execution_count": 3,
   "metadata": {},
   "outputs": [
    {
     "name": "stdout",
     "output_type": "stream",
     "text": [
      "True\n",
      "True\n",
      "False\n",
      "False\n",
      "True\n",
      "True\n"
     ]
    }
   ],
   "source": [
    "x = 10\n",
    "print(1 < x < 20) # True, x is in between (1, 20)\n",
    "print(20 > x > 1) # True, x is in between (1, 20)\n",
    "print(10 < x < 20) # False, x is not in between (10, 20)\n",
    "print(20 > x > 10) # False, x is not in between (10, 20)\n",
    "print(10 <= x <= 20) # True, x is in between [10, 20]\n",
    "print(20 >= x >= 10) # True, x is in between [10, 20]"
   ]
  },
  {
   "cell_type": "markdown",
   "metadata": {},
   "source": [
    "1.2 Decision Structure\n",
    "1.2.1 The if Statement\n",
    "\n",
    "4. Check if a Number is Positive."
   ]
  },
  {
   "cell_type": "code",
   "execution_count": 6,
   "metadata": {},
   "outputs": [
    {
     "name": "stdout",
     "output_type": "stream",
     "text": [
      "The number is positive.\n"
     ]
    }
   ],
   "source": [
    "number = 5\n",
    "if number > 0:\n",
    "    print(\"The number is positive.\")"
   ]
  },
  {
   "cell_type": "markdown",
   "metadata": {},
   "source": [
    "5. Checking if a person is eligible for a discount based on their age."
   ]
  },
  {
   "cell_type": "code",
   "execution_count": 8,
   "metadata": {},
   "outputs": [
    {
     "name": "stdout",
     "output_type": "stream",
     "text": [
      "You are eligible for a senior discount.\n"
     ]
    }
   ],
   "source": [
    "age = 65\n",
    "discount_threshold = 60\n",
    "if age >= discount_threshold:\n",
    "    print(\"You are eligible for a senior discount.\")"
   ]
  },
  {
   "cell_type": "markdown",
   "metadata": {},
   "source": [
    "6. Checking if a number is even."
   ]
  },
  {
   "cell_type": "code",
   "execution_count": 13,
   "metadata": {},
   "outputs": [
    {
     "name": "stdout",
     "output_type": "stream",
     "text": [
      "The number is even.\n"
     ]
    }
   ],
   "source": [
    "num1 = 8\n",
    "if num1 % 2 == 0:\n",
    "    print(\"The number is even.\")\n",
    "num2 = 7\n",
    "if num2 % 2 == 0:\n",
    "    print(\"The number is even.\")"
   ]
  },
  {
   "cell_type": "markdown",
   "metadata": {},
   "source": [
    "1.2.2 The if-else Statement\n",
    "\n",
    "7. Check if a Number is Even or Odd."
   ]
  },
  {
   "cell_type": "code",
   "execution_count": 15,
   "metadata": {},
   "outputs": [
    {
     "name": "stdout",
     "output_type": "stream",
     "text": [
      "The number is odd.\n",
      "The number is even.\n"
     ]
    }
   ],
   "source": [
    "num1 = 9\n",
    "if num1 % 2 == 0:\n",
    "    print(\"The number is even.\")\n",
    "else:\n",
    "    print(\"The number is odd.\")\n",
    "num2 = 10\n",
    "\n",
    "if num2 % 2 == 0:\n",
    "    print(\"The number is even.\")\n",
    "else:\n",
    "    print(\"The number is odd.\")"
   ]
  },
  {
   "cell_type": "markdown",
   "metadata": {},
   "source": [
    "8. Find the Largest of Two Numbers."
   ]
  },
  {
   "cell_type": "code",
   "execution_count": 16,
   "metadata": {},
   "outputs": [
    {
     "name": "stdout",
     "output_type": "stream",
     "text": [
      "The largest number is: 20\n"
     ]
    }
   ],
   "source": [
    "num1 = 15\n",
    "num2 = 20\n",
    "if num1 > num2:\n",
    "    print(\"The largest number is:\", num1)\n",
    "else:\n",
    "    print(\"The largest number is:\", num2)"
   ]
  },
  {
   "cell_type": "markdown",
   "metadata": {},
   "source": [
    "9. Checking if a person is eligible for a discount based on their age and membership\n",
    "status."
   ]
  },
  {
   "cell_type": "code",
   "execution_count": 17,
   "metadata": {},
   "outputs": [
    {
     "name": "stdout",
     "output_type": "stream",
     "text": [
      "You are eligible for a senior discount.\n"
     ]
    }
   ],
   "source": [
    "age = 60\n",
    "discount_threshold = 60\n",
    "has_membership = True\n",
    "if age >= discount_threshold:\n",
    "    if has_membership:\n",
    "        print(\"You are eligible for a senior discount.\")\n",
    "    else:\n",
    "        print(\"You are not eligible for a senior discount.\")"
   ]
  },
  {
   "cell_type": "markdown",
   "metadata": {},
   "source": [
    "1.2.3 The if-elif-else Statement\n",
    "\n",
    "10. Checking if a number is positive, negative, or zero."
   ]
  },
  {
   "cell_type": "code",
   "execution_count": 20,
   "metadata": {},
   "outputs": [
    {
     "name": "stdout",
     "output_type": "stream",
     "text": [
      "5 is positive.\n"
     ]
    }
   ],
   "source": [
    "num = 5 # try with -5, 0, 5\n",
    "if num > 0:\n",
    "    print(f\"{num} is positive.\")\n",
    "elif num < 0:\n",
    "    print(f\"{num} is negative.\")\n",
    "else:\n",
    "    print(f\"{num} is zero.\")"
   ]
  },
  {
   "cell_type": "markdown",
   "metadata": {},
   "source": [
    "11. Checking the grade based on the exam score.\n",
    "\n",
    "I will get \"A\"."
   ]
  },
  {
   "cell_type": "code",
   "execution_count": 21,
   "metadata": {},
   "outputs": [
    {
     "name": "stdout",
     "output_type": "stream",
     "text": [
      "A\n"
     ]
    }
   ],
   "source": [
    "score = 90\n",
    "if score >= 90:\n",
    "    print(\"A\")\n",
    "elif score >= 80:\n",
    "    print(\"B\")\n",
    "elif score >= 70:\n",
    "    print(\"C\")\n",
    "elif score >= 60:\n",
    "    print(\"D\")\n",
    "else:\n",
    "    print(\"F\")"
   ]
  },
  {
   "cell_type": "markdown",
   "metadata": {},
   "source": [
    "12. Checking the season based on the month."
   ]
  },
  {
   "cell_type": "code",
   "execution_count": 22,
   "metadata": {},
   "outputs": [
    {
     "name": "stdout",
     "output_type": "stream",
     "text": [
      "Summer\n"
     ]
    }
   ],
   "source": [
    "month = 8\n",
    "if 3 <= month <= 5:\n",
    "    print(\"Spring\")\n",
    "elif 6 <= month <= 8:\n",
    "    print(\"Summer\")\n",
    "elif 9 <= month <= 11:\n",
    "    print(\"Autumn\")\n",
    "else:\n",
    "    print(\"Winter\")"
   ]
  },
  {
   "cell_type": "markdown",
   "metadata": {},
   "source": [
    "13. Simple Calculator."
   ]
  },
  {
   "cell_type": "code",
   "execution_count": 27,
   "metadata": {},
   "outputs": [
    {
     "name": "stdout",
     "output_type": "stream",
     "text": [
      "Result: 50\n"
     ]
    }
   ],
   "source": [
    "num1 = 10\n",
    "num2 = 5\n",
    "operator = '*'\n",
    "if operator == '+':\n",
    "    result = num1 + num2\n",
    "elif operator == '-':\n",
    "    result = num1 - num2\n",
    "\n",
    "elif operator == '*':\n",
    "    result = num1 * num2\n",
    "elif operator == '/':\n",
    "    result = num1 / num2\n",
    "else:\n",
    "    print(\"Invalid operator.\")\n",
    "print(\"Result:\", result)"
   ]
  },
  {
   "cell_type": "markdown",
   "metadata": {},
   "source": [
    "14. Simple ATM Interface."
   ]
  },
  {
   "cell_type": "code",
   "execution_count": 34,
   "metadata": {},
   "outputs": [
    {
     "name": "stdout",
     "output_type": "stream",
     "text": [
      "Withdrawal of $1000 successful. Your current balance is $0.\n"
     ]
    }
   ],
   "source": [
    "balance = 1000\n",
    "choice = \"withdraw\"\n",
    "amount = 1000\n",
    "if choice == \"deposit\":\n",
    "    balance = balance+ amount\n",
    "    print(f\"Deposit of ${amount} successful. Your current balance is ${balance}.\")\n",
    "elif choice == \"withdraw\":\n",
    "    if amount <= balance:\n",
    "        balance = balance- amount\n",
    "        print(f\"Withdrawal of ${amount} successful. Your current balance is ${balance}.\")\n",
    "    else:\n",
    "        print(\"Insufficient funds.\")\n",
    "else:\n",
    "    print(\"Invalid choice.\")"
   ]
  },
  {
   "cell_type": "markdown",
   "metadata": {},
   "source": [
    "15. Sorting Three Numbers."
   ]
  },
  {
   "cell_type": "code",
   "execution_count": 35,
   "metadata": {},
   "outputs": [
    {
     "name": "stdout",
     "output_type": "stream",
     "text": [
      "The numbers in ascending order: 5 20 35\n"
     ]
    }
   ],
   "source": [
    "num1 = 20\n",
    "num2 = 5\n",
    "num3 = 35\n",
    "if num1 <= num2 <= num3:\n",
    "    print(\"The numbers in ascending order:\", num1, num2, num3)\n",
    "elif num1 <= num3 <= num2:\n",
    "    print(\"The numbers in ascending order:\", num1, num3, num2)\n",
    "elif num2 <= num1 <= num3:\n",
    "    print(\"The numbers in ascending order:\", num2, num1, num3)\n",
    "elif num2 <= num3 <= num1:\n",
    "    print(\"The numbers in ascending order:\", num2, num3, num1)\n",
    "elif num3 <= num1 <= num2:\n",
    "    print(\"The numbers in ascending order:\", num3, num1, num2)\n",
    "else:\n",
    "    print(\"The numbers in ascending order:\", num3, num2, num1)\n"
   ]
  },
  {
   "cell_type": "markdown",
   "metadata": {},
   "source": [
    "1.3 Logical Operator\n",
    "\n",
    "16. Checking if a number is between 10 and 20 (inclusive)"
   ]
  },
  {
   "cell_type": "code",
   "execution_count": 36,
   "metadata": {},
   "outputs": [
    {
     "name": "stdout",
     "output_type": "stream",
     "text": [
      "15 is between 10 and 20 (inclusive).\n"
     ]
    }
   ],
   "source": [
    "num = 15\n",
    "if num >= 10 and num <= 20:\n",
    "    print(f\"{num} is between 10 and 20 (inclusive).\")"
   ]
  },
  {
   "cell_type": "markdown",
   "metadata": {},
   "source": [
    "17. Checking if a number is not between 10 and 20 (inclusive)"
   ]
  },
  {
   "cell_type": "code",
   "execution_count": 37,
   "metadata": {},
   "outputs": [
    {
     "name": "stdout",
     "output_type": "stream",
     "text": [
      "25 is not between 10 and 20 (inclusive).\n"
     ]
    }
   ],
   "source": [
    "num = 25\n",
    "if not (num >= 10 and num <= 20):\n",
    "    print(f\"{num} is not between 10 and 20 (inclusive).\")"
   ]
  },
  {
   "cell_type": "markdown",
   "metadata": {},
   "source": [
    "18. Combined examples 16 and 17"
   ]
  },
  {
   "cell_type": "code",
   "execution_count": 39,
   "metadata": {},
   "outputs": [
    {
     "name": "stdout",
     "output_type": "stream",
     "text": [
      "17 is between 10 and 20 (inclusive).\n"
     ]
    }
   ],
   "source": [
    "num = 17    \n",
    "if num >= 10 and num <= 20:\n",
    "    print(f\"{num} is between 10 and 20 (inclusive).\")\n",
    "else:\n",
    "    print(f\"{num} is not between 10 and 20 (inclusive).\")"
   ]
  },
  {
   "cell_type": "markdown",
   "metadata": {},
   "source": [
    "19. Checking if a person is eligible for a discount based on their age and whether they\n",
    "are a student."
   ]
  },
  {
   "cell_type": "code",
   "execution_count": 41,
   "metadata": {},
   "outputs": [
    {
     "name": "stdout",
     "output_type": "stream",
     "text": [
      "You are eligible for a discount.\n"
     ]
    }
   ],
   "source": [
    "age = 25\n",
    "is_student = True\n",
    "if age >= 60 or is_student:\n",
    "    print(\"You are eligible for a discount.\")"
   ]
  },
  {
   "cell_type": "markdown",
   "metadata": {},
   "source": [
    "20. Checking if a number is odd and greater than 20."
   ]
  },
  {
   "cell_type": "code",
   "execution_count": 42,
   "metadata": {},
   "outputs": [
    {
     "name": "stdout",
     "output_type": "stream",
     "text": [
      "25 is odd and greater than 20.\n"
     ]
    }
   ],
   "source": [
    "num = 25\n",
    "if num % 2 != 0 and num > 20:\n",
    "    print(f\"{num} is odd and greater than 20.\")"
   ]
  }
 ],
 "metadata": {
  "kernelspec": {
   "display_name": "base",
   "language": "python",
   "name": "python3"
  },
  "language_info": {
   "codemirror_mode": {
    "name": "ipython",
    "version": 3
   },
   "file_extension": ".py",
   "mimetype": "text/x-python",
   "name": "python",
   "nbconvert_exporter": "python",
   "pygments_lexer": "ipython3",
   "version": "3.12.4"
  }
 },
 "nbformat": 4,
 "nbformat_minor": 2
}
