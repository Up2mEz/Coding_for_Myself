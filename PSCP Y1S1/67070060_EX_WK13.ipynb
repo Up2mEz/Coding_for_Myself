{
 "cells": [
  {
   "cell_type": "markdown",
   "metadata": {},
   "source": [
    "Before you turn this problem in, make sure everything runs as expected. First, **restart the kernel** (in the menubar, select Kernel$\\rightarrow$Restart) and then **run all cells** (in the menubar, select Cell$\\rightarrow$Run All).\n",
    "\n",
    "Make sure you fill in any place that says `YOUR CODE HERE` or \"YOUR ANSWER HERE\"."
   ]
  },
  {
   "cell_type": "markdown",
   "metadata": {},
   "source": [
    "# SECTION 2 ONLY\n",
    "Name = \"Thanakrit Samoena\"\n",
    "\n",
    "Student ID = \"67070060\""
   ]
  },
  {
   "cell_type": "markdown",
   "metadata": {},
   "source": [
    "# String - Exercise\n",
    "\n",
    "**Write you codes after `# YOUR CODE HERE`**\n",
    "\n",
    "*ใช้ **ASCII.pdf** เป็นข้อมูลอ้างอิง (ถ้าจำเป็น)*\n",
    "\n",
    "<mark>**DO NOT IMPORT EXTERNAL LIBRARY OTHER THAN `string` **</mark>"
   ]
  },
  {
   "cell_type": "code",
   "execution_count": 175,
   "metadata": {},
   "outputs": [],
   "source": [
    "import string   # Use for all problems (if any)"
   ]
  },
  {
   "cell_type": "markdown",
   "metadata": {},
   "source": [
    "---\n",
    "## <mark>Exercise #1 **Count Consonants** (Total: 5 points)</mark>\n",
    "- พยัญชนะ (Consonants) คือ ตัวอักษรทั้งหมดในอักษรภาษาอังกฤษที่ไม่ใช่สระ\n",
    "- สร้างฟังก์ชัน `count_consonants()` ที่มีเงื่อนไขดังนี้\n",
    "    1) นับจำนวนพยัญชนะทั้งหมดในสตริงที่กำหนด\n",
    "    2) Return สตริงใหม่ที่ประกอบด้วยพยัญชนะ (ไม่มีสระ) จากสตริงต้นฉบับ\n",
    "- ตัวอย่างเช่น:\n",
    "    - `count_consonants('Hello World!')` จะได้เป็น `'HllWrld'` และจำนวนพยัญชนะทั้งหมดคือ `7`"
   ]
  },
  {
   "cell_type": "code",
   "execution_count": 176,
   "metadata": {
    "deletable": false,
    "nbgrader": {
     "cell_type": "code",
     "checksum": "2b223ac271f35d783775e5738c9aedc9",
     "grade": false,
     "grade_id": "cell-e1f0417099ed9857",
     "locked": false,
     "schema_version": 3,
     "solution": true,
     "task": false
    },
    "tags": []
   },
   "outputs": [],
   "source": [
    "def count_consonants(input_string):\n",
    "    # YOUR CODE HERE\n",
    "    con = \"AEIOUaieou\"\n",
    "    res = \"\"\n",
    "    count_con = 0\n",
    "    for i in input_string:\n",
    "        if i not in con and i.isalpha():\n",
    "            count_con += 1\n",
    "            res += i\n",
    "    return res,count_con"
   ]
  },
  {
   "cell_type": "markdown",
   "metadata": {},
   "source": [
    "<mark>DO NOT CHANGE THE FOLLOWING LINES</mark>\n",
    "\n",
    "<mark>**0.5 point per test**</mark>\n",
    "\n",
    "<mark>**Some tests are hidden**</mark>"
   ]
  },
  {
   "cell_type": "code",
   "execution_count": 177,
   "metadata": {
    "deletable": false,
    "editable": false,
    "nbgrader": {
     "cell_type": "code",
     "checksum": "4364bf4a2423c76239059bd9ae740e70",
     "grade": true,
     "grade_id": "cell-b6e6c1d11e23694b",
     "locked": true,
     "points": 0.5,
     "schema_version": 3,
     "solution": false,
     "task": false
    },
    "tags": []
   },
   "outputs": [],
   "source": [
    "# Test Case 1\n",
    "assert count_consonants('Hello World!') == ('HllWrld', 7)"
   ]
  },
  {
   "cell_type": "code",
   "execution_count": 178,
   "metadata": {
    "deletable": false,
    "editable": false,
    "nbgrader": {
     "cell_type": "code",
     "checksum": "63008eef0a4419cbba01ca094db822ae",
     "grade": true,
     "grade_id": "cell-18e342be46315529",
     "locked": true,
     "points": 0.5,
     "schema_version": 3,
     "solution": false,
     "task": false
    },
    "tags": []
   },
   "outputs": [],
   "source": [
    "# Test Case 2\n",
    "assert count_consonants('Python Programming') == ('PythnPrgrmmng', 13)"
   ]
  },
  {
   "cell_type": "code",
   "execution_count": 179,
   "metadata": {
    "deletable": false,
    "editable": false,
    "nbgrader": {
     "cell_type": "code",
     "checksum": "183425daab3f0349bd49eff346d3d308",
     "grade": true,
     "grade_id": "cell-07d32bf132bdb9c4",
     "locked": true,
     "points": 0.5,
     "schema_version": 3,
     "solution": false,
     "task": false
    },
    "tags": []
   },
   "outputs": [],
   "source": [
    "# Test Case 3\n",
    "assert count_consonants('a e i o u') == ('', 0)"
   ]
  },
  {
   "cell_type": "code",
   "execution_count": 180,
   "metadata": {
    "deletable": false,
    "editable": false,
    "nbgrader": {
     "cell_type": "code",
     "checksum": "8be3489382c6f2474d48fdc4d507ba6c",
     "grade": true,
     "grade_id": "cell-9424820050e136f3",
     "locked": true,
     "points": 0.5,
     "schema_version": 3,
     "solution": false,
     "task": false
    },
    "tags": []
   },
   "outputs": [],
   "source": [
    "# Test Case 4"
   ]
  },
  {
   "cell_type": "code",
   "execution_count": 181,
   "metadata": {
    "deletable": false,
    "editable": false,
    "nbgrader": {
     "cell_type": "code",
     "checksum": "0859921796e5b80822d9e705dcf896a6",
     "grade": true,
     "grade_id": "cell-dc99a17b589c20ce",
     "locked": true,
     "points": 0.5,
     "schema_version": 3,
     "solution": false,
     "task": false
    },
    "tags": []
   },
   "outputs": [],
   "source": [
    "# Test Case 5"
   ]
  },
  {
   "cell_type": "code",
   "execution_count": 182,
   "metadata": {
    "deletable": false,
    "editable": false,
    "nbgrader": {
     "cell_type": "code",
     "checksum": "dbbbf1bb2f97f7bcdbdc9696f74afa1a",
     "grade": true,
     "grade_id": "cell-15ce65039e3b79ce",
     "locked": true,
     "points": 0.5,
     "schema_version": 3,
     "solution": false,
     "task": false
    },
    "tags": []
   },
   "outputs": [],
   "source": [
    "# Test Case 6"
   ]
  },
  {
   "cell_type": "code",
   "execution_count": 183,
   "metadata": {
    "deletable": false,
    "editable": false,
    "nbgrader": {
     "cell_type": "code",
     "checksum": "11927c31d8595f42acae5caeabd8dfb3",
     "grade": true,
     "grade_id": "cell-5efa13f15f2db50a",
     "locked": true,
     "points": 0.5,
     "schema_version": 3,
     "solution": false,
     "task": false
    },
    "tags": []
   },
   "outputs": [],
   "source": [
    "# Test Case 7"
   ]
  },
  {
   "cell_type": "code",
   "execution_count": 184,
   "metadata": {
    "deletable": false,
    "editable": false,
    "nbgrader": {
     "cell_type": "code",
     "checksum": "daaaa2e3847f3823b14a54526dfc868b",
     "grade": true,
     "grade_id": "cell-c39030f1dc76b5d4",
     "locked": true,
     "points": 0.5,
     "schema_version": 3,
     "solution": false,
     "task": false
    },
    "tags": []
   },
   "outputs": [],
   "source": [
    "# Test Case 8"
   ]
  },
  {
   "cell_type": "code",
   "execution_count": 185,
   "metadata": {
    "deletable": false,
    "editable": false,
    "nbgrader": {
     "cell_type": "code",
     "checksum": "8223ea3734c69a293dcc6c1a04596054",
     "grade": true,
     "grade_id": "cell-d3db83b7928e7f13",
     "locked": true,
     "points": 0.5,
     "schema_version": 3,
     "solution": false,
     "task": false
    },
    "tags": []
   },
   "outputs": [],
   "source": [
    "# Test Case 9"
   ]
  },
  {
   "cell_type": "code",
   "execution_count": 186,
   "metadata": {
    "deletable": false,
    "editable": false,
    "nbgrader": {
     "cell_type": "code",
     "checksum": "eef358d3d9a18e99364abb30c14dd819",
     "grade": true,
     "grade_id": "cell-86868e2afff4c9a8",
     "locked": true,
     "points": 0.5,
     "schema_version": 3,
     "solution": false,
     "task": false
    },
    "tags": []
   },
   "outputs": [],
   "source": [
    "# Test Case 10"
   ]
  },
  {
   "cell_type": "markdown",
   "metadata": {},
   "source": [
    "---\n",
    "## <mark>Exercise #2 **Reverse Words** (Total: 5 points)</mark>\n",
    "- สร้างฟังก์ชัน `reverse_words()` ที่รับประโยคเป็นพารามิเตอร์ตามเงื่อนไขดังนี้\n",
    "    1) กลับลำดับของคำในประโยค\n",
    "    2) Return จำนวนคำทั้งหมดในประโยค\n",
    "- ตัวอย่างเช่น:\n",
    "    - `reverse_words('Hello World from Python')` จะได้ `'Python from World Hello'` และจำนวนคำทั้งหมดคือ `4`"
   ]
  },
  {
   "cell_type": "code",
   "execution_count": 187,
   "metadata": {
    "deletable": false,
    "nbgrader": {
     "cell_type": "code",
     "checksum": "9958b44a3f0e43865d8d22d306d0cafa",
     "grade": false,
     "grade_id": "cell-ed46ce1e8f914481",
     "locked": false,
     "schema_version": 3,
     "solution": true,
     "task": false
    },
    "tags": []
   },
   "outputs": [],
   "source": [
    "def reverse_words(input_string):\n",
    "    # YOUR CODE HERE\n",
    "    return ' '.join(input_string.split()[::-1]),len(input_string.split())"
   ]
  },
  {
   "cell_type": "markdown",
   "metadata": {},
   "source": [
    "<mark>DO NOT CHANGE THE FOLLOWING LINES</mark>\n",
    "\n",
    "<mark>**0.5 point per test**</mark>\n",
    "\n",
    "<mark>**Some tests are hidden**</mark>"
   ]
  },
  {
   "cell_type": "code",
   "execution_count": 188,
   "metadata": {
    "deletable": false,
    "editable": false,
    "nbgrader": {
     "cell_type": "code",
     "checksum": "45f202e69ea3d9ff7e6a1ff871dc51f3",
     "grade": true,
     "grade_id": "cell-f6c9681d601ae7d0",
     "locked": true,
     "points": 0.5,
     "schema_version": 3,
     "solution": false,
     "task": false
    },
    "tags": []
   },
   "outputs": [],
   "source": [
    "# Test Case 1\n",
    "assert reverse_words('Hello World from Python') == ('Python from World Hello', 4)"
   ]
  },
  {
   "cell_type": "code",
   "execution_count": 189,
   "metadata": {
    "deletable": false,
    "editable": false,
    "nbgrader": {
     "cell_type": "code",
     "checksum": "0d2e8723b41cdf97dff907a4945d1d12",
     "grade": true,
     "grade_id": "cell-ad23fda3af62780d",
     "locked": true,
     "points": 0.5,
     "schema_version": 3,
     "solution": false,
     "task": false
    },
    "tags": []
   },
   "outputs": [],
   "source": [
    "# Test Case 2\n",
    "assert reverse_words('This is a test') == ('test a is This', 4)"
   ]
  },
  {
   "cell_type": "code",
   "execution_count": 190,
   "metadata": {
    "deletable": false,
    "editable": false,
    "nbgrader": {
     "cell_type": "code",
     "checksum": "fed984506a72e9cabd8bab4ccd9c4f3c",
     "grade": true,
     "grade_id": "cell-62639f8e51da309f",
     "locked": true,
     "points": 0.5,
     "schema_version": 3,
     "solution": false,
     "task": false
    },
    "tags": []
   },
   "outputs": [],
   "source": [
    "# Test Case 3\n",
    "assert reverse_words('I love coding') == ('coding love I', 3)"
   ]
  },
  {
   "cell_type": "code",
   "execution_count": 191,
   "metadata": {
    "deletable": false,
    "editable": false,
    "nbgrader": {
     "cell_type": "code",
     "checksum": "2d704d634b569d45a3a5ac39c3afbb5e",
     "grade": true,
     "grade_id": "cell-da43882dc9843b91",
     "locked": true,
     "points": 0.5,
     "schema_version": 3,
     "solution": false,
     "task": false
    },
    "tags": []
   },
   "outputs": [],
   "source": [
    "# Test Case 4\n",
    "assert reverse_words('One Two Three Four') == ('Four Three Two One', 4)"
   ]
  },
  {
   "cell_type": "code",
   "execution_count": 192,
   "metadata": {
    "deletable": false,
    "editable": false,
    "nbgrader": {
     "cell_type": "code",
     "checksum": "ccd46364d22bae7d123923983b9c4727",
     "grade": true,
     "grade_id": "cell-7551e0ce06bc60f8",
     "locked": true,
     "points": 0.5,
     "schema_version": 3,
     "solution": false,
     "task": false
    },
    "tags": []
   },
   "outputs": [],
   "source": [
    "# Test Case 5\n",
    "assert reverse_words('') == ('', 0)"
   ]
  },
  {
   "cell_type": "code",
   "execution_count": 193,
   "metadata": {
    "deletable": false,
    "editable": false,
    "nbgrader": {
     "cell_type": "code",
     "checksum": "2728f32145f6a32f892feeb2d2f8b2b7",
     "grade": true,
     "grade_id": "cell-c773293861e026ea",
     "locked": true,
     "points": 0.5,
     "schema_version": 3,
     "solution": false,
     "task": false
    },
    "tags": []
   },
   "outputs": [],
   "source": [
    "# Test Case 6"
   ]
  },
  {
   "cell_type": "code",
   "execution_count": 194,
   "metadata": {
    "deletable": false,
    "editable": false,
    "nbgrader": {
     "cell_type": "code",
     "checksum": "7d0ec05699712a28cc774ff7ec896288",
     "grade": true,
     "grade_id": "cell-4c88bd110f0a4fd2",
     "locked": true,
     "points": 0.5,
     "schema_version": 3,
     "solution": false,
     "task": false
    },
    "tags": []
   },
   "outputs": [],
   "source": [
    "# Test Case 7"
   ]
  },
  {
   "cell_type": "code",
   "execution_count": 195,
   "metadata": {
    "deletable": false,
    "editable": false,
    "nbgrader": {
     "cell_type": "code",
     "checksum": "4f736aadffdcb0f49f6b0c82cfdeb9a3",
     "grade": true,
     "grade_id": "cell-7cd4956229622b96",
     "locked": true,
     "points": 0.5,
     "schema_version": 3,
     "solution": false,
     "task": false
    },
    "tags": []
   },
   "outputs": [],
   "source": [
    "# Test Case 8"
   ]
  },
  {
   "cell_type": "code",
   "execution_count": 196,
   "metadata": {
    "deletable": false,
    "editable": false,
    "nbgrader": {
     "cell_type": "code",
     "checksum": "7866f72caedf720ab77141d339b236f0",
     "grade": true,
     "grade_id": "cell-646023e20cc7a1c3",
     "locked": true,
     "points": 0.5,
     "schema_version": 3,
     "solution": false,
     "task": false
    },
    "tags": []
   },
   "outputs": [],
   "source": [
    "# Test Case 9"
   ]
  },
  {
   "cell_type": "code",
   "execution_count": 197,
   "metadata": {
    "deletable": false,
    "editable": false,
    "nbgrader": {
     "cell_type": "code",
     "checksum": "5a41333f4fa7ac328761d561ea6efa68",
     "grade": true,
     "grade_id": "cell-8ddeeb3b310db617",
     "locked": true,
     "points": 0.5,
     "schema_version": 3,
     "solution": false,
     "task": false
    },
    "tags": []
   },
   "outputs": [],
   "source": [
    "# Test Case 10"
   ]
  },
  {
   "cell_type": "markdown",
   "metadata": {},
   "source": [
    "---\n",
    "## <mark>Exercise #3 **Character Frequency** (Total: 5 points)</mark>\n",
    "- สร้างฟังก์ชัน `char_frequency()` ที่รับสตริงเป็นพารามิเตอร์และ return คำตอบในรูปแบบ `dictionary` ที่แสดงความถี่ที่ของแต่ละอักขระในสตริง\n",
    "- ให้ละเว้นช่องว่างและนับอักขระตัวพิมพ์ใหญ่และตัวพิมพ์เล็กเป็นตัวเดียวกัน\n",
    "- ตัวอย่างเช่น:\n",
    "    - `char_frequency('Hello World')` จะต้องส่งคืน `{'h': 1, 'e': 1, 'l': 3, 'o': 2, 'w': 1, 'r': 1, 'd': 1}`"
   ]
  },
  {
   "cell_type": "code",
   "execution_count": 198,
   "metadata": {
    "deletable": false,
    "nbgrader": {
     "cell_type": "code",
     "checksum": "362170e8e0130ef87ba63c308a4b2aaf",
     "grade": false,
     "grade_id": "cell-f093826fc912c56e",
     "locked": false,
     "schema_version": 3,
     "solution": true,
     "task": false
    },
    "tags": []
   },
   "outputs": [],
   "source": [
    "def char_frequency(input_string):\n",
    "    # YOUR CODE HERE\n",
    "    txt = input_string.lower()\n",
    "    cha_freq = {}\n",
    "    for i in txt:\n",
    "        if not i.isspace():\n",
    "            cha_freq[i] = txt.count(i)\n",
    "    return cha_freq"
   ]
  },
  {
   "cell_type": "markdown",
   "metadata": {},
   "source": [
    "<mark>DO NOT CHANGE THE FOLLOWING LINES</mark>\n",
    "\n",
    "<mark>**0.5 point per test**</mark>\n",
    "\n",
    "<mark>**Some tests are hidden**</mark>"
   ]
  },
  {
   "cell_type": "code",
   "execution_count": 199,
   "metadata": {
    "deletable": false,
    "editable": false,
    "nbgrader": {
     "cell_type": "code",
     "checksum": "f869c2baf9969e917160d67486064cf1",
     "grade": true,
     "grade_id": "cell-21c1a6423b9eb03d",
     "locked": true,
     "points": 0.5,
     "schema_version": 3,
     "solution": false,
     "task": false
    },
    "tags": []
   },
   "outputs": [],
   "source": [
    "# Test Case 1\n",
    "assert char_frequency('Hello World') == {'h': 1, 'e': 1, 'l': 3, 'o': 2, 'w': 1, 'r': 1, 'd': 1}"
   ]
  },
  {
   "cell_type": "code",
   "execution_count": 200,
   "metadata": {
    "deletable": false,
    "editable": false,
    "nbgrader": {
     "cell_type": "code",
     "checksum": "895dfa338fd2b3911aa55f69045ed525",
     "grade": true,
     "grade_id": "cell-2a466f4324a36513",
     "locked": true,
     "points": 0.5,
     "schema_version": 3,
     "solution": false,
     "task": false
    },
    "tags": []
   },
   "outputs": [],
   "source": [
    "# Test Case 2\n",
    "assert char_frequency('Python Programming') == {'p': 2, 'y': 1, 't': 1, 'h': 1, 'o': 2, 'n': 2, 'r': 2, 'g': 2, 'a':1, 'm': 2, 'i': 1}"
   ]
  },
  {
   "cell_type": "code",
   "execution_count": 201,
   "metadata": {
    "deletable": false,
    "editable": false,
    "nbgrader": {
     "cell_type": "code",
     "checksum": "05b52aa5af1cf6baa76a6c08f7a19eb5",
     "grade": true,
     "grade_id": "cell-cc36e066f4734dd7",
     "locked": true,
     "points": 0.5,
     "schema_version": 3,
     "solution": false,
     "task": false
    },
    "tags": []
   },
   "outputs": [],
   "source": [
    "# Test Case 3\n",
    "assert char_frequency('A quick brown fox!') == {'a': 1, 'q': 1, 'u': 1, 'i': 1, 'c': 1, 'k': 1, 'b': 1, 'r': 1, 'o': 2, 'w': 1, 'n': 1, 'f': 1, 'x': 1, '!': 1}"
   ]
  },
  {
   "cell_type": "code",
   "execution_count": 202,
   "metadata": {
    "deletable": false,
    "editable": false,
    "nbgrader": {
     "cell_type": "code",
     "checksum": "7773514cacf0febd9ba2b6aa4cfccf0d",
     "grade": true,
     "grade_id": "cell-7c2d0f23febeef51",
     "locked": true,
     "points": 0.5,
     "schema_version": 3,
     "solution": false,
     "task": false
    },
    "tags": []
   },
   "outputs": [],
   "source": [
    "# Test Case 4\n",
    "assert char_frequency('12345') == {'1': 1, '2': 1, '3': 1, '4': 1, '5': 1}"
   ]
  },
  {
   "cell_type": "code",
   "execution_count": 203,
   "metadata": {
    "deletable": false,
    "editable": false,
    "nbgrader": {
     "cell_type": "code",
     "checksum": "38f4d0e22ba4e2b8451050ae22298ea8",
     "grade": true,
     "grade_id": "cell-0e0479598c305671",
     "locked": true,
     "points": 0.5,
     "schema_version": 3,
     "solution": false,
     "task": false
    },
    "tags": []
   },
   "outputs": [],
   "source": [
    "# Test Case 5\n",
    "assert char_frequency('!!@@##$$%%^^&&') == {'!': 2, '@': 2, '#': 2, '$': 2, '%': 2, '^': 2, '&': 2}"
   ]
  },
  {
   "cell_type": "code",
   "execution_count": 204,
   "metadata": {
    "deletable": false,
    "editable": false,
    "nbgrader": {
     "cell_type": "code",
     "checksum": "57fd85549e0e5fa963aacb5ef174c370",
     "grade": true,
     "grade_id": "cell-603da45fb187bd18",
     "locked": true,
     "points": 0.5,
     "schema_version": 3,
     "solution": false,
     "task": false
    },
    "tags": []
   },
   "outputs": [],
   "source": [
    "# Test Case 6"
   ]
  },
  {
   "cell_type": "code",
   "execution_count": 205,
   "metadata": {
    "deletable": false,
    "editable": false,
    "nbgrader": {
     "cell_type": "code",
     "checksum": "7166e4b5d4a9765752b9fd9ec408472b",
     "grade": true,
     "grade_id": "cell-1dd58f30876eb598",
     "locked": true,
     "points": 0.5,
     "schema_version": 3,
     "solution": false,
     "task": false
    },
    "tags": []
   },
   "outputs": [],
   "source": [
    "# Test Case 7"
   ]
  },
  {
   "cell_type": "code",
   "execution_count": 206,
   "metadata": {
    "deletable": false,
    "editable": false,
    "nbgrader": {
     "cell_type": "code",
     "checksum": "52adece4e4b4d4ac18bed063076bc122",
     "grade": true,
     "grade_id": "cell-e191d5b62953a039",
     "locked": true,
     "points": 0.5,
     "schema_version": 3,
     "solution": false,
     "task": false
    },
    "tags": []
   },
   "outputs": [],
   "source": [
    "# Test Case 8"
   ]
  },
  {
   "cell_type": "code",
   "execution_count": 207,
   "metadata": {
    "deletable": false,
    "editable": false,
    "nbgrader": {
     "cell_type": "code",
     "checksum": "5ea792358602293ac56cc547faaf0276",
     "grade": true,
     "grade_id": "cell-ae9c113ca34e78a8",
     "locked": true,
     "points": 0.5,
     "schema_version": 3,
     "solution": false,
     "task": false
    },
    "tags": []
   },
   "outputs": [],
   "source": [
    "# Test Case 9"
   ]
  },
  {
   "cell_type": "code",
   "execution_count": 208,
   "metadata": {
    "deletable": false,
    "editable": false,
    "nbgrader": {
     "cell_type": "code",
     "checksum": "7e6a787b68bb4d879d3506016613dfae",
     "grade": true,
     "grade_id": "cell-df8819481cb1bd6e",
     "locked": true,
     "points": 0.5,
     "schema_version": 3,
     "solution": false,
     "task": false
    },
    "tags": []
   },
   "outputs": [],
   "source": [
    "# Test Case 10"
   ]
  },
  {
   "cell_type": "markdown",
   "metadata": {},
   "source": [
    "---\n",
    "## <mark>Exercise #4 **Remove Punctuation** (Total: 5 points)</mark>\n",
    "- สร้างฟังก์ชัน `remove_punctuation()` ที่รับสตริงเป็นพารามิเตอร์และลบอักขระที่เป็นเครื่องหมายวรรคตอน (Punctuation) ทั้งหมดออก\n",
    "- ฟังก์ชัน return สตริงที่ลบอักขระที่เป็นเครื่องหมายวรรคตอนออกแล้ว\n",
    "- ตัวอย่างเช่น:\n",
    "    - `remove_punctuation('Hello, World! How are you?')` จะได้ `'Hello World How are you'`\n",
    "\n",
    "- หมายเหตุ อักขระที่ถือว่าเป็นเครื่องหมายวรรคตอน คือ `., ?, !, :, ;, ', \", (, ), [, ], {, }, -, –, ..., /`"
   ]
  },
  {
   "cell_type": "code",
   "execution_count": 209,
   "metadata": {
    "deletable": false,
    "nbgrader": {
     "cell_type": "code",
     "checksum": "45748f47e98af1bcdea270d1476c0ed6",
     "grade": false,
     "grade_id": "cell-6a78983667cdb6f4",
     "locked": false,
     "schema_version": 3,
     "solution": true,
     "task": false
    },
    "tags": []
   },
   "outputs": [],
   "source": [
    "def remove_punctuation(input_string):\n",
    "    # YOUR CODE HERE\n",
    "    c =\"\"\n",
    "    for i in input_string:\n",
    "        if i.isalpha() or i.isspace():\n",
    "            c += i\n",
    "    return c\n"
   ]
  },
  {
   "cell_type": "markdown",
   "metadata": {},
   "source": [
    "<mark>DO NOT CHANGE THE FOLLOWING LINES</mark>\n",
    "\n",
    "<mark>**0.5 point per test**</mark>\n",
    "\n",
    "<mark>**Some tests are hidden**</mark>"
   ]
  },
  {
   "cell_type": "code",
   "execution_count": 210,
   "metadata": {
    "deletable": false,
    "editable": false,
    "nbgrader": {
     "cell_type": "code",
     "checksum": "8b990fc0d802febfca8aa093dfd87be7",
     "grade": true,
     "grade_id": "cell-8d40208f34e546fb",
     "locked": true,
     "points": 0.5,
     "schema_version": 3,
     "solution": false,
     "task": false
    },
    "tags": []
   },
   "outputs": [],
   "source": [
    "# Test Case 1\n",
    "assert remove_punctuation('Hello, World! How are you?') == 'Hello World How are you'"
   ]
  },
  {
   "cell_type": "code",
   "execution_count": 211,
   "metadata": {
    "deletable": false,
    "editable": false,
    "nbgrader": {
     "cell_type": "code",
     "checksum": "3275bbbc67bbd79e626bf8a88a8c1f15",
     "grade": true,
     "grade_id": "cell-02cf9e51879d5f69",
     "locked": true,
     "points": 0.5,
     "schema_version": 3,
     "solution": false,
     "task": false
    },
    "tags": []
   },
   "outputs": [],
   "source": [
    "# Test Case 2\n",
    "assert remove_punctuation('Python is fun; let\\'s code!') == 'Python is fun lets code'"
   ]
  },
  {
   "cell_type": "code",
   "execution_count": 212,
   "metadata": {
    "deletable": false,
    "editable": false,
    "nbgrader": {
     "cell_type": "code",
     "checksum": "68e13004b977b6706dcfa2aed54b9515",
     "grade": true,
     "grade_id": "cell-c88226a78da66cc6",
     "locked": true,
     "points": 0.5,
     "schema_version": 3,
     "solution": false,
     "task": false
    },
    "tags": []
   },
   "outputs": [],
   "source": [
    "# Test Case 3\n",
    "assert remove_punctuation('') == ''"
   ]
  },
  {
   "cell_type": "code",
   "execution_count": 213,
   "metadata": {
    "deletable": false,
    "editable": false,
    "nbgrader": {
     "cell_type": "code",
     "checksum": "668147cf9ee50338e5879d9f5bf69e2f",
     "grade": true,
     "grade_id": "cell-1bacf9e0deb0f11b",
     "locked": true,
     "points": 0.5,
     "schema_version": 3,
     "solution": false,
     "task": false
    },
    "tags": []
   },
   "outputs": [],
   "source": [
    "# Test Case 4\n",
    "assert remove_punctuation('No punctuation here') == 'No punctuation here'"
   ]
  },
  {
   "cell_type": "code",
   "execution_count": 214,
   "metadata": {
    "deletable": false,
    "editable": false,
    "nbgrader": {
     "cell_type": "code",
     "checksum": "5c758e4a0db161048f395c6d2809a4af",
     "grade": true,
     "grade_id": "cell-0126b07bca2bd6d8",
     "locked": true,
     "points": 0.5,
     "schema_version": 3,
     "solution": false,
     "task": false
    },
    "tags": []
   },
   "outputs": [],
   "source": [
    "# Test Case 5\n",
    "assert remove_punctuation('C++ is a programming language.') == 'C is a programming language'"
   ]
  },
  {
   "cell_type": "code",
   "execution_count": 215,
   "metadata": {
    "deletable": false,
    "editable": false,
    "nbgrader": {
     "cell_type": "code",
     "checksum": "641ab5c91838bbd2d610f054d1056d4a",
     "grade": true,
     "grade_id": "cell-35901cf17f59cd96",
     "locked": true,
     "points": 0.5,
     "schema_version": 3,
     "solution": false,
     "task": false
    },
    "tags": []
   },
   "outputs": [],
   "source": [
    "# Test Case 6"
   ]
  },
  {
   "cell_type": "code",
   "execution_count": 216,
   "metadata": {
    "deletable": false,
    "editable": false,
    "nbgrader": {
     "cell_type": "code",
     "checksum": "f8174baa0081c8294a7420967f463512",
     "grade": true,
     "grade_id": "cell-5936328260544f25",
     "locked": true,
     "points": 0.5,
     "schema_version": 3,
     "solution": false,
     "task": false
    },
    "tags": []
   },
   "outputs": [],
   "source": [
    "# Test Case 7"
   ]
  },
  {
   "cell_type": "code",
   "execution_count": 217,
   "metadata": {
    "deletable": false,
    "editable": false,
    "nbgrader": {
     "cell_type": "code",
     "checksum": "65db7bf47712d43b9f50f45f881c8878",
     "grade": true,
     "grade_id": "cell-8d957160d9abaca2",
     "locked": true,
     "points": 0.5,
     "schema_version": 3,
     "solution": false,
     "task": false
    },
    "tags": []
   },
   "outputs": [],
   "source": [
    "# Test Case 8"
   ]
  },
  {
   "cell_type": "code",
   "execution_count": 218,
   "metadata": {
    "deletable": false,
    "editable": false,
    "nbgrader": {
     "cell_type": "code",
     "checksum": "9188f5b25323f1ab81caddf9f7611163",
     "grade": true,
     "grade_id": "cell-ffde811ac92cd962",
     "locked": true,
     "points": 0.5,
     "schema_version": 3,
     "solution": false,
     "task": false
    },
    "tags": []
   },
   "outputs": [],
   "source": [
    "# Test Case 9"
   ]
  },
  {
   "cell_type": "code",
   "execution_count": 219,
   "metadata": {
    "deletable": false,
    "editable": false,
    "nbgrader": {
     "cell_type": "code",
     "checksum": "f138355cda16c5347238a10757f056e7",
     "grade": true,
     "grade_id": "cell-a861b7c32705bd8d",
     "locked": true,
     "points": 0.5,
     "schema_version": 3,
     "solution": false,
     "task": false
    },
    "tags": []
   },
   "outputs": [],
   "source": [
    "# Test Case 10"
   ]
  },
  {
   "cell_type": "markdown",
   "metadata": {},
   "source": [
    "---\n",
    "## <mark>Exercise #5 **Vowel to Number** (Total: 10 points) </mark>\n",
    "\n",
    "สร้างฟังก์ชัน `vowel2num()` ที่แปลงสตริงที่กำหนดโดยการแทนที่สระด้วยตัวเลขเฉพาะและนับจำนวนสระทั้งหมดในสตริงนั้น ตามเงื่อนไข ดังนี้\n",
    "1. **ระบุสระ:**\n",
    "   - สระที่ต้องแทนที่คือ `a`, `e`, `i`, `o`, และ `u` (**ทั้งตัวพิมพ์เล็กและตัวพิมพ์ใหญ่**)\n",
    "\n",
    "2. **ข้อกำหนดของฟังก์ชัน:**\n",
    "   - ฟังก์ชัน `vowel2num()` จะแทนที่ตัวอักษรด้วยสระ ดังนี้\n",
    "     1. แทนที่สระแต่ละตัวในสตริงด้วยตัวเลขที่กำหนด\n",
    "        - `A` หรือ `a` → `1`\n",
    "        - `E` หรือ `e` → `2`\n",
    "        - `I` หรือ `i` → `3`\n",
    "        - `O` หรือ `o` → `4`\n",
    "        - `U` หรือ `u` → `5`\n",
    "     2. นับและ return จำนวนรวมของสระในสตริง\n",
    "\n",
    "3. **คำตอบของฟังก์ชัน**\n",
    "   - ฟังก์ชันจะต้อง return เป็น `tuple` ที่ประกอบด้วย\n",
    "     - สตริงใหม่ที่มีสระแทนที่ด้วยตัวเลขที่กำหนด\n",
    "     - จำนวนเต็มที่แสดงถึงจำนวนสระที่ถูกแทนที่ด้วยตัวเลข\n",
    "\n",
    "- ตัวอย่าง: `vowel2num('a-e-i-o-u')` จะได้ `('1-2-3-4-5', 5)` หมายถึง สตริงไหม่คือ `'1-2-3-4-5'` มีจำนวนสระที่ถูกแทนด้วยตัวเลขทั้งหมด `5` ตำแหน่ง\n",
    "- หมายเหตุ:ไม่แยกแยะตัวพิมพ์ใหญ่และพิมพ์เล็ก เช่น `A` และ `a` จะถือว่าเป็นสระตัวเดียวกัน"
   ]
  },
  {
   "cell_type": "code",
   "execution_count": 220,
   "metadata": {
    "deletable": false,
    "nbgrader": {
     "cell_type": "code",
     "checksum": "796025cc4d12bfe27794e174668a5ce4",
     "grade": false,
     "grade_id": "cell-3d8466b6b5aee272",
     "locked": false,
     "schema_version": 3,
     "solution": true,
     "task": false
    }
   },
   "outputs": [],
   "source": [
    "def vowel2num(words):\n",
    "    # YOUR CODE HERE\n",
    "    con = \"AEIOU\"\n",
    "    res = \"\"\n",
    "    c = 0\n",
    "    for i in words:\n",
    "        if i.upper() in con:\n",
    "            res += str(con.index(i.upper())+1)\n",
    "            c += 1\n",
    "        else:\n",
    "            res += i            \n",
    "    return res,c"
   ]
  },
  {
   "cell_type": "markdown",
   "metadata": {},
   "source": [
    "<mark>DO NOT CHANGE THE FOLLOWING LINES</mark>\n",
    "\n",
    "<mark>**1 point per test**</mark>\n",
    "\n",
    "<mark>**Some tests are hidden**</mark>"
   ]
  },
  {
   "cell_type": "code",
   "execution_count": 221,
   "metadata": {
    "deletable": false,
    "editable": false,
    "nbgrader": {
     "cell_type": "code",
     "checksum": "5eb4fdb288e1e5ed930b046b5cc82287",
     "grade": true,
     "grade_id": "cell-1a2797c4f6c4d298",
     "locked": true,
     "points": 1,
     "schema_version": 3,
     "solution": false,
     "task": false
    },
    "tags": []
   },
   "outputs": [],
   "source": [
    "# Test Case 1\n",
    "assert(vowel2num('one cat eats a lot of fishes') == ('4n2 c1t 21ts 1 l4t 4f f3sh2s', 10))"
   ]
  },
  {
   "cell_type": "code",
   "execution_count": 222,
   "metadata": {
    "deletable": false,
    "editable": false,
    "nbgrader": {
     "cell_type": "code",
     "checksum": "59d02259fe5bc2652feab83a15d928a3",
     "grade": true,
     "grade_id": "cell-6321798011c31ae7",
     "locked": true,
     "points": 1,
     "schema_version": 3,
     "solution": false,
     "task": false
    },
    "tags": []
   },
   "outputs": [],
   "source": [
    "# Test Case 2\n",
    "assert(vowel2num('the queen likes coffee and toast') == ('th2 q522n l3k2s c4ff22 1nd t41st', 12))"
   ]
  },
  {
   "cell_type": "code",
   "execution_count": 223,
   "metadata": {
    "deletable": false,
    "editable": false,
    "nbgrader": {
     "cell_type": "code",
     "checksum": "97bed5645f9843e8e8f20a12f8a0a77f",
     "grade": true,
     "grade_id": "cell-3742e6e7524b710d",
     "locked": true,
     "points": 1,
     "schema_version": 3,
     "solution": false,
     "task": false
    },
    "tags": []
   },
   "outputs": [],
   "source": [
    "# Test Case 3\n",
    "assert vowel2num('apple pie') == ('1ppl2 p32', 4)"
   ]
  },
  {
   "cell_type": "code",
   "execution_count": 224,
   "metadata": {
    "deletable": false,
    "editable": false,
    "nbgrader": {
     "cell_type": "code",
     "checksum": "598b2ad6a01f173916c4ca4ef1a61065",
     "grade": true,
     "grade_id": "cell-490a3540961d9626",
     "locked": true,
     "points": 1,
     "schema_version": 3,
     "solution": false,
     "task": false
    },
    "tags": []
   },
   "outputs": [],
   "source": [
    "# Test Case 4\n",
    "assert vowel2num('banana') == ('b1n1n1', 3)"
   ]
  },
  {
   "cell_type": "code",
   "execution_count": 225,
   "metadata": {
    "deletable": false,
    "editable": false,
    "nbgrader": {
     "cell_type": "code",
     "checksum": "ba8589960ace3c4c9267203b8643f5cf",
     "grade": true,
     "grade_id": "cell-270bdd28dc17c311",
     "locked": true,
     "points": 1,
     "schema_version": 3,
     "solution": false,
     "task": false
    },
    "tags": []
   },
   "outputs": [],
   "source": [
    "# Test Case 5\n",
    "assert vowel2num('beautiful day') == ('b215t3f5l d1y', 6)"
   ]
  },
  {
   "cell_type": "code",
   "execution_count": 226,
   "metadata": {
    "deletable": false,
    "editable": false,
    "nbgrader": {
     "cell_type": "code",
     "checksum": "a48ca1a46b8714795a6b2d344bb27acb",
     "grade": true,
     "grade_id": "cell-ba1ad95eca6b5894",
     "locked": true,
     "points": 1,
     "schema_version": 3,
     "solution": false,
     "task": false
    },
    "tags": []
   },
   "outputs": [],
   "source": [
    "# Test Case 6"
   ]
  },
  {
   "cell_type": "code",
   "execution_count": 227,
   "metadata": {
    "deletable": false,
    "editable": false,
    "nbgrader": {
     "cell_type": "code",
     "checksum": "1a5da53ef06244e6086cc235a05649bf",
     "grade": true,
     "grade_id": "cell-0c7dbdcf484b2206",
     "locked": true,
     "points": 1,
     "schema_version": 3,
     "solution": false,
     "task": false
    },
    "tags": []
   },
   "outputs": [],
   "source": [
    "# Test Case 7"
   ]
  },
  {
   "cell_type": "code",
   "execution_count": 228,
   "metadata": {
    "deletable": false,
    "editable": false,
    "nbgrader": {
     "cell_type": "code",
     "checksum": "ab26cc4d5300ee575ae3f8e094ff8c15",
     "grade": true,
     "grade_id": "cell-6ec9cc8915d11ba7",
     "locked": true,
     "points": 1,
     "schema_version": 3,
     "solution": false,
     "task": false
    },
    "tags": []
   },
   "outputs": [],
   "source": [
    "# Test Case 8"
   ]
  },
  {
   "cell_type": "code",
   "execution_count": 229,
   "metadata": {
    "deletable": false,
    "editable": false,
    "nbgrader": {
     "cell_type": "code",
     "checksum": "3633b1b9ac8dc52f3fc59c089e4449aa",
     "grade": true,
     "grade_id": "cell-fdd0a9db84cb63fd",
     "locked": true,
     "points": 1,
     "schema_version": 3,
     "solution": false,
     "task": false
    },
    "tags": []
   },
   "outputs": [],
   "source": [
    "# Test Case 9"
   ]
  },
  {
   "cell_type": "code",
   "execution_count": 230,
   "metadata": {
    "deletable": false,
    "editable": false,
    "nbgrader": {
     "cell_type": "code",
     "checksum": "f4965ee3c6bbb7c94f1ce7f414fb8f47",
     "grade": true,
     "grade_id": "cell-6534005562dcc200",
     "locked": true,
     "points": 1,
     "schema_version": 3,
     "solution": false,
     "task": false
    },
    "tags": []
   },
   "outputs": [],
   "source": [
    "# Test Case 10"
   ]
  },
  {
   "cell_type": "markdown",
   "metadata": {},
   "source": [
    "---\n",
    "## <mark>Exercise #6 **Sentence Capitalizer** (Total: 10 points)</mark>\n",
    "สร้างฟังก์ชัน `capitalize_sentences(paragraph)` ซึ่งแปลงตัวอักษรตัวแรกของแต่ละประโยคเป็นตัวพิมพ์ใหญ่ ดังเงื่อนไขต่อไปนี้\n",
    "\n",
    "1. ฟังก์ชัน `capitalize_sentences(paragraph)` รับพารามิเตอร์เป็นสตริงและทำให้ตัวอักษรตัวแรกของแต่ละประโยคเป็นตัวพิมพ์ใหญ่\n",
    "   - ประโยคจะถูกกำหนดว่าเป็นลำดับของตัวอักษรที่ลงท้ายด้วยจุด (`.`), เครื่องหมายอัศเจรีย์ (`!`), หรือเครื่องหมายคำถาม (`?`), ตามด้วยช่องว่างหรือลงท้ายด้วยสตริง\n",
    "2. ฟังก์ชันจะต้อง return คำตอบเป็นสตริง:\n",
    "   - ประโยคจะต้องถูกจัดรูปแบบโดยตัวอักษรตัวแรกจะเป็นตัวพิมพ์ใหญ่ ในขณะที่ส่วนที่เหลือของข้อความจะคงอยู่ในรูปแบบต้นฉบับ\n",
    "\n",
    "- ตัวอย่าง `capitalize_sentences('hello world. this is a test! is it working? yes, it is.')` จะได้ `'Hello world. This is a test! Is it working? Yes, it is.'`"
   ]
  },
  {
   "cell_type": "code",
   "execution_count": 231,
   "metadata": {
    "deletable": false,
    "nbgrader": {
     "cell_type": "code",
     "checksum": "df6b88116054fd0f283060ec4f48b242",
     "grade": false,
     "grade_id": "cell-78a074b6e25f1ade",
     "locked": false,
     "schema_version": 3,
     "solution": true,
     "task": false
    },
    "tags": []
   },
   "outputs": [],
   "source": [
    "def capitalize_sentences(paragraph):\n",
    "    # YOUR CODE HERE\n",
    "    con = \".,?!\"\n",
    "    para = paragraph.split(\" \")\n",
    "    index_st = 0\n",
    "    res = []\n",
    "    for i in range(len(para)):\n",
    "        if con[0] in para[i] or con[1] in para[i] or con[2] in para[i] or con[3] in para[i]:\n",
    "            para[index_st] = para[index_st].capitalize()\n",
    "            index_st = i+1\n",
    "    print(\" \".join(para))\n",
    "    return \" \".join(para)\n",
    "\n",
    "\n"
   ]
  },
  {
   "cell_type": "markdown",
   "metadata": {},
   "source": [
    "<mark>DO NOT CHANGE THE FOLLOWING LINES</mark>\n",
    "\n",
    "<mark>**1 point per test**</mark>\n",
    "\n",
    "<mark>**Some tests are hidden**</mark>"
   ]
  },
  {
   "cell_type": "code",
   "execution_count": 232,
   "metadata": {
    "deletable": false,
    "editable": false,
    "nbgrader": {
     "cell_type": "code",
     "checksum": "4432174e8770893830ab8d23fd3158b6",
     "grade": true,
     "grade_id": "cell-fc4273c2f447a29f",
     "locked": true,
     "points": 1,
     "schema_version": 3,
     "solution": false,
     "task": false
    },
    "tags": []
   },
   "outputs": [
    {
     "name": "stdout",
     "output_type": "stream",
     "text": [
      "Hello world. This is a test! Is it working? Yes, It is.\n"
     ]
    },
    {
     "ename": "AssertionError",
     "evalue": "",
     "output_type": "error",
     "traceback": [
      "\u001b[1;31m---------------------------------------------------------------------------\u001b[0m",
      "\u001b[1;31mAssertionError\u001b[0m                            Traceback (most recent call last)",
      "Cell \u001b[1;32mIn[232], line 2\u001b[0m\n\u001b[0;32m      1\u001b[0m \u001b[38;5;66;03m# Test Case 1\u001b[39;00m\n\u001b[1;32m----> 2\u001b[0m \u001b[38;5;28;01massert\u001b[39;00m capitalize_sentences(\u001b[38;5;124m'\u001b[39m\u001b[38;5;124mhello world. this is a test! is it working? yes, it is.\u001b[39m\u001b[38;5;124m'\u001b[39m) \u001b[38;5;241m==\u001b[39m \u001b[38;5;124m'\u001b[39m\u001b[38;5;124mHello world. This is a test! is it working? yes, it is.\u001b[39m\u001b[38;5;124m'\u001b[39m\n",
      "\u001b[1;31mAssertionError\u001b[0m: "
     ]
    }
   ],
   "source": [
    "# Test Case 1\n",
    "assert capitalize_sentences('hello world. this is a test! is it working? yes, it is.') == 'Hello world. This is a test! is it working? yes, it is.'"
   ]
  },
  {
   "cell_type": "code",
   "execution_count": 233,
   "metadata": {
    "deletable": false,
    "editable": false,
    "nbgrader": {
     "cell_type": "code",
     "checksum": "816196272795fa1015c0e9936fe112bc",
     "grade": true,
     "grade_id": "cell-cfc2b6b617f37a71",
     "locked": true,
     "points": 1,
     "schema_version": 3,
     "solution": false,
     "task": false
    },
    "tags": []
   },
   "outputs": [
    {
     "name": "stdout",
     "output_type": "stream",
     "text": [
      "First sentence. Second sentence. Third sentence.\n"
     ]
    }
   ],
   "source": [
    "# Test Case 2\n",
    "assert capitalize_sentences('first sentence. second sentence. third sentence.') == 'First sentence. Second sentence. Third sentence.'"
   ]
  },
  {
   "cell_type": "code",
   "execution_count": 234,
   "metadata": {
    "deletable": false,
    "editable": false,
    "nbgrader": {
     "cell_type": "code",
     "checksum": "d30a9e23d3b45d51a75c3fe05546e7eb",
     "grade": true,
     "grade_id": "cell-dd832f379273654d",
     "locked": true,
     "points": 1,
     "schema_version": 3,
     "solution": false,
     "task": false
    },
    "tags": []
   },
   "outputs": [
    {
     "name": "stdout",
     "output_type": "stream",
     "text": [
      "Capitalize me. Another test here.\n"
     ]
    }
   ],
   "source": [
    "# Test Case 3\n",
    "assert capitalize_sentences('capitalize me. another test here.') == 'Capitalize me. Another test here.'"
   ]
  },
  {
   "cell_type": "code",
   "execution_count": 235,
   "metadata": {
    "deletable": false,
    "editable": false,
    "nbgrader": {
     "cell_type": "code",
     "checksum": "b20580a69042033863b16532631b9cb9",
     "grade": true,
     "grade_id": "cell-c5a5ea6742de8bf3",
     "locked": true,
     "points": 1,
     "schema_version": 3,
     "solution": false,
     "task": false
    },
    "tags": []
   },
   "outputs": [
    {
     "name": "stdout",
     "output_type": "stream",
     "text": [
      "This should work. It really should!\n"
     ]
    }
   ],
   "source": [
    "# Test Case 4\n",
    "assert capitalize_sentences('this should work. it really should!') == 'This should work. It really should!'"
   ]
  },
  {
   "cell_type": "code",
   "execution_count": 236,
   "metadata": {
    "deletable": false,
    "editable": false,
    "nbgrader": {
     "cell_type": "code",
     "checksum": "2c53568a6dba0275195576b8ba476740",
     "grade": true,
     "grade_id": "cell-2ee7faf1db067a2d",
     "locked": true,
     "points": 1,
     "schema_version": 3,
     "solution": false,
     "task": false
    },
    "tags": []
   },
   "outputs": [
    {
     "name": "stdout",
     "output_type": "stream",
     "text": [
      "A single sentence.\n"
     ]
    }
   ],
   "source": [
    "# Test Case 5\n",
    "assert capitalize_sentences('a single sentence.') == 'A single sentence.'"
   ]
  },
  {
   "cell_type": "code",
   "execution_count": 237,
   "metadata": {
    "deletable": false,
    "editable": false,
    "nbgrader": {
     "cell_type": "code",
     "checksum": "e40173edd13a914e19b9de711c302653",
     "grade": true,
     "grade_id": "cell-1bbb64e2c5d6c546",
     "locked": true,
     "points": 1,
     "schema_version": 3,
     "solution": false,
     "task": false
    },
    "tags": []
   },
   "outputs": [],
   "source": [
    "# Test Case 6"
   ]
  },
  {
   "cell_type": "code",
   "execution_count": 238,
   "metadata": {
    "deletable": false,
    "editable": false,
    "nbgrader": {
     "cell_type": "code",
     "checksum": "5edf653d76d2a9c52d080c18d2dc5c17",
     "grade": true,
     "grade_id": "cell-9299b959179e1636",
     "locked": true,
     "points": 1,
     "schema_version": 3,
     "solution": false,
     "task": false
    },
    "tags": []
   },
   "outputs": [],
   "source": [
    "# Test Case 7"
   ]
  },
  {
   "cell_type": "code",
   "execution_count": 239,
   "metadata": {
    "deletable": false,
    "editable": false,
    "nbgrader": {
     "cell_type": "code",
     "checksum": "68fb1f687fe1acf7783205167a484c98",
     "grade": true,
     "grade_id": "cell-1ac88e5bad1cfede",
     "locked": true,
     "points": 1,
     "schema_version": 3,
     "solution": false,
     "task": false
    },
    "tags": []
   },
   "outputs": [],
   "source": [
    "# Test Case 8"
   ]
  },
  {
   "cell_type": "code",
   "execution_count": 240,
   "metadata": {
    "deletable": false,
    "editable": false,
    "nbgrader": {
     "cell_type": "code",
     "checksum": "812155c77e0f8294a48de33664ba71bb",
     "grade": true,
     "grade_id": "cell-c104aae704f6d596",
     "locked": true,
     "points": 1,
     "schema_version": 3,
     "solution": false,
     "task": false
    },
    "tags": []
   },
   "outputs": [],
   "source": [
    "# Test Case 9"
   ]
  },
  {
   "cell_type": "code",
   "execution_count": 241,
   "metadata": {
    "deletable": false,
    "editable": false,
    "nbgrader": {
     "cell_type": "code",
     "checksum": "a416310d62a5e2a08a376d544441438d",
     "grade": true,
     "grade_id": "cell-190a244a8a27da42",
     "locked": true,
     "points": 1,
     "schema_version": 3,
     "solution": false,
     "task": false
    },
    "tags": []
   },
   "outputs": [],
   "source": [
    "# Test Case 10"
   ]
  },
  {
   "cell_type": "markdown",
   "metadata": {},
   "source": [
    "---\n",
    "## <mark>Exercise #7 **Palindrome Checker** (Total: 10 points)</mark>\n",
    "สร้างฟังก์ชันตรวจคุณสมบัติ Palindrome ซึ่งมีคำจำกัดความ คือ คำ, วลี, หรือ ลำดับที่อ่านเหมือนกันทั้งจากด้านหน้าและด้านหลัง ดังรายละเอียดต่อไปนี้\n",
    "\n",
    "1. สร้างฟังก์ชัน `is_palindrome(word)` ที่ตรวจสอบว่าคำที่กำหนดเป็น palindrome หรือไม่\n",
    "   - ฟังก์ชันพิจารณาตัวพิมพ์ใหญ่พิมพ์เล็กเหมือนกัน และไม่สนใจช่องว่าง เช่น \"Racecar\" และ \"race car\" ให้พิจารณาว่าเหมือนกัน\n",
    "2. ฟังก์ชัน return กลับเป็นค่า boolean\n",
    "   - `True` หากคำเป็น palindrome\n",
    "   - `False` หากไม่ใช่\n",
    "\n",
    "- ตัวอย่าง `is_palindrome('racecar')` จะได้ `True`"
   ]
  },
  {
   "cell_type": "code",
   "execution_count": 242,
   "metadata": {
    "deletable": false,
    "nbgrader": {
     "cell_type": "code",
     "checksum": "664d9caabee42cb764c594bfedce9999",
     "grade": false,
     "grade_id": "cell-86a06d33e59def9c",
     "locked": false,
     "schema_version": 3,
     "solution": true,
     "task": false
    },
    "tags": []
   },
   "outputs": [],
   "source": [
    "def is_palindrome(word):\n",
    "    # YOUR CODE HERE\n",
    "    word = word.lower()\n",
    "    word =word.replace(\" \",\"\")\n",
    "    word =word.replace(\"?\",\"\")\n",
    "    return word == word[::-1]"
   ]
  },
  {
   "cell_type": "markdown",
   "metadata": {},
   "source": [
    "<mark>DO NOT CHANGE THE FOLLOWING LINES</mark>\n",
    "\n",
    "<mark>**1 point per test**</mark>\n",
    "\n",
    "<mark>**Some tests are hidden**</mark>"
   ]
  },
  {
   "cell_type": "code",
   "execution_count": 243,
   "metadata": {
    "deletable": false,
    "editable": false,
    "nbgrader": {
     "cell_type": "code",
     "checksum": "b8fdbb3d4d4b6d2c773b6e3c98270fec",
     "grade": true,
     "grade_id": "cell-adeadef2394de477",
     "locked": true,
     "points": 1,
     "schema_version": 3,
     "solution": false,
     "task": false
    },
    "tags": []
   },
   "outputs": [],
   "source": [
    "# Test Case 1\n",
    "assert is_palindrome('A man a plan a canal Panama') == True"
   ]
  },
  {
   "cell_type": "code",
   "execution_count": 244,
   "metadata": {
    "deletable": false,
    "editable": false,
    "nbgrader": {
     "cell_type": "code",
     "checksum": "de5dc731ad9aef12b35078d4f0a182cb",
     "grade": true,
     "grade_id": "cell-1c41571ef5f7f78d",
     "locked": true,
     "points": 1,
     "schema_version": 3,
     "solution": false,
     "task": false
    },
    "tags": []
   },
   "outputs": [],
   "source": [
    "# Test Case 2\n",
    "assert is_palindrome('racecar') == True"
   ]
  },
  {
   "cell_type": "code",
   "execution_count": 245,
   "metadata": {
    "deletable": false,
    "editable": false,
    "nbgrader": {
     "cell_type": "code",
     "checksum": "f1d95b5092d519a219e753641ca30407",
     "grade": true,
     "grade_id": "cell-8df9302820d4552b",
     "locked": true,
     "points": 1,
     "schema_version": 3,
     "solution": false,
     "task": false
    },
    "tags": []
   },
   "outputs": [],
   "source": [
    "# Test Case 3\n",
    "assert is_palindrome('Hello') == False"
   ]
  },
  {
   "cell_type": "code",
   "execution_count": 246,
   "metadata": {
    "deletable": false,
    "editable": false,
    "nbgrader": {
     "cell_type": "code",
     "checksum": "db9400a20f4f4fd65d4f4e628870a887",
     "grade": true,
     "grade_id": "cell-4e0e48afd72f358c",
     "locked": true,
     "points": 1,
     "schema_version": 3,
     "solution": false,
     "task": false
    },
    "tags": []
   },
   "outputs": [],
   "source": [
    "# Test Case 4\n",
    "assert is_palindrome('Was it a car or a cat I saw?') == True"
   ]
  },
  {
   "cell_type": "code",
   "execution_count": 247,
   "metadata": {
    "deletable": false,
    "editable": false,
    "nbgrader": {
     "cell_type": "code",
     "checksum": "b423eb7917ae14b032bd1f6648f9d2f3",
     "grade": true,
     "grade_id": "cell-4d3b3749a0ea2793",
     "locked": true,
     "points": 1,
     "schema_version": 3,
     "solution": false,
     "task": false
    },
    "tags": []
   },
   "outputs": [],
   "source": [
    "# Test Case 5\n",
    "assert is_palindrome('No lemon, no melon') == True"
   ]
  },
  {
   "cell_type": "code",
   "execution_count": 248,
   "metadata": {
    "deletable": false,
    "editable": false,
    "nbgrader": {
     "cell_type": "code",
     "checksum": "b18440a6b4e8325bd01d9324e7c89ed3",
     "grade": true,
     "grade_id": "cell-fc30a6cd95304e3c",
     "locked": true,
     "points": 1,
     "schema_version": 3,
     "solution": false,
     "task": false
    },
    "tags": []
   },
   "outputs": [],
   "source": [
    "# Test Case 6"
   ]
  },
  {
   "cell_type": "code",
   "execution_count": 249,
   "metadata": {
    "deletable": false,
    "editable": false,
    "nbgrader": {
     "cell_type": "code",
     "checksum": "601a6c9a1dcc7b0e77891a5b6187d046",
     "grade": true,
     "grade_id": "cell-50fb43a46eb39439",
     "locked": true,
     "points": 1,
     "schema_version": 3,
     "solution": false,
     "task": false
    },
    "tags": []
   },
   "outputs": [],
   "source": [
    "# Test Case 7"
   ]
  },
  {
   "cell_type": "code",
   "execution_count": 250,
   "metadata": {
    "deletable": false,
    "editable": false,
    "nbgrader": {
     "cell_type": "code",
     "checksum": "6abbf22161c24d2fc0cc242ccd05172f",
     "grade": true,
     "grade_id": "cell-be3e06367a9a6849",
     "locked": true,
     "points": 1,
     "schema_version": 3,
     "solution": false,
     "task": false
    },
    "tags": []
   },
   "outputs": [],
   "source": [
    "# Test Case 8"
   ]
  },
  {
   "cell_type": "code",
   "execution_count": 251,
   "metadata": {
    "deletable": false,
    "editable": false,
    "nbgrader": {
     "cell_type": "code",
     "checksum": "8e9be5ff4237468ed649aebd396c9df2",
     "grade": true,
     "grade_id": "cell-b6e0a0eba379123d",
     "locked": true,
     "points": 1,
     "schema_version": 3,
     "solution": false,
     "task": false
    },
    "tags": []
   },
   "outputs": [],
   "source": [
    "# Test Case 9"
   ]
  },
  {
   "cell_type": "code",
   "execution_count": 252,
   "metadata": {
    "deletable": false,
    "editable": false,
    "nbgrader": {
     "cell_type": "code",
     "checksum": "01376c29c07500a8e9305f7e56ac9c77",
     "grade": true,
     "grade_id": "cell-6b2b5bea86eef2cc",
     "locked": true,
     "points": 1,
     "schema_version": 3,
     "solution": false,
     "task": false
    },
    "tags": []
   },
   "outputs": [],
   "source": [
    "# Test Case 10"
   ]
  },
  {
   "cell_type": "markdown",
   "metadata": {},
   "source": [
    "---\n",
    "## <mark>Exercise #8 **Anagram Checker** (Total: 10 points)</mark>\n",
    "สร้างฟังก์ชัน `are_anagrams(word1, word2)`ที่ตรวจสอบว่าคำสองคำที่กำหนดเป็น anagrams ของกันและกันหรือไม่ (anagram คือ คำหรือวลีที่สร้างจากการจัดเรียงตัวอักษรของคำหรือวลีที่แตกต่างกัน)\n",
    "\n",
    "เงื่อนไขการทำงาน ดังนี้\n",
    "1. ฟังก์ชันพิจารณาเฉพาะตัวอักษร (เช่น ไม่พิจารณาช่องว่างและเครื่องหมายวรรคตอน) และตัวพิมพ์ใหญ่พิมพ์เล็กให้ผลเหมือนกัน\n",
    "2. ฟังก์ชัน return เป็นค่า boolean\n",
    "   - `True` หากคำเป็น anagrams\n",
    "   - `False` หากไม่ใช่\n",
    "\n",
    "ตัวอย่าง:\n",
    "- `are_anagrams('Listen', 'Silent')` จะได้ `True`\n",
    "- `are_anagrams('Dormitory', 'Dirty Room')` จะได้ `True` เพราะทั้งสองวลีประกอบด้วยตัวอักษรเดียวกัน: `d, i, m, o, o, r, r, t, y`"
   ]
  },
  {
   "cell_type": "code",
   "execution_count": 253,
   "metadata": {
    "deletable": false,
    "nbgrader": {
     "cell_type": "code",
     "checksum": "bc5582ba9dfe57fd149e56f14717b561",
     "grade": false,
     "grade_id": "cell-4c86b3bcb548dd81",
     "locked": false,
     "schema_version": 3,
     "solution": true,
     "task": false
    },
    "tags": []
   },
   "outputs": [],
   "source": [
    "def are_anagrams(word1, word2):\n",
    "    # YOUR CODE HERE\n",
    "    word1 = word1.lower()\n",
    "    word1 = word1.replace(\" \",\"\")\n",
    "    word2 = word2.lower()\n",
    "    word2 = word2.replace(\" \",\"\")\n",
    "    return ''.join(sorted(word1)) == ''.join(sorted(word2))"
   ]
  },
  {
   "cell_type": "markdown",
   "metadata": {},
   "source": [
    "<mark>DO NOT CHANGE THE FOLLOWING LINES</mark>\n",
    "\n",
    "<mark>**1 point per test**</mark>\n",
    "\n",
    "<mark>**Some tests are hidden**</mark>"
   ]
  },
  {
   "cell_type": "code",
   "execution_count": 254,
   "metadata": {
    "deletable": false,
    "editable": false,
    "nbgrader": {
     "cell_type": "code",
     "checksum": "03af98d3edef1a851ef8cc8fff39496c",
     "grade": true,
     "grade_id": "cell-49648dd9501d4d65",
     "locked": true,
     "points": 1,
     "schema_version": 3,
     "solution": false,
     "task": false
    },
    "tags": []
   },
   "outputs": [],
   "source": [
    "# Test Case 1\n",
    "assert are_anagrams('Listen', 'Silent') == True"
   ]
  },
  {
   "cell_type": "code",
   "execution_count": 255,
   "metadata": {
    "deletable": false,
    "editable": false,
    "nbgrader": {
     "cell_type": "code",
     "checksum": "4d5af38cfc767105ac8250a11ac1162d",
     "grade": true,
     "grade_id": "cell-50f9d1dc867a9325",
     "locked": true,
     "points": 1,
     "schema_version": 3,
     "solution": false,
     "task": false
    },
    "tags": []
   },
   "outputs": [],
   "source": [
    "# Test Case 2\n",
    "assert are_anagrams('Triangle', 'Integral') == True"
   ]
  },
  {
   "cell_type": "code",
   "execution_count": 256,
   "metadata": {
    "deletable": false,
    "editable": false,
    "nbgrader": {
     "cell_type": "code",
     "checksum": "5933aab756bba4b1215079b0ff6b7e38",
     "grade": true,
     "grade_id": "cell-6a3db42d9053e8c7",
     "locked": true,
     "points": 1,
     "schema_version": 3,
     "solution": false,
     "task": false
    },
    "tags": []
   },
   "outputs": [],
   "source": [
    "# Test Case 3\n",
    "assert are_anagrams('Apple', 'Papel') == True"
   ]
  },
  {
   "cell_type": "code",
   "execution_count": 257,
   "metadata": {
    "deletable": false,
    "editable": false,
    "nbgrader": {
     "cell_type": "code",
     "checksum": "447c7eb5d4b309d950eef0be89829420",
     "grade": true,
     "grade_id": "cell-0bf6f29eca93038c",
     "locked": true,
     "points": 1,
     "schema_version": 3,
     "solution": false,
     "task": false
    },
    "tags": []
   },
   "outputs": [],
   "source": [
    "# Test Case 4\n",
    "assert are_anagrams('Dormitory', 'Dirty Room') == True"
   ]
  },
  {
   "cell_type": "code",
   "execution_count": 258,
   "metadata": {
    "deletable": false,
    "editable": false,
    "nbgrader": {
     "cell_type": "code",
     "checksum": "c08ce617730268304f14ab4b548082d4",
     "grade": true,
     "grade_id": "cell-e9ba7cbe53ed5ba4",
     "locked": true,
     "points": 1,
     "schema_version": 3,
     "solution": false,
     "task": false
    },
    "tags": []
   },
   "outputs": [],
   "source": [
    "# Test Case 5\n",
    "assert are_anagrams('Hello', 'World') == False"
   ]
  },
  {
   "cell_type": "code",
   "execution_count": 259,
   "metadata": {
    "deletable": false,
    "editable": false,
    "nbgrader": {
     "cell_type": "code",
     "checksum": "8594c5ed03ef11e8d3ecec8729694d08",
     "grade": true,
     "grade_id": "cell-558809ec86ca5061",
     "locked": true,
     "points": 1,
     "schema_version": 3,
     "solution": false,
     "task": false
    },
    "tags": []
   },
   "outputs": [],
   "source": [
    "# Test Case 6"
   ]
  },
  {
   "cell_type": "code",
   "execution_count": 260,
   "metadata": {
    "deletable": false,
    "editable": false,
    "nbgrader": {
     "cell_type": "code",
     "checksum": "21565e108566bf9377dfe470230a6649",
     "grade": true,
     "grade_id": "cell-cce3e5e8834ce96f",
     "locked": true,
     "points": 1,
     "schema_version": 3,
     "solution": false,
     "task": false
    },
    "tags": []
   },
   "outputs": [],
   "source": [
    "# Test Case 7"
   ]
  },
  {
   "cell_type": "code",
   "execution_count": 261,
   "metadata": {
    "deletable": false,
    "editable": false,
    "nbgrader": {
     "cell_type": "code",
     "checksum": "bc5b8234a2460d4487822e6fbf4e1f1e",
     "grade": true,
     "grade_id": "cell-f791392fac322ce5",
     "locked": true,
     "points": 1,
     "schema_version": 3,
     "solution": false,
     "task": false
    },
    "tags": []
   },
   "outputs": [],
   "source": [
    "# Test Case 8"
   ]
  },
  {
   "cell_type": "code",
   "execution_count": 262,
   "metadata": {
    "deletable": false,
    "editable": false,
    "nbgrader": {
     "cell_type": "code",
     "checksum": "2f939a977babd7ebd290a7e0781cb7a9",
     "grade": true,
     "grade_id": "cell-63b8f31ae76da333",
     "locked": true,
     "points": 1,
     "schema_version": 3,
     "solution": false,
     "task": false
    },
    "tags": []
   },
   "outputs": [],
   "source": [
    "# Test Case 9"
   ]
  },
  {
   "cell_type": "code",
   "execution_count": 263,
   "metadata": {
    "deletable": false,
    "editable": false,
    "nbgrader": {
     "cell_type": "code",
     "checksum": "8e8379677d3a691ac7fefe96b0233b37",
     "grade": true,
     "grade_id": "cell-6a15ae0bf9d37d37",
     "locked": true,
     "points": 1,
     "schema_version": 3,
     "solution": false,
     "task": false
    },
    "tags": []
   },
   "outputs": [],
   "source": [
    "# Test Case 10"
   ]
  },
  {
   "cell_type": "markdown",
   "metadata": {},
   "source": [
    "---\n",
    "## <mark>Exercise #9 **Caesar Cipher** (Total: 15 points)</mark>\n",
    "- Caesar cipher เป็นเทคนิคการเข้ารหัสที่ง่าย ซึ่งจะทำการเลื่อนแต่ละตัวอักษรในคำไปยังตำแหน่งที่กำหนดในตัวอักษรของอักษรในภาษาอังกฤษ\n",
    "- ตัวอักษรแต่ละตัวสามารถเลื่อนได้ทั้ง **left** หรือ **right** เช่น:\n",
    "  - เมื่อเลื่อน **right** 3 ตำแหน่ง ตัวอักษร `A` จะกลายเป็น `D` และ `Z` จะวนกลับไปเป็น `C`\n",
    "  - เมื่อเลื่อน **left** 2 ตำแหน่ง ตัวอักษร `C` จะกลายเป็น `A` และ `A` จะวนกลับไปเป็น `Y`\n",
    "- สร้างฟังก์ชัน `caesar_cipher(word, direction, n)` ที่มีเงื่อนไข ดังนี้\n",
    "  - `word`: คำที่ต้องการเข้ารหัส ซึ่งประกอบด้วย **ตัวอักษรพิมพ์ใหญ่** \n",
    "  - `direction`: ทิศทางการเลื่อน ซึ่งต้องกำหนดว่าเป็น **\"left\"** หรือ **\"right\"**\n",
    "  - `n`: จำนวนตำแหน่งที่ต้องเลื่อนตัวอักษร\n",
    "- ฟังก์ชัน return ผลลัพธ์เป็นคำที่เข้ารหัส\n",
    "- ตัวอย่าง\n",
    "  - `caesar_cipher('HELLO', 'right', 3)` จะได้ผลลัพธ์เป็น `'KHOOR'`\n",
    "  - `caesar_cipher('WORLD', 'left', 2)` จะได้ผลลัพธ์เป็น `'UPSKB'`"
   ]
  },
  {
   "cell_type": "code",
   "execution_count": 264,
   "metadata": {
    "deletable": false,
    "nbgrader": {
     "cell_type": "code",
     "checksum": "d2bfb4dca34878afd0059956f5126fb6",
     "grade": false,
     "grade_id": "cell-4a8b725e86c3ac80",
     "locked": false,
     "schema_version": 3,
     "solution": true,
     "task": false
    }
   },
   "outputs": [],
   "source": [
    "def caesar_cipher(word, direction, n):\n",
    "    # YOUR CODE HERE\n",
    "    res = \"\"\n",
    "    upcase = \"ABCDEFGHIJKLMNOPQRSTUVWXYZ\"\n",
    "    for i in word:\n",
    "        if direction == \"right\":\n",
    "            caesar = (upcase.find(i)+n)%26\n",
    "            res += upcase[caesar]\n",
    "        elif direction == \"left\":\n",
    "            caesar = (upcase.find(i)-n)%26\n",
    "            res += upcase[caesar]\n",
    "    print(res)\n",
    "    return res\n"
   ]
  },
  {
   "cell_type": "markdown",
   "metadata": {},
   "source": [
    "<mark>DO NOT CHANGE THE FOLLOWING LINES</mark>\n",
    "\n",
    "<mark>**1.5 point per test**</mark>\n",
    "\n",
    "<mark>**Some tests are hidden**</mark>"
   ]
  },
  {
   "cell_type": "code",
   "execution_count": 265,
   "metadata": {
    "deletable": false,
    "editable": false,
    "nbgrader": {
     "cell_type": "code",
     "checksum": "274358ced1ee0302a464fed7fac11d44",
     "grade": true,
     "grade_id": "cell-1407f8fb7b079e11",
     "locked": true,
     "points": 1.5,
     "schema_version": 3,
     "solution": false,
     "task": false
    },
    "tags": []
   },
   "outputs": [
    {
     "name": "stdout",
     "output_type": "stream",
     "text": [
      "DDEEFF\n"
     ]
    }
   ],
   "source": [
    "# Test Case 1\n",
    "assert(caesar_cipher('AABBCC', 'right', 3)=='DDEEFF')"
   ]
  },
  {
   "cell_type": "code",
   "execution_count": 266,
   "metadata": {
    "deletable": false,
    "editable": false,
    "nbgrader": {
     "cell_type": "code",
     "checksum": "7f19af7a645743a8db55f33372bbab63",
     "grade": true,
     "grade_id": "cell-120266bf24114be2",
     "locked": true,
     "points": 1.5,
     "schema_version": 3,
     "solution": false,
     "task": false
    },
    "tags": []
   },
   "outputs": [
    {
     "name": "stdout",
     "output_type": "stream",
     "text": [
      "PQRMNO\n"
     ]
    }
   ],
   "source": [
    "# Test Case 2\n",
    "assert(caesar_cipher('ABCXYZ', 'right', 15)=='PQRMNO')"
   ]
  },
  {
   "cell_type": "code",
   "execution_count": 267,
   "metadata": {
    "deletable": false,
    "editable": false,
    "nbgrader": {
     "cell_type": "code",
     "checksum": "ec801812f05710667f51d5066e0ec851",
     "grade": true,
     "grade_id": "cell-8cf5aee06f1845f3",
     "locked": true,
     "points": 1.5,
     "schema_version": 3,
     "solution": false,
     "task": false
    },
    "tags": []
   },
   "outputs": [
    {
     "name": "stdout",
     "output_type": "stream",
     "text": [
      "WXYZAB\n"
     ]
    }
   ],
   "source": [
    "# Test Case 3\n",
    "assert(caesar_cipher('XYZABC', 'left', 1)=='WXYZAB')"
   ]
  },
  {
   "cell_type": "code",
   "execution_count": 268,
   "metadata": {
    "deletable": false,
    "editable": false,
    "nbgrader": {
     "cell_type": "code",
     "checksum": "d1c86290e4df5bdfeb7a91a90e5fa717",
     "grade": true,
     "grade_id": "cell-431a77d290c7a9c1",
     "locked": true,
     "points": 1.5,
     "schema_version": 3,
     "solution": false,
     "task": false
    },
    "tags": []
   },
   "outputs": [
    {
     "name": "stdout",
     "output_type": "stream",
     "text": [
      "XYZ\n"
     ]
    }
   ],
   "source": [
    "# Test Case 4\n",
    "assert caesar_cipher('ABC', 'left', 3) == 'XYZ'"
   ]
  },
  {
   "cell_type": "code",
   "execution_count": 269,
   "metadata": {
    "deletable": false,
    "editable": false,
    "nbgrader": {
     "cell_type": "code",
     "checksum": "52a1bb85a2d0fdc3d9e01910ad8cfe08",
     "grade": true,
     "grade_id": "cell-8d13f87dbd190766",
     "locked": true,
     "points": 1.5,
     "schema_version": 3,
     "solution": false,
     "task": false
    },
    "tags": []
   },
   "outputs": [
    {
     "name": "stdout",
     "output_type": "stream",
     "text": [
      "HELLO\n"
     ]
    }
   ],
   "source": [
    "# Test Case 5:\n",
    "assert caesar_cipher('HELLO', 'right', 0) == 'HELLO'"
   ]
  },
  {
   "cell_type": "code",
   "execution_count": 270,
   "metadata": {
    "deletable": false,
    "editable": false,
    "nbgrader": {
     "cell_type": "code",
     "checksum": "b15cd40eac371319b31deb75a52fd695",
     "grade": true,
     "grade_id": "cell-b16732da9223b88e",
     "locked": true,
     "points": 1.5,
     "schema_version": 3,
     "solution": false,
     "task": false
    },
    "tags": []
   },
   "outputs": [],
   "source": [
    "# Test Case 6"
   ]
  },
  {
   "cell_type": "code",
   "execution_count": 271,
   "metadata": {
    "deletable": false,
    "editable": false,
    "nbgrader": {
     "cell_type": "code",
     "checksum": "4a8481bc68f51cf0be630249f3356b17",
     "grade": true,
     "grade_id": "cell-2d24a60a76ccaa1a",
     "locked": true,
     "points": 1.5,
     "schema_version": 3,
     "solution": false,
     "task": false
    },
    "tags": []
   },
   "outputs": [],
   "source": [
    "# Test Case 7"
   ]
  },
  {
   "cell_type": "code",
   "execution_count": 272,
   "metadata": {
    "deletable": false,
    "editable": false,
    "nbgrader": {
     "cell_type": "code",
     "checksum": "d18c65bb6ed8072e875c13083b605bf2",
     "grade": true,
     "grade_id": "cell-d71883c6ff153321",
     "locked": true,
     "points": 1.5,
     "schema_version": 3,
     "solution": false,
     "task": false
    },
    "tags": []
   },
   "outputs": [],
   "source": [
    "# Test Case 8"
   ]
  },
  {
   "cell_type": "code",
   "execution_count": 273,
   "metadata": {
    "deletable": false,
    "editable": false,
    "nbgrader": {
     "cell_type": "code",
     "checksum": "7882de16f3ab5e0c2fbfd4c66093ad34",
     "grade": true,
     "grade_id": "cell-3e753fb5052c37f2",
     "locked": true,
     "points": 1.5,
     "schema_version": 3,
     "solution": false,
     "task": false
    },
    "tags": []
   },
   "outputs": [],
   "source": [
    "# Test Case 9"
   ]
  },
  {
   "cell_type": "code",
   "execution_count": 274,
   "metadata": {
    "deletable": false,
    "editable": false,
    "nbgrader": {
     "cell_type": "code",
     "checksum": "19a6c3e1c3d5842d3a910b31ef91743f",
     "grade": true,
     "grade_id": "cell-06dc46e5845741e6",
     "locked": true,
     "points": 1.5,
     "schema_version": 3,
     "solution": false,
     "task": false
    },
    "tags": []
   },
   "outputs": [],
   "source": [
    "# Test Case 10"
   ]
  },
  {
   "cell_type": "markdown",
   "metadata": {},
   "source": [
    "---\n",
    "## <mark>Exercise #10 **Verify Password** (Total: 25 points)</mark>\n",
    "การสร้าง Password ที่ดี นิยมทำตามกฎ 5 ข้อเพื่อให้มั่นใจว่ามีความปลอดภัย\n",
    "1. **ความยาว**: รหัสผ่านต้องมีความยาว **อย่างน้อย 8 ตัวอักษร** \n",
    "2. **ตัวอักษรพิมพ์เล็ก**: รหัสผ่านต้องมี **อย่างน้อยหนึ่งตัวอักษรพิมพ์เล็ก** (`a-z`)\n",
    "3. **ตัวอักษรพิมพ์ใหญ่**: รหัสผ่านต้องมี **อย่างน้อยหนึ่งตัวอักษรพิมพ์ใหญ่** (`A-Z`)\n",
    "4. **ตัวเลข**: รหัสผ่านต้องมี **อย่างน้อยหนึ่งตัวเลข** (`0-9`)\n",
    "5. **อักขระพิเศษ**: รหัสผ่านต้องมี **อย่างน้อยหนึ่งอักขระพิเศษ** ต่อไปนี้นี้ `-`, `_`, `@`, หรือ `$`\n",
    "\n",
    "ให้สร้างฟังก์ชัน `verify_pw(password)` ที่ตรวจสอบว่ารหัสผ่านนั้น **ถูกต้อง** หรือ **ไม่ถูกต้อง** ตามกฎทั้ง 5 ข้อนี้\n",
    "\n",
    "- หากรหัสผ่าน **ถูกต้อง** (ปฏิบัติตามกฎทั้งหมด 5 ข้อ) ให้ส่งคืน `[0]` เพื่อแสดงถึง **รหัสผ่านที่ถูกต้อง**\n",
    "- หากรหัสผ่าน **ไม่ถูกต้อง** ให้ส่งคืน **รายการปัญหา** ซึ่งแต่ละปัญหาจะแสดงด้วย **หมายเลข** ที่แสดงถึงการไม่ผ่านกฎข้อที่กำหนด ตามลำดับ\n",
    "  - `1`: รหัสผ่าน **สั้นเกินไป** (น้อยกว่า 8 ตัวอักษร)\n",
    "  - `2`: รหัสผ่านขาด **ตัวอักษรพิมพ์เล็ก** (`a-z`)\n",
    "  - `3`: รหัสผ่านขาด **ตัวอักษรพิมพ์ใหญ่** (`A-Z`)\n",
    "  - `4`: รหัสผ่านขาด **ตัวเลข** (`0-9`)\n",
    "  - `5`: รหัสผ่านขาด **อักขระพิเศษ** (`-`, `_`, `@`, หรือ `$`)\n",
    "\n",
    "- ตัวอย่าง\n",
    "  - `verify_pw('Passw@rd1234')` จะได้ `[0]` แสดงว่ารหัสผ่านถูกต้อง\n",
    "  - `verify_pw('pw1234')` จะได้ `[1, 3, 5]` แสดงว่ารหัสผ่านสั้นเกินไป ขาดตัวอักษรพิมพ์ใหญ่ และขาดอักขระพิเศษ\n",
    "\n",
    "- หมายเหตุ\n",
    "  - ฟังก์ชันต้องประเมินรหัสผ่านและส่งคืนข้อผิดพลาดที่เกี่ยวข้องทั้งหมดหากรหัสผ่านไม่ถูกต้อง\n",
    "  - สาเหตุของปัญหาจะถูก return ออกมา**ตามลำดับตัวเลข**เสมอ โดยไม่คำนึงถึงลำดับที่พบปัญหา เช่น หากเจอปัญหากฏข้อที่ `3` ก่อน และเจอข้อที่ `1` แต่คำตอบจะได้เป็น `[1, 3]` ตามลำดับตัวเลข"
   ]
  },
  {
   "cell_type": "code",
   "execution_count": 275,
   "metadata": {
    "deletable": false,
    "nbgrader": {
     "cell_type": "code",
     "checksum": "7c673771169c54f2f6522d4c32771990",
     "grade": false,
     "grade_id": "cell-bfaeda995c803778",
     "locked": false,
     "schema_version": 3,
     "solution": true,
     "task": false
    },
    "tags": []
   },
   "outputs": [],
   "source": [
    "def verify_pw(pw):\n",
    "    # YOUR CODE HERE\n",
    "    lower = \"abcdefghijklmnopqrstuvwxyz\"\n",
    "    upper = \"ABCDEFGHIJKLMNOPQRSTUVWXYZ\"\n",
    "    num = \"0123456789\"\n",
    "    sp = \"-_@$\"\n",
    "    error = [1,2,3,4,5]\n",
    "    pw_split = pw.split()\n",
    "    if len(pw) >= 8:\n",
    "        error.remove(1)\n",
    "    for i in pw:\n",
    "        if i in lower and 2 in error:\n",
    "            error.remove(2)\n",
    "        if i in upper and 3 in error:\n",
    "            error.remove(3)\n",
    "        if i in num and 4 in error:\n",
    "            error.remove(4)\n",
    "        if i in sp and 5 in error:\n",
    "            error.remove(5)\n",
    "    print(error)\n",
    "    return error if len(error) > 0 else [0]\n",
    "\n",
    "\n"
   ]
  },
  {
   "cell_type": "markdown",
   "metadata": {},
   "source": [
    "<mark>DO NOT CHANGE THE FOLLOWING LINES</mark>\n",
    "\n",
    "<mark>**2.5 point per test**</mark>\n",
    "\n",
    "<mark>**Some tests are hidden**</mark>"
   ]
  },
  {
   "cell_type": "code",
   "execution_count": 276,
   "metadata": {
    "deletable": false,
    "editable": false,
    "nbgrader": {
     "cell_type": "code",
     "checksum": "37108b5d7860aa4ea5a7a61b8e158bb6",
     "grade": true,
     "grade_id": "cell-a305172dc4f4b573",
     "locked": true,
     "points": 2.5,
     "schema_version": 3,
     "solution": false,
     "task": false
    },
    "tags": []
   },
   "outputs": [
    {
     "name": "stdout",
     "output_type": "stream",
     "text": [
      "[]\n"
     ]
    }
   ],
   "source": [
    "# Test Case 1\n",
    "assert verify_pw('Passw@rd1234') == [0]"
   ]
  },
  {
   "cell_type": "code",
   "execution_count": 277,
   "metadata": {
    "deletable": false,
    "editable": false,
    "nbgrader": {
     "cell_type": "code",
     "checksum": "ba732146b210227869e183722c6341f9",
     "grade": true,
     "grade_id": "cell-afcd15a3cea10718",
     "locked": true,
     "points": 2.5,
     "schema_version": 3,
     "solution": false,
     "task": false
    },
    "tags": []
   },
   "outputs": [
    {
     "name": "stdout",
     "output_type": "stream",
     "text": [
      "[1, 3, 5]\n"
     ]
    }
   ],
   "source": [
    "# Test Case 2\n",
    "assert verify_pw('pw1234') == [1, 3, 5]"
   ]
  },
  {
   "cell_type": "code",
   "execution_count": 278,
   "metadata": {
    "deletable": false,
    "editable": false,
    "nbgrader": {
     "cell_type": "code",
     "checksum": "bff57ca52ec601ae0ad28a8c435dd1d1",
     "grade": true,
     "grade_id": "cell-74e56cc4b38cff43",
     "locked": true,
     "points": 2.5,
     "schema_version": 3,
     "solution": false,
     "task": false
    },
    "tags": []
   },
   "outputs": [
    {
     "name": "stdout",
     "output_type": "stream",
     "text": [
      "[2, 5]\n"
     ]
    }
   ],
   "source": [
    "# Test Case 3\n",
    "assert verify_pw('PASSWORD123') == [2, 5]"
   ]
  },
  {
   "cell_type": "code",
   "execution_count": 279,
   "metadata": {
    "deletable": false,
    "editable": false,
    "nbgrader": {
     "cell_type": "code",
     "checksum": "81a0d1d723f5217a6ea4b41ec5fd198a",
     "grade": true,
     "grade_id": "cell-f0488172cce1c94d",
     "locked": true,
     "points": 2.5,
     "schema_version": 3,
     "solution": false,
     "task": false
    },
    "tags": []
   },
   "outputs": [
    {
     "name": "stdout",
     "output_type": "stream",
     "text": [
      "[4, 5]\n"
     ]
    }
   ],
   "source": [
    "# Test Case 4\n",
    "assert verify_pw('Password') == [4, 5]"
   ]
  },
  {
   "cell_type": "code",
   "execution_count": 280,
   "metadata": {
    "deletable": false,
    "editable": false,
    "nbgrader": {
     "cell_type": "code",
     "checksum": "28db8eb308f3d1f28452a672044b61c5",
     "grade": true,
     "grade_id": "cell-048ce53090d6f197",
     "locked": true,
     "points": 2.5,
     "schema_version": 3,
     "solution": false,
     "task": false
    },
    "tags": []
   },
   "outputs": [
    {
     "name": "stdout",
     "output_type": "stream",
     "text": [
      "[5]\n"
     ]
    }
   ],
   "source": [
    "# Test Case 5\n",
    "assert verify_pw('Passw0rd!') == [5]"
   ]
  },
  {
   "cell_type": "code",
   "execution_count": 281,
   "metadata": {
    "deletable": false,
    "editable": false,
    "nbgrader": {
     "cell_type": "code",
     "checksum": "f5ba7424602cfebdafe22a26dcaad789",
     "grade": true,
     "grade_id": "cell-77cee0b0a791e99e",
     "locked": true,
     "points": 2.5,
     "schema_version": 3,
     "solution": false,
     "task": false
    },
    "tags": []
   },
   "outputs": [],
   "source": [
    "# Test Case 6"
   ]
  },
  {
   "cell_type": "code",
   "execution_count": 282,
   "metadata": {
    "deletable": false,
    "editable": false,
    "nbgrader": {
     "cell_type": "code",
     "checksum": "2e74c0426fade933e021dd58403d8f69",
     "grade": true,
     "grade_id": "cell-1812475114e6be0b",
     "locked": true,
     "points": 2.5,
     "schema_version": 3,
     "solution": false,
     "task": false
    },
    "tags": []
   },
   "outputs": [],
   "source": [
    "# Test Case 7"
   ]
  },
  {
   "cell_type": "code",
   "execution_count": 283,
   "metadata": {
    "deletable": false,
    "editable": false,
    "nbgrader": {
     "cell_type": "code",
     "checksum": "37c401d38ed87cf4098c3bfd6abb8ab9",
     "grade": true,
     "grade_id": "cell-2ed2efc2964c50c4",
     "locked": true,
     "points": 2.5,
     "schema_version": 3,
     "solution": false,
     "task": false
    },
    "tags": []
   },
   "outputs": [],
   "source": [
    "# Test Case 8"
   ]
  },
  {
   "cell_type": "code",
   "execution_count": 284,
   "metadata": {
    "deletable": false,
    "editable": false,
    "nbgrader": {
     "cell_type": "code",
     "checksum": "21a0db86de4391c6dc6e1205b64c570f",
     "grade": true,
     "grade_id": "cell-d6093833f33403f5",
     "locked": true,
     "points": 2.5,
     "schema_version": 3,
     "solution": false,
     "task": false
    },
    "tags": []
   },
   "outputs": [],
   "source": [
    "# Test Case 9"
   ]
  },
  {
   "cell_type": "code",
   "execution_count": 285,
   "metadata": {
    "deletable": false,
    "editable": false,
    "nbgrader": {
     "cell_type": "code",
     "checksum": "6b67144686c6438de84ee443d0eaa3bb",
     "grade": true,
     "grade_id": "cell-18da3f03c008194f",
     "locked": true,
     "points": 2.5,
     "schema_version": 3,
     "solution": false,
     "task": false
    },
    "tags": []
   },
   "outputs": [],
   "source": [
    "# Test Case 10"
   ]
  }
 ],
 "metadata": {
  "kernelspec": {
   "display_name": "Python 3 (ipykernel)",
   "language": "python",
   "name": "python3"
  },
  "language_info": {
   "codemirror_mode": {
    "name": "ipython",
    "version": 3
   },
   "file_extension": ".py",
   "mimetype": "text/x-python",
   "name": "python",
   "nbconvert_exporter": "python",
   "pygments_lexer": "ipython3",
   "version": "3.12.4"
  },
  "vscode": {
   "interpreter": {
    "hash": "a93b0dd0476a54a5f478b7334ff9b37b619e169e7e9a7d9bbc2ae9cea000272a"
   }
  }
 },
 "nbformat": 4,
 "nbformat_minor": 4
}
