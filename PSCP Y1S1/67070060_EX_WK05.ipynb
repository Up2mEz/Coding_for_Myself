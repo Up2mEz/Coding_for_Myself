{
 "cells": [
  {
   "cell_type": "markdown",
   "id": "ad48dff2",
   "metadata": {},
   "source": [
    "Before you turn this problem in, make sure everything runs as expected. First, **restart the kernel** (in the menubar, select Kernel$\\rightarrow$Restart) and then **run all cells** (in the menubar, select Cell$\\rightarrow$Run All).\n",
    "\n",
    "Make sure you fill in any place that says `YOUR CODE HERE` or \"YOUR ANSWER HERE\"."
   ]
  },
  {
   "cell_type": "markdown",
   "id": "8af9a969",
   "metadata": {
    "deletable": false,
    "editable": false,
    "nbgrader": {
     "cell_type": "markdown",
     "checksum": "2cc3156afe73cb7f045283a0ad4d53a8",
     "grade": false,
     "grade_id": "cell-9471d56fb38e978d",
     "locked": true,
     "schema_version": 3,
     "solution": false,
     "task": false
    }
   },
   "source": [
    "# WEEK 05: Repetition Structure"
   ]
  },
  {
   "cell_type": "markdown",
   "id": "f71be956",
   "metadata": {},
   "source": [
    "**Name**: Thanakrit Samoena\n",
    "\n",
    "**ID**: 67070060\n",
    "\n",
    "**Program**: AIT"
   ]
  },
  {
   "cell_type": "markdown",
   "id": "58ec5dec",
   "metadata": {},
   "source": [
    "**Intructions: Write you codes after `# YOUR CODE HERE`**\n",
    "\n",
    "**Automatic grading, DO NOT CHANGE anything outside `# YOUR CODE HERE`**"
   ]
  },
  {
   "cell_type": "markdown",
   "id": "d12a9e2b",
   "metadata": {},
   "source": [
    "---\n",
    "<span style='background :yellow' > Execise #1 </span>.\n",
    "Create a program to calculate the **sum** of numbers from `1` to `N` using a `for`-loop. **(20 Points)**\n",
    "\n",
    "**Variables:**\n",
    "- `N` is a variable to store an integer number as the last number.\n",
    "- `sum_numbers` is a variable to store the sum of all numbers.\n",
    "\n",
    "Examples:\n",
    "\n",
    "- If `N` = 5, then `sum_numbers` of `1:5` = `15` # 1 + 2 + 3 + 4 + 5\n",
    "- If `N` = 7, then `sum_numbers` of `1:7` = `28` # 1 + 2 + 3 + 4 + 5 + 6 + 7"
   ]
  },
  {
   "cell_type": "code",
   "execution_count": 37,
   "id": "3277899e",
   "metadata": {
    "deletable": false,
    "nbgrader": {
     "cell_type": "code",
     "checksum": "0c4b400a9a5b103875946882a4531bf4",
     "grade": false,
     "grade_id": "cell-c2c51a3819bb15f7",
     "locked": false,
     "schema_version": 3,
     "solution": true,
     "task": false
    },
    "tags": []
   },
   "outputs": [
    {
     "name": "stdout",
     "output_type": "stream",
     "text": [
      "55\n"
     ]
    }
   ],
   "source": [
    "# Test-Ex1-1 condition\n",
    "\n",
    "N = 10\n",
    "sum_numbers = 0\n",
    "\n",
    "for num in range(1, N + 1):\n",
    "    \n",
    "    # YOUR CODE HERE\n",
    "    sum_numbers += num\n",
    "print(sum_numbers)"
   ]
  },
  {
   "cell_type": "code",
   "execution_count": 38,
   "id": "01090d50",
   "metadata": {
    "deletable": false,
    "editable": false,
    "nbgrader": {
     "cell_type": "code",
     "checksum": "69f95a4bf205b1f31a1a296eb9f906ca",
     "grade": true,
     "grade_id": "cell-aea3c70ce6e8925c",
     "locked": true,
     "points": 10,
     "schema_version": 3,
     "solution": false,
     "task": false
    },
    "tags": []
   },
   "outputs": [],
   "source": [
    "# Test-Ex1-1: a correct solution gets 10 points\n",
    "assert sum_numbers == 55"
   ]
  },
  {
   "cell_type": "code",
   "execution_count": 39,
   "id": "b7cf67c1",
   "metadata": {
    "deletable": false,
    "nbgrader": {
     "cell_type": "code",
     "checksum": "8af7203bc678f9f9e097e9bfa5a6fe1e",
     "grade": true,
     "grade_id": "cell-31e0a36c7290bb7b",
     "locked": false,
     "points": 0,
     "schema_version": 3,
     "solution": true,
     "task": false
    },
    "tags": []
   },
   "outputs": [
    {
     "name": "stdout",
     "output_type": "stream",
     "text": [
      "500500\n"
     ]
    }
   ],
   "source": [
    "# Test-Ex1-2 condition\n",
    "\n",
    "N = 1000\n",
    "sum_numbers = 0\n",
    "\n",
    "for num in range(1, N + 1):\n",
    "\n",
    "    # YOUR CODE HERE\n",
    "    sum_numbers += num\n",
    "print(sum_numbers)"
   ]
  },
  {
   "cell_type": "code",
   "execution_count": 40,
   "id": "3c02a3ce",
   "metadata": {
    "deletable": false,
    "editable": false,
    "nbgrader": {
     "cell_type": "code",
     "checksum": "29152044e6e9d6d5df1c0cd19e4ff372",
     "grade": true,
     "grade_id": "cell-473547942b45caf6",
     "locked": true,
     "points": 10,
     "schema_version": 3,
     "solution": false,
     "task": false
    },
    "tags": []
   },
   "outputs": [],
   "source": [
    "# Test-Ex1-2: a correct solution gets 10 points\n",
    "assert sum_numbers == 500500"
   ]
  },
  {
   "cell_type": "markdown",
   "id": "9e5b2885-af21-4289-a00c-850bd1eef548",
   "metadata": {},
   "source": [
    "---\n",
    "<span style='background :yellow' > Execise #2 </span>.\n",
    "Create a program to sum **odd** numbers from `1` to `N` using `for`-loop. **(20 Points)**\n",
    "\n",
    "*Hint: You may need to use* `if` *statement.*\n",
    "\n",
    "**Variables:**\n",
    "- `N` is a variable to store an integer number as a last number\n",
    "- `sum_even` is a variable to store summation of all even numbers\n",
    "\n",
    "**Examples:**\n",
    "\n",
    "- If `N` = 5, then the `sum_odd` of `1:5` = `9`    # 1 + 3 + 5\n",
    "- If `N` = 10, then the `sum_odd` of `1:10` = `25`    # 1 + 3 + 5 + 7 + 9"
   ]
  },
  {
   "cell_type": "code",
   "execution_count": 41,
   "id": "8226038a-c1ee-415c-8587-085419d791ad",
   "metadata": {
    "deletable": false,
    "nbgrader": {
     "cell_type": "code",
     "checksum": "dd0a2ef81fb10d5eab0ad38f55d3cc06",
     "grade": false,
     "grade_id": "cell-bb7daf38499e0fa2",
     "locked": false,
     "schema_version": 3,
     "solution": true,
     "task": false
    },
    "tags": []
   },
   "outputs": [
    {
     "name": "stdout",
     "output_type": "stream",
     "text": [
      "196\n"
     ]
    }
   ],
   "source": [
    "# Test-Ex2-1 condition\n",
    "\n",
    "N = 27\n",
    "sum_odd = 0\n",
    "\n",
    "for num in range(1, N + 1):\n",
    "\n",
    "# YOUR CODE HERE\n",
    "    if num % 2 == 1:\n",
    "        sum_odd += num\n",
    "print(sum_odd)\n"
   ]
  },
  {
   "cell_type": "code",
   "execution_count": 42,
   "id": "71499330-e08c-4b47-8f80-bd629c2632eb",
   "metadata": {
    "deletable": false,
    "editable": false,
    "nbgrader": {
     "cell_type": "code",
     "checksum": "bd30ec02fc6e3d803e5fd2cd06498f22",
     "grade": true,
     "grade_id": "cell-b5bc05487d22a580",
     "locked": true,
     "points": 10,
     "schema_version": 3,
     "solution": false,
     "task": false
    },
    "tags": []
   },
   "outputs": [],
   "source": [
    "# Test-Ex2-1: a correct solution gets 10 points\n",
    "assert sum_odd == 196"
   ]
  },
  {
   "cell_type": "code",
   "execution_count": 43,
   "id": "6ea743f6",
   "metadata": {
    "deletable": false,
    "nbgrader": {
     "cell_type": "code",
     "checksum": "8eda484fbe685b3a068b659be25fa084",
     "grade": false,
     "grade_id": "cell-592f97713a7768c6",
     "locked": false,
     "schema_version": 3,
     "solution": true,
     "task": false
    },
    "tags": []
   },
   "outputs": [
    {
     "name": "stdout",
     "output_type": "stream",
     "text": [
      "625\n"
     ]
    }
   ],
   "source": [
    "# Test-Ex2-2 condition\n",
    "\n",
    "N = 49\n",
    "sum_odd = 0\n",
    "\n",
    "for num in range(1, N + 1):\n",
    "    \n",
    "# YOUR CODE HERE\n",
    "    if num % 2 == 1:\n",
    "        sum_odd += num\n",
    "print(sum_odd)\n"
   ]
  },
  {
   "cell_type": "code",
   "execution_count": 44,
   "id": "bbfa806d-d61a-4c08-9568-91dc7fadb2d8",
   "metadata": {
    "deletable": false,
    "editable": false,
    "nbgrader": {
     "cell_type": "code",
     "checksum": "66a30c2a2be6883d538fe1d9a534087d",
     "grade": true,
     "grade_id": "cell-d454b0509c7c3055",
     "locked": true,
     "points": 10,
     "schema_version": 3,
     "solution": false,
     "task": false
    },
    "tags": []
   },
   "outputs": [],
   "source": [
    "# Test-Ex2-2: a correct solution gets 10 points\n",
    "assert sum_odd == 625"
   ]
  },
  {
   "cell_type": "markdown",
   "id": "ac3fe8f0",
   "metadata": {},
   "source": [
    "---\n",
    "<span style='background :yellow' > Execise #3 </span>.\n",
    "Create a program to sum **even** numbers from `1` to `N` using `while`-loop. **(20 Points)**\n",
    "\n",
    "*Hint: You may need to use* `if` *statement.*\n",
    "\n",
    "**Variables:**\n",
    "- `N` is a variable to store an integer number as a last number\n",
    "- `sum_even` is a variable to store summation of all even numbers\n",
    "- `num` is a variable to set a pretest loop of while\n",
    "\n",
    "**Examples:**\n",
    "\n",
    "- If `N` = 5, then the `sum_even` of `1:5` = `6`         # 2 + 4\n",
    "- If `N` = 10, then the `sum_even` of `1:10` = `30`      # 2 + 4 + 6 + 8 + 10"
   ]
  },
  {
   "cell_type": "code",
   "execution_count": 45,
   "id": "bbb84f36",
   "metadata": {
    "deletable": false,
    "nbgrader": {
     "cell_type": "code",
     "checksum": "f33a133b394b0777a90ca8680fb33157",
     "grade": false,
     "grade_id": "cell-4195fb0f06de1f28",
     "locked": false,
     "schema_version": 3,
     "solution": true,
     "task": false
    },
    "tags": []
   },
   "outputs": [
    {
     "name": "stdout",
     "output_type": "stream",
     "text": [
      "132\n"
     ]
    }
   ],
   "source": [
    "# Test-Ex3-1 condition\n",
    "\n",
    "N = 23\n",
    "sum_even = 0\n",
    "\n",
    "num = 1 # pretest loop of while\n",
    "while num <= N:\n",
    "\n",
    "# YOUR CODE HERE\n",
    "    if not num % 2 :\n",
    "        sum_even += num\n",
    "    num += 1\n",
    "print(sum_even)\n"
   ]
  },
  {
   "cell_type": "code",
   "execution_count": 46,
   "id": "02774898",
   "metadata": {
    "deletable": false,
    "editable": false,
    "nbgrader": {
     "cell_type": "code",
     "checksum": "1583d3935d85ef2b3ded7866c5078cad",
     "grade": true,
     "grade_id": "cell-a0d0d2921f2b4f2e",
     "locked": true,
     "points": 10,
     "schema_version": 3,
     "solution": false,
     "task": false
    },
    "tags": []
   },
   "outputs": [],
   "source": [
    "# Test-Ex3-1: a correct solution gets 10 points\n",
    "assert sum_even == 132"
   ]
  },
  {
   "cell_type": "code",
   "execution_count": 47,
   "id": "18bdd1f2",
   "metadata": {
    "deletable": false,
    "nbgrader": {
     "cell_type": "code",
     "checksum": "8807800db1dffe7aaf48f629eaceadb6",
     "grade": false,
     "grade_id": "cell-37c1d4cba1a5877b",
     "locked": false,
     "schema_version": 3,
     "solution": true,
     "task": false
    },
    "tags": []
   },
   "outputs": [
    {
     "name": "stdout",
     "output_type": "stream",
     "text": [
      "89700\n"
     ]
    }
   ],
   "source": [
    "# Test-Ex3-2 condition\n",
    "\n",
    "N = 598\n",
    "sum_even = 0\n",
    "\n",
    "num = 1 # pretest loop of while\n",
    "while num <= N:\n",
    "\n",
    "# YOUR CODE HERE\n",
    "    if not num % 2 :\n",
    "        sum_even += num\n",
    "    num += 1\n",
    "print(sum_even)\n"
   ]
  },
  {
   "cell_type": "code",
   "execution_count": 48,
   "id": "93e7fd07",
   "metadata": {
    "deletable": false,
    "editable": false,
    "nbgrader": {
     "cell_type": "code",
     "checksum": "3500fe9684ac6bfa01761d233f6cb7ed",
     "grade": true,
     "grade_id": "cell-1823cc9d93652768",
     "locked": true,
     "points": 10,
     "schema_version": 3,
     "solution": false,
     "task": false
    },
    "tags": []
   },
   "outputs": [],
   "source": [
    "# Test-Ex3-2: a correct solution gets 10 points\n",
    "assert sum_even == 89700"
   ]
  },
  {
   "cell_type": "markdown",
   "id": "35a365c8",
   "metadata": {},
   "source": [
    "---\n",
    "<span style='background :yellow' > Execise #4 </span>.\n",
    "Create a program to find the **minimum** number in a list of numbers using a `for`-loop or a `while`-loop. **(20 Points)**\n",
    "\n",
    "Hint: Initialize a `variable` that keeps a **reference** with a **very large** number.\n",
    "\n",
    "**Variables:**\n",
    "\n",
    "- `numbers` is a list of numbers.\n",
    "- `min_num` is a variable to store the **minimum** number.\n",
    "\n",
    "**Examples:**\n",
    "\n",
    "- If `numbers` = [3, 7, 2, 8, 5], then `min_num` = `2`\n",
    "- If `numbers` = [1, 4, 9, 2, 6], then `min_num` = `1`"
   ]
  },
  {
   "cell_type": "code",
   "execution_count": 49,
   "id": "7e46cd75",
   "metadata": {
    "deletable": false,
    "nbgrader": {
     "cell_type": "code",
     "checksum": "3b711ecf17c3a13830237f60717c4062",
     "grade": false,
     "grade_id": "cell-e615b04c02aa810e",
     "locked": false,
     "schema_version": 3,
     "solution": true,
     "task": false
    },
    "tags": []
   },
   "outputs": [
    {
     "name": "stdout",
     "output_type": "stream",
     "text": [
      "-98\n"
     ]
    }
   ],
   "source": [
    "# Test-Ex4-1 condition\n",
    "\n",
    "numbers = [27, -83, 45, 12, -98, 57, 34, 76, 89, 23]\n",
    "\n",
    "# YOUR CODE HERE\n",
    "min_num = numbers[0]\n",
    "for i in numbers:\n",
    "    if i < min_num:\n",
    "        min_num = i\n",
    "print(min_num)"
   ]
  },
  {
   "cell_type": "code",
   "execution_count": 50,
   "id": "601cee7a",
   "metadata": {
    "deletable": false,
    "editable": false,
    "nbgrader": {
     "cell_type": "code",
     "checksum": "9d7a29d3d67601efc9a45dedc70a3a57",
     "grade": true,
     "grade_id": "cell-71e2f605267a29c8",
     "locked": true,
     "points": 10,
     "schema_version": 3,
     "solution": false,
     "task": false
    },
    "tags": []
   },
   "outputs": [],
   "source": [
    "# Test-Ex4-1: a correct solution gets 10 points\n",
    "assert min_num == -98"
   ]
  },
  {
   "cell_type": "code",
   "execution_count": 51,
   "id": "66da7e61",
   "metadata": {
    "deletable": false,
    "nbgrader": {
     "cell_type": "code",
     "checksum": "5722c46f583ff9d53d6b67f9488c8952",
     "grade": false,
     "grade_id": "cell-b1692e55a1901b9c",
     "locked": false,
     "schema_version": 3,
     "solution": true,
     "task": false
    },
    "tags": []
   },
   "outputs": [
    {
     "name": "stdout",
     "output_type": "stream",
     "text": [
      "-90.12\n"
     ]
    }
   ],
   "source": [
    "# Test-Ex4-2 condition\n",
    "\n",
    "numbers = [-23.45, 78.92, -54.67, 33.21, -12.34, 88.45, -67.89, 45.67, -90.12, 22.33]\n",
    "\n",
    "# YOUR CODE HERE\n",
    "min_num = numbers[0]\n",
    "for i in numbers:\n",
    "    if i < min_num:\n",
    "        min_num = i\n",
    "print(min_num)\n"
   ]
  },
  {
   "cell_type": "code",
   "execution_count": 52,
   "id": "a920199e",
   "metadata": {
    "deletable": false,
    "editable": false,
    "nbgrader": {
     "cell_type": "code",
     "checksum": "af0ebba772fae25ce8523aa222990960",
     "grade": true,
     "grade_id": "cell-6e93c1255d469aa8",
     "locked": true,
     "points": 10,
     "schema_version": 3,
     "solution": false,
     "task": false
    },
    "tags": []
   },
   "outputs": [],
   "source": [
    "# Test-Ex4-2: a correct solution gets 10 points\n",
    "assert min_num == -90.12"
   ]
  },
  {
   "cell_type": "markdown",
   "id": "2997e1e3",
   "metadata": {},
   "source": [
    "---\n",
    "<span style='background :yellow' > Execise #5 </span>.\n",
    "Create a program to count the number in the `secret` code that is greater than a `ref_num` using a `for`-loop **or** a `while`-loop. **(20 Points)**\n",
    "\n",
    "*Hint: You may need to use* `if` *statement.*\n",
    "\n",
    "**Variables:**\n",
    "- `secret` is a list of 12-numbers\n",
    "- `ref_num` is a reference number\n",
    "- `count_num` is a variable to keep count of numbers that have a value greater than a `ref_num`\n",
    "\n",
    "**Examples:**\n",
    "\n",
    "- If `ref_num` = -13, then the `count_num` is `12`\n",
    "- If `ref_num` = -10, then the `count_num` is `11`"
   ]
  },
  {
   "cell_type": "code",
   "execution_count": 53,
   "id": "afc702ed",
   "metadata": {
    "deletable": false,
    "nbgrader": {
     "cell_type": "code",
     "checksum": "e9ea335f41068e3113305f5608d2e14f",
     "grade": false,
     "grade_id": "cell-655163fc08b5cf6a",
     "locked": false,
     "schema_version": 3,
     "solution": true,
     "task": false
    },
    "tags": []
   },
   "outputs": [
    {
     "name": "stdout",
     "output_type": "stream",
     "text": [
      "4\n"
     ]
    }
   ],
   "source": [
    "# Test-Ex5-1 condition\n",
    "\n",
    "secret = [10, 20, 33, 21, 34, 7, 9, 20, 99, -12, 3,87]\n",
    "\n",
    "ref_num = 23\n",
    "count_num = 0\n",
    "\n",
    "# YOUR CODE HERE\n",
    "for i in secret:\n",
    "    if ref_num < i:\n",
    "        count_num += 1\n",
    "print(count_num)\n"
   ]
  },
  {
   "cell_type": "code",
   "execution_count": 54,
   "id": "d6231693",
   "metadata": {
    "deletable": false,
    "editable": false,
    "nbgrader": {
     "cell_type": "code",
     "checksum": "0dbe958dceec942e3e4be525ef574b24",
     "grade": true,
     "grade_id": "cell-f4e5d2645a541123",
     "locked": true,
     "points": 10,
     "schema_version": 3,
     "solution": false,
     "task": false
    },
    "tags": []
   },
   "outputs": [],
   "source": [
    "# Test-Ex5-1: a correct solution gets 10 points\n",
    "assert count_num == 4"
   ]
  },
  {
   "cell_type": "code",
   "execution_count": 55,
   "id": "458ce0fb",
   "metadata": {
    "deletable": false,
    "nbgrader": {
     "cell_type": "code",
     "checksum": "ac6c780556bd852023ecd4a2bd531fb5",
     "grade": false,
     "grade_id": "cell-e8ff021a68beb143",
     "locked": false,
     "schema_version": 3,
     "solution": true,
     "task": false
    },
    "tags": []
   },
   "outputs": [
    {
     "name": "stdout",
     "output_type": "stream",
     "text": [
      "7\n"
     ]
    }
   ],
   "source": [
    "# Test-Ex5-2 condition\n",
    "\n",
    "secret = [10, 20, 33, 21, 34, 7, 9, 20, 99, -12, 3,87]\n",
    "\n",
    "ref_num = 10\n",
    "count_num = 0\n",
    "\n",
    "# YOUR CODE HERE\n",
    "for i in secret:\n",
    "    if ref_num < i:\n",
    "        count_num += 1\n",
    "print(count_num)\n",
    "\n"
   ]
  },
  {
   "cell_type": "code",
   "execution_count": 56,
   "id": "3669d6e5",
   "metadata": {
    "deletable": false,
    "editable": false,
    "nbgrader": {
     "cell_type": "code",
     "checksum": "0d0a38edd997af9626c6ae79b32156f7",
     "grade": true,
     "grade_id": "cell-6bde0f4b8578b263",
     "locked": true,
     "points": 10,
     "schema_version": 3,
     "solution": false,
     "task": false
    },
    "tags": []
   },
   "outputs": [],
   "source": [
    "# Test-Ex5-2: a correct solution gets 10 points\n",
    "assert count_num == 7"
   ]
  }
 ],
 "metadata": {
  "kernelspec": {
   "display_name": "Python 3 (ipykernel)",
   "language": "python",
   "name": "python3"
  },
  "language_info": {
   "codemirror_mode": {
    "name": "ipython",
    "version": 3
   },
   "file_extension": ".py",
   "mimetype": "text/x-python",
   "name": "python",
   "nbconvert_exporter": "python",
   "pygments_lexer": "ipython3",
   "version": "3.12.4"
  }
 },
 "nbformat": 4,
 "nbformat_minor": 5
}
