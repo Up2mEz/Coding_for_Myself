{
 "cells": [
  {
   "cell_type": "markdown",
   "metadata": {},
   "source": [
    "1 WK10: Sequences: Lists and Tuples\n",
    "\n",
    "1.1 Lists\n",
    "\n",
    "1.1.1 Defining and Accessing data in List"
   ]
  },
  {
   "cell_type": "code",
   "execution_count": 204,
   "metadata": {},
   "outputs": [],
   "source": [
    "prime_numbers = [1, 3, 5, 7, 9]\n",
    "pet_animals = ['Cat', 'Dog', 'Bird']\n",
    "employee_info = ['Alice', 'Manager', 7, 87.65] # Name, Position, Experience,␣Score\n",
    "numbers = list(range(4)) # list() is a built-in function"
   ]
  },
  {
   "cell_type": "code",
   "execution_count": 205,
   "metadata": {},
   "outputs": [
    {
     "name": "stdout",
     "output_type": "stream",
     "text": [
      "[1, 3, 5, 7, 9]\n",
      "['Cat', 'Dog', 'Bird']\n",
      "['Alice', 'Manager', 7, 87.65]\n",
      "[0, 1, 2, 3]\n"
     ]
    }
   ],
   "source": [
    "print(prime_numbers)\n",
    "print(pet_animals)\n",
    "print(employee_info)\n",
    "print(numbers)"
   ]
  },
  {
   "cell_type": "code",
   "execution_count": 206,
   "metadata": {},
   "outputs": [
    {
     "name": "stdout",
     "output_type": "stream",
     "text": [
      "Cat\n",
      "Bird\n",
      "Bird\n",
      "Dog\n",
      "Dog\n"
     ]
    }
   ],
   "source": [
    "print(pet_animals[0]) # first index: index 0\n",
    "print(pet_animals[2]) # last index: index 2\n",
    "print(pet_animals[-1]) # last index: with -1 means starting from the left of␣the first index\n",
    "print(pet_animals[1]) # second index: index 1\n",
    "print(pet_animals[-2]) # last index: with -2 means starting from the␣"
   ]
  },
  {
   "cell_type": "code",
   "execution_count": 207,
   "metadata": {},
   "outputs": [
    {
     "name": "stdout",
     "output_type": "stream",
     "text": [
      "prime_number =  1\n",
      "prime_number =  3\n",
      "prime_number =  5\n",
      "prime_number =  7\n",
      "prime_number =  9\n"
     ]
    }
   ],
   "source": [
    "for prime_number in prime_numbers:\n",
    "    print('prime_number = ', prime_number)"
   ]
  },
  {
   "cell_type": "code",
   "execution_count": 208,
   "metadata": {},
   "outputs": [
    {
     "name": "stdout",
     "output_type": "stream",
     "text": [
      "0\n",
      "1\n",
      "2\n",
      "3\n"
     ]
    }
   ],
   "source": [
    "index = 0\n",
    "while index < len(numbers): # numbers = list(range(4)) : 0,1,2,3\n",
    "    print(numbers[index])\n",
    "    index +=1 # alternative way of `index = index + 1`"
   ]
  },
  {
   "cell_type": "code",
   "execution_count": 209,
   "metadata": {},
   "outputs": [
    {
     "name": "stdout",
     "output_type": "stream",
     "text": [
      "Original Holiday Dates:  [1, 3, 4, 30]\n",
      "New Holiday Dates:  [1, 3, 13, 30]\n"
     ]
    }
   ],
   "source": [
    "holiday_dates = [1, 3, 4, 30]\n",
    "print('Original Holiday Dates: ', holiday_dates)\n",
    "holiday_dates[2] = 13 # change from 4 to 13\n",
    "print('New Holiday Dates: ', holiday_dates)"
   ]
  },
  {
   "cell_type": "code",
   "execution_count": 210,
   "metadata": {},
   "outputs": [
    {
     "name": "stdout",
     "output_type": "stream",
     "text": [
      "[1, 2, 3, 7, 8, 9]\n",
      "['This week, ', 'we have three holidays:', 1, 22, 31]\n"
     ]
    }
   ],
   "source": [
    "number_a = [1, 2, 3]\n",
    "number_b = [7, 8, 9]\n",
    "print(number_a + number_b) # print [1, 2, 3, 7, 8, 9]\n",
    "# mixed types of data\n",
    "list_a = ['This week, ']\n",
    "list_b = ['we have three holidays:']\n",
    "number_c = [1, 22, 31]\n",
    "list_all = list_a + list_b + number_c\n",
    "print(list_all) # ['This week, ', 'we have three holidays:', 1, 22, 31]"
   ]
  },
  {
   "cell_type": "markdown",
   "metadata": {},
   "source": [
    "1.1.2 List Scicing"
   ]
  },
  {
   "cell_type": "code",
   "execution_count": 211,
   "metadata": {},
   "outputs": [
    {
     "name": "stdout",
     "output_type": "stream",
     "text": [
      "['Monday', 'Tuesday', 'Wednesday', 'Thursday', 'Friday', 'Saturday', 'Sunday']\n",
      "['Saturday', 'Sunday']\n",
      "['Monday', 'Tuesday', 'Wednesday']\n",
      "['Thursday', 'Friday', 'Saturday', 'Sunday']\n"
     ]
    }
   ],
   "source": [
    "days = ['Monday', 'Tuesday', 'Wednesday', 'Thursday', 'Friday', 'Saturday','Sunday']\n",
    "weekend = days[5:7] # item of index 5 and index 6 - count 5 to N - 1 where N is␣7\n",
    "long_weekend_1 = days[:3] # index 0 to N - 1 where N is 3\n",
    "long_weekend_2 = days[3:] # index 3 to END\n",
    "print(days) # everyday\n",
    "print(weekend) # ['Saturday', 'Sunday']\n",
    "print(long_weekend_1) # ['Monday', 'Tuesday', 'Wednesday', 'Thursday']\n",
    "print(long_weekend_2) # ['Thursday', 'Friday', 'Saturday', 'Sunday']"
   ]
  },
  {
   "cell_type": "code",
   "execution_count": 212,
   "metadata": {},
   "outputs": [
    {
     "name": "stdout",
     "output_type": "stream",
     "text": [
      "[1, 2, 3, 4, 5, 6, 7, 8, 9, 10]\n",
      "[1, 3, 5, 7, 9]\n",
      "[2, 4, 6, 8, 10]\n"
     ]
    }
   ],
   "source": [
    "numbers = [1,2,3,4,5,6,7,8,9,10]\n",
    "all_numbers = numbers[:]\n",
    "print(all_numbers) # [1, 2, 3, 4, 5, 6, 7, 8, 9, 10]\n",
    "odd_numbers = numbers[0::2]\n",
    "print(odd_numbers) # [1, 3, 5, 7, 9]\n",
    "even_numbers = numbers[1::2]\n",
    "print(even_numbers) # [2, 4, 6, 8, 10]"
   ]
  },
  {
   "cell_type": "markdown",
   "metadata": {},
   "source": [
    "1.1.3 List Operator and Methods Built-in Functions\n",
    "in is an Operator for searching items in List (is a member of?)"
   ]
  },
  {
   "cell_type": "code",
   "execution_count": 213,
   "metadata": {},
   "outputs": [
    {
     "name": "stdout",
     "output_type": "stream",
     "text": [
      "True\n",
      "False\n",
      "True\n"
     ]
    }
   ],
   "source": [
    "items_number = [111, 222, 333, 666, 555, 444]\n",
    "search = 111 in items_number\n",
    "print(search) # True\n",
    "search = 123 in items_number\n",
    "print(search) # False\n",
    "search = 123 not in items_number\n",
    "print(search) # True"
   ]
  },
  {
   "cell_type": "code",
   "execution_count": 214,
   "metadata": {},
   "outputs": [
    {
     "name": "stdout",
     "output_type": "stream",
     "text": [
      "True\n",
      "True\n",
      "False\n",
      "False\n",
      "True\n"
     ]
    }
   ],
   "source": [
    "items_string = ['this', 'computer', 'is', 'good']\n",
    "search = 'this' in items_string\n",
    "print(search) # True\n",
    "search = 'is' in items_string\n",
    "print(search) # True\n",
    "search = 'this computer' in items_string\n",
    "print(search) # False\n",
    "# The difference is that item_string2 is a list of string\n",
    "# while the item_string3 is a string\n",
    "items_string2 = ['computer']\n",
    "search = 'c' in items_string2 # is 'c' a member of this list? No, it is not.\n",
    "print(search) # False\n",
    "items_string3 = 'computer'\n",
    "search = 'c' in items_string3 # is 'c' a member of this string? Yes, it is.\n",
    "print(search) # False"
   ]
  },
  {
   "cell_type": "code",
   "execution_count": 215,
   "metadata": {},
   "outputs": [
    {
     "name": "stdout",
     "output_type": "stream",
     "text": [
      "[1, 'a', 'egg', 2.33]\n",
      "[1, 'a', 'egg', 2.33, 'new item']\n",
      "[1, 'a', 'egg', 2.33, 'new item', ['new new item 1', 150.0]]\n",
      "[1, 'a', 'egg', 2.33, 'new item', ['new new item 1', 150.0], ['cat', 123]]\n",
      "1\n",
      "['cat', 123]\n",
      "123\n"
     ]
    }
   ],
   "source": [
    "my_list = [1, 'a', 'egg', 2.33]\n",
    "print(my_list) # [1, 'a', 'egg', 2.33]\n",
    "my_list.append('new item') # add new item after the last element in List\n",
    "print(my_list) # [1, 'a', 'egg', 2.33, 'new item']\n",
    "my_list.append(['new new item 1', 1.5e2]) # add new List after the last element␣in List\n",
    "print(my_list) # [1, 'a', 'egg', 2.33, 'new item', ['new new item 1', 150.0]]\n",
    "new_list = ['cat', 123]\n",
    "my_list.append(new_list) # add new List after the last element in List\n",
    "print(my_list) # [1, 'a', 'egg', 2.33, 'new item', ['new new item 1', 150.0], ['cat', 123]]\n",
    "# access item in list\n",
    "print(my_list[0]) # first item which is 1\n",
    "print(my_list[-1]) # last item (list) which is ['cat', 123]\n",
    "print(my_list[-1][1]) # last item of the last item (list) which is 123"
   ]
  },
  {
   "cell_type": "markdown",
   "metadata": {},
   "source": [
    "insert()"
   ]
  },
  {
   "cell_type": "code",
   "execution_count": 216,
   "metadata": {},
   "outputs": [
    {
     "name": "stdout",
     "output_type": "stream",
     "text": [
      "['name', 'position']\n",
      "['name', 'id', 'position']\n",
      "['name', 'last_name', 'id', 'position']\n"
     ]
    }
   ],
   "source": [
    "employee_info = ['name', 'position']\n",
    "print(employee_info) # ['name', 'position']\n",
    "employee_info.insert(1, 'id') # add 'id' at the index 1 of the current list\n",
    "print(employee_info) # ['name', 'id', 'position']\n",
    "employee_info.insert(1, 'last_name') # add 'id' at the index 1 of the current␣list\n",
    "print(employee_info)"
   ]
  },
  {
   "cell_type": "markdown",
   "metadata": {},
   "source": [
    "index()"
   ]
  },
  {
   "cell_type": "code",
   "execution_count": 217,
   "metadata": {},
   "outputs": [
    {
     "name": "stdout",
     "output_type": "stream",
     "text": [
      "0\n",
      "6\n",
      "The item you are looking for is not a member in this list.\n"
     ]
    }
   ],
   "source": [
    "my_list = [1, 'a', 'egg', 2.33, 'new item', ['new new item 1', 150.0],['cat',123]]\n",
    "\n",
    "my_index = my_list.index(1) # search for 1\n",
    "print(my_index) # index = 0\n",
    "\n",
    "my_index = my_list.index(['cat', 123]) # search for ['cat', 123]\n",
    "print(my_index) # index = 6\n",
    "\n",
    "# try to search something that doesn't exist\n",
    "try:\n",
    "    my_index = my_list.index('abc')\n",
    "    print(my_index)\n",
    "except ValueError:\n",
    "    print('The item you are looking for is not a member in this list.')"
   ]
  },
  {
   "cell_type": "markdown",
   "metadata": {},
   "source": [
    "sort()"
   ]
  },
  {
   "cell_type": "code",
   "execution_count": 218,
   "metadata": {},
   "outputs": [
    {
     "name": "stdout",
     "output_type": "stream",
     "text": [
      "[-1, 20, 40, -100.0]\n",
      "[-100.0, -1, 20, 40]\n",
      "[40, 20, -1, -100.0]\n",
      "['a', 'b', 'abc', 'acb']\n",
      "['a', 'abc', 'acb', 'b']\n",
      "['b', 'acb', 'abc', 'a']\n"
     ]
    }
   ],
   "source": [
    "# 15) sorting list\n",
    "my_numbers = [-1, 20, 40, -1e2]\n",
    "print(my_numbers) # [-1, 20, 40, -100.0]\n",
    "my_numbers.sort()\n",
    "print(my_numbers) # [-100.0, -1, 20, 40]\n",
    "my_numbers.sort(reverse=True)\n",
    "print(my_numbers) # [40, 20, -1, -100.0]\n",
    "my_strings = ['a', 'b', 'abc', 'acb']\n",
    "print(my_strings) # ['a', 'b', 'abc', 'acb']\n",
    "my_strings.sort()\n",
    "print(my_strings) # ['a', 'abc', 'acb', 'b']\n",
    "my_strings.sort(reverse=True)\n",
    "print(my_strings) # ['b', 'acb', 'abc', 'a']"
   ]
  },
  {
   "cell_type": "markdown",
   "metadata": {},
   "source": [
    "reverse()"
   ]
  },
  {
   "cell_type": "code",
   "execution_count": 219,
   "metadata": {},
   "outputs": [
    {
     "name": "stdout",
     "output_type": "stream",
     "text": [
      "[-1, 20, 40, -100.0]\n",
      "[-100.0, 40, 20, -1]\n"
     ]
    }
   ],
   "source": [
    "my_numbers = [-1, 20, 40, -1e2]\n",
    "print(my_numbers)\n",
    "my_numbers.reverse() # last to first -- reversed order\n",
    "print(my_numbers)"
   ]
  },
  {
   "cell_type": "markdown",
   "metadata": {},
   "source": [
    "remove()"
   ]
  },
  {
   "cell_type": "code",
   "execution_count": 220,
   "metadata": {},
   "outputs": [
    {
     "name": "stdout",
     "output_type": "stream",
     "text": [
      "[1, 2, 3, 'ant', 'bat', 'cat']\n",
      "[1, 2, 3, 'ant', 'cat']\n",
      "[1, 2, 'ant', 'cat']\n"
     ]
    }
   ],
   "source": [
    "my_item = [1, 2, 3, 'ant', 'bat', 'cat']\n",
    "print(my_item) # [1, 2, 3, 'ant', 'bat', 'cat']\n",
    "my_item.remove('bat') # item 'bat' to be removed\n",
    "print(my_item) # [1, 2, 3, 'ant', 'cat']\n",
    "del my_item[2] # index #2 to be deleted\n",
    "print(my_item) # [1, 2, 'ant', 'cat']"
   ]
  },
  {
   "cell_type": "markdown",
   "metadata": {},
   "source": [
    "min(), max(), mean(), stdev() Functions"
   ]
  },
  {
   "cell_type": "code",
   "execution_count": 221,
   "metadata": {},
   "outputs": [
    {
     "name": "stdout",
     "output_type": "stream",
     "text": [
      "99\n",
      "33\n",
      "67.83333333333333\n",
      "enum\n",
      "act\n",
      "67.83333333333333\n",
      "25.482673852377946\n"
     ]
    }
   ],
   "source": [
    "students_score = [44, 66, 77, 99, 88, 33]\n",
    "print(max(students_score)) # find a maximum of a number list 99\n",
    "print(min(students_score)) # find a minimum of a number list 33\n",
    "print(sum(students_score) / len(students_score)) # find an average of a␣number list 67.83333333333\n",
    "my_string = ['ant', 'act', 'cat', 'cow', 'easy', 'enum']\n",
    "print(max(my_string)) # find a maximum of a string list: enum\n",
    "print(min(my_string)) # find a minimum of a string list: act\n",
    "# using statistics lirbary\n",
    "from statistics import mean, stdev\n",
    "print(mean(students_score)) # find an average of a number list 67.83333333333\n",
    "print(stdev(students_score)) # find an standard deviation of a number list ␣25.482673852377946"
   ]
  },
  {
   "cell_type": "markdown",
   "metadata": {},
   "source": [
    "1.1.4 Copying Lists"
   ]
  },
  {
   "cell_type": "code",
   "execution_count": 222,
   "metadata": {},
   "outputs": [
    {
     "name": "stdout",
     "output_type": "stream",
     "text": [
      "list_a =  [1, 2, 'ant', 'cat']\n",
      "list_b =  [1, 2, 'ant', 'cat']\n",
      "list_a =  [123, 2, 'ant', 'cat']\n",
      "list_b =  [123, 2, 'ant', 'cat']\n",
      "list_a =  [123, 2, 'ant', 'elephant']\n",
      "list_b =  [123, 2, 'ant', 'elephant']\n"
     ]
    }
   ],
   "source": [
    "list_a = [1, 2, 'ant', 'cat']\n",
    "print('list_a = ', list_a) # [1, 2, 'ant', 'cat']\n",
    "list_b = list_a # assign list_a to list_b. both lists point to␣the same memory address\n",
    "print('list_b = ', list_b) # [1, 2, 'ant', 'cat']\n",
    "list_a[0] = 123 # affects both list\n",
    "print('list_a = ', list_a) # [123, 2, 'ant', 'cat']\n",
    "print('list_b = ', list_b) # [123, 2, 'ant', 'cat']\n",
    "list_b[3] = 'elephant' # affects both list\n",
    "print('list_a = ', list_a) # [123, 2, 'ant', 'bat']\n",
    "print('list_b = ', list_b) # [123, 2, 'ant', 'bat']"
   ]
  },
  {
   "cell_type": "markdown",
   "metadata": {},
   "source": [
    "1.1.5 Two-Dimensional Lists"
   ]
  },
  {
   "cell_type": "code",
   "execution_count": 223,
   "metadata": {},
   "outputs": [
    {
     "name": "stdout",
     "output_type": "stream",
     "text": [
      "[['Japan', 'Toyota'], ['US', 'Tesla'], ['Germany', 'Benz'], ['France', 'Citron']]\n",
      "['Japan', 'Toyota']\n",
      "Japan\n",
      "Toyota\n",
      "Germany\n",
      "Benz\n",
      "4\n",
      "2\n",
      "2\n",
      "[['Japan', 'Toyota', 'Camry', 'Altis', 'Yaris'], ['US', 'Tesla', 'Model 3', 'Model S'], ['Germany', 'Benz', 'C-Class', 'E-Class'], ['France', 'Citroen', 'C4']]\n",
      "['Japan', 'Toyota', 'Camry', 'Altis', 'Yaris']\n",
      "Japan\n",
      "Toyota\n",
      "Camry\n",
      "Altis\n",
      "Yaris\n",
      "['France', 'Citroen', 'C4']\n",
      "France\n",
      "Citroen\n",
      "C4\n",
      "4\n",
      "5\n",
      "3\n"
     ]
    }
   ],
   "source": [
    "cars = [['Japan', 'Toyota'],\n",
    "['US', 'Tesla'],\n",
    "['Germany','Benz'],\n",
    "['France','Citron']]\n",
    "print(cars) # all items in cars\n",
    "print(cars[0]) # ['Japan', 'Toyota']\n",
    "print(cars[0][0]) # Japan\n",
    "print(cars[0][1]) # Toyota\n",
    "print(cars[2][0]) # Germany\n",
    "print(cars[2][1]) # Benz\n",
    "print(len(cars)) # 4 elements (rows)\n",
    "print(len(cars[0])) # 2 elements in rows 0\n",
    "print(len(cars[3])) # 2 elements in rows 3\n",
    "# list of 4 rows and different size collumns\n",
    "cars_models = [ ['Japan', 'Toyota','Camry', 'Altis','Yaris'],\n",
    "['US', 'Tesla', 'Model 3', 'Model S'],\n",
    "['Germany','Benz', 'C-Class', 'E-Class'],\n",
    "['France','Citroen', 'C4']]\n",
    "\n",
    "print(cars_models) # All\n",
    "print(cars_models[0]) # ['Japan', 'Toyota', 'Camry', 'Altis', 'Yaris']\n",
    "print(cars_models[0][0]) # Japan\n",
    "print(cars_models[0][1]) # Toyota\n",
    "print(cars_models[0][2]) # Camry\n",
    "print(cars_models[0][3]) # Altis\n",
    "print(cars_models[0][4]) # Yaris\n",
    "print(cars_models[3]) # ['France', 'Citroen', 'C4']\n",
    "print(cars_models[3][0]) # France\n",
    "print(cars_models[3][1]) # Citroen\n",
    "print(cars_models[3][2]) # C4\n",
    "print(len(cars_models)) # 4 elements (rows)\n",
    "print(len(cars_models[0])) # 5 elements in rows 0\n",
    "print(len(cars_models[3])) # 3 elements in rows 0"
   ]
  },
  {
   "cell_type": "code",
   "execution_count": 224,
   "metadata": {},
   "outputs": [
    {
     "name": "stdout",
     "output_type": "stream",
     "text": [
      "Japan Toyota Camry Altis Yaris \n",
      "\n",
      "US Tesla Model 3 Model S \n",
      "\n",
      "Germany Benz C-Class E-Class \n",
      "\n",
      "France Citroen C4 \n",
      "\n"
     ]
    }
   ],
   "source": [
    "for i in range(len(cars_models)):\n",
    "    for j in range(len(cars_models[i])):\n",
    "        print(cars_models[i][j], '', end='')\n",
    "    print('\\n')"
   ]
  },
  {
   "cell_type": "code",
   "execution_count": 225,
   "metadata": {},
   "outputs": [
    {
     "name": "stdout",
     "output_type": "stream",
     "text": [
      "Japan Toyota Camry Altis Yaris \n",
      "\n",
      "US Tesla Model 3 Model S \n",
      "\n",
      "Germany Benz C-Class E-Class \n",
      "\n",
      "France Citroen C4 \n",
      "\n"
     ]
    }
   ],
   "source": [
    "i = 0\n",
    "while i < len(cars_models):\n",
    "    j = 0\n",
    "    while j < len(cars_models[i]):\n",
    "        print(cars_models[i][j], '', end='')\n",
    "        j += 1\n",
    "    j = 0\n",
    "    i += 1\n",
    "    print('\\n')"
   ]
  },
  {
   "cell_type": "markdown",
   "metadata": {},
   "source": [
    "1.2 Tuples\n"
   ]
  },
  {
   "cell_type": "code",
   "execution_count": 226,
   "metadata": {},
   "outputs": [
    {
     "name": "stdout",
     "output_type": "stream",
     "text": [
      "(1, 2, 'a', 'bat')\n",
      "1\n",
      "(1, 2)\n",
      "'tuple' object does not support item assignment.\n"
     ]
    }
   ],
   "source": [
    "my_tuple = (1, 2, 'a', 'bat')\n",
    "print(my_tuple) # (1, 2, 'a', 'bat')\n",
    "print(my_tuple[0]) # 1\n",
    "print(my_tuple[0:2]) # (1, 2)\n",
    "try:\n",
    "    my_tuple[0] = 99 # This causes error 'tuple' object does not support␣item assignment\n",
    "except:\n",
    "    print('\\'tuple\\' object does not support item assignment.')"
   ]
  },
  {
   "cell_type": "code",
   "execution_count": 227,
   "metadata": {},
   "outputs": [
    {
     "name": "stdout",
     "output_type": "stream",
     "text": [
      "('a', 'b', 'c')\n",
      "('a', 'b', 'c', 'x', 'y', 'z')\n"
     ]
    }
   ],
   "source": [
    "old_tuple = ('a', 'b', 'c')\n",
    "print(old_tuple) # ('a', 'b', 'c')\n",
    "old_tuple += ('x', 'y', 'z')\n",
    "print(old_tuple) # ('a', 'b', 'c', 'x', 'y', 'z')"
   ]
  },
  {
   "cell_type": "markdown",
   "metadata": {},
   "source": [
    "Note Create tuple with one element\n",
    "\n",
    "one_tuple1 = (9,) # this is a tuple. Must end with an empty ,\n",
    "\n",
    "one_tuple2 = (1) # this is not a tupple, it is an integer. \n",
    "\n",
    "Not end with an empty ,"
   ]
  },
  {
   "cell_type": "code",
   "execution_count": 228,
   "metadata": {},
   "outputs": [
    {
     "name": "stdout",
     "output_type": "stream",
     "text": [
      "<class 'tuple'>\n",
      "<class 'int'>\n"
     ]
    }
   ],
   "source": [
    "one_tuple1 = (9,)\n",
    "print(type(one_tuple1)) # <class 'tuple'>\n",
    "one_tuple2 = (9)\n",
    "print(type(one_tuple2))"
   ]
  },
  {
   "cell_type": "markdown",
   "metadata": {},
   "source": [
    "Similar to List, Tuple supports almost every methods: index\n",
    "\n",
    "(), len(), min(), max(), in operator,\n",
    "\n",
    "Slicing expression\n",
    "except the one with changing element: sort(), reverse(), \n",
    "\n",
    "remove(), del(), insert(), append().\n",
    "\n",
    "Try them out.\n",
    "\n",
    "1.3 Conversion between List and Tuple\n",
    "\n",
    "1.3.1 List to Tuple"
   ]
  },
  {
   "cell_type": "code",
   "execution_count": 229,
   "metadata": {},
   "outputs": [
    {
     "name": "stdout",
     "output_type": "stream",
     "text": [
      "[1, 2, 3, 'a', ['aa', 'cc']]\n",
      "(1, 2, 3, 'a', ['aa', 'cc'])\n"
     ]
    }
   ],
   "source": [
    "my_list = [1,2,3,'a', ['aa','cc']]\n",
    "print(my_list) # [1, 2, 3, 'a', ['aa', 'cc']]\n",
    "my_tuple = tuple(my_list) # conversion from List to Tuple\n",
    "print(my_tuple) # (1, 2, 3, 'a', ['aa', 'cc'])"
   ]
  },
  {
   "cell_type": "code",
   "execution_count": 230,
   "metadata": {},
   "outputs": [
    {
     "name": "stdout",
     "output_type": "stream",
     "text": [
      "(7, 8, 9, 'cat', 'dog')\n",
      "[7, 8, 9, 'cat', 'dog']\n"
     ]
    }
   ],
   "source": [
    "my_tuple = (7,8,9,'cat', 'dog')\n",
    "print(my_tuple) # (7, 8, 9, 'cat', 'dog')\n",
    "my_list = list(my_tuple)\n",
    "print(my_list) # [7, 8, 9, 'cat', 'dog']"
   ]
  },
  {
   "cell_type": "markdown",
   "metadata": {},
   "source": [
    "1.3.3 Be Cautious with Tuple\n",
    "Any element of a List item can be changed if a Tuple contains a List element."
   ]
  },
  {
   "cell_type": "code",
   "execution_count": 231,
   "metadata": {},
   "outputs": [
    {
     "name": "stdout",
     "output_type": "stream",
     "text": [
      "['a', 'b']\n",
      "'tuple' object does not support item assignment.\n",
      "(1, 2, 3, 'a', ['a', 'b'])\n",
      "(1, 2, 3, 'a', ['new item', 'b'])\n"
     ]
    }
   ],
   "source": [
    "new_tupple = (1, 2, 3,'a', ['a', 'b']) # contains one list ['a', 'b']\n",
    "print(new_tupple[4]) # ['a', 'b']\n",
    "try:\n",
    "    new_tupple[4] = ['x', 'y'] # This causes error, because Tuple␣cannot be changed\n",
    "except:\n",
    "    print('\\'tuple\\' object does not support item assignment.')\n",
    "# Let's change one element of a list inside Tupple\n",
    "print(new_tupple) # (1, 2, 3, 'a', ['a', 'b'])\n",
    "\n",
    "new_tupple[4][0] = 'new item' # An item inside List in Tupple can␣be changed\n",
    "print(new_tupple)"
   ]
  }
 ],
 "metadata": {
  "language_info": {
   "name": "python"
  }
 },
 "nbformat": 4,
 "nbformat_minor": 2
}
