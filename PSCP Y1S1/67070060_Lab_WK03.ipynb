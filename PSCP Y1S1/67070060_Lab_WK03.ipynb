{
 "cells": [
  {
   "cell_type": "markdown",
   "metadata": {},
   "source": [
    "1 Variables and Assignment Statements\n",
    "Learn how to create a variable and assign a value to it."
   ]
  },
  {
   "cell_type": "markdown",
   "metadata": {},
   "source": [
    "1. Add two numbers, type 2 + 2 and run (or press CTRL + Enter). You will get the result of 2\n",
    "+ 2 = 4."
   ]
  },
  {
   "cell_type": "code",
   "execution_count": 6,
   "metadata": {},
   "outputs": [
    {
     "data": {
      "text/plain": [
       "4"
      ]
     },
     "execution_count": 6,
     "metadata": {},
     "output_type": "execute_result"
    }
   ],
   "source": [
    "2+2"
   ]
  },
  {
   "cell_type": "markdown",
   "metadata": {},
   "source": [
    "2. Input a number with exponential input form, type 1.25e3. Run, you will get 1250.0"
   ]
  },
  {
   "cell_type": "code",
   "execution_count": 8,
   "metadata": {},
   "outputs": [
    {
     "data": {
      "text/plain": [
       "1250.0"
      ]
     },
     "execution_count": 8,
     "metadata": {},
     "output_type": "execute_result"
    }
   ],
   "source": [
    "1.25e3"
   ]
  },
  {
   "cell_type": "markdown",
   "metadata": {},
   "source": [
    "3. Assign a value to variable, type x = 7. Run, the value 7 is assigned to x variable.\n"
   ]
  },
  {
   "cell_type": "code",
   "execution_count": 9,
   "metadata": {},
   "outputs": [],
   "source": [
    "x = 7"
   ]
  },
  {
   "cell_type": "markdown",
   "metadata": {},
   "source": [
    "4. Assign a value from value + another variable, type y = x + 3. Run y will be equal to the\n",
    "current value of x + 3 which is 7 + 3."
   ]
  },
  {
   "cell_type": "code",
   "execution_count": 11,
   "metadata": {},
   "outputs": [
    {
     "data": {
      "text/plain": [
       "10"
      ]
     },
     "execution_count": 11,
     "metadata": {},
     "output_type": "execute_result"
    }
   ],
   "source": [
    "y = x + 3\n",
    "y"
   ]
  },
  {
   "cell_type": "markdown",
   "metadata": {},
   "source": [
    "5. Show a value inside a variable, type a variable namey. Run to display the result."
   ]
  },
  {
   "cell_type": "code",
   "execution_count": 13,
   "metadata": {},
   "outputs": [
    {
     "data": {
      "text/plain": [
       "10"
      ]
     },
     "execution_count": 13,
     "metadata": {},
     "output_type": "execute_result"
    }
   ],
   "source": [
    "y"
   ]
  },
  {
   "cell_type": "markdown",
   "metadata": {},
   "source": [
    "2 Arithematic\n",
    "Learn how to perform arithmetic calculations."
   ]
  },
  {
   "cell_type": "markdown",
   "metadata": {},
   "source": [
    "6. Multiply two numbers, type 3 * 2. Run, you will get 6."
   ]
  },
  {
   "cell_type": "code",
   "execution_count": 14,
   "metadata": {},
   "outputs": [
    {
     "data": {
      "text/plain": [
       "6"
      ]
     },
     "execution_count": 14,
     "metadata": {},
     "output_type": "execute_result"
    }
   ],
   "source": [
    "3*2"
   ]
  },
  {
   "cell_type": "markdown",
   "metadata": {},
   "source": [
    "7. Exponential of number can be done by typing ** between two numbers, type 3 ** 2. Run, you\n",
    "will get 9."
   ]
  },
  {
   "cell_type": "code",
   "execution_count": 15,
   "metadata": {},
   "outputs": [
    {
     "data": {
      "text/plain": [
       "9"
      ]
     },
     "execution_count": 15,
     "metadata": {},
     "output_type": "execute_result"
    }
   ],
   "source": [
    "3**2"
   ]
  },
  {
   "cell_type": "markdown",
   "metadata": {},
   "source": [
    "8. Devide two numbers, type 5/2. Run, you will get 2.5"
   ]
  },
  {
   "cell_type": "code",
   "execution_count": 16,
   "metadata": {},
   "outputs": [
    {
     "data": {
      "text/plain": [
       "2.5"
      ]
     },
     "execution_count": 16,
     "metadata": {},
     "output_type": "execute_result"
    }
   ],
   "source": [
    "5/2"
   ]
  },
  {
   "cell_type": "markdown",
   "metadata": {},
   "source": [
    "9. Devide two numbers and floor the result, type 5 // 2. Run, you will get 2. The result will be\n",
    "round-down to the least integer number."
   ]
  },
  {
   "cell_type": "code",
   "execution_count": 17,
   "metadata": {},
   "outputs": [
    {
     "data": {
      "text/plain": [
       "2"
      ]
     },
     "execution_count": 17,
     "metadata": {},
     "output_type": "execute_result"
    }
   ],
   "source": [
    "5//2"
   ]
  },
  {
   "cell_type": "markdown",
   "metadata": {},
   "source": [
    "10. Devide two numbers and get only the remainder (modulus), type 5 % 2. Run, you will get 1.\n",
    "The result will be 1."
   ]
  },
  {
   "cell_type": "code",
   "execution_count": 18,
   "metadata": {},
   "outputs": [
    {
     "data": {
      "text/plain": [
       "1"
      ]
     },
     "execution_count": 18,
     "metadata": {},
     "output_type": "execute_result"
    }
   ],
   "source": [
    "5%2"
   ]
  },
  {
   "cell_type": "markdown",
   "metadata": {},
   "source": [
    "11. Multiply any number by 0, type 5 * 0. Run, you will always get 0."
   ]
  },
  {
   "cell_type": "code",
   "execution_count": 19,
   "metadata": {},
   "outputs": [
    {
     "data": {
      "text/plain": [
       "0"
      ]
     },
     "execution_count": 19,
     "metadata": {},
     "output_type": "execute_result"
    }
   ],
   "source": [
    "5*0"
   ]
  },
  {
   "cell_type": "markdown",
   "metadata": {},
   "source": [
    "12. Devide any number by 0, you will get error becasue the mathematical faq."
   ]
  },
  {
   "cell_type": "code",
   "execution_count": 20,
   "metadata": {},
   "outputs": [
    {
     "ename": "ZeroDivisionError",
     "evalue": "division by zero",
     "output_type": "error",
     "traceback": [
      "\u001b[1;31m---------------------------------------------------------------------------\u001b[0m",
      "\u001b[1;31mZeroDivisionError\u001b[0m                         Traceback (most recent call last)",
      "Cell \u001b[1;32mIn[20], line 1\u001b[0m\n\u001b[1;32m----> 1\u001b[0m \u001b[38;5;241m9\u001b[39m\u001b[38;5;241m/\u001b[39m\u001b[38;5;241m0\u001b[39m\n",
      "\u001b[1;31mZeroDivisionError\u001b[0m: division by zero"
     ]
    }
   ],
   "source": [
    "9/0"
   ]
  },
  {
   "cell_type": "markdown",
   "metadata": {},
   "source": [
    "13. Exponential any number by 0, run 5 ** 0. Run, you will always get 1."
   ]
  },
  {
   "cell_type": "code",
   "execution_count": 21,
   "metadata": {},
   "outputs": [
    {
     "data": {
      "text/plain": [
       "1"
      ]
     },
     "execution_count": 21,
     "metadata": {},
     "output_type": "execute_result"
    }
   ],
   "source": [
    "5**0"
   ]
  },
  {
   "cell_type": "markdown",
   "metadata": {},
   "source": [
    "14. Play with arithmetic with different types of executed orders."
   ]
  },
  {
   "cell_type": "code",
   "execution_count": 23,
   "metadata": {},
   "outputs": [
    {
     "name": "stdout",
     "output_type": "stream",
     "text": [
      "20\n",
      "20\n",
      "30\n",
      "12.5\n",
      "12.5\n",
      "12.5\n",
      "15.0\n",
      "15.0\n",
      "11.903653938715879\n"
     ]
    }
   ],
   "source": [
    "print(10+5*2)\n",
    "print(10 + (5 * 2))\n",
    "print((10 + 5) * 2)\n",
    "print(10 + 5 * 2 / 4)\n",
    "print(10 + 5 * 2 / 4)\n",
    "print(10 + (5 * 2) / 4)\n",
    "print(10 + 5 ** 2 / 5)\n",
    "print(10 + (5 ** 2) / 5)\n",
    "print(10 + 5 ** (2 / 5))"
   ]
  },
  {
   "cell_type": "markdown",
   "metadata": {},
   "source": [
    "3 Display Output\n",
    "Learn how to display output on the screen."
   ]
  },
  {
   "cell_type": "markdown",
   "metadata": {},
   "source": [
    "15. Display Hello World on screen, type print('Hello World.'). Run, you will get Hello\n",
    "World. on screen."
   ]
  },
  {
   "cell_type": "code",
   "execution_count": 26,
   "metadata": {},
   "outputs": [
    {
     "name": "stdout",
     "output_type": "stream",
     "text": [
      "Hello World.\n"
     ]
    }
   ],
   "source": [
    "print(\"Hello World.\")"
   ]
  },
  {
   "cell_type": "markdown",
   "metadata": {},
   "source": [
    "16. Try Print('Hello World.'). Run, you will get an error message because in Python Print\n",
    "is not equal print."
   ]
  },
  {
   "cell_type": "code",
   "execution_count": 25,
   "metadata": {},
   "outputs": [
    {
     "ename": "SyntaxError",
     "evalue": "invalid syntax (108272933.py, line 1)",
     "output_type": "error",
     "traceback": [
      "\u001b[1;36m  Cell \u001b[1;32mIn[25], line 1\u001b[1;36m\u001b[0m\n\u001b[1;33m    Print('Hello World.').\u001b[0m\n\u001b[1;37m                          ^\u001b[0m\n\u001b[1;31mSyntaxError\u001b[0m\u001b[1;31m:\u001b[0m invalid syntax\n"
     ]
    }
   ],
   "source": [
    "Print('Hello World.')."
   ]
  },
  {
   "cell_type": "markdown",
   "metadata": {},
   "source": [
    "17. To display more than once, try to multiplay the text with * and number of printing.\n",
    "Try print('Hello World. '*5). Run, you will get Hello World five times, on the same line."
   ]
  },
  {
   "cell_type": "code",
   "execution_count": 27,
   "metadata": {},
   "outputs": [
    {
     "name": "stdout",
     "output_type": "stream",
     "text": [
      "Hello World. Hello World. Hello World. Hello World. Hello World. \n"
     ]
    }
   ],
   "source": [
    "print('Hello World. '*5)"
   ]
  },
  {
   "cell_type": "markdown",
   "metadata": {},
   "source": [
    "18. From #17, Try print(5*'Hello World. '). Run, you will also get Hello World five times,\n",
    "on the same line."
   ]
  },
  {
   "cell_type": "code",
   "execution_count": 28,
   "metadata": {},
   "outputs": [
    {
     "name": "stdout",
     "output_type": "stream",
     "text": [
      "Hello World. Hello World. Hello World. Hello World. Hello World. \n"
     ]
    }
   ],
   "source": [
    "print(5*'Hello World. ')"
   ]
  },
  {
   "cell_type": "markdown",
   "metadata": {},
   "source": [
    "19. Try print('Hello World.\\n'*5). Run, you will also get Hello World five times, but in\n",
    "different lines."
   ]
  },
  {
   "cell_type": "code",
   "execution_count": 29,
   "metadata": {},
   "outputs": [
    {
     "name": "stdout",
     "output_type": "stream",
     "text": [
      "Hello World.\n",
      "Hello World.\n",
      "Hello World.\n",
      "Hello World.\n",
      "Hello World.\n",
      "\n"
     ]
    }
   ],
   "source": [
    "print('Hello World.\\n'*5)"
   ]
  },
  {
   "cell_type": "markdown",
   "metadata": {},
   "source": [
    "20. Try print('Hello World.'); print('One more time.'). You can create more than one\n",
    "statement to display text on screen. Run, you will get\n",
    "Hello World.\n",
    "One more time."
   ]
  },
  {
   "cell_type": "code",
   "execution_count": 30,
   "metadata": {},
   "outputs": [
    {
     "name": "stdout",
     "output_type": "stream",
     "text": [
      "Hello World.\n",
      "One more time.\n"
     ]
    }
   ],
   "source": [
    "print('Hello World.')\n",
    "print('One more time.')"
   ]
  },
  {
   "cell_type": "markdown",
   "metadata": {},
   "source": [
    "21. Try print('Hello World.', end =' '); print('One more time.').\n",
    "The end = '' force the output to not create a new line. Run, you will get Hello World. One\n",
    "more time. on the same line."
   ]
  },
  {
   "cell_type": "code",
   "execution_count": 31,
   "metadata": {},
   "outputs": [
    {
     "name": "stdout",
     "output_type": "stream",
     "text": [
      "Hello World. One more time.\n"
     ]
    }
   ],
   "source": [
    "print('Hello World.', end =' ')\n",
    "print('One more time.')"
   ]
  },
  {
   "cell_type": "markdown",
   "metadata": {},
   "source": [
    "22. You can print multiple words separately on the same line of code.\n",
    "Try print('Hello World.', 'One', 'more time.'). Run, you will get Hello World. One\n",
    "more time."
   ]
  },
  {
   "cell_type": "code",
   "execution_count": 32,
   "metadata": {},
   "outputs": [
    {
     "name": "stdout",
     "output_type": "stream",
     "text": [
      "Hello World. One more time.\n"
     ]
    }
   ],
   "source": [
    "print('Hello World.', 'One', 'more time.')"
   ]
  },
  {
   "cell_type": "markdown",
   "metadata": {},
   "source": [
    "23. Format can be decorated by \\n to separate line or \\t to indent the text. Try\n",
    "print('This\\nis\\nnew\\nline.')."
   ]
  },
  {
   "cell_type": "code",
   "execution_count": 33,
   "metadata": {},
   "outputs": [
    {
     "name": "stdout",
     "output_type": "stream",
     "text": [
      "This\n",
      "is\n",
      "new\n",
      "line.\n"
     ]
    }
   ],
   "source": [
    "print('This\\nis\\nnew\\nline.')"
   ]
  },
  {
   "cell_type": "markdown",
   "metadata": {},
   "source": [
    "24 Print text with value inside a variable, try this\n",
    "x = 20\n",
    "print('X is', x)\n",
    "The result is X is 20."
   ]
  },
  {
   "cell_type": "code",
   "execution_count": 35,
   "metadata": {},
   "outputs": [
    {
     "name": "stdout",
     "output_type": "stream",
     "text": [
      "X is 20\n"
     ]
    }
   ],
   "source": [
    "x = 20\n",
    "print('X is', x)"
   ]
  },
  {
   "cell_type": "markdown",
   "metadata": {},
   "source": [
    "25. Print multiple values of variables, try"
   ]
  },
  {
   "cell_type": "code",
   "execution_count": 36,
   "metadata": {},
   "outputs": [
    {
     "name": "stdout",
     "output_type": "stream",
     "text": [
      "X is 22 and Y is 13\n"
     ]
    }
   ],
   "source": [
    "x = 22; y = 13\n",
    "print('X is', x, 'and Y is', y)"
   ]
  },
  {
   "cell_type": "markdown",
   "metadata": {},
   "source": [
    "26. Print special character, for intance, \" or ', try\n",
    "print('This is a \\'single quote character\\'.'), you will get This is a 'single quote\n",
    "character'.\n",
    "print('This is a \\\"double quote character\\\".'), you will get This is a \"double quote\n",
    "character\"."
   ]
  },
  {
   "cell_type": "code",
   "execution_count": 37,
   "metadata": {},
   "outputs": [
    {
     "name": "stdout",
     "output_type": "stream",
     "text": [
      "This is a 'single quote character'.\n",
      "This is a \"double quote character\".\n"
     ]
    }
   ],
   "source": [
    "print('This is a \\'single quote character\\'.')\n",
    "print('This is a \\\"double quote character\\\".')"
   ]
  },
  {
   "cell_type": "markdown",
   "metadata": {},
   "source": [
    "4 Input\n",
    "Learn how to receive input from user"
   ]
  },
  {
   "cell_type": "markdown",
   "metadata": {},
   "source": [
    "27. Receive an input and print out the result on screen. The default (if not define) will be string\n",
    "format."
   ]
  },
  {
   "cell_type": "code",
   "execution_count": 2,
   "metadata": {},
   "outputs": [
    {
     "name": "stdout",
     "output_type": "stream",
     "text": [
      "Your name is nack\n"
     ]
    }
   ],
   "source": [
    "name = input(\"Enter your name:\")\n",
    "print('Your name is', name)"
   ]
  },
  {
   "cell_type": "markdown",
   "metadata": {},
   "source": [
    "28. Receive input as number: integer number (whole) or real number (floating point)"
   ]
  },
  {
   "cell_type": "code",
   "execution_count": 8,
   "metadata": {},
   "outputs": [],
   "source": [
    "height = int(input('Your height in CM:'))\n",
    "weight = int(input('Your weight in KG:'))\n",
    "realNumber = float(input('Input a floating number'))"
   ]
  },
  {
   "cell_type": "markdown",
   "metadata": {},
   "source": [
    "29. BMI Calculation with Python"
   ]
  },
  {
   "cell_type": "code",
   "execution_count": 10,
   "metadata": {},
   "outputs": [
    {
     "name": "stdout",
     "output_type": "stream",
     "text": [
      "nack 's BMI is 23.76543209876543\n",
      "nack 's BMI is 23.77\n"
     ]
    }
   ],
   "source": [
    "h = height / 100\n",
    "bmi = weight/(h*h)\n",
    "print(name,'\\'s BMI is',bmi)\n",
    "print(name,'\\'s BMI is %.2f' %bmi)"
   ]
  },
  {
   "cell_type": "markdown",
   "metadata": {},
   "source": [
    "30. Taking multiple input from user with .split() method.\n",
    ".split() allows you to receive multiple input values by using white space to separate between each\n",
    "input."
   ]
  },
  {
   "cell_type": "code",
   "execution_count": 12,
   "metadata": {},
   "outputs": [
    {
     "name": "stdout",
     "output_type": "stream",
     "text": [
      "egg\n",
      "water\n"
     ]
    }
   ],
   "source": [
    "food, drink = input().split()\n",
    "print(food)\n",
    "print(drink)"
   ]
  }
 ],
 "metadata": {
  "kernelspec": {
   "display_name": "base",
   "language": "python",
   "name": "python3"
  },
  "language_info": {
   "codemirror_mode": {
    "name": "ipython",
    "version": 3
   },
   "file_extension": ".py",
   "mimetype": "text/x-python",
   "name": "python",
   "nbconvert_exporter": "python",
   "pygments_lexer": "ipython3",
   "version": "3.12.4"
  }
 },
 "nbformat": 4,
 "nbformat_minor": 2
}
