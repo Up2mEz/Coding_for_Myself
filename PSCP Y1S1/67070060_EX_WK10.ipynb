{
 "cells": [
  {
   "cell_type": "markdown",
   "metadata": {},
   "source": [
    "Before you turn this problem in, make sure everything runs as expected. First, **restart the kernel** (in the menubar, select Kernel$\\rightarrow$Restart) and then **run all cells** (in the menubar, select Cell$\\rightarrow$Run All).\n",
    "\n",
    "Make sure you fill in any place that says `YOUR CODE HERE` or \"YOUR ANSWER HERE\"."
   ]
  },
  {
   "cell_type": "markdown",
   "metadata": {},
   "source": [
    "# SECTION 2 ONLY\n",
    "Name = \"Thanakrit Samoena\"\n",
    "\n",
    "Student ID = \"67070060\""
   ]
  },
  {
   "cell_type": "markdown",
   "metadata": {
    "deletable": false,
    "editable": false,
    "nbgrader": {
     "cell_type": "markdown",
     "checksum": "3ae0304de450c78210b6dbea73c618be",
     "grade": false,
     "grade_id": "WK09_exercise",
     "locked": true,
     "schema_version": 3,
     "solution": false,
     "task": false
    },
    "tags": []
   },
   "source": [
    "# WEEK 10: Lists and Tuples - Exercise\n",
    "\n",
    "<mark>**DO NOT IMPORT EXTERNAL LIBRARY**</mark>"
   ]
  },
  {
   "cell_type": "markdown",
   "metadata": {},
   "source": [
    "---\n",
    "## <mark>Exercise #1 (Total: 5 points) </mark>"
   ]
  },
  {
   "cell_type": "markdown",
   "metadata": {},
   "source": [
    "Complete the `sum_and_average` function takes a list of numbers as input and calculates two values:\n",
    "\n",
    "- The total sum of the numbers in the list.\n",
    "- The average of the numbers in the list.\n",
    "\n",
    "**Parameters:**\n",
    "- `list1`: A list of numerical values (integers or floats).\n",
    "\n",
    "**Returns:** A tuple containing two values:\n",
    "- The sum of all the numbers in the list.\n",
    "- The average value of the numbers in the list.\n",
    "\n",
    "**Example:**\n",
    "- `list1 = [1, 2, 3, 4, 5]` returns a sum of `15` and an average of `3.0`."
   ]
  },
  {
   "cell_type": "code",
   "execution_count": 358,
   "metadata": {
    "deletable": false,
    "nbgrader": {
     "cell_type": "code",
     "checksum": "b2367cfdd66e213c9227e2201ffcc25a",
     "grade": false,
     "grade_id": "cell-df0ae4a6d6764a38",
     "locked": false,
     "schema_version": 3,
     "solution": true,
     "task": false
    },
    "tags": []
   },
   "outputs": [],
   "source": [
    "def sum_and_average(numbers):\n",
    "\n",
    "    # YOUR CODE HERE\n",
    "    return sum(numbers),sum(numbers)/len(numbers)"
   ]
  },
  {
   "cell_type": "markdown",
   "metadata": {},
   "source": [
    "<mark>DO NOT CHANGE THE FOLLOWING LINES</mark>\n",
    "\n",
    "<mark>**Some tests are hidden**</mark>"
   ]
  },
  {
   "cell_type": "code",
   "execution_count": 359,
   "metadata": {
    "deletable": false,
    "editable": false,
    "nbgrader": {
     "cell_type": "code",
     "checksum": "9845a8b24e202f3e911a3f8eaa8953f2",
     "grade": true,
     "grade_id": "cell-212615214f873668",
     "locked": true,
     "points": 1,
     "schema_version": 3,
     "solution": false,
     "task": false
    },
    "tags": []
   },
   "outputs": [],
   "source": [
    "# Test 1: 1 point\n",
    "list1 = [-1, 0, 1, 2, 3]\n",
    "assert(sum_and_average(list1) == (5, 1.0))"
   ]
  },
  {
   "cell_type": "code",
   "execution_count": 360,
   "metadata": {
    "deletable": false,
    "editable": false,
    "nbgrader": {
     "cell_type": "code",
     "checksum": "cd15339d849a3f6bc061b9b22706bf7e",
     "grade": true,
     "grade_id": "cell-768672447efbf053",
     "locked": true,
     "points": 1,
     "schema_version": 3,
     "solution": false,
     "task": false
    },
    "tags": []
   },
   "outputs": [],
   "source": [
    "# Test 2: 1 point (Partially hidden)\n",
    "list1 = [0, 0, 0, 0]\n"
   ]
  },
  {
   "cell_type": "code",
   "execution_count": 361,
   "metadata": {
    "deletable": false,
    "editable": false,
    "nbgrader": {
     "cell_type": "code",
     "checksum": "622e1359700397be2277b83717079205",
     "grade": true,
     "grade_id": "cell-79500d2f0eb0d298",
     "locked": true,
     "points": 1,
     "schema_version": 3,
     "solution": false,
     "task": false
    },
    "tags": []
   },
   "outputs": [],
   "source": [
    "# Test 3: 1 point (Partially hidden)\n",
    "list1 = [7]\n"
   ]
  },
  {
   "cell_type": "code",
   "execution_count": 362,
   "metadata": {
    "deletable": false,
    "editable": false,
    "nbgrader": {
     "cell_type": "code",
     "checksum": "8785a60b4ccdcd7f22c971a3616ec929",
     "grade": true,
     "grade_id": "cell-5b0baef57d9243f6",
     "locked": true,
     "points": 1,
     "schema_version": 3,
     "solution": false,
     "task": false
    },
    "tags": []
   },
   "outputs": [],
   "source": [
    "# Test 4: 1 point (Completely hidden)"
   ]
  },
  {
   "cell_type": "code",
   "execution_count": 363,
   "metadata": {
    "deletable": false,
    "editable": false,
    "nbgrader": {
     "cell_type": "code",
     "checksum": "e6d4a27341bbcfa23cf94cab80681609",
     "grade": true,
     "grade_id": "cell-be41a1fc3a531cc9",
     "locked": true,
     "points": 1,
     "schema_version": 3,
     "solution": false,
     "task": false
    },
    "tags": []
   },
   "outputs": [],
   "source": [
    "# Test 5: 1 point (Completely hidden)"
   ]
  },
  {
   "cell_type": "markdown",
   "metadata": {},
   "source": [
    "## <mark>Exercise #2 (15 points) </mark>\n",
    "\n",
    "Complete the `missing_number` function to:\n",
    "1. Find the missing number in a list containing numbers from `1` to `N`.\n",
    "2. Return a list that includes the missing number in sequence.\n",
    "\n",
    "**Example:**\n",
    "\n",
    "- `list2 = [1, 4, 5, 6, 3]`\n",
    "- `missed_number, new_list = missing_number(list2)`\n",
    "\n",
    "**Expected Results:**\n",
    "\n",
    "- The missing number is `missed_number`, which should be `2`.\n",
    "- The complete list is `new_list`, which should be `[1, 2, 3, 4, 5, 6]`."
   ]
  },
  {
   "cell_type": "code",
   "execution_count": 364,
   "metadata": {
    "deletable": false,
    "nbgrader": {
     "cell_type": "code",
     "checksum": "f249db0f58fd2ff184fca21ad3a6b06f",
     "grade": false,
     "grade_id": "list_missing_number1",
     "locked": false,
     "schema_version": 3,
     "solution": true,
     "task": false
    }
   },
   "outputs": [
    {
     "data": {
      "text/plain": [
       "(2, [1, 2, 3, 4, 5])"
      ]
     },
     "execution_count": 364,
     "metadata": {},
     "output_type": "execute_result"
    }
   ],
   "source": [
    "def missing_number(items):\n",
    "\n",
    "    # YOUR CODE HERE\n",
    "    items.sort()\n",
    "    items.insert(0,0)\n",
    "    for i in range(len(items)):\n",
    "        if items[i] != i:\n",
    "            missed_number = i\n",
    "            items.insert(i,i)\n",
    "            break\n",
    "    return missed_number, items[1:] # return one missing number and a completed list.\n",
    "list2 = [4, 1, 3, 5]\n",
    "missing_number(list2)"
   ]
  },
  {
   "cell_type": "markdown",
   "metadata": {
    "deletable": false,
    "editable": false,
    "nbgrader": {
     "cell_type": "markdown",
     "checksum": "b4e2b8b5b9f70f9bdc08ccf2e85e6aef",
     "grade": false,
     "grade_id": "list_missing_number2",
     "locked": true,
     "schema_version": 3,
     "solution": false,
     "task": false
    }
   },
   "source": [
    "<mark>DO NOT CHANGE THE FOLLOWING LINES</mark>\n",
    "\n",
    "<mark>**Some tests are hidden**</mark>"
   ]
  },
  {
   "cell_type": "code",
   "execution_count": 365,
   "metadata": {
    "deletable": false,
    "editable": false,
    "nbgrader": {
     "cell_type": "code",
     "checksum": "e594b41bc09b2bd13bcd0bc5c851c44b",
     "grade": true,
     "grade_id": "cell-4da84509ff99a1cd",
     "locked": true,
     "points": 3,
     "schema_version": 3,
     "solution": false,
     "task": false
    },
    "tags": []
   },
   "outputs": [],
   "source": [
    "# Test 1: 3 points\n",
    "list2 = [3, 1, 4, 5]\n",
    "assert(missing_number(list2)) == (2, [1, 2, 3, 4, 5])"
   ]
  },
  {
   "cell_type": "code",
   "execution_count": 366,
   "metadata": {
    "deletable": false,
    "editable": false,
    "nbgrader": {
     "cell_type": "code",
     "checksum": "0c3ae0d2755b5e2a94d8204805114ef6",
     "grade": true,
     "grade_id": "cell-7bcda9d59449c806",
     "locked": true,
     "points": 3,
     "schema_version": 3,
     "solution": false,
     "task": false
    },
    "tags": []
   },
   "outputs": [],
   "source": [
    "# Test 2: 3 points (Partially hidden)\n",
    "list2 = [5, 1, 2, 4]\n"
   ]
  },
  {
   "cell_type": "code",
   "execution_count": 367,
   "metadata": {
    "deletable": false,
    "editable": false,
    "nbgrader": {
     "cell_type": "code",
     "checksum": "635f2ee3cccbf199bd1feb2a622e3965",
     "grade": true,
     "grade_id": "cell-06baf4dad095a3f4",
     "locked": true,
     "points": 3,
     "schema_version": 3,
     "solution": false,
     "task": false
    },
    "tags": []
   },
   "outputs": [],
   "source": [
    "# Test 3: 3 points (Partially hidden)\n",
    "list2 = []\n"
   ]
  },
  {
   "cell_type": "code",
   "execution_count": 368,
   "metadata": {
    "deletable": false,
    "editable": false,
    "nbgrader": {
     "cell_type": "code",
     "checksum": "f79c45b9f6f30acd83763c56e9db4217",
     "grade": true,
     "grade_id": "list_missing_number_test2",
     "locked": true,
     "points": 3,
     "schema_version": 3,
     "solution": false,
     "task": false
    },
    "tags": []
   },
   "outputs": [],
   "source": [
    "# Test 4: 3 points (Completely hidden)\n"
   ]
  },
  {
   "cell_type": "code",
   "execution_count": 369,
   "metadata": {
    "deletable": false,
    "editable": false,
    "nbgrader": {
     "cell_type": "code",
     "checksum": "b25c9e29a26a14c3ef2ac0bb763ef11c",
     "grade": true,
     "grade_id": "list_missing_number_test1",
     "locked": true,
     "points": 3,
     "schema_version": 3,
     "solution": false,
     "task": false
    },
    "tags": []
   },
   "outputs": [],
   "source": [
    "# Test 5: 3 points (Completely hidden)\n"
   ]
  },
  {
   "cell_type": "markdown",
   "metadata": {},
   "source": [
    "---\n",
    "## <mark>Exercise #3 (Total: 20 points) </mark>\n",
    "Implement a `sort_unique_tuple` function that:\n",
    "\n",
    "- Takes a tuple as input.\n",
    "- Sorts its elements.\n",
    "- Returns a new tuple containing only the unique elements.\n",
    "\n",
    "**Parameters:**\n",
    "- `items`: A tuple of integers.\n",
    "\n",
    "**Returns:**\n",
    "- A tuple with elements sorted in ascending order and duplicates removed.\n",
    "\n",
    "**Example:**\n",
    "- `tuple3 = (4, 1, 3, 3, 4)`\n",
    "- `sorted_unique_tuple = sort_unique_tuple(tuple3)`\n",
    "\n",
    "The expected output for `sorted_unique_tuple` is `(1, 3, 4)`."
   ]
  },
  {
   "cell_type": "code",
   "execution_count": 370,
   "metadata": {
    "deletable": false,
    "nbgrader": {
     "cell_type": "code",
     "checksum": "88573bf2beacb717c1d28724425609c4",
     "grade": false,
     "grade_id": "tuple_sort1",
     "locked": false,
     "schema_version": 3,
     "solution": true,
     "task": false
    }
   },
   "outputs": [],
   "source": [
    "def sort_unique_tuple(items):\n",
    "    # YOUR CODE HERE\n",
    "    li = list(items)\n",
    "    for i in li:\n",
    "        if li.count(i) > 1:\n",
    "            li.remove(i)\n",
    "    return tuple(li)"
   ]
  },
  {
   "cell_type": "markdown",
   "metadata": {
    "deletable": false,
    "editable": false,
    "nbgrader": {
     "cell_type": "markdown",
     "checksum": "5ab09dcce084f5109ee5f86fb5080791",
     "grade": false,
     "grade_id": "tuple_sort2",
     "locked": true,
     "schema_version": 3,
     "solution": false,
     "task": false
    }
   },
   "source": [
    "<mark>DO NOT CHANGE THE FOLLOWING LINES</mark>\n",
    "\n",
    "<mark>**Some tests are hidden**</mark>"
   ]
  },
  {
   "cell_type": "code",
   "execution_count": 371,
   "metadata": {
    "deletable": false,
    "editable": false,
    "nbgrader": {
     "cell_type": "code",
     "checksum": "f64e2a949fdd37672620bce1f06c6f2a",
     "grade": true,
     "grade_id": "cell-97505c998d310ee0",
     "locked": true,
     "points": 4,
     "schema_version": 3,
     "solution": false,
     "task": false
    },
    "tags": []
   },
   "outputs": [],
   "source": [
    "# TEST 1: 4 points\n",
    "tuple3 = (4, 1, 3, 3, 4)\n",
    "assert(sort_unique_tuple(tuple3) == (1, 3, 4))"
   ]
  },
  {
   "cell_type": "code",
   "execution_count": 372,
   "metadata": {
    "deletable": false,
    "editable": false,
    "nbgrader": {
     "cell_type": "code",
     "checksum": "d1ba291dfb957cf0611fcd36af33f7ab",
     "grade": true,
     "grade_id": "cell-d564b3befcdb895a",
     "locked": true,
     "points": 4,
     "schema_version": 3,
     "solution": false,
     "task": false
    },
    "tags": []
   },
   "outputs": [],
   "source": [
    "# TEST 2: 4 points (Partially hidden)\n",
    "tuple3 = (10, 5, 7, 2, 8)\n"
   ]
  },
  {
   "cell_type": "code",
   "execution_count": 373,
   "metadata": {
    "deletable": false,
    "editable": false,
    "nbgrader": {
     "cell_type": "code",
     "checksum": "9dfa8dffec306e26bc8830d1d8ef9f9f",
     "grade": true,
     "grade_id": "cell-e2c72be9c1dfc2d9",
     "locked": true,
     "points": 4,
     "schema_version": 3,
     "solution": false,
     "task": false
    },
    "tags": []
   },
   "outputs": [],
   "source": [
    "# TEST 3: 4 points (Partially hidden)\n",
    "tuple3 = (-1, -3, 2, 1, -1, 3, 2)\n"
   ]
  },
  {
   "cell_type": "code",
   "execution_count": 374,
   "metadata": {
    "deletable": false,
    "editable": false,
    "nbgrader": {
     "cell_type": "code",
     "checksum": "3beacbfa782c036db87d9df2ee715567",
     "grade": true,
     "grade_id": "tuple_sort_test2",
     "locked": true,
     "points": 4,
     "schema_version": 3,
     "solution": false,
     "task": false
    },
    "tags": []
   },
   "outputs": [],
   "source": [
    "# TEST 4: 4 points (Completely hidden)\n"
   ]
  },
  {
   "cell_type": "code",
   "execution_count": 375,
   "metadata": {
    "deletable": false,
    "editable": false,
    "nbgrader": {
     "cell_type": "code",
     "checksum": "9bab2ac57e13b09fd6d436f3bf37175c",
     "grade": true,
     "grade_id": "tuple_sort_test1",
     "locked": true,
     "points": 4,
     "schema_version": 3,
     "solution": false,
     "task": false
    },
    "tags": []
   },
   "outputs": [],
   "source": [
    "# TEST 5: 4 points (Completely hidden)\n"
   ]
  },
  {
   "cell_type": "markdown",
   "metadata": {},
   "source": [
    "---\n",
    "## <mark>Exercise # 4 (Total: 20 points) </mark>\n",
    "\n",
    "Complete a function `num_frequency` that takes a list of numbers and returns a list with two sub-lists:\n",
    "\n",
    "- The first sub-list contains unique numbers from the input list, sorted in ascending order (low to high).\n",
    "- The second sub-list contains the counts of each unique number, matching the order in the first sub-list.\n",
    "\n",
    "**Parameters:**\n",
    "\n",
    "- `items`: A list of numerical values (integers or floats).\n",
    "\n",
    "**Returns:** A list with two sub-lists:\n",
    "- The first sub-list: Unique numbers in ascending order.\n",
    "- The second sub-list: The frequency of each unique number.\n",
    "\n",
    "**Example:**\n",
    "- `list4 = [2, 1, 1, 2, 2, 3, 3, 3, 4, 3]`\n",
    "- `list_freq = num_frequency(list4)`\n",
    "\n",
    "**Expected Output:**\n",
    "\n",
    "`[[1, 2, 3, 4], [2, 3, 4, 1]]`\n",
    "\n",
    "- The first sub-list `[1, 2, 3, 4]` shows unique numbers in order.\n",
    "- The second sub-list `[2, 3, 4, 1]` shows the counts of each unique number.\n"
   ]
  },
  {
   "cell_type": "code",
   "execution_count": 376,
   "metadata": {
    "deletable": false,
    "nbgrader": {
     "cell_type": "code",
     "checksum": "6d4b3156013af99b027fb88fff248c6f",
     "grade": false,
     "grade_id": "list_frequency1",
     "locked": false,
     "schema_version": 3,
     "solution": true,
     "task": false
    }
   },
   "outputs": [],
   "source": [
    "def num_frequency(items):\n",
    "    # YOUR CODE HERE\n",
    "    count = []\n",
    "    newcount = []\n",
    "    unili = []\n",
    "    items.sort()\n",
    "    for i in items:\n",
    "        if items.count(i) > 1:\n",
    "            if i not in unili:\n",
    "                unili.append(i)\n",
    "        else:\n",
    "            unili.append(i)\n",
    "    for i in items:\n",
    "        count.append(items.count(i))\n",
    "    for i in count:\n",
    "        if count.count(i) > 1:\n",
    "            if i not in newcount:\n",
    "                newcount.append(i)\n",
    "        else:\n",
    "            newcount.append(i)\n",
    "    print(unili,newcount)\n",
    "    \n",
    "    return [unili,newcount]\n"
   ]
  },
  {
   "cell_type": "markdown",
   "metadata": {
    "deletable": false,
    "editable": false,
    "nbgrader": {
     "cell_type": "markdown",
     "checksum": "6201a5ffc2ec87708fe95c6b4aac681a",
     "grade": false,
     "grade_id": "list_frequency2",
     "locked": true,
     "schema_version": 3,
     "solution": false,
     "task": false
    }
   },
   "source": [
    "<mark>DO NOT CHANGE THE FOLLOWING LINES</mark>\n",
    "\n",
    "<mark>**Some tests are hidden**</mark>"
   ]
  },
  {
   "cell_type": "code",
   "execution_count": 377,
   "metadata": {
    "deletable": false,
    "editable": false,
    "nbgrader": {
     "cell_type": "code",
     "checksum": "9faf008bd71382a3e536c901d04a7781",
     "grade": true,
     "grade_id": "cell-8c366abb439411e0",
     "locked": true,
     "points": 4,
     "schema_version": 3,
     "solution": false,
     "task": false
    },
    "tags": []
   },
   "outputs": [
    {
     "name": "stdout",
     "output_type": "stream",
     "text": [
      "[1, 2, 3, 4] [2, 3, 4, 1]\n"
     ]
    }
   ],
   "source": [
    "# TEST 1: 4 points\n",
    "list4 = [2, 1, 1, 2, 2, 3, 3, 3, 4, 3]\n",
    "assert(num_frequency(list4) == [[1, 2, 3, 4], [2, 3, 4, 1]])"
   ]
  },
  {
   "cell_type": "code",
   "execution_count": 378,
   "metadata": {
    "deletable": false,
    "editable": false,
    "nbgrader": {
     "cell_type": "code",
     "checksum": "0179888b4727b0dc6c5d38d7d5663196",
     "grade": true,
     "grade_id": "cell-bb52ad682cd78169",
     "locked": true,
     "points": 4,
     "schema_version": 3,
     "solution": false,
     "task": false
    },
    "tags": []
   },
   "outputs": [],
   "source": [
    "# TEST 2: 4 points (Partially hidden)\n",
    "list4 = [5, 3, 1, 4, 2]\n"
   ]
  },
  {
   "cell_type": "code",
   "execution_count": 379,
   "metadata": {
    "deletable": false,
    "editable": false,
    "nbgrader": {
     "cell_type": "code",
     "checksum": "2efa8b230652d064b08ab15411085b02",
     "grade": true,
     "grade_id": "cell-3c3d6be5bde5a1d9",
     "locked": true,
     "points": 4,
     "schema_version": 3,
     "solution": false,
     "task": false
    },
    "tags": []
   },
   "outputs": [],
   "source": [
    "# TEST 3: 4 points (Partially hidden)\n",
    "list4 = [7, 7, 7, 8, 8, 9]\n"
   ]
  },
  {
   "cell_type": "code",
   "execution_count": 380,
   "metadata": {
    "deletable": false,
    "editable": false,
    "nbgrader": {
     "cell_type": "code",
     "checksum": "71c37be66dd3057adf8e072807bbb234",
     "grade": true,
     "grade_id": "list_frequency_test2",
     "locked": true,
     "points": 4,
     "schema_version": 3,
     "solution": false,
     "task": false
    },
    "tags": []
   },
   "outputs": [],
   "source": [
    "# TEST 4: 4 points (Completely hidden)\n"
   ]
  },
  {
   "cell_type": "code",
   "execution_count": 381,
   "metadata": {
    "deletable": false,
    "editable": false,
    "nbgrader": {
     "cell_type": "code",
     "checksum": "8bb8de374f6d3d2b2f9070ddad4d0cf4",
     "grade": true,
     "grade_id": "list_frequency_test1",
     "locked": true,
     "points": 4,
     "schema_version": 3,
     "solution": false,
     "task": false
    },
    "tags": []
   },
   "outputs": [],
   "source": [
    "# TEST 5: 4 points (Completely hidden)\n"
   ]
  },
  {
   "cell_type": "markdown",
   "metadata": {},
   "source": [
    "---\n",
    "## <mark>Exercise #5 (Total: 20 points) </mark>\n",
    "Complete a function `split_numbers` that takes a `list` or `tuple` of numbers and separates them into two collections:\n",
    "\n",
    "- **Even numbers**: Collect these in a `list` (unsorted).\n",
    "- **Odd numbers**: Collect these in a `tuple` (unsorted).\n",
    "\n",
    "**Parameters:**\n",
    "- numbers: A `list` or `tuple` of integers.\n",
    "\n",
    "**Returns:** A tuple containing:\n",
    "- A `list` of even numbers.\n",
    "- A `tuple` of odd numbers.\n",
    "\n",
    "**Example:**\n",
    "- `list5 = [2, 3, 4, 3, 2, 2, 3, 1, 2, 3]`\n",
    "- `even_numbers, odd_numbers = split_numbers(list5)`\n",
    "\n",
    "**Output:**\n",
    "- `even_numbers: [2, 4, 2, 2, 2]`\n",
    "- `odd_numbers: (3, 3, 3, 1, 3)`\n",
    "- The `even_numbers` list contains all even numbers from the input.\n",
    "- The `odd_numbers` tuple contains all odd numbers from the input."
   ]
  },
  {
   "cell_type": "code",
   "execution_count": 382,
   "metadata": {
    "deletable": false,
    "nbgrader": {
     "cell_type": "code",
     "checksum": "678d796b24510396de95d74dc44b2f25",
     "grade": false,
     "grade_id": "split_ev_odd1",
     "locked": false,
     "schema_version": 3,
     "solution": true,
     "task": false
    }
   },
   "outputs": [],
   "source": [
    "def split_numbers(items):\n",
    "    # YOUR CODE HERE\n",
    "    odd = []\n",
    "    even = []\n",
    "    for j in items:\n",
    "        if j % 2 == 0:\n",
    "            even.append(j)\n",
    "        else:\n",
    "            odd.append(j)\n",
    "    return (even,tuple(odd))"
   ]
  },
  {
   "cell_type": "markdown",
   "metadata": {
    "deletable": false,
    "editable": false,
    "nbgrader": {
     "cell_type": "markdown",
     "checksum": "e24b7c202f0b27b386e1099dcf48c110",
     "grade": false,
     "grade_id": "split_ev_odd2",
     "locked": true,
     "schema_version": 3,
     "solution": false,
     "task": false
    }
   },
   "source": [
    "<mark>DO NOT CHANGE THE FOLLOWING LINES</mark>\n",
    "\n",
    "<mark>**Some tests are hidden**</mark>"
   ]
  },
  {
   "cell_type": "code",
   "execution_count": 383,
   "metadata": {
    "deletable": false,
    "editable": false,
    "nbgrader": {
     "cell_type": "code",
     "checksum": "7e6ae8788901f675050bd2852f4d1abd",
     "grade": true,
     "grade_id": "cell-17d481df73c6bfff",
     "locked": true,
     "points": 4,
     "schema_version": 3,
     "solution": false,
     "task": false
    },
    "tags": []
   },
   "outputs": [],
   "source": [
    "# TEST 1: 4 points\n",
    "list5 = [2, 3, 4, 3, 2, 2, 3, 1, 2, 3]\n",
    "assert(split_numbers(list5) == ([2, 4, 2, 2, 2], (3, 3, 3, 1, 3)))"
   ]
  },
  {
   "cell_type": "code",
   "execution_count": 384,
   "metadata": {
    "deletable": false,
    "editable": false,
    "nbgrader": {
     "cell_type": "code",
     "checksum": "8bb34c4204d8e2fe138be1beeac3a50b",
     "grade": true,
     "grade_id": "cell-9dd9f283f5e7e48c",
     "locked": true,
     "points": 4,
     "schema_version": 3,
     "solution": false,
     "task": false
    },
    "tags": []
   },
   "outputs": [],
   "source": [
    "# TEST 2: 4 points (Partially hidden)\n",
    "list5 = [6, 8, 10, 2, 4]\n"
   ]
  },
  {
   "cell_type": "code",
   "execution_count": 385,
   "metadata": {
    "deletable": false,
    "editable": false,
    "nbgrader": {
     "cell_type": "code",
     "checksum": "a0658e648db98b340cc2efc7e0d3be8b",
     "grade": true,
     "grade_id": "cell-60eb922b330dcc8f",
     "locked": true,
     "points": 4,
     "schema_version": 3,
     "solution": false,
     "task": false
    },
    "tags": []
   },
   "outputs": [],
   "source": [
    "# TEST 3: 4 points (Partially hidden)\n",
    "list5 = [10, 21, 32, 43, 54, 65]\n"
   ]
  },
  {
   "cell_type": "code",
   "execution_count": 386,
   "metadata": {
    "deletable": false,
    "editable": false,
    "nbgrader": {
     "cell_type": "code",
     "checksum": "642bd062c07e691a3b20a11de4ec5f71",
     "grade": true,
     "grade_id": "split_ev_odd_test2",
     "locked": true,
     "points": 4,
     "schema_version": 3,
     "solution": false,
     "task": false
    },
    "tags": []
   },
   "outputs": [],
   "source": [
    "# TEST 4: 4 points (Completely hidden)\n"
   ]
  },
  {
   "cell_type": "code",
   "execution_count": 387,
   "metadata": {
    "deletable": false,
    "editable": false,
    "nbgrader": {
     "cell_type": "code",
     "checksum": "d7e0b735db76bdd083c2e13cdbfc3fa4",
     "grade": true,
     "grade_id": "split_ev_odd_test1",
     "locked": true,
     "points": 4,
     "schema_version": 3,
     "solution": false,
     "task": false
    },
    "tags": []
   },
   "outputs": [],
   "source": [
    "# TEST 5: 4 points (Completely hidden)\n"
   ]
  },
  {
   "cell_type": "markdown",
   "metadata": {},
   "source": [
    "---\n",
    "## <mark>Exercise #6 (Total: 20 points) </mark>\n",
    "Complete a `sales_report` function that processes a dataset of car sales information from various countries in 2021 and provides a summary for a specified country.\n",
    "\n",
    "The function should:\n",
    "\n",
    "**Input:** \n",
    "- A dataset `car_sales` consisting of tuples where each tuple represents:\n",
    "    - The country of sale (string)\n",
    "    - The car brand (string)\n",
    "    - The number of units sold (integer)\n",
    "- A `country` (string) specifying the country for which the report is required.\n",
    "\n",
    "**Output:**\n",
    "- A tuple with two values:\n",
    "    - `brand`: A list of unique car brands sold in the specified country.\n",
    "    - `total_sales`: The total number of units sold for all car brands in the specified country.\n",
    "\n",
    "**Example:**\n",
    "```python\n",
    "car_sales = [('Japan', 'Toyota', 1933099), \n",
    "             ('US', 'Ford', 1804824), \n",
    "             ('US', 'Chevrolet', 1422031), \n",
    "             ('Japan', 'Honda', 1308476), \n",
    "             ('Japan', 'Nissan', 919090), \n",
    "             ('US', 'Jeep', 768713), \n",
    "             ('South Korea', 'Hyundai', 726715), \n",
    "             ('South Korea', 'Kia', 677494), \n",
    "             ('US', 'Ram', 647329), \n",
    "             ('Japan', 'Subaru', 598480)]\n",
    "```\n",
    "\n",
    "`brand, total_sales = sales_report(car_sales, 'US')`\n",
    "\n",
    "**Expected Output:**\n",
    "\n",
    "- `brand` should be a list of car brands sold in the `'US'`: `['Ford', 'Chevrolet', 'Jeep', 'Ram']`.\n",
    "- `total_sales` should be the total number of units sold in the `'US'`: `4642897`.\n",
    "\n",
    "*Note:* [Full-Year 2021 Auto Sales Report](https://www.carpro.com/blog/full-year-2021-sales-report-with-most-brands-reporting)"
   ]
  },
  {
   "cell_type": "code",
   "execution_count": 388,
   "metadata": {
    "deletable": false,
    "nbgrader": {
     "cell_type": "code",
     "checksum": "fb0ad28b3d400f8ca5e58d933f434b02",
     "grade": false,
     "grade_id": "sale_report1",
     "locked": false,
     "schema_version": 3,
     "solution": true,
     "task": false
    }
   },
   "outputs": [],
   "source": [
    "def sales_report(items, sales_by_country): \n",
    "    # YOUR CODE HERE\n",
    "    res = 0\n",
    "    car = []\n",
    "    for i in items:\n",
    "        if sales_by_country in i:\n",
    "            car.append(i[1])\n",
    "            res += i[2]\n",
    "    return (car,res)"
   ]
  },
  {
   "cell_type": "code",
   "execution_count": 389,
   "metadata": {},
   "outputs": [],
   "source": [
    "car_sales = [('Japan', 'Toyota', 1933099), \n",
    "             ('US', 'Ford', 1804824), \n",
    "             ('US', 'Chevrolet', 1422031), \n",
    "             ('Japan', 'Honda', 1308476), \n",
    "             ('Japan', 'Nissan', 919090), \n",
    "             ('US', 'Jeep', 768713), \n",
    "             ('South Korea', 'Hyundai', 726715), \n",
    "             ('South Korea', 'Kia', 677494), \n",
    "             ('US', 'Ram', 647329), \n",
    "             ('Japan', 'Subaru', 598480)]"
   ]
  },
  {
   "cell_type": "markdown",
   "metadata": {
    "deletable": false,
    "editable": false,
    "nbgrader": {
     "cell_type": "markdown",
     "checksum": "399834abbb97b02bc93b8120e2f9f684",
     "grade": false,
     "grade_id": "sale_report2",
     "locked": true,
     "schema_version": 3,
     "solution": false,
     "task": false
    }
   },
   "source": [
    "<mark>DO NOT CHANGE THE FOLLOWING LINES</mark>\n",
    "\n",
    "<mark>**Some tests are hidden**</mark>"
   ]
  },
  {
   "cell_type": "code",
   "execution_count": 390,
   "metadata": {
    "deletable": false,
    "editable": false,
    "nbgrader": {
     "cell_type": "code",
     "checksum": "997b232be15e23b2a41d625df7292dfd",
     "grade": true,
     "grade_id": "cell-1ef808f9982a77c2",
     "locked": true,
     "points": 5,
     "schema_version": 3,
     "solution": false,
     "task": false
    },
    "tags": []
   },
   "outputs": [],
   "source": [
    "# TEST 1: 5 points\n",
    "assert(sales_report(car_sales, 'US') == (['Ford', 'Chevrolet', 'Jeep', 'Ram'], 4642897))\n"
   ]
  },
  {
   "cell_type": "code",
   "execution_count": 391,
   "metadata": {
    "deletable": false,
    "editable": false,
    "nbgrader": {
     "cell_type": "code",
     "checksum": "a54d336aef40f4147262a4dc0a343f6c",
     "grade": true,
     "grade_id": "cell-274964253149b99c",
     "locked": true,
     "points": 5,
     "schema_version": 3,
     "solution": false,
     "task": false
    },
    "tags": []
   },
   "outputs": [],
   "source": [
    "# TEST 2: 5 points\n",
    "country = \"Canada\"\n",
    "assert(sales_report(car_sales, country) == ([], 0))\n"
   ]
  },
  {
   "cell_type": "code",
   "execution_count": 392,
   "metadata": {
    "deletable": false,
    "editable": false,
    "nbgrader": {
     "cell_type": "code",
     "checksum": "668358a9310d61951c64b049771f622f",
     "grade": true,
     "grade_id": "sale_report_test2",
     "locked": true,
     "points": 5,
     "schema_version": 3,
     "solution": false,
     "task": false
    },
    "tags": []
   },
   "outputs": [],
   "source": [
    "# TEST 3: 5 points (Completely hidden)\n"
   ]
  },
  {
   "cell_type": "code",
   "execution_count": 393,
   "metadata": {
    "deletable": false,
    "editable": false,
    "nbgrader": {
     "cell_type": "code",
     "checksum": "834f25cea5e96b2fc58cf79b22ecc86b",
     "grade": true,
     "grade_id": "sale_report_test1",
     "locked": true,
     "points": 5,
     "schema_version": 3,
     "solution": false,
     "task": false
    },
    "tags": []
   },
   "outputs": [],
   "source": [
    "# # TEST 4: 5 points (Completely hidden)\n"
   ]
  }
 ],
 "metadata": {
  "kernelspec": {
   "display_name": "Python 3 (ipykernel)",
   "language": "python",
   "name": "python3"
  },
  "language_info": {
   "codemirror_mode": {
    "name": "ipython",
    "version": 3
   },
   "file_extension": ".py",
   "mimetype": "text/x-python",
   "name": "python",
   "nbconvert_exporter": "python",
   "pygments_lexer": "ipython3",
   "version": "3.10.9"
  },
  "vscode": {
   "interpreter": {
    "hash": "24e43d8febdca8af199e75be07a7089556266f2a4800f737073b16ed0cb37845"
   }
  }
 },
 "nbformat": 4,
 "nbformat_minor": 4
}
